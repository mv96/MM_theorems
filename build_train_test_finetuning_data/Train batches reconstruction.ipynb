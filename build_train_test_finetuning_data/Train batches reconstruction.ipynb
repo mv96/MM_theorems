{
 "cells": [
  {
   "cell_type": "code",
   "execution_count": 22,
   "id": "82e369b3-0003-4446-be6c-1ccb2344531c",
   "metadata": {},
   "outputs": [],
   "source": [
    "# read from all the papers in the directory\n",
    "path_training_data=\"/gpfsdswork/projects/rech/zpf/uyf36me/finetuning_NLP/resources/train_data\"\n",
    "\n",
    "import os\n",
    "import glob\n",
    "import re\n",
    "\n",
    "from natsort import natsorted, ns\n",
    "\n",
    "csv_files_batches=glob.glob(path_training_data+\"/*.csv\")\n",
    "csv_files_batches = natsorted(csv_files_batches, key=lambda y: y.lower())#sort alphanumeric in ascending order"
   ]
  },
  {
   "cell_type": "code",
   "execution_count": 46,
   "id": "1d53073b-ea1a-4ad0-b45b-a0188a5d4469",
   "metadata": {},
   "outputs": [
    {
     "name": "stderr",
     "output_type": "stream",
     "text": [
      "127it [14:32,  6.87s/it]\n"
     ]
    }
   ],
   "source": [
    "#each batch is a collection of data extracted from 1000 pdfs roughly\n",
    "# to build the list of the pdfs used we need to sequentially read all batches\n",
    "\n",
    "from tqdm import tqdm\n",
    "import pandas as pd\n",
    "\n",
    "for i,batch_file in tqdm(enumerate(csv_files_batches)):\n",
    "    df=pd.read_csv(batch_file)\n",
    "    pdf_paths=df[\"pdf_path\"].unique()\n",
    "    #make a txt file of the same\n",
    "    \n",
    "    file_path=f\"batch_{i}.txt\"\n",
    "    file = open(file_path, \"w\")\n",
    "    \n",
    "    for pdf_name in pdf_paths:\n",
    "        file.write(pdf_name+\"\\n\")\n",
    "        \n",
    "    file.close()\n",
    "    \n"
   ]
  },
  {
   "cell_type": "code",
   "execution_count": 2,
   "id": "af57563b-6585-47d9-adce-65e37f4848e5",
   "metadata": {},
   "outputs": [],
   "source": [
    "import pandas as pd\n",
    "\n",
    "#for validation data \n",
    "file_name=\"/gpfsdswork/projects/rech/zpf/uyf36me/finetuning_multimodal/multimodal_val.csv\"\n",
    "\n",
    "df=pd.read_csv(file_name)\n",
    "pdf_paths=df[\"pdf_path\"].unique()\n",
    "\n",
    "#make a txt file of the same\n",
    "\n",
    "file_path=f\"batch_validation.txt\"\n",
    "file = open(file_path, \"w\")\n",
    "\n",
    "for pdf_name in pdf_paths:\n",
    "    file.write(pdf_name+\"\\n\")\n",
    "    \n",
    "file.close()"
   ]
  },
  {
   "cell_type": "code",
   "execution_count": null,
   "id": "fe0f3658-85c4-4169-8791-c3fc54d6fb4a",
   "metadata": {},
   "outputs": [],
   "source": []
  }
 ],
 "metadata": {
  "kernelspec": {
   "display_name": "tensorflow-gpu-2.11.0_py3.10.8",
   "language": "python",
   "name": "module-conda-env-tensorflow-gpu-2.11.0_py3.10.8"
  },
  "language_info": {
   "codemirror_mode": {
    "name": "ipython",
    "version": 3
   },
   "file_extension": ".py",
   "mimetype": "text/x-python",
   "name": "python",
   "nbconvert_exporter": "python",
   "pygments_lexer": "ipython3",
   "version": "3.10.8"
  }
 },
 "nbformat": 4,
 "nbformat_minor": 5
}
