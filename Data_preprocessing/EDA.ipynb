{
 "cells": [
  {
   "cell_type": "markdown",
   "id": "aa1a07e2",
   "metadata": {},
   "source": [
    "# Performing the EDA\n",
    "\n",
    "#### Task done\n",
    "\n",
    "1. Plotting the distribution of font vectors obtaiend over 388K entries pdfs to see if there is an intersting seperation\n",
    "\n",
    "2. visualizing randomly sampled points say 600 when the dim reduction was fit on the full dataset to see any visual clues\n",
    "\n",
    "* PCA\n",
    "* TSNE\n",
    "* MDS\n",
    "* UMAP\n",
    "* Autoencoders\n",
    "\n",
    "**Algorithms like UMAP, TSNE and AutoEncoders can take a while to run**\n",
    " "
   ]
  },
  {
   "cell_type": "code",
   "execution_count": 17,
   "id": "a444f390",
   "metadata": {},
   "outputs": [
    {
     "name": "stdout",
     "output_type": "stream",
     "text": [
      "Index(['Unnamed: 0', 'Unnamed: 0.1', 'page_no', 'top_left', 'bot_right',\n",
      "       'grobid_text', 'pdf_alto_text', 'fonts', 'label', 'Normal',\n",
      "       'Superscipt', 'Subscript', 'italics', 'bold', 'is_Proportional',\n",
      "       'is_Serif', 'font_color_red', 'font_color_green', 'font_color_blue',\n",
      "       'is_bold_manual', 'is_italic_manual', 'is_serif_manual',\n",
      "       'is_math_manual', 'new_font_size', 'pdf_path'],\n",
      "      dtype='object')\n"
     ]
    }
   ],
   "source": [
    "import pandas as pd\n",
    "\n",
    "df = pd.read_csv(\"/Users/mv96/Desktop/dataset_tkb/test.csv\")\n",
    "\n",
    "print(df.columns)"
   ]
  },
  {
   "cell_type": "code",
   "execution_count": 18,
   "id": "bd856aff",
   "metadata": {},
   "outputs": [],
   "source": [
    "# filter out everything that startswith unnamed\n",
    "cols_list = list(filter(lambda x: not x.startswith(\"Unnamed\"), list(df.columns)))\n",
    "font_vectors = df[cols_list].iloc[:, 7:-1]\n",
    "labels = df[\"label\"]"
   ]
  },
  {
   "cell_type": "code",
   "execution_count": 19,
   "id": "3ef8b420",
   "metadata": {},
   "outputs": [
    {
     "data": {
      "text/html": [
       "<div>\n",
       "<style scoped>\n",
       "    .dataframe tbody tr th:only-of-type {\n",
       "        vertical-align: middle;\n",
       "    }\n",
       "\n",
       "    .dataframe tbody tr th {\n",
       "        vertical-align: top;\n",
       "    }\n",
       "\n",
       "    .dataframe thead th {\n",
       "        text-align: right;\n",
       "    }\n",
       "</style>\n",
       "<table border=\"1\" class=\"dataframe\">\n",
       "  <thead>\n",
       "    <tr style=\"text-align: right;\">\n",
       "      <th></th>\n",
       "      <th>Normal</th>\n",
       "      <th>Superscipt</th>\n",
       "      <th>Subscript</th>\n",
       "      <th>italics</th>\n",
       "      <th>bold</th>\n",
       "      <th>is_Proportional</th>\n",
       "      <th>is_Serif</th>\n",
       "      <th>font_color_red</th>\n",
       "      <th>font_color_green</th>\n",
       "      <th>font_color_blue</th>\n",
       "      <th>is_bold_manual</th>\n",
       "      <th>is_italic_manual</th>\n",
       "      <th>is_serif_manual</th>\n",
       "      <th>is_math_manual</th>\n",
       "      <th>new_font_size</th>\n",
       "    </tr>\n",
       "  </thead>\n",
       "  <tbody>\n",
       "    <tr>\n",
       "      <th>count</th>\n",
       "      <td>388519.000000</td>\n",
       "      <td>388519.000000</td>\n",
       "      <td>388519.000000</td>\n",
       "      <td>388519.000000</td>\n",
       "      <td>388519.000000</td>\n",
       "      <td>388519.000000</td>\n",
       "      <td>388519.000000</td>\n",
       "      <td>388519.000000</td>\n",
       "      <td>388519.000000</td>\n",
       "      <td>388519.000000</td>\n",
       "      <td>388519.000000</td>\n",
       "      <td>388519.000000</td>\n",
       "      <td>388519.000000</td>\n",
       "      <td>388519.000000</td>\n",
       "      <td>388519.000000</td>\n",
       "    </tr>\n",
       "    <tr>\n",
       "      <th>mean</th>\n",
       "      <td>0.905200</td>\n",
       "      <td>0.027543</td>\n",
       "      <td>0.049060</td>\n",
       "      <td>0.017119</td>\n",
       "      <td>0.002733</td>\n",
       "      <td>0.970726</td>\n",
       "      <td>0.000311</td>\n",
       "      <td>0.000459</td>\n",
       "      <td>0.000361</td>\n",
       "      <td>0.000445</td>\n",
       "      <td>0.178836</td>\n",
       "      <td>0.212708</td>\n",
       "      <td>0.269140</td>\n",
       "      <td>0.069849</td>\n",
       "      <td>0.259846</td>\n",
       "    </tr>\n",
       "    <tr>\n",
       "      <th>std</th>\n",
       "      <td>0.129627</td>\n",
       "      <td>0.053105</td>\n",
       "      <td>0.069949</td>\n",
       "      <td>0.087168</td>\n",
       "      <td>0.028547</td>\n",
       "      <td>0.155933</td>\n",
       "      <td>0.015420</td>\n",
       "      <td>0.009692</td>\n",
       "      <td>0.007635</td>\n",
       "      <td>0.009782</td>\n",
       "      <td>0.331913</td>\n",
       "      <td>0.235538</td>\n",
       "      <td>0.383401</td>\n",
       "      <td>0.102905</td>\n",
       "      <td>0.021880</td>\n",
       "    </tr>\n",
       "    <tr>\n",
       "      <th>min</th>\n",
       "      <td>0.000000</td>\n",
       "      <td>0.000000</td>\n",
       "      <td>0.000000</td>\n",
       "      <td>0.000000</td>\n",
       "      <td>0.000000</td>\n",
       "      <td>0.000000</td>\n",
       "      <td>0.000000</td>\n",
       "      <td>0.000000</td>\n",
       "      <td>0.000000</td>\n",
       "      <td>0.000000</td>\n",
       "      <td>0.000000</td>\n",
       "      <td>0.000000</td>\n",
       "      <td>0.000000</td>\n",
       "      <td>0.000000</td>\n",
       "      <td>0.000000</td>\n",
       "    </tr>\n",
       "    <tr>\n",
       "      <th>25%</th>\n",
       "      <td>0.862745</td>\n",
       "      <td>0.000000</td>\n",
       "      <td>0.000000</td>\n",
       "      <td>0.000000</td>\n",
       "      <td>0.000000</td>\n",
       "      <td>1.000000</td>\n",
       "      <td>0.000000</td>\n",
       "      <td>0.000000</td>\n",
       "      <td>0.000000</td>\n",
       "      <td>0.000000</td>\n",
       "      <td>0.000000</td>\n",
       "      <td>0.013580</td>\n",
       "      <td>0.000000</td>\n",
       "      <td>0.000000</td>\n",
       "      <td>0.247830</td>\n",
       "    </tr>\n",
       "    <tr>\n",
       "      <th>50%</th>\n",
       "      <td>0.947368</td>\n",
       "      <td>0.000000</td>\n",
       "      <td>0.017857</td>\n",
       "      <td>0.000000</td>\n",
       "      <td>0.000000</td>\n",
       "      <td>1.000000</td>\n",
       "      <td>0.000000</td>\n",
       "      <td>0.000000</td>\n",
       "      <td>0.000000</td>\n",
       "      <td>0.000000</td>\n",
       "      <td>0.000000</td>\n",
       "      <td>0.139425</td>\n",
       "      <td>0.009091</td>\n",
       "      <td>0.030556</td>\n",
       "      <td>0.264786</td>\n",
       "    </tr>\n",
       "    <tr>\n",
       "      <th>75%</th>\n",
       "      <td>1.000000</td>\n",
       "      <td>0.034799</td>\n",
       "      <td>0.077193</td>\n",
       "      <td>0.000000</td>\n",
       "      <td>0.000000</td>\n",
       "      <td>1.000000</td>\n",
       "      <td>0.000000</td>\n",
       "      <td>0.000000</td>\n",
       "      <td>0.000000</td>\n",
       "      <td>0.000000</td>\n",
       "      <td>0.103874</td>\n",
       "      <td>0.315789</td>\n",
       "      <td>0.633333</td>\n",
       "      <td>0.100000</td>\n",
       "      <td>0.272725</td>\n",
       "    </tr>\n",
       "    <tr>\n",
       "      <th>max</th>\n",
       "      <td>1.000000</td>\n",
       "      <td>1.000000</td>\n",
       "      <td>0.854342</td>\n",
       "      <td>1.000000</td>\n",
       "      <td>1.000000</td>\n",
       "      <td>1.000000</td>\n",
       "      <td>1.000000</td>\n",
       "      <td>0.997099</td>\n",
       "      <td>0.780882</td>\n",
       "      <td>1.000000</td>\n",
       "      <td>1.000000</td>\n",
       "      <td>1.000000</td>\n",
       "      <td>1.000000</td>\n",
       "      <td>1.000000</td>\n",
       "      <td>0.619675</td>\n",
       "    </tr>\n",
       "  </tbody>\n",
       "</table>\n",
       "</div>"
      ],
      "text/plain": [
       "              Normal     Superscipt      Subscript        italics  \\\n",
       "count  388519.000000  388519.000000  388519.000000  388519.000000   \n",
       "mean        0.905200       0.027543       0.049060       0.017119   \n",
       "std         0.129627       0.053105       0.069949       0.087168   \n",
       "min         0.000000       0.000000       0.000000       0.000000   \n",
       "25%         0.862745       0.000000       0.000000       0.000000   \n",
       "50%         0.947368       0.000000       0.017857       0.000000   \n",
       "75%         1.000000       0.034799       0.077193       0.000000   \n",
       "max         1.000000       1.000000       0.854342       1.000000   \n",
       "\n",
       "                bold  is_Proportional       is_Serif  font_color_red  \\\n",
       "count  388519.000000    388519.000000  388519.000000   388519.000000   \n",
       "mean        0.002733         0.970726       0.000311        0.000459   \n",
       "std         0.028547         0.155933       0.015420        0.009692   \n",
       "min         0.000000         0.000000       0.000000        0.000000   \n",
       "25%         0.000000         1.000000       0.000000        0.000000   \n",
       "50%         0.000000         1.000000       0.000000        0.000000   \n",
       "75%         0.000000         1.000000       0.000000        0.000000   \n",
       "max         1.000000         1.000000       1.000000        0.997099   \n",
       "\n",
       "       font_color_green  font_color_blue  is_bold_manual  is_italic_manual  \\\n",
       "count     388519.000000    388519.000000   388519.000000     388519.000000   \n",
       "mean           0.000361         0.000445        0.178836          0.212708   \n",
       "std            0.007635         0.009782        0.331913          0.235538   \n",
       "min            0.000000         0.000000        0.000000          0.000000   \n",
       "25%            0.000000         0.000000        0.000000          0.013580   \n",
       "50%            0.000000         0.000000        0.000000          0.139425   \n",
       "75%            0.000000         0.000000        0.103874          0.315789   \n",
       "max            0.780882         1.000000        1.000000          1.000000   \n",
       "\n",
       "       is_serif_manual  is_math_manual  new_font_size  \n",
       "count    388519.000000   388519.000000  388519.000000  \n",
       "mean          0.269140        0.069849       0.259846  \n",
       "std           0.383401        0.102905       0.021880  \n",
       "min           0.000000        0.000000       0.000000  \n",
       "25%           0.000000        0.000000       0.247830  \n",
       "50%           0.009091        0.030556       0.264786  \n",
       "75%           0.633333        0.100000       0.272725  \n",
       "max           1.000000        1.000000       0.619675  "
      ]
     },
     "execution_count": 19,
     "metadata": {},
     "output_type": "execute_result"
    }
   ],
   "source": [
    "font_vectors.describe()"
   ]
  },
  {
   "cell_type": "code",
   "execution_count": 20,
   "id": "351b85e1",
   "metadata": {},
   "outputs": [
    {
     "name": "stdout",
     "output_type": "stream",
     "text": [
      "(388809, 15) (388809,)\n"
     ]
    }
   ],
   "source": [
    "print(font_vectors.shape, labels.shape)"
   ]
  },
  {
   "cell_type": "code",
   "execution_count": 21,
   "id": "4b477689",
   "metadata": {},
   "outputs": [
    {
     "data": {
      "text/plain": [
       "(388809, 16)"
      ]
     },
     "execution_count": 21,
     "metadata": {},
     "output_type": "execute_result"
    }
   ],
   "source": [
    "# plotting correlation of the font features with the label\n",
    "combined = pd.concat([font_vectors, labels], axis=1)\n",
    "combined.shape"
   ]
  },
  {
   "cell_type": "code",
   "execution_count": 22,
   "id": "d3b260ba",
   "metadata": {},
   "outputs": [
    {
     "data": {
      "text/plain": [
       "(388519, 16)"
      ]
     },
     "execution_count": 22,
     "metadata": {},
     "output_type": "execute_result"
    }
   ],
   "source": [
    "# removing nan values\n",
    "combined = combined.dropna()\n",
    "combined.shape"
   ]
  },
  {
   "cell_type": "code",
   "execution_count": 23,
   "id": "cbf1cae6",
   "metadata": {},
   "outputs": [
    {
     "data": {
      "text/plain": [
       "basic      196935\n",
       "proof      123740\n",
       "theorem     67844\n",
       "Name: label, dtype: int64"
      ]
     },
     "execution_count": 23,
     "metadata": {},
     "output_type": "execute_result"
    }
   ],
   "source": [
    "# class imbalance in the data\n",
    "combined[\"label\"].value_counts()"
   ]
  },
  {
   "cell_type": "code",
   "execution_count": 24,
   "id": "2d2c1a40",
   "metadata": {},
   "outputs": [
    {
     "data": {
      "text/plain": [
       "basic      200\n",
       "proof      200\n",
       "theorem    200\n",
       "Name: label, dtype: int64"
      ]
     },
     "execution_count": 24,
     "metadata": {},
     "output_type": "execute_result"
    }
   ],
   "source": [
    "# source- https://stackoverflow.com/questions/44114463/stratified-sampling-in-pandas\n",
    "def stratified_sample_df(df, col, n_samples):\n",
    "    n = min(n_samples, df[col].value_counts().min())\n",
    "    df_ = df.groupby(col).apply(lambda x: x.sample(n))\n",
    "    df_.index = df_.index.droplevel(0)\n",
    "    return df_\n",
    "\n",
    "\n",
    "df_sample = stratified_sample_df(combined, \"label\", 200)\n",
    "df_sample[\"label\"].value_counts()"
   ]
  },
  {
   "cell_type": "code",
   "execution_count": 25,
   "id": "e31d2d2b",
   "metadata": {},
   "outputs": [],
   "source": [
    "# make two versions of the data\n",
    "X_big = combined.iloc[:, :-1]"
   ]
  },
  {
   "cell_type": "code",
   "execution_count": 29,
   "id": "765047be",
   "metadata": {},
   "outputs": [
    {
     "data": {
      "text/plain": [
       "<seaborn.axisgrid.FacetGrid at 0x10353fcd0>"
      ]
     },
     "execution_count": 29,
     "metadata": {},
     "output_type": "execute_result"
    },
    {
     "data": {
      "image/png": "[encoded data removed]",
      "text/plain": [
       "<Figure size 438x360 with 1 Axes>"
      ]
     },
     "metadata": {
      "needs_background": "light"
     },
     "output_type": "display_data"
    }
   ],
   "source": [
    "import seaborn as sns\n",
    "import matplotlib.pyplot as plt\n",
    "\n",
    "sns.displot(combined, x=\"is_italic_manual\", hue=\"label\", kind=\"kde\", fill=True)"
   ]
  },
  {
   "cell_type": "code",
   "execution_count": 30,
   "id": "9c4fb0d9",
   "metadata": {},
   "outputs": [
    {
     "data": {
      "image/png": "[encoded data removed]",
      "text/plain": [
       "<Figure size 432x288 with 1 Axes>"
      ]
     },
     "metadata": {
      "needs_background": "light"
     },
     "output_type": "display_data"
    }
   ],
   "source": [
    "sns.scatterplot(data=df_sample, x=\"is_italic_manual\", y=\"is_bold_manual\", hue=\"label\")\n",
    "plt.grid()"
   ]
  },
  {
   "cell_type": "markdown",
   "id": "60067dbf",
   "metadata": {},
   "source": [
    "# PCA"
   ]
  },
  {
   "cell_type": "code",
   "execution_count": 32,
   "id": "6ffbe17e",
   "metadata": {},
   "outputs": [
    {
     "name": "stdout",
     "output_type": "stream",
     "text": [
      "(600, 15) (600, 1)\n",
      "(600, 3)\n",
      "[0.61341658 0.13106589 0.09585144]\n",
      "[301.5060051  139.36799438 119.18388209]\n",
      "(600, 3) (600, 1)\n"
     ]
    }
   ],
   "source": [
    "import numpy as np\n",
    "from sklearn.decomposition import PCA\n",
    "\n",
    "X = df_sample.iloc[:, :-1].reset_index(drop=True)\n",
    "labels = df_sample.iloc[:, -1].to_frame().reset_index(drop=True)\n",
    "print(X.shape, labels.shape)\n",
    "\n",
    "pca = PCA(n_components=3, random_state=1).fit(X_big)\n",
    "X_transformed = pca.transform(X)\n",
    "\n",
    "\n",
    "print(X_transformed.shape)\n",
    "\n",
    "# explaination from pca\n",
    "print(pca.explained_variance_ratio_)\n",
    "print(pca.singular_values_)\n",
    "#\n",
    "\n",
    "pca_df = pd.DataFrame(X_transformed, columns=[\"PCA_1\", \"PCA_2\", \"PCA_3\"])\n",
    "print(pca_df.shape, labels.shape)"
   ]
  },
  {
   "cell_type": "code",
   "execution_count": 33,
   "id": "31f413b3",
   "metadata": {},
   "outputs": [
    {
     "data": {
      "text/plain": [
       "Index(['PCA_1', 'PCA_2', 'PCA_3', 'label'], dtype='object')"
      ]
     },
     "execution_count": 33,
     "metadata": {},
     "output_type": "execute_result"
    }
   ],
   "source": [
    "pca_new = pd.concat([pca_df, labels], axis=1)\n",
    "\n",
    "pca_new.columns"
   ]
  },
  {
   "cell_type": "code",
   "execution_count": 34,
   "id": "a944d4f6",
   "metadata": {},
   "outputs": [
    {
     "data": {
      "text/html": [
       "<div>\n",
       "<style scoped>\n",
       "    .dataframe tbody tr th:only-of-type {\n",
       "        vertical-align: middle;\n",
       "    }\n",
       "\n",
       "    .dataframe tbody tr th {\n",
       "        vertical-align: top;\n",
       "    }\n",
       "\n",
       "    .dataframe thead th {\n",
       "        text-align: right;\n",
       "    }\n",
       "</style>\n",
       "<table border=\"1\" class=\"dataframe\">\n",
       "  <thead>\n",
       "    <tr style=\"text-align: right;\">\n",
       "      <th></th>\n",
       "      <th>PCA_1</th>\n",
       "      <th>PCA_2</th>\n",
       "      <th>PCA_3</th>\n",
       "      <th>label</th>\n",
       "    </tr>\n",
       "  </thead>\n",
       "  <tbody>\n",
       "    <tr>\n",
       "      <th>0</th>\n",
       "      <td>-0.266157</td>\n",
       "      <td>-0.305139</td>\n",
       "      <td>0.002172</td>\n",
       "      <td>basic</td>\n",
       "    </tr>\n",
       "    <tr>\n",
       "      <th>1</th>\n",
       "      <td>0.815233</td>\n",
       "      <td>-0.060070</td>\n",
       "      <td>-0.122419</td>\n",
       "      <td>basic</td>\n",
       "    </tr>\n",
       "    <tr>\n",
       "      <th>2</th>\n",
       "      <td>0.486366</td>\n",
       "      <td>-0.090320</td>\n",
       "      <td>0.545902</td>\n",
       "      <td>basic</td>\n",
       "    </tr>\n",
       "    <tr>\n",
       "      <th>3</th>\n",
       "      <td>-0.280619</td>\n",
       "      <td>-0.240381</td>\n",
       "      <td>-0.006208</td>\n",
       "      <td>basic</td>\n",
       "    </tr>\n",
       "    <tr>\n",
       "      <th>4</th>\n",
       "      <td>-0.327228</td>\n",
       "      <td>-0.015933</td>\n",
       "      <td>-0.023974</td>\n",
       "      <td>basic</td>\n",
       "    </tr>\n",
       "    <tr>\n",
       "      <th>...</th>\n",
       "      <td>...</td>\n",
       "      <td>...</td>\n",
       "      <td>...</td>\n",
       "      <td>...</td>\n",
       "    </tr>\n",
       "    <tr>\n",
       "      <th>595</th>\n",
       "      <td>0.883709</td>\n",
       "      <td>0.100114</td>\n",
       "      <td>-0.067874</td>\n",
       "      <td>theorem</td>\n",
       "    </tr>\n",
       "    <tr>\n",
       "      <th>596</th>\n",
       "      <td>1.103691</td>\n",
       "      <td>-0.030797</td>\n",
       "      <td>-0.183978</td>\n",
       "      <td>theorem</td>\n",
       "    </tr>\n",
       "    <tr>\n",
       "      <th>597</th>\n",
       "      <td>-0.297369</td>\n",
       "      <td>-0.172945</td>\n",
       "      <td>-0.021644</td>\n",
       "      <td>theorem</td>\n",
       "    </tr>\n",
       "    <tr>\n",
       "      <th>598</th>\n",
       "      <td>-0.255103</td>\n",
       "      <td>-0.257183</td>\n",
       "      <td>-0.009852</td>\n",
       "      <td>theorem</td>\n",
       "    </tr>\n",
       "    <tr>\n",
       "      <th>599</th>\n",
       "      <td>1.042999</td>\n",
       "      <td>-0.022843</td>\n",
       "      <td>-0.166066</td>\n",
       "      <td>theorem</td>\n",
       "    </tr>\n",
       "  </tbody>\n",
       "</table>\n",
       "<p>600 rows × 4 columns</p>\n",
       "</div>"
      ],
      "text/plain": [
       "        PCA_1     PCA_2     PCA_3    label\n",
       "0   -0.266157 -0.305139  0.002172    basic\n",
       "1    0.815233 -0.060070 -0.122419    basic\n",
       "2    0.486366 -0.090320  0.545902    basic\n",
       "3   -0.280619 -0.240381 -0.006208    basic\n",
       "4   -0.327228 -0.015933 -0.023974    basic\n",
       "..        ...       ...       ...      ...\n",
       "595  0.883709  0.100114 -0.067874  theorem\n",
       "596  1.103691 -0.030797 -0.183978  theorem\n",
       "597 -0.297369 -0.172945 -0.021644  theorem\n",
       "598 -0.255103 -0.257183 -0.009852  theorem\n",
       "599  1.042999 -0.022843 -0.166066  theorem\n",
       "\n",
       "[600 rows x 4 columns]"
      ]
     },
     "execution_count": 34,
     "metadata": {},
     "output_type": "execute_result"
    }
   ],
   "source": [
    "pca_new"
   ]
  },
  {
   "cell_type": "code",
   "execution_count": 39,
   "id": "95f29bf0",
   "metadata": {},
   "outputs": [
    {
     "data": {
      "application/vnd.plotly.v1+json": {
       "config": {
        "plotlyServerURL": "https://plot.ly"
       },
       "data": [
        {
         "hovertemplate": "label=basic<br>PCA_1=%{x}<br>PCA_2=%{y}<br>PCA_3=%{z}<extra></extra>",
         "legendgroup": "basic",
         "marker": {
          "color": "#636efa",
          "symbol": "circle"
         },
         "mode": "markers",
         "name": "basic",
         "scene": "scene",
         "showlegend": true,
         "type": "scatter3d",
         "x": [
          -0.2661572628173499,
          0.8152328287311084,
          0.48636640110558665,
          -0.28061903338599203,
          -0.32722821642568306,
          -0.34546185721921496,
          -0.3439070446038285,
          -0.2661572628173499,
          -0.3675841915772479,
          -0.412794094022436,
          -0.23876028999320445,
          -0.34337041007335417,
          -0.2732324647321084,
          -0.36211711715172845,
          -0.3395683964905677,
          -0.2778631845919304,
          1.0809152545472451,
          -0.2894986967414511,
          -0.2661572628173499,
          -0.36037171602940665,
          -0.2661572628173499,
          0.07630489748446853,
          -0.2598842446636198,
          -0.3401756176052713,
          1.1035715527125263,
          -0.3061831117802649,
          1.110536062151056,
          0.21719290788917162,
          0.4670159978664031,
          -0.2661572628173499,
          -0.29438072272517457,
          0.43532583228026994,
          -0.2661572628173499,
          1.1544947215849348,
          -0.2661572628173499,
          -0.2714511979897808,
          -0.30670167507444507,
          -0.16965111203486707,
          -0.2753987005759215,
          -0.28394793146834957,
          -0.28031476934152766,
          -0.0945653724658094,
          -0.2728224550293019,
          -0.2682879840889643,
          -0.30010553732200806,
          -0.2972511420483309,
          -0.2661572628173499,
          -0.2689064928570791,
          1.103691378389924,
          -0.2789904032705393,
          -0.26108616135960966,
          0.03654305872871677,
          0.1772030316765753,
          -0.27397215903227023,
          -0.2706229177973044,
          -0.13190311979538538,
          -0.33117765894264617,
          0.8992626682429872,
          -0.2661572628173499,
          0.14005291465904338,
          -0.24902344233681062,
          0.1587266575837839,
          -0.3471276625272795,
          -0.2850432620034074,
          -0.26627708849474757,
          -0.2758762063707838,
          -0.27743309744109923,
          0.486246575428189,
          -0.2666353136097153,
          0.4151237735790124,
          0.9714818968149199,
          1.002709561837703,
          -0.31332523593188993,
          -0.3272518756471069,
          -0.3163088726166097,
          -0.27611298308600846,
          0.4862161483684491,
          -0.24822370449506834,
          -0.29907391521104437,
          0.41565795143302836,
          -0.2679960619267429,
          -0.33874442130825216,
          -0.287710573559012,
          0.9347651481038105,
          0.5368968640832078,
          0.8347355259869861,
          -0.30183189619834355,
          -0.29884733468052493,
          -0.3130736243490508,
          -0.280367067129668,
          1.103691378389924,
          -0.37563484258964025,
          -0.27235792178571705,
          -0.2842387873930479,
          -0.11577235571016024,
          0.48636640110558665,
          -0.29724626062706466,
          0.40084149853928147,
          -0.34336874832102543,
          -0.2863367154959604,
          -0.2661572628173499,
          -0.3062777190890163,
          -0.08124381384342436,
          -0.3445413317299998,
          1.103691378389924,
          -0.3231537206634597,
          -0.2883316887302223,
          -0.20364627342963187,
          -0.36111283008401757,
          -0.4469591865730371,
          -0.2918130329096428,
          -0.3136462615461613,
          -0.12159763224661732,
          -0.30424414233427616,
          0.39830891173608585,
          -0.28246631471473527,
          -0.2775414597366895,
          0.8832554463431989,
          -0.1733341799155502,
          -0.2686664909129057,
          -0.2843940938233818,
          -0.35443670372228836,
          -0.3777021670583299,
          1.103691378389924,
          0.2874288171495282,
          -0.40741771486402,
          0.42786482086148064,
          -0.29911981324641335,
          -0.2661572628173499,
          0.17841211276728816,
          -0.26627708849474757,
          0.778036987571563,
          -0.30026658030279885,
          -0.014474032129623154,
          -0.41228109334661717,
          0.4305344640778525,
          -0.33747605165918776,
          0.4564063270875354,
          -0.3041030308599697,
          -0.2661572628173499,
          -0.26627708849474757,
          -0.2660247705778595,
          -0.2661572628173499,
          -0.2774840690852634,
          -0.2943430360629555,
          -0.2252227369635809,
          1.0397584198488667,
          -0.3041167465604933,
          -0.1931913790093118,
          1.1022251497128814,
          -0.29435694684409824,
          -0.37138760263017057,
          0.4444061402945044,
          -0.3383013816673543,
          0.48468926896743963,
          -0.2982475154516868,
          -0.3214062050314446,
          -0.3021109956123335,
          -0.27844425371213144,
          -0.43524673878146336,
          -0.33338710701842333,
          1.0177501826270752,
          0.9347924713580128,
          -0.26627708849474757,
          1.103691378389924,
          -0.2661572628173499,
          -0.29741684767703125,
          -0.2660247705778595,
          -0.15360182626187752,
          0.3401265449225405,
          -0.19951783520236563,
          0.7611348789871701,
          -0.30616679396910845,
          -0.2854941230539847,
          1.103691378389924,
          -0.21934564263231632,
          0.17258319532587163,
          -0.27019495919505876,
          0.3080371254304772,
          -0.3070997999797847,
          -0.3099206816209038,
          -0.2950637909015184,
          -0.3097129894892411,
          -0.2661572628173499,
          0.486246575428189,
          0.48636640110558665,
          -0.2817603694930746,
          0.8516387821519646,
          -0.27733053451441175,
          -0.2661572628173499,
          -0.26627708849474757,
          -0.4204459729827821,
          -0.19059338891524683,
          -0.2955212296340722,
          -0.37599461315286126,
          -0.026217625933343276,
          0.486246575428189,
          -0.3904133441074842,
          0.8443716046340358,
          -0.2642318723858032
         ],
         "y": [
          -0.3051389357587118,
          -0.06007032439974588,
          -0.0903204558397109,
          -0.24038111506993282,
          -0.015932898382139307,
          0.05436486589145408,
          0.04495637978671065,
          -0.3051389357587118,
          0.2496989987369256,
          0.33026153973086314,
          -0.29965210560128513,
          0.02715450237697945,
          -0.2771138175074462,
          0.1798791765467524,
          0.06703103610193609,
          -0.2499693660714086,
          -0.02700665802655602,
          -0.16048043439033788,
          -0.3051389357587118,
          0.18645886075626744,
          -0.3051389357587118,
          -0.23655355879087828,
          -0.26491842757210304,
          0.046565880789465386,
          -0.030161537874746576,
          -0.11869871958579897,
          0.11965295126866103,
          0.06018734895050314,
          -0.010102418839482404,
          -0.3051389357587118,
          -0.1497182637043261,
          0.035769842075393396,
          -0.3051389357587118,
          -0.023780376318610217,
          -0.3051389357587118,
          -0.2767503265242684,
          -0.12669966842382768,
          -0.04058931915572476,
          -0.24996443293837475,
          -0.23150130745134634,
          -0.23517394045067913,
          0.2364117407293796,
          -0.24630320324494664,
          -0.26301321193072247,
          -0.15905878885487326,
          -0.11730004142989234,
          -0.3051389357587118,
          -0.2827549766797631,
          -0.03079742788737783,
          -0.2460369086782097,
          -0.29222681523806615,
          -0.19810091364554652,
          -0.06111002962609295,
          -0.2726472139093424,
          -0.28657223755907213,
          -0.19005932690094074,
          -0.004482412579277634,
          -0.055541688238301634,
          -0.3051389357587118,
          0.04764013717839312,
          0.4626186419089757,
          0.09165426346346371,
          0.06380799818871843,
          -0.22661727462273562,
          -0.30450304574608056,
          -0.2095463314659542,
          -0.2592352417263721,
          -0.08968456582707965,
          -0.2971739664856957,
          -0.08098475614153838,
          0.039764802227670266,
          0.015511421231261426,
          -0.1092630067163625,
          0.014770144418448414,
          0.2331121934426306,
          -0.2618522864216289,
          -0.06274621841127231,
          -0.2716498514352679,
          -0.15153206938218008,
          0.31966336563964864,
          -0.2974938247353308,
          0.027953429532935593,
          -0.03172901365090042,
          -0.027887012129329137,
          0.16529201628728124,
          0.002028499025320077,
          -0.1354524688592349,
          -0.16937681282139422,
          -0.11424842104701621,
          -0.23307770820361426,
          -0.03079742788737783,
          0.1501115126873063,
          -0.2700647243117341,
          -0.22996201069546482,
          -0.2615393497622804,
          -0.0903204558397109,
          -0.11176335776658929,
          -0.11622723670841052,
          0.33532349957753604,
          -0.2219505870662069,
          -0.3051389357587118,
          -0.1386678562176801,
          0.30159943823485036,
          0.08663154148205594,
          -0.03079742788737783,
          -0.06858658771883513,
          -0.19729286941598623,
          -0.18615067361144577,
          0.1360513878310886,
          0.5410698718755546,
          -0.19875917227809442,
          -0.08149747412247901,
          -0.1581771303949662,
          -0.1380900675954561,
          -0.01160439006631722,
          -0.23756349847171637,
          -0.2579595071265173,
          -0.0557475749605832,
          -0.27365718599014355,
          -0.29621217745810297,
          -0.22334161796873725,
          0.13441908447943413,
          0.2598852740294499,
          -0.03079742788737783,
          0.6708968284743207,
          0.28743989814423504,
          0.27349496356391045,
          0.13812627609033382,
          -0.3051389357587118,
          -0.08488457247504741,
          -0.30450304574608056,
          -0.02853928353137415,
          -0.1472346616981586,
          0.005778376538244693,
          0.3301373056943912,
          -0.0952486678612858,
          -0.0001477916608607127,
          0.04407449975187646,
          -0.10712634061961655,
          -0.3051389357587118,
          -0.30450304574608056,
          -0.3058420445887459,
          -0.3051389357587118,
          -0.25814736634081475,
          -0.16289343128029302,
          -0.21799637715366932,
          -0.020771450533173717,
          -0.055170741567378154,
          -0.22280496875198583,
          0.02086466400953942,
          -0.18318299633749055,
          0.12940574440427338,
          -0.06366856865239692,
          0.016852252812804606,
          0.020135290152325253,
          -0.17191753232969872,
          -0.04092528317885785,
          -0.13648402901394419,
          2.114507611511708e-06,
          0.4689710905776137,
          0.042570927211875866,
          -0.004783916785476022,
          0.002298083900153115,
          -0.30450304574608056,
          -0.030797427887377833,
          -0.3051389357587118,
          -0.175172048361234,
          -0.3058420445887459,
          0.09563264767943676,
          -0.06881951207689563,
          -0.013189998490941532,
          -0.0714223055523896,
          -0.1264007712560433,
          -0.1692703494830221,
          -0.030797427887377833,
          -0.21198599287086195,
          0.1388082076810182,
          -0.28835154613653763,
          0.7187762990339072,
          -0.05668454859291081,
          -0.12318529340224282,
          -0.1406452466795603,
          -0.11137015891410937,
          -0.3051389357587118,
          -0.08968456582707965,
          -0.0903204558397109,
          -0.24053589642235002,
          -0.030086079478762535,
          -0.2523497432860761,
          -0.3051389357587118,
          -0.30450304574608056,
          0.41273537031648017,
          -0.2111510816586925,
          -0.14776226819007987,
          0.17775576121917852,
          0.13563320555666275,
          -0.08968456582707965,
          0.3328115214722552,
          -0.05207926198877057,
          0.007421198139046872
         ],
         "z": [
          0.0021720859151515685,
          -0.12241937673615666,
          0.5459022535044735,
          -0.006207543529963177,
          -0.02397446478398819,
          -0.04211947774372429,
          -0.043459446074895984,
          0.0021720859151515685,
          0.009751699477799032,
          -0.10139154430132798,
          -0.0015509148876342556,
          -0.05285088894819669,
          -0.0033384777360947167,
          -0.01563006083618833,
          -0.010522884763966341,
          -0.00019266337043097909,
          -0.18296626647209321,
          -0.008442490890759576,
          0.002172085915151567,
          -0.003275053000255083,
          0.0021720859151515685,
          -0.044365424119670975,
          0.003202818109408966,
          -0.025883030607065833,
          -0.18374851416953286,
          -0.011995206432140488,
          -0.04210638446001787,
          0.4252791019323955,
          -0.11360321806226235,
          0.0021720859151515685,
          0.007282724159436421,
          0.5030917235038108,
          0.0021720859151515685,
          -0.34253871434452154,
          0.0021720859151515685,
          0.0023105356613722355,
          -0.024724624841392127,
          -0.031216256911907513,
          0.006074185934256111,
          -0.012942007387951131,
          -0.0019228896072787916,
          0.14131369146169392,
          -0.0008519140111998172,
          0.02438373111844788,
          -0.022651845149503445,
          0.01952305273167172,
          0.0021720859151515685,
          0.007685289206284679,
          -0.18397795422413862,
          -0.004186295811266868,
          0.005584105584213455,
          -0.03750353228892694,
          0.3330692266253618,
          -0.0043282430484959545,
          -0.0015423877783613137,
          0.11913158905794462,
          -0.029078321789713608,
          -0.1479154116659184,
          0.002172085915151567,
          0.3153062647969676,
          0.01585056876463882,
          0.30707517504220294,
          -0.04283315396503325,
          -0.013537042413663285,
          0.002401525969757332,
          0.00445481666988252,
          -0.006577711396555113,
          0.5461316935590793,
          0.006264218263708549,
          -0.04230505094694401,
          -0.11395174555203662,
          -0.18026662868850687,
          -0.036998977076756985,
          -0.001928643047158562,
          -0.16243029345291227,
          -0.004501604668933601,
          0.5642751070989717,
          -0.006880578904293092,
          -0.012832494472476976,
          0.6248416773459063,
          0.0006425967472345041,
          -0.03613597391857048,
          -0.007557328591097881,
          -0.22739826186447612,
          -0.1442246070650653,
          -0.16667878428809774,
          -0.012442712682465877,
          -0.025382989492334675,
          -0.03061662073954102,
          0.0006520333379012355,
          -0.18397795422413862,
          -0.08870033688060709,
          0.003632620836731894,
          -0.01286789090269956,
          0.11114755948762174,
          0.5459022535044735,
          0.021690916551585285,
          -0.23429931370983859,
          -0.04794581615615071,
          -0.014421510504549468,
          0.0021720859151515685,
          -0.030742871505179317,
          -0.1300121585554943,
          -0.014675794152836907,
          -0.18397795422413862,
          -0.04475763384212441,
          -0.004891418168229023,
          -0.027387138195885376,
          -0.04362583793503907,
          -0.08245031627288996,
          -0.018641615398815,
          -0.019691891363197055,
          -0.01994121133549173,
          -0.022229467963848497,
          0.5186788729469015,
          -0.0113310815627194,
          -0.007661040001969314,
          -0.16915467677247403,
          0.06961541042394681,
          0.0004902808098527956,
          -0.008742539829475489,
          -0.01749643994602238,
          -0.017036355597279288,
          -0.18397795422413862,
          0.664589409431678,
          -0.11082478520176142,
          0.6200082151657623,
          0.00626956738683731,
          0.0021720859151515685,
          0.3682043292022767,
          0.002401525969757333,
          -0.28533977610968764,
          -0.014114639493968894,
          -0.1294450431411596,
          -0.09985090167316976,
          0.1935189872356563,
          -0.05093799184845692,
          0.5582800965659201,
          0.0038135400796717456,
          0.0021720859151515685,
          0.002401525969757333,
          0.0019183921549849403,
          0.0021720859151515685,
          -0.006084460270870708,
          0.0015740919940769812,
          0.03022621493954126,
          -0.1655814624050808,
          0.03694747270939266,
          0.08860790053490612,
          -0.1530196374430731,
          -0.017535585401355833,
          -0.08380639573444715,
          0.5178594552499384,
          -0.04072145207477674,
          -0.15868259366457316,
          -0.024100391341901232,
          -0.018544717525952027,
          -0.013388951890918294,
          -0.18245475686497986,
          -0.08826057924240006,
          -0.004844288111128233,
          -0.1758498006538029,
          -0.17588201128732203,
          0.002401525969757333,
          -0.18397795422413862,
          0.0021720859151515685,
          -0.023829229939438538,
          0.0019183921549849403,
          -0.022148199743195818,
          0.1719098102016003,
          -0.0023423066590393606,
          -0.11841391083953037,
          -0.022283104918297287,
          5.543702529747144e-05,
          -0.18397795422413862,
          -0.00993738121757798,
          -0.03996790624379497,
          -0.0011864173827329948,
          0.6845720554271512,
          -0.0034232455205047718,
          -0.03422975628127459,
          0.011451546869140334,
          -0.024939393784678562,
          0.0021720859151515685,
          0.5461316935590793,
          0.5459022535044735,
          -0.010733840950703412,
          -0.1442662569399815,
          -0.0023583611412635866,
          0.0021720859151515685,
          0.002401525969757333,
          -0.07009719166431815,
          0.057011570573528986,
          0.0021672294201847972,
          -0.06726347804558715,
          -0.04961452014147331,
          0.5461316935590793,
          -0.015022413524896886,
          -0.1354613133786984,
          -0.010373565152415963
         ]
        },
        {
         "hovertemplate": "label=proof<br>PCA_1=%{x}<br>PCA_2=%{y}<br>PCA_3=%{z}<extra></extra>",
         "legendgroup": "proof",
         "marker": {
          "color": "#EF553B",
          "symbol": "diamond"
         },
         "mode": "markers",
         "name": "proof",
         "scene": "scene",
         "showlegend": true,
         "type": "scatter3d",
         "x": [
          0.43349309705345584,
          -0.29071638456523136,
          0.675872739265631,
          0.3335207376750131,
          -0.3097567859702953,
          -0.32569790656088865,
          -0.31283776502954336,
          -0.31705819635119165,
          -0.3041748604850753,
          0.6459127808121864,
          0.8884905953032773,
          -0.36593495092463607,
          -0.24078509677148496,
          -0.12257202258615899,
          -0.17865592723706286,
          -0.2861161457389627,
          1.103691378389924,
          0.438349467545717,
          1.1035715527125263,
          -0.3230797406291735,
          1.0936103850564491,
          -0.3381830257655486,
          0.3500912277799571,
          0.852058686231069,
          -0.4264350796161717,
          -0.07065762074091902,
          1.103691378389924,
          -0.39306760651532097,
          -0.30728123415691594,
          -0.37145634695686963,
          -0.3461043343374242,
          -0.28902878132385956,
          -0.3292047853590562,
          -0.37569621203759407,
          0.2709858926284101,
          -0.3513710434231777,
          -0.31056771861811006,
          -0.302833012399218,
          -0.29598565850256287,
          -0.34564461766802224,
          -0.31192103326263576,
          -0.36647811844646816,
          -0.2679850070725017,
          -0.33920334324959284,
          0.9296807379360523,
          -0.28803897221912683,
          -0.3243518986632363,
          0.9326007387462183,
          -0.31773857972772424,
          -0.04473166348304889,
          -0.29909727854295753,
          -0.276186755826416,
          0.36579042481174373,
          0.4356645063448912,
          -0.07859572926890328,
          -0.37094248597137636,
          1.167349956030576,
          -0.3195229367795706,
          -0.30218310271501425,
          -0.31510659993733425,
          -0.2988916447654259,
          -0.28567045306806316,
          -0.32806729298830184,
          -0.30444845977682133,
          -0.3261479426717863,
          0.4259841323440005,
          0.8108055481913967,
          -0.32643555602812074,
          -0.2577692567546127,
          -0.3697200636059261,
          -0.27902885658310106,
          -0.37848333594637956,
          -0.3443244462161437,
          -0.3429490664447177,
          -0.334304394943361,
          0.48849613332949887,
          0.9725036876151826,
          -0.3052153664058681,
          -0.463231654697927,
          -0.2976062653214824,
          0.06449547827437375,
          -0.3210338626630833,
          1.103691378389924,
          1.164976005376071,
          -0.33113058899483505,
          -0.26757915873816485,
          0.46781926338467894,
          -0.31403921109270594,
          0.40250587941506005,
          -0.2980756145793071,
          0.8266404460008396,
          -0.39199022122817545,
          -0.2812660621661959,
          -0.3584931637557646,
          -0.2661572628173499,
          -0.4115763415496777,
          -0.29586033086943375,
          -0.2661572628173499,
          -0.2660247705778595,
          -0.2778023516109887,
          -0.41002295982942333,
          -0.3332468122821891,
          -0.2754582512699006,
          -0.34753801667411155,
          -0.26633225052130377,
          -0.22803536496698085,
          -0.2885096789451555,
          0.23318492265555912,
          -0.3220955596801855,
          -0.16458787051073837,
          -0.327355600864975,
          -0.29093834368032656,
          -0.3102973787812243,
          -0.3698803556363503,
          -0.011780125649390412,
          0.52483875005664,
          -0.2988320369328594,
          -0.2725212079380286,
          -0.3251524446163988,
          -0.26995811392084984,
          0.587837672453827,
          -0.35441331689978217,
          0.3214429026600129,
          -0.2660247705778595,
          0.38325698887018544,
          -0.2514810191053081,
          -0.4196255017135953,
          -0.2661572628173499,
          -0.3600756217054279,
          1.1747331472850429,
          -0.34080807423862275,
          1.0484481597505164,
          -0.41259570360736747,
          -0.29650057710629785,
          -0.2860026859628395,
          -0.2660247705778595,
          -0.30052649539559495,
          0.12114699576424104,
          -0.26137968098132264,
          0.2434798130765763,
          -0.3540764682868439,
          -0.4052151986564832,
          0.29296634228242296,
          1.103691378389924,
          -0.3393714290352768,
          -0.2671473854147154,
          0.37269273587201096,
          0.6540252472536524,
          -0.2876433570577249,
          -0.3144076028955343,
          -0.40291794657845575,
          -0.33352315504532337,
          -0.4036712166022806,
          -0.2981423912700801,
          -0.3061743793572582,
          0.39657486581058987,
          -0.3183619081650212,
          -0.3054596752215129,
          -0.31213473967775807,
          0.13427592544195616,
          -0.2920744246275939,
          -0.32239870913502006,
          0.42429815916673547,
          -0.33929495851943114,
          -0.3531112211191423,
          -0.3755658098262346,
          -0.28095559199467707,
          -0.3521865872562096,
          -0.28982950591314127,
          -0.29900071275070966,
          -0.29811519399462416,
          -0.305789665670665,
          -0.32129529652833017,
          0.3232950613824386,
          1.103691378389924,
          -0.055831515458954886,
          0.48636640110558665,
          -0.3624625756347888,
          -0.3753007956179764,
          1.1032111237737523,
          -0.2960926127160608,
          -0.31526553162072646,
          -0.2853061641885649,
          -0.28304355658336877,
          0.3461149611195645,
          -0.3167005044171172,
          1.1054492438771593,
          -0.3117353788284045,
          -0.2873276473004932,
          -0.3477472396263003,
          -0.2943165379735831,
          -0.2999530480705116,
          0.32965145366343734,
          -0.31455176681472385,
          -0.3026204692795188,
          0.37764112121836757,
          -0.3720252974600019,
          -0.23795921171808113,
          0.486246575428189,
          -0.2237474808040383
         ],
         "y": [
          0.17831777956769707,
          -0.2027475172718688,
          0.20034741592145514,
          -0.059575322588598496,
          -0.08154962903974816,
          -0.002456485656874114,
          -0.06400137227397634,
          -0.07888339463254128,
          -0.07822062117708067,
          -0.08794382808099091,
          -0.005327458698668777,
          0.20656782944260804,
          0.348767907501207,
          0.08874093187706476,
          -0.09004937466202502,
          -0.21601014153260767,
          -0.03079742788737783,
          0.07900808168559868,
          -0.030161537874746572,
          -0.04830457727285206,
          -0.032235573266480425,
          0.048855118618625806,
          0.010144761172187579,
          -0.06314590152130814,
          0.4328882638522884,
          -0.23071069149797588,
          -0.030797427887377833,
          0.39021523001252895,
          -0.06255759937737879,
          0.22183392742490865,
          0.07379461005168898,
          -0.2043102406056608,
          -0.01538061014520399,
          0.20986707825075232,
          0.0032200282632419636,
          0.10323049034237497,
          0.23601980224912555,
          -0.15280569936632885,
          -0.16284015576702524,
          0.10972899578564779,
          -0.11630065767675946,
          0.18847561686170297,
          -0.28770504789868623,
          0.13359345554715857,
          -0.027697645762244386,
          -0.2141621145804773,
          0.0409585151326673,
          -0.06583540500924899,
          -0.044338871078811806,
          0.20000212555372962,
          -0.15467485686175925,
          -0.24936534228952492,
          0.0994583195605707,
          -0.07619894842958326,
          0.062010739890839224,
          0.17232180229090385,
          0.14071140817612102,
          -0.08610656746148516,
          0.12946984122572455,
          -0.07928018468737663,
          -0.12318692855844138,
          -0.16057138025164985,
          -0.03937555697819187,
          -0.13556070128710268,
          0.07535180330589615,
          0.2193224747844615,
          -0.017499951257518,
          -0.008897141594137672,
          -0.2066858870645972,
          0.19953063529301518,
          -0.25162315859504447,
          0.2005775665638952,
          0.05993858324840736,
          0.04849444156540846,
          0.010030086843645375,
          -0.04968772718402025,
          0.02750867661544888,
          0.3788395462327168,
          0.6096133869240443,
          -0.17450640904340164,
          0.10422149470258998,
          -0.018428666827633652,
          -0.03079742788737783,
          0.08473363010951994,
          -0.0003790334425437776,
          -0.3000804393883668,
          -0.07765914674929615,
          -0.10904827458361317,
          0.13065841909761955,
          -0.12729488937730696,
          -0.0017970442031737264,
          0.3744403368803494,
          -0.24232160684993087,
          0.1602761639244786,
          -0.3051389357587118,
          0.4077188566956529,
          -0.16517789355222404,
          -0.3051389357587118,
          -0.305842044588746,
          -0.2568094055828545,
          0.3596128181008515,
          -0.02894570834479008,
          -0.2525276185882452,
          0.026938284657289008,
          -0.3000913331246111,
          -0.2248113149229014,
          -0.18281371237743732,
          0.12728327721311503,
          -0.04614409330627992,
          0.3273455526725804,
          -0.018259257468981476,
          -0.18930256977353585,
          -0.0008769790439839193,
          0.12237932049992666,
          0.1818110800855931,
          0.30986491390829507,
          -0.12001156074686196,
          -0.27247630043848553,
          -0.025178346534401815,
          -0.2911866332107113,
          0.09046520922905996,
          0.1258508747987055,
          0.23193293772010118,
          -0.305842044588746,
          0.2660261807236648,
          -0.2103192766152444,
          0.5141449977787396,
          -0.3051389357587118,
          0.12594677502480056,
          0.24777503480370508,
          0.04471084886788694,
          0.049958114831192876,
          0.348565133859148,
          -0.031544967279198845,
          -0.21107463374609486,
          -0.305842044588746,
          -0.09648780928143498,
          -0.02125461033870582,
          -0.13327315117420857,
          -0.02104902874649292,
          0.08881603754439456,
          0.41125955471332365,
          0.1953516422426867,
          -0.03079742788737783,
          0.041576422074997885,
          -0.30102233751535284,
          0.07688697447727731,
          -0.037165807782175674,
          -0.19819478444775848,
          -0.08908488371092971,
          0.2634661966052536,
          -0.00786094991886373,
          0.2705942462720548,
          -0.1495432883209862,
          -0.13261472211922615,
          0.025977710234812428,
          -0.07526272544267604,
          -0.11915135416513867,
          -0.09662974752860513,
          0.3574590921572994,
          -0.19753630509084777,
          0.020624383008387967,
          -0.07497054830366913,
          -0.007532038870909062,
          0.248788840360101,
          0.14974517013246058,
          -0.24381242321033889,
          0.14150429259756273,
          -0.18868805320096285,
          -0.15224486865114545,
          -0.16190592297662423,
          -0.12323611013120306,
          0.05098280744462678,
          0.5006520578460759,
          -0.03079742788737783,
          0.035465939821372215,
          -0.09032045583971092,
          0.11911514574604905,
          0.23820614825253025,
          -0.01769922657399281,
          -0.1575163871493217,
          -0.046660485977435905,
          -0.1473369398612833,
          -0.23493138021053883,
          0.1355846438550095,
          -0.03843553194720872,
          -0.04012605536654972,
          -0.07621744996932005,
          -0.21711956542373265,
          0.07752723771786664,
          -0.164625235984142,
          -0.14049187536031393,
          -0.04667216020840701,
          -0.10411628541199487,
          -0.1351481031694628,
          0.4599118004146747,
          0.2313799631314007,
          -0.22584550693729732,
          -0.08968456582707965,
          -0.1559508465063916
         ],
         "z": [
          0.5912101090653696,
          -0.017579910250482063,
          -0.11593797534966867,
          -0.07733224693132693,
          -0.003625120518343368,
          -0.00610976553936338,
          -0.0020447724109210206,
          -0.029180320000606188,
          0.02119401047023669,
          -0.10274555968732042,
          -0.118941811409466,
          -0.010845766777436644,
          0.04095726422344963,
          -0.01041089407282725,
          -0.03632164978614366,
          -0.00972742256017992,
          -0.18397795422413862,
          0.6055293118189431,
          -0.18374851416953286,
          -0.0310625744072883,
          -0.1827326303346875,
          -0.019628043686025817,
          0.37235845900945713,
          -0.13093640282331437,
          -0.0798206209481167,
          0.09489060193362645,
          -0.18397795422413862,
          0.014306497634203564,
          -0.023610039356423744,
          -0.021591181935803276,
          -0.03168553529784915,
          -0.013726879508799781,
          -0.03028231581198778,
          -0.04488660037113806,
          0.27099640546303866,
          -0.03107367720785927,
          -0.04537737860128578,
          -0.028698224346653152,
          -0.007862062944630547,
          -0.0037060722527593342,
          -0.03591298438094517,
          -0.02817456546647308,
          0.008413309655321766,
          0.00631627490814978,
          -0.11426823706892292,
          -0.01602883518306152,
          -0.05402601569488311,
          -0.16097811216713337,
          -0.008672530076109275,
          0.19814090723698227,
          -0.014886250629361622,
          -0.004231650678841404,
          0.5283780438588503,
          0.5085649139115095,
          0.15820348535087647,
          -0.056069989223911106,
          -0.16096906893084803,
          -0.041451148390886275,
          -0.013889743946906152,
          -0.022851030676379353,
          0.008975342324648281,
          0.007010649444950555,
          -0.04246997731835294,
          -0.020384084922025005,
          0.04642051277982625,
          0.6022891958243237,
          -0.12463453742534156,
          -0.015477453240108258,
          0.0005161657739891248,
          -0.03259266529090059,
          -0.008534338260267879,
          -0.06173361915262533,
          -0.0337128984155025,
          -0.03713894584822654,
          -0.02710286943068297,
          -0.0914384714501609,
          -0.1758283752967941,
          -0.010568069566084127,
          -0.0943916175462618,
          -0.023953971981109205,
          0.27325293810815854,
          -0.0008816376177239815,
          -0.18397795422413862,
          -0.2135759712551479,
          -0.026890424663593572,
          0.0012190630221489314,
          0.5316920332333175,
          -0.03685157479508917,
          0.5702065327011782,
          0.008122346451565681,
          -0.10015210514698251,
          -0.03921253641063275,
          -0.010395216747900324,
          -0.01698516482128121,
          0.002172085915151567,
          -0.04195270608806551,
          -0.009817248268261648,
          0.002172085915151567,
          0.0019183921549849393,
          -0.00712459272799188,
          -0.06974930840300965,
          -0.05289383366439426,
          0.0043628882975220995,
          -0.06307764993252558,
          0.00533403340740484,
          0.028009297101379508,
          0.005882984209269381,
          -0.027572114852113954,
          -0.02517841464625112,
          -0.09003108196971779,
          -0.026056319561799195,
          -0.008992539274306693,
          -0.012887818286536134,
          -0.08258919476819014,
          -0.07949549464143953,
          1.0209735928002872,
          0.009568461018098117,
          0.0011702757924347607,
          -0.021143860048408087,
          0.0002607781816925429,
          -0.2927958515488972,
          -0.024853063043068124,
          0.5463964922643934,
          0.0019183921549849393,
          0.6012941534120716,
          -0.0016020633866559177,
          -0.12678905221915565,
          0.002172085915151567,
          -0.04386507401127101,
          -0.04757461121369787,
          -0.03261107271817086,
          -0.09138288926984175,
          -0.08790598479278561,
          -0.011268472718359826,
          -0.024973609518883905,
          0.0019183921549849393,
          -0.0332332228775703,
          0.3067309909619172,
          -0.02166896222864159,
          0.3773864817062223,
          -0.0487020192378063,
          -0.016446900371491633,
          -0.13109429333077646,
          -0.18397795422413862,
          -0.028885220565876737,
          0.001348514824734677,
          -0.09235789556394611,
          -0.13548508609769802,
          -0.0029111517215805022,
          -0.02635494806712542,
          -0.11158367094868013,
          -0.03905430128229981,
          -0.10903167156598388,
          -0.007910552574724571,
          -0.026411600233541895,
          -0.1323592329046896,
          -0.03154881506727226,
          -0.012678014845268194,
          -0.02356603187201872,
          -0.10039398331652505,
          -0.01974937105717347,
          0.021311708879459688,
          0.16463997119794463,
          -0.05655367789595016,
          0.06473291856419201,
          -0.08883251957591379,
          -0.010083137724455063,
          -0.00760409512372403,
          -0.002971231027599667,
          -0.013428523362239759,
          -0.017241121444571374,
          -0.01833167561646211,
          -0.030655026219821708,
          0.6181233440431875,
          -0.18397795422413862,
          -0.07092083337051654,
          0.5459022535044735,
          -0.055645082411573094,
          -0.023049584219435097,
          -0.17669962026579905,
          -0.006099197766721155,
          0.0017961215927340156,
          -0.006683568415092117,
          -0.011873713470686095,
          -0.11316571055033274,
          -0.02857023952732088,
          -0.1873438834818752,
          -0.00531145951069004,
          -0.015437164373367274,
          -0.035024496400931,
          -0.0033579781971844395,
          -0.008344585537411903,
          0.43049593112622137,
          -0.03803189971095325,
          -0.013470754682694309,
          0.6558764353866979,
          -0.01552225727744343,
          -0.01433371789962997,
          0.5461316935590793,
          0.05007885997890003
         ]
        },
        {
         "hovertemplate": "label=theorem<br>PCA_1=%{x}<br>PCA_2=%{y}<br>PCA_3=%{z}<extra></extra>",
         "legendgroup": "theorem",
         "marker": {
          "color": "#00cc96",
          "symbol": "square"
         },
         "mode": "markers",
         "name": "theorem",
         "scene": "scene",
         "showlegend": true,
         "type": "scatter3d",
         "x": [
          -0.31667467501972923,
          -0.2970463004144905,
          -0.34889075938598063,
          -0.48003714045498064,
          -0.42229080200886804,
          0.34116424452405125,
          -0.34814261529631785,
          0.742806675585658,
          0.8596978279675264,
          0.38535994616905006,
          -0.475028125288857,
          -0.35133468190772077,
          -0.20820546678433,
          0.03165884972623305,
          0.027801622136012123,
          1.1158509138066153,
          -0.41434522615666614,
          -0.3210743286847556,
          -0.3180362689945004,
          0.13295875189864445,
          -0.33994605606986444,
          -0.28748939036401305,
          -0.45044708410175516,
          0.44693113538134693,
          -0.3424739189909991,
          0.627239007887712,
          0.7612292180881054,
          -0.29274540369193097,
          -0.3159372296486338,
          -0.40278711883963364,
          -0.41826752891847624,
          -0.39647082158731867,
          -0.47210250932324843,
          -0.20781584481447168,
          1.103691378389924,
          -0.4779211905777784,
          -0.38025728632702266,
          -0.3959852925860881,
          -0.3084068118245022,
          -0.3461855980821172,
          -0.32825432519001646,
          -0.42232255072617014,
          0.005440356594043422,
          -0.35978856149767596,
          -0.3398764719239195,
          -0.31868550337709267,
          0.9442895777436769,
          -0.25004324222875896,
          -0.40975020599661244,
          -0.40457447094842514,
          -0.43369850736349513,
          -0.4648453567534747,
          -0.37440820413202786,
          -0.3004598068568238,
          -0.2832583204516768,
          -0.4139322464356642,
          -0.3569615539797317,
          0.4611075455648616,
          -0.2705725543447773,
          0.6273982427502913,
          -0.34748294258394247,
          0.7365403190193602,
          0.3093585107774023,
          -0.3484823063618779,
          0.8553400410940155,
          -0.26937370331173704,
          -0.2875735790655131,
          -0.39121594276722294,
          0.6914790252447636,
          -0.44372291347790954,
          -0.3182596454580533,
          0.7525137737920767,
          0.014537189220291517,
          -0.41636980047660427,
          0.2850881627253792,
          -0.3244010607687828,
          0.9491161472766463,
          0.18322964563693575,
          -0.4849743568351193,
          0.9079987153603133,
          0.19194140290726866,
          -0.1935314829808891,
          0.43875404761151143,
          1.103691378389924,
          0.025242792624769684,
          -0.046662805166528064,
          0.8026929272155581,
          -0.2660247705778595,
          -0.2271858686592831,
          -0.4266139977211267,
          -0.24704004100685237,
          -0.3836558472051933,
          -0.24797138018813067,
          -0.29852348616279706,
          -0.11124641087307283,
          -0.30796987703004214,
          0.37420571233292826,
          0.48636640110558665,
          0.9015419938919211,
          -0.3744453944896219,
          -0.4297225148221392,
          0.8968477006819903,
          -0.47661480775864196,
          0.9599645998407051,
          0.43325005153428875,
          0.6743683768020259,
          -0.12347779098655673,
          -0.36357538275774187,
          0.4610162905720844,
          -0.3656177645497502,
          0.3368495466280169,
          -0.4164003808861215,
          -0.44031591612340654,
          0.7606436480772376,
          -0.21577994366672393,
          -0.3347129947074793,
          -0.2294112835556576,
          -0.34355172518764765,
          -0.48734451387175737,
          -0.29891171724779875,
          0.518042382672428,
          0.2988971150675809,
          1.1035715527125263,
          -0.48509418251251696,
          -0.41926686906367666,
          -0.40244322047451997,
          -0.3984499373303079,
          0.3000718319025956,
          0.378108897081181,
          0.580229766172843,
          -0.2405642437235742,
          -0.32397441637926744,
          -0.41415115225861243,
          -0.4188204905228753,
          -0.46771566656765806,
          0.05553238825649072,
          -0.33002224159048,
          0.8198605548524611,
          -0.47166615494256114,
          -0.4099965526683137,
          -0.33616530933391053,
          0.8780866765577726,
          -0.3385223425351512,
          -0.2732720844825112,
          -0.2581419346232251,
          -0.31743366466763734,
          -0.4447812674220423,
          -0.27778383013439045,
          -0.3283617877919989,
          -0.32743193662369785,
          -0.3759988994391096,
          -0.21721589974992578,
          -0.28235624704521195,
          -0.38922498457530974,
          -0.024537823911677754,
          -0.1337698362424178,
          0.9551577965620981,
          0.4764535448602736,
          -0.34883888876559194,
          -0.11138846065237536,
          0.6709316023653266,
          0.7119323048738451,
          -0.31831412525055175,
          -0.35415745338849547,
          -0.2344805812195609,
          -0.4000706427234229,
          -0.28317225454923217,
          0.9567431162901833,
          -0.4848418645956289,
          -0.43102620137230596,
          -0.37012159175370424,
          -0.405775534897872,
          0.819595686897037,
          -0.27619552584253915,
          -0.388653515964813,
          -0.2796012851694452,
          -0.2891477048766658,
          0.18800169099495873,
          0.21489599340642332,
          -0.22624236061615163,
          -0.3626420590881641,
          -0.3193788321297704,
          -0.32352759117332025,
          -0.08792774870625612,
          -0.3289064556265349,
          0.4633725703743821,
          -0.2661572628173499,
          0.059202206971152714,
          0.16422113979279943,
          -0.17528899282357116,
          -0.2746668017044002,
          -0.3770671142978983,
          -0.46779005480664887,
          0.25273954767294726,
          -0.3714027900422619,
          0.8837088496318669,
          1.103691378389924,
          -0.29736891586780156,
          -0.25510257733484676,
          1.0429992531137702
         ],
         "y": [
          0.15551471195034014,
          -0.11385697844174221,
          0.3649468398444982,
          0.5837820068679536,
          0.44309373703599075,
          0.297806240671772,
          0.33193899396442444,
          0.07664489319732477,
          0.042641041557038774,
          0.1916061754975501,
          0.563276175488072,
          0.28170611733759493,
          0.3998026432912137,
          -0.0426098746574837,
          0.21034211810723727,
          -0.02929326693850353,
          0.4282505852435239,
          0.07280949908057703,
          -0.050754966872327424,
          0.529378490535342,
          0.36072030201603933,
          0.30731206601407807,
          0.5208098535470542,
          0.09376779094269862,
          0.37497007848505715,
          -0.059057241028808216,
          -0.0993828048552113,
          0.41185686216910194,
          0.5165653663580323,
          0.30970853869143544,
          0.38755808614544485,
          0.5081495181566332,
          0.5611681642204873,
          0.24884473840734675,
          -0.030797427887377833,
          0.5748474629440914,
          0.21050653885175113,
          0.2774174776768389,
          -0.07463655829879572,
          0.39601416231541364,
          0.4080636850926525,
          0.6012357664604296,
          0.21184530110626756,
          0.37186706074586845,
          0.4988369777911651,
          -0.06722097054403363,
          -0.05627867267736394,
          0.2897437440445555,
          0.3671480573997644,
          0.5028929647478914,
          0.44786424575774536,
          0.5491424942730514,
          0.33348397552271986,
          0.4895249682183012,
          0.1055109177491643,
          0.45482302762706367,
          0.1805267240284049,
          0.389620159782368,
          -0.18525450808510743,
          0.08071567769334212,
          0.09331641633866684,
          -0.02202130172969414,
          0.28691592406812755,
          0.06596529431962056,
          0.04619779743306663,
          0.2601053073937862,
          -0.1874178213261993,
          0.39817842792081093,
          0.11730463883214536,
          0.505891156821434,
          0.20841682937774775,
          0.01755876886921927,
          -0.035721976261381974,
          0.45972765711535096,
          -0.02655571439554188,
          0.3196400153924863,
          -0.05284899036695105,
          -0.18776339460391087,
          0.604629276023633,
          -0.06998907186899697,
          0.23046746436493426,
          0.2790022832297391,
          0.011725031057090355,
          -0.030797427887377833,
          0.37913842725188396,
          -0.090354783912639,
          0.09106726088939573,
          -0.305842044588746,
          -0.1669643911093761,
          0.5396851396600478,
          -0.2602529118929859,
          0.45697032618375655,
          -0.2207830378837211,
          0.2498447107977093,
          -0.25625927794877473,
          0.4132019999705788,
          0.056382307861168615,
          -0.0903204558397109,
          -0.013468043848726265,
          0.1759408362563179,
          0.40851860669600604,
          -0.05988579500024845,
          0.6023860856727484,
          0.020361575438922863,
          0.3034003959587147,
          0.039037338093260314,
          0.2955902928849618,
          0.1776339875102431,
          0.08902156867361716,
          0.3421362529709265,
          0.035559755329675126,
          0.46731826189912046,
          0.4387106250463873,
          0.021526411935842364,
          0.22097726670964174,
          0.15146894748566284,
          -0.0625979761030378,
          0.3793105396441201,
          0.6691436492993798,
          -0.12481248347922595,
          0.07357210502925414,
          0.340086075705792,
          -0.030161537874746576,
          0.6052651660362642,
          0.40196845573162576,
          0.4072853570195475,
          0.31194528326683735,
          0.21324144725580396,
          0.05634597658587367,
          -0.05362897004710047,
          0.5068713215757852,
          -0.004756948358500674,
          0.45160518361539137,
          0.5502101104629599,
          0.5527498725933497,
          -0.13921893725013212,
          0.4718607821136906,
          0.0030217828849124547,
          0.6001927274376763,
          0.36737239486743656,
          0.0440125587071107,
          -0.011681719468714942,
          0.02521230352639884,
          0.5205416055147961,
          0.5144899226204055,
          0.03655124981285336,
          0.5623344872545935,
          0.19306354371403092,
          0.1678183288578626,
          -0.010462094761756292,
          0.41038984120894756,
          0.21163576941314938,
          -0.024031512656000346,
          0.3510217248148156,
          -0.024803161825506997,
          0.5106566802450456,
          -0.020812651233720395,
          -0.02101044836908729,
          0.36110218613230266,
          0.28714407256065705,
          -0.09301256027720406,
          -0.042670943492488844,
          -0.05561733984406733,
          0.4090696292978507,
          -0.0820187303500918,
          0.5501137355335239,
          -0.08997924288645001,
          0.00945329962055123,
          0.6039261671935988,
          0.44698395184949724,
          0.15793747376899428,
          0.32889305899331117,
          -0.0716328766611701,
          -0.26086811529870346,
          0.4535049793480313,
          0.5684247298693502,
          -0.1883618081952669,
          -0.14438711944456986,
          0.10800368466188887,
          0.47647580784991567,
          0.46489078344324375,
          0.2412148641835299,
          -0.06821220211872871,
          0.4464084900585115,
          0.3922268270599478,
          -0.02051798465116025,
          -0.3051389357587118,
          0.019320721780881563,
          0.09424488439642986,
          -0.0705182280441492,
          -0.2087760985059912,
          0.33901236308012644,
          0.5794038225479008,
          0.2550416560331153,
          0.5281923115464578,
          0.10011420904703558,
          -0.030797427887377833,
          -0.17294481360698008,
          -0.2571831274190077,
          -0.022843486965699208
         ],
         "z": [
          -0.10793643173673022,
          0.022010798742018656,
          -0.11239622815322539,
          -0.17564427837730187,
          -0.10731216726705592,
          0.6449876696334407,
          -0.10080965462975741,
          -0.17447400367528904,
          -0.2002543173321419,
          -0.26143789513551774,
          -0.17156397911324595,
          -0.09843895988833974,
          -0.1343209084162801,
          -0.217416609021066,
          0.06388215671641977,
          -0.33776497276829226,
          -0.03765417220056578,
          -0.05160538161347999,
          -0.02185220328075911,
          0.5439997737499463,
          -0.11687548878465774,
          0.0075441795808376825,
          -0.14360791054617442,
          -0.07532389051831313,
          -0.12683373214322496,
          -0.12459240726808053,
          -0.13744044418931603,
          -0.16256109244106523,
          -0.15950178717126404,
          -0.07751933838691753,
          -0.08038426770973689,
          -0.16614521369585716,
          -0.16157738923172152,
          -0.02855072015426335,
          -0.18397795422413862,
          -0.17384734408172595,
          -0.06161223148234087,
          -0.09392359528013669,
          -0.08249915736142928,
          -0.11143611566484829,
          -0.1381091522234635,
          -0.08439634608947753,
          -0.08044776090917377,
          -0.10247388627576559,
          -0.16961095211141666,
          -0.023438757364421733,
          -0.09740089618268628,
          -0.1313274745221872,
          -0.06468371891957511,
          -0.11638404204254521,
          -0.09656212815390708,
          -0.1433095722494108,
          -0.09507747861454828,
          -0.17113899128912693,
          0.04315814575161045,
          -0.05030251684496523,
          -0.0722306386209197,
          0.8773033466790073,
          0.06876355924153542,
          -0.13604242554345453,
          -0.01947354980498946,
          -0.16745599284239013,
          -0.18190753964555886,
          -0.04485770896203255,
          -0.08284288339984651,
          -0.05241300420513427,
          0.005458757446598982,
          -0.12473476994609291,
          -0.1795768871811848,
          -0.09481878476682304,
          -0.10702624656943109,
          -0.29484751326713743,
          -0.06776571739740092,
          -0.022145386976466154,
          -0.1009450638955155,
          -0.12219930815546022,
          -0.16488298791922187,
          -0.06441360187501925,
          -0.17983712506697916,
          -0.15738509134709713,
          -0.04820121247163691,
          -0.08541222293511064,
          -0.1189572634894496,
          -0.18397795422413862,
          -0.23109174811140323,
          -0.05713667130367678,
          -0.12089024234169701,
          0.0019183921549849393,
          -0.017189085486543413,
          -0.16621323651077358,
          -0.0095425476161476,
          -0.12137198828418631,
          -0.00768999569097886,
          -0.0962677692329936,
          -0.0017168189298828272,
          -0.10845750556773485,
          -0.07710481798819342,
          0.5459022535044735,
          -0.13014706940097343,
          -0.06300604471957533,
          -0.10840412989960814,
          -0.14881409722036854,
          -0.15002764316034817,
          -0.1761743020274835,
          0.6306230159846049,
          -0.03737348708310717,
          -0.1442634487019849,
          -0.021236796441033406,
          -0.12828128148355214,
          -0.06700749850468926,
          0.4857322666360311,
          -0.1444913906862262,
          -0.12824060206936075,
          -0.09186029521133852,
          -0.049575498764867165,
          -0.06706380425928347,
          -0.014278379105247548,
          -0.11292781580811434,
          -0.143994170413673,
          0.005370183552990537,
          -0.13888014810717803,
          -0.1054955668125047,
          -0.18374851416953286,
          -0.1796076850123734,
          -0.07446317141302243,
          -0.005604798531422351,
          -0.0598838816171605,
          0.4499769181070574,
          -0.08916486877080816,
          -0.09070787779352077,
          -0.18047417570654214,
          -0.004176529177496285,
          -0.13088434516826625,
          -0.1737788643843891,
          -0.1514962878694586,
          -0.0314708692882797,
          -0.15135927979534028,
          -0.12639261855538253,
          -0.13332255107089683,
          -0.07575058490722622,
          -0.013692218055756357,
          -0.26655467052075404,
          -0.03348875796624722,
          -0.18015979556666134,
          -0.1801992320348247,
          -0.0686741034666011,
          -0.05945423130208773,
          -0.07684557951349442,
          -0.09163056713532022,
          -0.01768107309129646,
          -0.14704043684723156,
          -0.06316833569505809,
          -0.0005431731924013541,
          -0.10324129926791517,
          0.17399134962020915,
          -0.15463994348071206,
          -0.09907096028230163,
          -0.10492266690129877,
          -0.12961300759737943,
          -0.06934210099673316,
          0.00941655812147883,
          -0.1143181364139898,
          -0.017350630277435865,
          -0.13069146849525634,
          -0.02689186134170741,
          -0.17549393625028387,
          -0.020211636942986708,
          -0.1544383922562792,
          -0.18009081882714578,
          -0.08851162550502567,
          -0.06055530278615419,
          -0.07465162176058275,
          -0.3011930293066295,
          -0.0026999248947593216,
          -0.08769132616063005,
          -0.11248308495106688,
          -0.0016516833604837329,
          -0.021259471390335655,
          0.3690123262488475,
          -0.13567832785041686,
          -0.11223232460097841,
          -0.06279159066229864,
          -0.04511713475476106,
          -0.18064289230166325,
          -0.19137960647478694,
          -0.055391528911842625,
          0.002172085915151567,
          -0.1990300056396322,
          -0.19549543011150924,
          -0.042544871226756424,
          0.04042564377572992,
          -0.12365046457147756,
          -0.13275256080822861,
          -0.08981577248361133,
          -0.11681727857241585,
          -0.06787414473124942,
          -0.18397795422413862,
          -0.021644236662395743,
          -0.009852400519411976,
          -0.16606571188986638
         ]
        }
       ],
       "layout": {
        "legend": {
         "title": {
          "text": "label"
         },
         "tracegroupgap": 0
        },
        "margin": {
         "t": 60
        },
        "scene": {
         "domain": {
          "x": [
           0,
           1
          ],
          "y": [
           0,
           1
          ]
         },
         "xaxis": {
          "title": {
           "text": "PCA_1"
          }
         },
         "yaxis": {
          "title": {
           "text": "PCA_2"
          }
         },
         "zaxis": {
          "title": {
           "text": "PCA_3"
          }
         }
        },
        "template": {
         "data": {
          "bar": [
           {
            "error_x": {
             "color": "#2a3f5f"
            },
            "error_y": {
             "color": "#2a3f5f"
            },
            "marker": {
             "line": {
              "color": "#E5ECF6",
              "width": 0.5
             },
             "pattern": {
              "fillmode": "overlay",
              "size": 10,
              "solidity": 0.2
             }
            },
            "type": "bar"
           }
          ],
          "barpolar": [
           {
            "marker": {
             "line": {
              "color": "#E5ECF6",
              "width": 0.5
             },
             "pattern": {
              "fillmode": "overlay",
              "size": 10,
              "solidity": 0.2
             }
            },
            "type": "barpolar"
           }
          ],
          "carpet": [
           {
            "aaxis": {
             "endlinecolor": "#2a3f5f",
             "gridcolor": "white",
             "linecolor": "white",
             "minorgridcolor": "white",
             "startlinecolor": "#2a3f5f"
            },
            "baxis": {
             "endlinecolor": "#2a3f5f",
             "gridcolor": "white",
             "linecolor": "white",
             "minorgridcolor": "white",
             "startlinecolor": "#2a3f5f"
            },
            "type": "carpet"
           }
          ],
          "choropleth": [
           {
            "colorbar": {
             "outlinewidth": 0,
             "ticks": ""
            },
            "type": "choropleth"
           }
          ],
          "contour": [
           {
            "colorbar": {
             "outlinewidth": 0,
             "ticks": ""
            },
            "colorscale": [
             [
              0,
              "#0d0887"
             ],
             [
              0.1111111111111111,
              "#46039f"
             ],
             [
              0.2222222222222222,
              "#7201a8"
             ],
             [
              0.3333333333333333,
              "#9c179e"
             ],
             [
              0.4444444444444444,
              "#bd3786"
             ],
             [
              0.5555555555555556,
              "#d8576b"
             ],
             [
              0.6666666666666666,
              "#ed7953"
             ],
             [
              0.7777777777777778,
              "#fb9f3a"
             ],
             [
              0.8888888888888888,
              "#fdca26"
             ],
             [
              1,
              "#f0f921"
             ]
            ],
            "type": "contour"
           }
          ],
          "contourcarpet": [
           {
            "colorbar": {
             "outlinewidth": 0,
             "ticks": ""
            },
            "type": "contourcarpet"
           }
          ],
          "heatmap": [
           {
            "colorbar": {
             "outlinewidth": 0,
             "ticks": ""
            },
            "colorscale": [
             [
              0,
              "#0d0887"
             ],
             [
              0.1111111111111111,
              "#46039f"
             ],
             [
              0.2222222222222222,
              "#7201a8"
             ],
             [
              0.3333333333333333,
              "#9c179e"
             ],
             [
              0.4444444444444444,
              "#bd3786"
             ],
             [
              0.5555555555555556,
              "#d8576b"
             ],
             [
              0.6666666666666666,
              "#ed7953"
             ],
             [
              0.7777777777777778,
              "#fb9f3a"
             ],
             [
              0.8888888888888888,
              "#fdca26"
             ],
             [
              1,
              "#f0f921"
             ]
            ],
            "type": "heatmap"
           }
          ],
          "heatmapgl": [
           {
            "colorbar": {
             "outlinewidth": 0,
             "ticks": ""
            },
            "colorscale": [
             [
              0,
              "#0d0887"
             ],
             [
              0.1111111111111111,
              "#46039f"
             ],
             [
              0.2222222222222222,
              "#7201a8"
             ],
             [
              0.3333333333333333,
              "#9c179e"
             ],
             [
              0.4444444444444444,
              "#bd3786"
             ],
             [
              0.5555555555555556,
              "#d8576b"
             ],
             [
              0.6666666666666666,
              "#ed7953"
             ],
             [
              0.7777777777777778,
              "#fb9f3a"
             ],
             [
              0.8888888888888888,
              "#fdca26"
             ],
             [
              1,
              "#f0f921"
             ]
            ],
            "type": "heatmapgl"
           }
          ],
          "histogram": [
           {
            "marker": {
             "pattern": {
              "fillmode": "overlay",
              "size": 10,
              "solidity": 0.2
             }
            },
            "type": "histogram"
           }
          ],
          "histogram2d": [
           {
            "colorbar": {
             "outlinewidth": 0,
             "ticks": ""
            },
            "colorscale": [
             [
              0,
              "#0d0887"
             ],
             [
              0.1111111111111111,
              "#46039f"
             ],
             [
              0.2222222222222222,
              "#7201a8"
             ],
             [
              0.3333333333333333,
              "#9c179e"
             ],
             [
              0.4444444444444444,
              "#bd3786"
             ],
             [
              0.5555555555555556,
              "#d8576b"
             ],
             [
              0.6666666666666666,
              "#ed7953"
             ],
             [
              0.7777777777777778,
              "#fb9f3a"
             ],
             [
              0.8888888888888888,
              "#fdca26"
             ],
             [
              1,
              "#f0f921"
             ]
            ],
            "type": "histogram2d"
           }
          ],
          "histogram2dcontour": [
           {
            "colorbar": {
             "outlinewidth": 0,
             "ticks": ""
            },
            "colorscale": [
             [
              0,
              "#0d0887"
             ],
             [
              0.1111111111111111,
              "#46039f"
             ],
             [
              0.2222222222222222,
              "#7201a8"
             ],
             [
              0.3333333333333333,
              "#9c179e"
             ],
             [
              0.4444444444444444,
              "#bd3786"
             ],
             [
              0.5555555555555556,
              "#d8576b"
             ],
             [
              0.6666666666666666,
              "#ed7953"
             ],
             [
              0.7777777777777778,
              "#fb9f3a"
             ],
             [
              0.8888888888888888,
              "#fdca26"
             ],
             [
              1,
              "#f0f921"
             ]
            ],
            "type": "histogram2dcontour"
           }
          ],
          "mesh3d": [
           {
            "colorbar": {
             "outlinewidth": 0,
             "ticks": ""
            },
            "type": "mesh3d"
           }
          ],
          "parcoords": [
           {
            "line": {
             "colorbar": {
              "outlinewidth": 0,
              "ticks": ""
             }
            },
            "type": "parcoords"
           }
          ],
          "pie": [
           {
            "automargin": true,
            "type": "pie"
           }
          ],
          "scatter": [
           {
            "marker": {
             "colorbar": {
              "outlinewidth": 0,
              "ticks": ""
             }
            },
            "type": "scatter"
           }
          ],
          "scatter3d": [
           {
            "line": {
             "colorbar": {
              "outlinewidth": 0,
              "ticks": ""
             }
            },
            "marker": {
             "colorbar": {
              "outlinewidth": 0,
              "ticks": ""
             }
            },
            "type": "scatter3d"
           }
          ],
          "scattercarpet": [
           {
            "marker": {
             "colorbar": {
              "outlinewidth": 0,
              "ticks": ""
             }
            },
            "type": "scattercarpet"
           }
          ],
          "scattergeo": [
           {
            "marker": {
             "colorbar": {
              "outlinewidth": 0,
              "ticks": ""
             }
            },
            "type": "scattergeo"
           }
          ],
          "scattergl": [
           {
            "marker": {
             "colorbar": {
              "outlinewidth": 0,
              "ticks": ""
             }
            },
            "type": "scattergl"
           }
          ],
          "scattermapbox": [
           {
            "marker": {
             "colorbar": {
              "outlinewidth": 0,
              "ticks": ""
             }
            },
            "type": "scattermapbox"
           }
          ],
          "scatterpolar": [
           {
            "marker": {
             "colorbar": {
              "outlinewidth": 0,
              "ticks": ""
             }
            },
            "type": "scatterpolar"
           }
          ],
          "scatterpolargl": [
           {
            "marker": {
             "colorbar": {
              "outlinewidth": 0,
              "ticks": ""
             }
            },
            "type": "scatterpolargl"
           }
          ],
          "scatterternary": [
           {
            "marker": {
             "colorbar": {
              "outlinewidth": 0,
              "ticks": ""
             }
            },
            "type": "scatterternary"
           }
          ],
          "surface": [
           {
            "colorbar": {
             "outlinewidth": 0,
             "ticks": ""
            },
            "colorscale": [
             [
              0,
              "#0d0887"
             ],
             [
              0.1111111111111111,
              "#46039f"
             ],
             [
              0.2222222222222222,
              "#7201a8"
             ],
             [
              0.3333333333333333,
              "#9c179e"
             ],
             [
              0.4444444444444444,
              "#bd3786"
             ],
             [
              0.5555555555555556,
              "#d8576b"
             ],
             [
              0.6666666666666666,
              "#ed7953"
             ],
             [
              0.7777777777777778,
              "#fb9f3a"
             ],
             [
              0.8888888888888888,
              "#fdca26"
             ],
             [
              1,
              "#f0f921"
             ]
            ],
            "type": "surface"
           }
          ],
          "table": [
           {
            "cells": {
             "fill": {
              "color": "#EBF0F8"
             },
             "line": {
              "color": "white"
             }
            },
            "header": {
             "fill": {
              "color": "#C8D4E3"
             },
             "line": {
              "color": "white"
             }
            },
            "type": "table"
           }
          ]
         },
         "layout": {
          "annotationdefaults": {
           "arrowcolor": "#2a3f5f",
           "arrowhead": 0,
           "arrowwidth": 1
          },
          "autotypenumbers": "strict",
          "coloraxis": {
           "colorbar": {
            "outlinewidth": 0,
            "ticks": ""
           }
          },
          "colorscale": {
           "diverging": [
            [
             0,
             "#8e0152"
            ],
            [
             0.1,
             "#c51b7d"
            ],
            [
             0.2,
             "#de77ae"
            ],
            [
             0.3,
             "#f1b6da"
            ],
            [
             0.4,
             "#fde0ef"
            ],
            [
             0.5,
             "#f7f7f7"
            ],
            [
             0.6,
             "#e6f5d0"
            ],
            [
             0.7,
             "#b8e186"
            ],
            [
             0.8,
             "#7fbc41"
            ],
            [
             0.9,
             "#4d9221"
            ],
            [
             1,
             "#276419"
            ]
           ],
           "sequential": [
            [
             0,
             "#0d0887"
            ],
            [
             0.1111111111111111,
             "#46039f"
            ],
            [
             0.2222222222222222,
             "#7201a8"
            ],
            [
             0.3333333333333333,
             "#9c179e"
            ],
            [
             0.4444444444444444,
             "#bd3786"
            ],
            [
             0.5555555555555556,
             "#d8576b"
            ],
            [
             0.6666666666666666,
             "#ed7953"
            ],
            [
             0.7777777777777778,
             "#fb9f3a"
            ],
            [
             0.8888888888888888,
             "#fdca26"
            ],
            [
             1,
             "#f0f921"
            ]
           ],
           "sequentialminus": [
            [
             0,
             "#0d0887"
            ],
            [
             0.1111111111111111,
             "#46039f"
            ],
            [
             0.2222222222222222,
             "#7201a8"
            ],
            [
             0.3333333333333333,
             "#9c179e"
            ],
            [
             0.4444444444444444,
             "#bd3786"
            ],
            [
             0.5555555555555556,
             "#d8576b"
            ],
            [
             0.6666666666666666,
             "#ed7953"
            ],
            [
             0.7777777777777778,
             "#fb9f3a"
            ],
            [
             0.8888888888888888,
             "#fdca26"
            ],
            [
             1,
             "#f0f921"
            ]
           ]
          },
          "colorway": [
           "#636efa",
           "#EF553B",
           "#00cc96",
           "#ab63fa",
           "#FFA15A",
           "#19d3f3",
           "#FF6692",
           "#B6E880",
           "#FF97FF",
           "#FECB52"
          ],
          "font": {
           "color": "#2a3f5f"
          },
          "geo": {
           "bgcolor": "white",
           "lakecolor": "white",
           "landcolor": "#E5ECF6",
           "showlakes": true,
           "showland": true,
           "subunitcolor": "white"
          },
          "hoverlabel": {
           "align": "left"
          },
          "hovermode": "closest",
          "mapbox": {
           "style": "light"
          },
          "paper_bgcolor": "white",
          "plot_bgcolor": "#E5ECF6",
          "polar": {
           "angularaxis": {
            "gridcolor": "white",
            "linecolor": "white",
            "ticks": ""
           },
           "bgcolor": "#E5ECF6",
           "radialaxis": {
            "gridcolor": "white",
            "linecolor": "white",
            "ticks": ""
           }
          },
          "scene": {
           "xaxis": {
            "backgroundcolor": "#E5ECF6",
            "gridcolor": "white",
            "gridwidth": 2,
            "linecolor": "white",
            "showbackground": true,
            "ticks": "",
            "zerolinecolor": "white"
           },
           "yaxis": {
            "backgroundcolor": "#E5ECF6",
            "gridcolor": "white",
            "gridwidth": 2,
            "linecolor": "white",
            "showbackground": true,
            "ticks": "",
            "zerolinecolor": "white"
           },
           "zaxis": {
            "backgroundcolor": "#E5ECF6",
            "gridcolor": "white",
            "gridwidth": 2,
            "linecolor": "white",
            "showbackground": true,
            "ticks": "",
            "zerolinecolor": "white"
           }
          },
          "shapedefaults": {
           "line": {
            "color": "#2a3f5f"
           }
          },
          "ternary": {
           "aaxis": {
            "gridcolor": "white",
            "linecolor": "white",
            "ticks": ""
           },
           "baxis": {
            "gridcolor": "white",
            "linecolor": "white",
            "ticks": ""
           },
           "bgcolor": "#E5ECF6",
           "caxis": {
            "gridcolor": "white",
            "linecolor": "white",
            "ticks": ""
           }
          },
          "title": {
           "x": 0.05
          },
          "xaxis": {
           "automargin": true,
           "gridcolor": "white",
           "linecolor": "white",
           "ticks": "",
           "title": {
            "standoff": 15
           },
           "zerolinecolor": "white",
           "zerolinewidth": 2
          },
          "yaxis": {
           "automargin": true,
           "gridcolor": "white",
           "linecolor": "white",
           "ticks": "",
           "title": {
            "standoff": 15
           },
           "zerolinecolor": "white",
           "zerolinewidth": 2
          }
         }
        }
       }
      },
      "text/html": [
       "<div>                            <div id=\"3644f487-9eb3-4acd-be0e-b4f29d28af4c\" class=\"plotly-graph-div\" style=\"height:525px; width:100%;\"></div>            <script type=\"text/javascript\">                require([\"plotly\"], function(Plotly) {                    window.PLOTLYENV=window.PLOTLYENV || {};                                    if (document.getElementById(\"3644f487-9eb3-4acd-be0e-b4f29d28af4c\")) {                    Plotly.newPlot(                        \"3644f487-9eb3-4acd-be0e-b4f29d28af4c\",                        [{\"hovertemplate\":\"label=basic<br>PCA_1=%{x}<br>PCA_2=%{y}<br>PCA_3=%{z}<extra></extra>\",\"legendgroup\":\"basic\",\"marker\":{\"color\":\"#636efa\",\"symbol\":\"circle\"},\"mode\":\"markers\",\"name\":\"basic\",\"scene\":\"scene\",\"showlegend\":true,\"type\":\"scatter3d\",\"x\":[-0.2661572628173499,0.8152328287311084,0.48636640110558665,-0.28061903338599203,-0.32722821642568306,-0.34546185721921496,-0.3439070446038285,-0.2661572628173499,-0.3675841915772479,-0.412794094022436,-0.23876028999320445,-0.34337041007335417,-0.2732324647321084,-0.36211711715172845,-0.3395683964905677,-0.2778631845919304,1.0809152545472451,-0.2894986967414511,-0.2661572628173499,-0.36037171602940665,-0.2661572628173499,0.07630489748446853,-0.2598842446636198,-0.3401756176052713,1.1035715527125263,-0.3061831117802649,1.110536062151056,0.21719290788917162,0.4670159978664031,-0.2661572628173499,-0.29438072272517457,0.43532583228026994,-0.2661572628173499,1.1544947215849348,-0.2661572628173499,-0.2714511979897808,-0.30670167507444507,-0.16965111203486707,-0.2753987005759215,-0.28394793146834957,-0.28031476934152766,-0.0945653724658094,-0.2728224550293019,-0.2682879840889643,-0.30010553732200806,-0.2972511420483309,-0.2661572628173499,-0.2689064928570791,1.103691378389924,-0.2789904032705393,-0.26108616135960966,0.03654305872871677,0.1772030316765753,-0.27397215903227023,-0.2706229177973044,-0.13190311979538538,-0.33117765894264617,0.8992626682429872,-0.2661572628173499,0.14005291465904338,-0.24902344233681062,0.1587266575837839,-0.3471276625272795,-0.2850432620034074,-0.26627708849474757,-0.2758762063707838,-0.27743309744109923,0.486246575428189,-0.2666353136097153,0.4151237735790124,0.9714818968149199,1.002709561837703,-0.31332523593188993,-0.3272518756471069,-0.3163088726166097,-0.27611298308600846,0.4862161483684491,-0.24822370449506834,-0.29907391521104437,0.41565795143302836,-0.2679960619267429,-0.33874442130825216,-0.287710573559012,0.9347651481038105,0.5368968640832078,0.8347355259869861,-0.30183189619834355,-0.29884733468052493,-0.3130736243490508,-0.280367067129668,1.103691378389924,-0.37563484258964025,-0.27235792178571705,-0.2842387873930479,-0.11577235571016024,0.48636640110558665,-0.29724626062706466,0.40084149853928147,-0.34336874832102543,-0.2863367154959604,-0.2661572628173499,-0.3062777190890163,-0.08124381384342436,-0.3445413317299998,1.103691378389924,-0.3231537206634597,-0.2883316887302223,-0.20364627342963187,-0.36111283008401757,-0.4469591865730371,-0.2918130329096428,-0.3136462615461613,-0.12159763224661732,-0.30424414233427616,0.39830891173608585,-0.28246631471473527,-0.2775414597366895,0.8832554463431989,-0.1733341799155502,-0.2686664909129057,-0.2843940938233818,-0.35443670372228836,-0.3777021670583299,1.103691378389924,0.2874288171495282,-0.40741771486402,0.42786482086148064,-0.29911981324641335,-0.2661572628173499,0.17841211276728816,-0.26627708849474757,0.778036987571563,-0.30026658030279885,-0.014474032129623154,-0.41228109334661717,0.4305344640778525,-0.33747605165918776,0.4564063270875354,-0.3041030308599697,-0.2661572628173499,-0.26627708849474757,-0.2660247705778595,-0.2661572628173499,-0.2774840690852634,-0.2943430360629555,-0.2252227369635809,1.0397584198488667,-0.3041167465604933,-0.1931913790093118,1.1022251497128814,-0.29435694684409824,-0.37138760263017057,0.4444061402945044,-0.3383013816673543,0.48468926896743963,-0.2982475154516868,-0.3214062050314446,-0.3021109956123335,-0.27844425371213144,-0.43524673878146336,-0.33338710701842333,1.0177501826270752,0.9347924713580128,-0.26627708849474757,1.103691378389924,-0.2661572628173499,-0.29741684767703125,-0.2660247705778595,-0.15360182626187752,0.3401265449225405,-0.19951783520236563,0.7611348789871701,-0.30616679396910845,-0.2854941230539847,1.103691378389924,-0.21934564263231632,0.17258319532587163,-0.27019495919505876,0.3080371254304772,-0.3070997999797847,-0.3099206816209038,-0.2950637909015184,-0.3097129894892411,-0.2661572628173499,0.486246575428189,0.48636640110558665,-0.2817603694930746,0.8516387821519646,-0.27733053451441175,-0.2661572628173499,-0.26627708849474757,-0.4204459729827821,-0.19059338891524683,-0.2955212296340722,-0.37599461315286126,-0.026217625933343276,0.486246575428189,-0.3904133441074842,0.8443716046340358,-0.2642318723858032],\"y\":[-0.3051389357587118,-0.06007032439974588,-0.0903204558397109,-0.24038111506993282,-0.015932898382139307,0.05436486589145408,0.04495637978671065,-0.3051389357587118,0.2496989987369256,0.33026153973086314,-0.29965210560128513,0.02715450237697945,-0.2771138175074462,0.1798791765467524,0.06703103610193609,-0.2499693660714086,-0.02700665802655602,-0.16048043439033788,-0.3051389357587118,0.18645886075626744,-0.3051389357587118,-0.23655355879087828,-0.26491842757210304,0.046565880789465386,-0.030161537874746576,-0.11869871958579897,0.11965295126866103,0.06018734895050314,-0.010102418839482404,-0.3051389357587118,-0.1497182637043261,0.035769842075393396,-0.3051389357587118,-0.023780376318610217,-0.3051389357587118,-0.2767503265242684,-0.12669966842382768,-0.04058931915572476,-0.24996443293837475,-0.23150130745134634,-0.23517394045067913,0.2364117407293796,-0.24630320324494664,-0.26301321193072247,-0.15905878885487326,-0.11730004142989234,-0.3051389357587118,-0.2827549766797631,-0.03079742788737783,-0.2460369086782097,-0.29222681523806615,-0.19810091364554652,-0.06111002962609295,-0.2726472139093424,-0.28657223755907213,-0.19005932690094074,-0.004482412579277634,-0.055541688238301634,-0.3051389357587118,0.04764013717839312,0.4626186419089757,0.09165426346346371,0.06380799818871843,-0.22661727462273562,-0.30450304574608056,-0.2095463314659542,-0.2592352417263721,-0.08968456582707965,-0.2971739664856957,-0.08098475614153838,0.039764802227670266,0.015511421231261426,-0.1092630067163625,0.014770144418448414,0.2331121934426306,-0.2618522864216289,-0.06274621841127231,-0.2716498514352679,-0.15153206938218008,0.31966336563964864,-0.2974938247353308,0.027953429532935593,-0.03172901365090042,-0.027887012129329137,0.16529201628728124,0.002028499025320077,-0.1354524688592349,-0.16937681282139422,-0.11424842104701621,-0.23307770820361426,-0.03079742788737783,0.1501115126873063,-0.2700647243117341,-0.22996201069546482,-0.2615393497622804,-0.0903204558397109,-0.11176335776658929,-0.11622723670841052,0.33532349957753604,-0.2219505870662069,-0.3051389357587118,-0.1386678562176801,0.30159943823485036,0.08663154148205594,-0.03079742788737783,-0.06858658771883513,-0.19729286941598623,-0.18615067361144577,0.1360513878310886,0.5410698718755546,-0.19875917227809442,-0.08149747412247901,-0.1581771303949662,-0.1380900675954561,-0.01160439006631722,-0.23756349847171637,-0.2579595071265173,-0.0557475749605832,-0.27365718599014355,-0.29621217745810297,-0.22334161796873725,0.13441908447943413,0.2598852740294499,-0.03079742788737783,0.6708968284743207,0.28743989814423504,0.27349496356391045,0.13812627609033382,-0.3051389357587118,-0.08488457247504741,-0.30450304574608056,-0.02853928353137415,-0.1472346616981586,0.005778376538244693,0.3301373056943912,-0.0952486678612858,-0.0001477916608607127,0.04407449975187646,-0.10712634061961655,-0.3051389357587118,-0.30450304574608056,-0.3058420445887459,-0.3051389357587118,-0.25814736634081475,-0.16289343128029302,-0.21799637715366932,-0.020771450533173717,-0.055170741567378154,-0.22280496875198583,0.02086466400953942,-0.18318299633749055,0.12940574440427338,-0.06366856865239692,0.016852252812804606,0.020135290152325253,-0.17191753232969872,-0.04092528317885785,-0.13648402901394419,2.114507611511708e-06,0.4689710905776137,0.042570927211875866,-0.004783916785476022,0.002298083900153115,-0.30450304574608056,-0.030797427887377833,-0.3051389357587118,-0.175172048361234,-0.3058420445887459,0.09563264767943676,-0.06881951207689563,-0.013189998490941532,-0.0714223055523896,-0.1264007712560433,-0.1692703494830221,-0.030797427887377833,-0.21198599287086195,0.1388082076810182,-0.28835154613653763,0.7187762990339072,-0.05668454859291081,-0.12318529340224282,-0.1406452466795603,-0.11137015891410937,-0.3051389357587118,-0.08968456582707965,-0.0903204558397109,-0.24053589642235002,-0.030086079478762535,-0.2523497432860761,-0.3051389357587118,-0.30450304574608056,0.41273537031648017,-0.2111510816586925,-0.14776226819007987,0.17775576121917852,0.13563320555666275,-0.08968456582707965,0.3328115214722552,-0.05207926198877057,0.007421198139046872],\"z\":[0.0021720859151515685,-0.12241937673615666,0.5459022535044735,-0.006207543529963177,-0.02397446478398819,-0.04211947774372429,-0.043459446074895984,0.0021720859151515685,0.009751699477799032,-0.10139154430132798,-0.0015509148876342556,-0.05285088894819669,-0.0033384777360947167,-0.01563006083618833,-0.010522884763966341,-0.00019266337043097909,-0.18296626647209321,-0.008442490890759576,0.002172085915151567,-0.003275053000255083,0.0021720859151515685,-0.044365424119670975,0.003202818109408966,-0.025883030607065833,-0.18374851416953286,-0.011995206432140488,-0.04210638446001787,0.4252791019323955,-0.11360321806226235,0.0021720859151515685,0.007282724159436421,0.5030917235038108,0.0021720859151515685,-0.34253871434452154,0.0021720859151515685,0.0023105356613722355,-0.024724624841392127,-0.031216256911907513,0.006074185934256111,-0.012942007387951131,-0.0019228896072787916,0.14131369146169392,-0.0008519140111998172,0.02438373111844788,-0.022651845149503445,0.01952305273167172,0.0021720859151515685,0.007685289206284679,-0.18397795422413862,-0.004186295811266868,0.005584105584213455,-0.03750353228892694,0.3330692266253618,-0.0043282430484959545,-0.0015423877783613137,0.11913158905794462,-0.029078321789713608,-0.1479154116659184,0.002172085915151567,0.3153062647969676,0.01585056876463882,0.30707517504220294,-0.04283315396503325,-0.013537042413663285,0.002401525969757332,0.00445481666988252,-0.006577711396555113,0.5461316935590793,0.006264218263708549,-0.04230505094694401,-0.11395174555203662,-0.18026662868850687,-0.036998977076756985,-0.001928643047158562,-0.16243029345291227,-0.004501604668933601,0.5642751070989717,-0.006880578904293092,-0.012832494472476976,0.6248416773459063,0.0006425967472345041,-0.03613597391857048,-0.007557328591097881,-0.22739826186447612,-0.1442246070650653,-0.16667878428809774,-0.012442712682465877,-0.025382989492334675,-0.03061662073954102,0.0006520333379012355,-0.18397795422413862,-0.08870033688060709,0.003632620836731894,-0.01286789090269956,0.11114755948762174,0.5459022535044735,0.021690916551585285,-0.23429931370983859,-0.04794581615615071,-0.014421510504549468,0.0021720859151515685,-0.030742871505179317,-0.1300121585554943,-0.014675794152836907,-0.18397795422413862,-0.04475763384212441,-0.004891418168229023,-0.027387138195885376,-0.04362583793503907,-0.08245031627288996,-0.018641615398815,-0.019691891363197055,-0.01994121133549173,-0.022229467963848497,0.5186788729469015,-0.0113310815627194,-0.007661040001969314,-0.16915467677247403,0.06961541042394681,0.0004902808098527956,-0.008742539829475489,-0.01749643994602238,-0.017036355597279288,-0.18397795422413862,0.664589409431678,-0.11082478520176142,0.6200082151657623,0.00626956738683731,0.0021720859151515685,0.3682043292022767,0.002401525969757333,-0.28533977610968764,-0.014114639493968894,-0.1294450431411596,-0.09985090167316976,0.1935189872356563,-0.05093799184845692,0.5582800965659201,0.0038135400796717456,0.0021720859151515685,0.002401525969757333,0.0019183921549849403,0.0021720859151515685,-0.006084460270870708,0.0015740919940769812,0.03022621493954126,-0.1655814624050808,0.03694747270939266,0.08860790053490612,-0.1530196374430731,-0.017535585401355833,-0.08380639573444715,0.5178594552499384,-0.04072145207477674,-0.15868259366457316,-0.024100391341901232,-0.018544717525952027,-0.013388951890918294,-0.18245475686497986,-0.08826057924240006,-0.004844288111128233,-0.1758498006538029,-0.17588201128732203,0.002401525969757333,-0.18397795422413862,0.0021720859151515685,-0.023829229939438538,0.0019183921549849403,-0.022148199743195818,0.1719098102016003,-0.0023423066590393606,-0.11841391083953037,-0.022283104918297287,5.543702529747144e-05,-0.18397795422413862,-0.00993738121757798,-0.03996790624379497,-0.0011864173827329948,0.6845720554271512,-0.0034232455205047718,-0.03422975628127459,0.011451546869140334,-0.024939393784678562,0.0021720859151515685,0.5461316935590793,0.5459022535044735,-0.010733840950703412,-0.1442662569399815,-0.0023583611412635866,0.0021720859151515685,0.002401525969757333,-0.07009719166431815,0.057011570573528986,0.0021672294201847972,-0.06726347804558715,-0.04961452014147331,0.5461316935590793,-0.015022413524896886,-0.1354613133786984,-0.010373565152415963]},{\"hovertemplate\":\"label=proof<br>PCA_1=%{x}<br>PCA_2=%{y}<br>PCA_3=%{z}<extra></extra>\",\"legendgroup\":\"proof\",\"marker\":{\"color\":\"#EF553B\",\"symbol\":\"diamond\"},\"mode\":\"markers\",\"name\":\"proof\",\"scene\":\"scene\",\"showlegend\":true,\"type\":\"scatter3d\",\"x\":[0.43349309705345584,-0.29071638456523136,0.675872739265631,0.3335207376750131,-0.3097567859702953,-0.32569790656088865,-0.31283776502954336,-0.31705819635119165,-0.3041748604850753,0.6459127808121864,0.8884905953032773,-0.36593495092463607,-0.24078509677148496,-0.12257202258615899,-0.17865592723706286,-0.2861161457389627,1.103691378389924,0.438349467545717,1.1035715527125263,-0.3230797406291735,1.0936103850564491,-0.3381830257655486,0.3500912277799571,0.852058686231069,-0.4264350796161717,-0.07065762074091902,1.103691378389924,-0.39306760651532097,-0.30728123415691594,-0.37145634695686963,-0.3461043343374242,-0.28902878132385956,-0.3292047853590562,-0.37569621203759407,0.2709858926284101,-0.3513710434231777,-0.31056771861811006,-0.302833012399218,-0.29598565850256287,-0.34564461766802224,-0.31192103326263576,-0.36647811844646816,-0.2679850070725017,-0.33920334324959284,0.9296807379360523,-0.28803897221912683,-0.3243518986632363,0.9326007387462183,-0.31773857972772424,-0.04473166348304889,-0.29909727854295753,-0.276186755826416,0.36579042481174373,0.4356645063448912,-0.07859572926890328,-0.37094248597137636,1.167349956030576,-0.3195229367795706,-0.30218310271501425,-0.31510659993733425,-0.2988916447654259,-0.28567045306806316,-0.32806729298830184,-0.30444845977682133,-0.3261479426717863,0.4259841323440005,0.8108055481913967,-0.32643555602812074,-0.2577692567546127,-0.3697200636059261,-0.27902885658310106,-0.37848333594637956,-0.3443244462161437,-0.3429490664447177,-0.334304394943361,0.48849613332949887,0.9725036876151826,-0.3052153664058681,-0.463231654697927,-0.2976062653214824,0.06449547827437375,-0.3210338626630833,1.103691378389924,1.164976005376071,-0.33113058899483505,-0.26757915873816485,0.46781926338467894,-0.31403921109270594,0.40250587941506005,-0.2980756145793071,0.8266404460008396,-0.39199022122817545,-0.2812660621661959,-0.3584931637557646,-0.2661572628173499,-0.4115763415496777,-0.29586033086943375,-0.2661572628173499,-0.2660247705778595,-0.2778023516109887,-0.41002295982942333,-0.3332468122821891,-0.2754582512699006,-0.34753801667411155,-0.26633225052130377,-0.22803536496698085,-0.2885096789451555,0.23318492265555912,-0.3220955596801855,-0.16458787051073837,-0.327355600864975,-0.29093834368032656,-0.3102973787812243,-0.3698803556363503,-0.011780125649390412,0.52483875005664,-0.2988320369328594,-0.2725212079380286,-0.3251524446163988,-0.26995811392084984,0.587837672453827,-0.35441331689978217,0.3214429026600129,-0.2660247705778595,0.38325698887018544,-0.2514810191053081,-0.4196255017135953,-0.2661572628173499,-0.3600756217054279,1.1747331472850429,-0.34080807423862275,1.0484481597505164,-0.41259570360736747,-0.29650057710629785,-0.2860026859628395,-0.2660247705778595,-0.30052649539559495,0.12114699576424104,-0.26137968098132264,0.2434798130765763,-0.3540764682868439,-0.4052151986564832,0.29296634228242296,1.103691378389924,-0.3393714290352768,-0.2671473854147154,0.37269273587201096,0.6540252472536524,-0.2876433570577249,-0.3144076028955343,-0.40291794657845575,-0.33352315504532337,-0.4036712166022806,-0.2981423912700801,-0.3061743793572582,0.39657486581058987,-0.3183619081650212,-0.3054596752215129,-0.31213473967775807,0.13427592544195616,-0.2920744246275939,-0.32239870913502006,0.42429815916673547,-0.33929495851943114,-0.3531112211191423,-0.3755658098262346,-0.28095559199467707,-0.3521865872562096,-0.28982950591314127,-0.29900071275070966,-0.29811519399462416,-0.305789665670665,-0.32129529652833017,0.3232950613824386,1.103691378389924,-0.055831515458954886,0.48636640110558665,-0.3624625756347888,-0.3753007956179764,1.1032111237737523,-0.2960926127160608,-0.31526553162072646,-0.2853061641885649,-0.28304355658336877,0.3461149611195645,-0.3167005044171172,1.1054492438771593,-0.3117353788284045,-0.2873276473004932,-0.3477472396263003,-0.2943165379735831,-0.2999530480705116,0.32965145366343734,-0.31455176681472385,-0.3026204692795188,0.37764112121836757,-0.3720252974600019,-0.23795921171808113,0.486246575428189,-0.2237474808040383],\"y\":[0.17831777956769707,-0.2027475172718688,0.20034741592145514,-0.059575322588598496,-0.08154962903974816,-0.002456485656874114,-0.06400137227397634,-0.07888339463254128,-0.07822062117708067,-0.08794382808099091,-0.005327458698668777,0.20656782944260804,0.348767907501207,0.08874093187706476,-0.09004937466202502,-0.21601014153260767,-0.03079742788737783,0.07900808168559868,-0.030161537874746572,-0.04830457727285206,-0.032235573266480425,0.048855118618625806,0.010144761172187579,-0.06314590152130814,0.4328882638522884,-0.23071069149797588,-0.030797427887377833,0.39021523001252895,-0.06255759937737879,0.22183392742490865,0.07379461005168898,-0.2043102406056608,-0.01538061014520399,0.20986707825075232,0.0032200282632419636,0.10323049034237497,0.23601980224912555,-0.15280569936632885,-0.16284015576702524,0.10972899578564779,-0.11630065767675946,0.18847561686170297,-0.28770504789868623,0.13359345554715857,-0.027697645762244386,-0.2141621145804773,0.0409585151326673,-0.06583540500924899,-0.044338871078811806,0.20000212555372962,-0.15467485686175925,-0.24936534228952492,0.0994583195605707,-0.07619894842958326,0.062010739890839224,0.17232180229090385,0.14071140817612102,-0.08610656746148516,0.12946984122572455,-0.07928018468737663,-0.12318692855844138,-0.16057138025164985,-0.03937555697819187,-0.13556070128710268,0.07535180330589615,0.2193224747844615,-0.017499951257518,-0.008897141594137672,-0.2066858870645972,0.19953063529301518,-0.25162315859504447,0.2005775665638952,0.05993858324840736,0.04849444156540846,0.010030086843645375,-0.04968772718402025,0.02750867661544888,0.3788395462327168,0.6096133869240443,-0.17450640904340164,0.10422149470258998,-0.018428666827633652,-0.03079742788737783,0.08473363010951994,-0.0003790334425437776,-0.3000804393883668,-0.07765914674929615,-0.10904827458361317,0.13065841909761955,-0.12729488937730696,-0.0017970442031737264,0.3744403368803494,-0.24232160684993087,0.1602761639244786,-0.3051389357587118,0.4077188566956529,-0.16517789355222404,-0.3051389357587118,-0.305842044588746,-0.2568094055828545,0.3596128181008515,-0.02894570834479008,-0.2525276185882452,0.026938284657289008,-0.3000913331246111,-0.2248113149229014,-0.18281371237743732,0.12728327721311503,-0.04614409330627992,0.3273455526725804,-0.018259257468981476,-0.18930256977353585,-0.0008769790439839193,0.12237932049992666,0.1818110800855931,0.30986491390829507,-0.12001156074686196,-0.27247630043848553,-0.025178346534401815,-0.2911866332107113,0.09046520922905996,0.1258508747987055,0.23193293772010118,-0.305842044588746,0.2660261807236648,-0.2103192766152444,0.5141449977787396,-0.3051389357587118,0.12594677502480056,0.24777503480370508,0.04471084886788694,0.049958114831192876,0.348565133859148,-0.031544967279198845,-0.21107463374609486,-0.305842044588746,-0.09648780928143498,-0.02125461033870582,-0.13327315117420857,-0.02104902874649292,0.08881603754439456,0.41125955471332365,0.1953516422426867,-0.03079742788737783,0.041576422074997885,-0.30102233751535284,0.07688697447727731,-0.037165807782175674,-0.19819478444775848,-0.08908488371092971,0.2634661966052536,-0.00786094991886373,0.2705942462720548,-0.1495432883209862,-0.13261472211922615,0.025977710234812428,-0.07526272544267604,-0.11915135416513867,-0.09662974752860513,0.3574590921572994,-0.19753630509084777,0.020624383008387967,-0.07497054830366913,-0.007532038870909062,0.248788840360101,0.14974517013246058,-0.24381242321033889,0.14150429259756273,-0.18868805320096285,-0.15224486865114545,-0.16190592297662423,-0.12323611013120306,0.05098280744462678,0.5006520578460759,-0.03079742788737783,0.035465939821372215,-0.09032045583971092,0.11911514574604905,0.23820614825253025,-0.01769922657399281,-0.1575163871493217,-0.046660485977435905,-0.1473369398612833,-0.23493138021053883,0.1355846438550095,-0.03843553194720872,-0.04012605536654972,-0.07621744996932005,-0.21711956542373265,0.07752723771786664,-0.164625235984142,-0.14049187536031393,-0.04667216020840701,-0.10411628541199487,-0.1351481031694628,0.4599118004146747,0.2313799631314007,-0.22584550693729732,-0.08968456582707965,-0.1559508465063916],\"z\":[0.5912101090653696,-0.017579910250482063,-0.11593797534966867,-0.07733224693132693,-0.003625120518343368,-0.00610976553936338,-0.0020447724109210206,-0.029180320000606188,0.02119401047023669,-0.10274555968732042,-0.118941811409466,-0.010845766777436644,0.04095726422344963,-0.01041089407282725,-0.03632164978614366,-0.00972742256017992,-0.18397795422413862,0.6055293118189431,-0.18374851416953286,-0.0310625744072883,-0.1827326303346875,-0.019628043686025817,0.37235845900945713,-0.13093640282331437,-0.0798206209481167,0.09489060193362645,-0.18397795422413862,0.014306497634203564,-0.023610039356423744,-0.021591181935803276,-0.03168553529784915,-0.013726879508799781,-0.03028231581198778,-0.04488660037113806,0.27099640546303866,-0.03107367720785927,-0.04537737860128578,-0.028698224346653152,-0.007862062944630547,-0.0037060722527593342,-0.03591298438094517,-0.02817456546647308,0.008413309655321766,0.00631627490814978,-0.11426823706892292,-0.01602883518306152,-0.05402601569488311,-0.16097811216713337,-0.008672530076109275,0.19814090723698227,-0.014886250629361622,-0.004231650678841404,0.5283780438588503,0.5085649139115095,0.15820348535087647,-0.056069989223911106,-0.16096906893084803,-0.041451148390886275,-0.013889743946906152,-0.022851030676379353,0.008975342324648281,0.007010649444950555,-0.04246997731835294,-0.020384084922025005,0.04642051277982625,0.6022891958243237,-0.12463453742534156,-0.015477453240108258,0.0005161657739891248,-0.03259266529090059,-0.008534338260267879,-0.06173361915262533,-0.0337128984155025,-0.03713894584822654,-0.02710286943068297,-0.0914384714501609,-0.1758283752967941,-0.010568069566084127,-0.0943916175462618,-0.023953971981109205,0.27325293810815854,-0.0008816376177239815,-0.18397795422413862,-0.2135759712551479,-0.026890424663593572,0.0012190630221489314,0.5316920332333175,-0.03685157479508917,0.5702065327011782,0.008122346451565681,-0.10015210514698251,-0.03921253641063275,-0.010395216747900324,-0.01698516482128121,0.002172085915151567,-0.04195270608806551,-0.009817248268261648,0.002172085915151567,0.0019183921549849393,-0.00712459272799188,-0.06974930840300965,-0.05289383366439426,0.0043628882975220995,-0.06307764993252558,0.00533403340740484,0.028009297101379508,0.005882984209269381,-0.027572114852113954,-0.02517841464625112,-0.09003108196971779,-0.026056319561799195,-0.008992539274306693,-0.012887818286536134,-0.08258919476819014,-0.07949549464143953,1.0209735928002872,0.009568461018098117,0.0011702757924347607,-0.021143860048408087,0.0002607781816925429,-0.2927958515488972,-0.024853063043068124,0.5463964922643934,0.0019183921549849393,0.6012941534120716,-0.0016020633866559177,-0.12678905221915565,0.002172085915151567,-0.04386507401127101,-0.04757461121369787,-0.03261107271817086,-0.09138288926984175,-0.08790598479278561,-0.011268472718359826,-0.024973609518883905,0.0019183921549849393,-0.0332332228775703,0.3067309909619172,-0.02166896222864159,0.3773864817062223,-0.0487020192378063,-0.016446900371491633,-0.13109429333077646,-0.18397795422413862,-0.028885220565876737,0.001348514824734677,-0.09235789556394611,-0.13548508609769802,-0.0029111517215805022,-0.02635494806712542,-0.11158367094868013,-0.03905430128229981,-0.10903167156598388,-0.007910552574724571,-0.026411600233541895,-0.1323592329046896,-0.03154881506727226,-0.012678014845268194,-0.02356603187201872,-0.10039398331652505,-0.01974937105717347,0.021311708879459688,0.16463997119794463,-0.05655367789595016,0.06473291856419201,-0.08883251957591379,-0.010083137724455063,-0.00760409512372403,-0.002971231027599667,-0.013428523362239759,-0.017241121444571374,-0.01833167561646211,-0.030655026219821708,0.6181233440431875,-0.18397795422413862,-0.07092083337051654,0.5459022535044735,-0.055645082411573094,-0.023049584219435097,-0.17669962026579905,-0.006099197766721155,0.0017961215927340156,-0.006683568415092117,-0.011873713470686095,-0.11316571055033274,-0.02857023952732088,-0.1873438834818752,-0.00531145951069004,-0.015437164373367274,-0.035024496400931,-0.0033579781971844395,-0.008344585537411903,0.43049593112622137,-0.03803189971095325,-0.013470754682694309,0.6558764353866979,-0.01552225727744343,-0.01433371789962997,0.5461316935590793,0.05007885997890003]},{\"hovertemplate\":\"label=theorem<br>PCA_1=%{x}<br>PCA_2=%{y}<br>PCA_3=%{z}<extra></extra>\",\"legendgroup\":\"theorem\",\"marker\":{\"color\":\"#00cc96\",\"symbol\":\"square\"},\"mode\":\"markers\",\"name\":\"theorem\",\"scene\":\"scene\",\"showlegend\":true,\"type\":\"scatter3d\",\"x\":[-0.31667467501972923,-0.2970463004144905,-0.34889075938598063,-0.48003714045498064,-0.42229080200886804,0.34116424452405125,-0.34814261529631785,0.742806675585658,0.8596978279675264,0.38535994616905006,-0.475028125288857,-0.35133468190772077,-0.20820546678433,0.03165884972623305,0.027801622136012123,1.1158509138066153,-0.41434522615666614,-0.3210743286847556,-0.3180362689945004,0.13295875189864445,-0.33994605606986444,-0.28748939036401305,-0.45044708410175516,0.44693113538134693,-0.3424739189909991,0.627239007887712,0.7612292180881054,-0.29274540369193097,-0.3159372296486338,-0.40278711883963364,-0.41826752891847624,-0.39647082158731867,-0.47210250932324843,-0.20781584481447168,1.103691378389924,-0.4779211905777784,-0.38025728632702266,-0.3959852925860881,-0.3084068118245022,-0.3461855980821172,-0.32825432519001646,-0.42232255072617014,0.005440356594043422,-0.35978856149767596,-0.3398764719239195,-0.31868550337709267,0.9442895777436769,-0.25004324222875896,-0.40975020599661244,-0.40457447094842514,-0.43369850736349513,-0.4648453567534747,-0.37440820413202786,-0.3004598068568238,-0.2832583204516768,-0.4139322464356642,-0.3569615539797317,0.4611075455648616,-0.2705725543447773,0.6273982427502913,-0.34748294258394247,0.7365403190193602,0.3093585107774023,-0.3484823063618779,0.8553400410940155,-0.26937370331173704,-0.2875735790655131,-0.39121594276722294,0.6914790252447636,-0.44372291347790954,-0.3182596454580533,0.7525137737920767,0.014537189220291517,-0.41636980047660427,0.2850881627253792,-0.3244010607687828,0.9491161472766463,0.18322964563693575,-0.4849743568351193,0.9079987153603133,0.19194140290726866,-0.1935314829808891,0.43875404761151143,1.103691378389924,0.025242792624769684,-0.046662805166528064,0.8026929272155581,-0.2660247705778595,-0.2271858686592831,-0.4266139977211267,-0.24704004100685237,-0.3836558472051933,-0.24797138018813067,-0.29852348616279706,-0.11124641087307283,-0.30796987703004214,0.37420571233292826,0.48636640110558665,0.9015419938919211,-0.3744453944896219,-0.4297225148221392,0.8968477006819903,-0.47661480775864196,0.9599645998407051,0.43325005153428875,0.6743683768020259,-0.12347779098655673,-0.36357538275774187,0.4610162905720844,-0.3656177645497502,0.3368495466280169,-0.4164003808861215,-0.44031591612340654,0.7606436480772376,-0.21577994366672393,-0.3347129947074793,-0.2294112835556576,-0.34355172518764765,-0.48734451387175737,-0.29891171724779875,0.518042382672428,0.2988971150675809,1.1035715527125263,-0.48509418251251696,-0.41926686906367666,-0.40244322047451997,-0.3984499373303079,0.3000718319025956,0.378108897081181,0.580229766172843,-0.2405642437235742,-0.32397441637926744,-0.41415115225861243,-0.4188204905228753,-0.46771566656765806,0.05553238825649072,-0.33002224159048,0.8198605548524611,-0.47166615494256114,-0.4099965526683137,-0.33616530933391053,0.8780866765577726,-0.3385223425351512,-0.2732720844825112,-0.2581419346232251,-0.31743366466763734,-0.4447812674220423,-0.27778383013439045,-0.3283617877919989,-0.32743193662369785,-0.3759988994391096,-0.21721589974992578,-0.28235624704521195,-0.38922498457530974,-0.024537823911677754,-0.1337698362424178,0.9551577965620981,0.4764535448602736,-0.34883888876559194,-0.11138846065237536,0.6709316023653266,0.7119323048738451,-0.31831412525055175,-0.35415745338849547,-0.2344805812195609,-0.4000706427234229,-0.28317225454923217,0.9567431162901833,-0.4848418645956289,-0.43102620137230596,-0.37012159175370424,-0.405775534897872,0.819595686897037,-0.27619552584253915,-0.388653515964813,-0.2796012851694452,-0.2891477048766658,0.18800169099495873,0.21489599340642332,-0.22624236061615163,-0.3626420590881641,-0.3193788321297704,-0.32352759117332025,-0.08792774870625612,-0.3289064556265349,0.4633725703743821,-0.2661572628173499,0.059202206971152714,0.16422113979279943,-0.17528899282357116,-0.2746668017044002,-0.3770671142978983,-0.46779005480664887,0.25273954767294726,-0.3714027900422619,0.8837088496318669,1.103691378389924,-0.29736891586780156,-0.25510257733484676,1.0429992531137702],\"y\":[0.15551471195034014,-0.11385697844174221,0.3649468398444982,0.5837820068679536,0.44309373703599075,0.297806240671772,0.33193899396442444,0.07664489319732477,0.042641041557038774,0.1916061754975501,0.563276175488072,0.28170611733759493,0.3998026432912137,-0.0426098746574837,0.21034211810723727,-0.02929326693850353,0.4282505852435239,0.07280949908057703,-0.050754966872327424,0.529378490535342,0.36072030201603933,0.30731206601407807,0.5208098535470542,0.09376779094269862,0.37497007848505715,-0.059057241028808216,-0.0993828048552113,0.41185686216910194,0.5165653663580323,0.30970853869143544,0.38755808614544485,0.5081495181566332,0.5611681642204873,0.24884473840734675,-0.030797427887377833,0.5748474629440914,0.21050653885175113,0.2774174776768389,-0.07463655829879572,0.39601416231541364,0.4080636850926525,0.6012357664604296,0.21184530110626756,0.37186706074586845,0.4988369777911651,-0.06722097054403363,-0.05627867267736394,0.2897437440445555,0.3671480573997644,0.5028929647478914,0.44786424575774536,0.5491424942730514,0.33348397552271986,0.4895249682183012,0.1055109177491643,0.45482302762706367,0.1805267240284049,0.389620159782368,-0.18525450808510743,0.08071567769334212,0.09331641633866684,-0.02202130172969414,0.28691592406812755,0.06596529431962056,0.04619779743306663,0.2601053073937862,-0.1874178213261993,0.39817842792081093,0.11730463883214536,0.505891156821434,0.20841682937774775,0.01755876886921927,-0.035721976261381974,0.45972765711535096,-0.02655571439554188,0.3196400153924863,-0.05284899036695105,-0.18776339460391087,0.604629276023633,-0.06998907186899697,0.23046746436493426,0.2790022832297391,0.011725031057090355,-0.030797427887377833,0.37913842725188396,-0.090354783912639,0.09106726088939573,-0.305842044588746,-0.1669643911093761,0.5396851396600478,-0.2602529118929859,0.45697032618375655,-0.2207830378837211,0.2498447107977093,-0.25625927794877473,0.4132019999705788,0.056382307861168615,-0.0903204558397109,-0.013468043848726265,0.1759408362563179,0.40851860669600604,-0.05988579500024845,0.6023860856727484,0.020361575438922863,0.3034003959587147,0.039037338093260314,0.2955902928849618,0.1776339875102431,0.08902156867361716,0.3421362529709265,0.035559755329675126,0.46731826189912046,0.4387106250463873,0.021526411935842364,0.22097726670964174,0.15146894748566284,-0.0625979761030378,0.3793105396441201,0.6691436492993798,-0.12481248347922595,0.07357210502925414,0.340086075705792,-0.030161537874746576,0.6052651660362642,0.40196845573162576,0.4072853570195475,0.31194528326683735,0.21324144725580396,0.05634597658587367,-0.05362897004710047,0.5068713215757852,-0.004756948358500674,0.45160518361539137,0.5502101104629599,0.5527498725933497,-0.13921893725013212,0.4718607821136906,0.0030217828849124547,0.6001927274376763,0.36737239486743656,0.0440125587071107,-0.011681719468714942,0.02521230352639884,0.5205416055147961,0.5144899226204055,0.03655124981285336,0.5623344872545935,0.19306354371403092,0.1678183288578626,-0.010462094761756292,0.41038984120894756,0.21163576941314938,-0.024031512656000346,0.3510217248148156,-0.024803161825506997,0.5106566802450456,-0.020812651233720395,-0.02101044836908729,0.36110218613230266,0.28714407256065705,-0.09301256027720406,-0.042670943492488844,-0.05561733984406733,0.4090696292978507,-0.0820187303500918,0.5501137355335239,-0.08997924288645001,0.00945329962055123,0.6039261671935988,0.44698395184949724,0.15793747376899428,0.32889305899331117,-0.0716328766611701,-0.26086811529870346,0.4535049793480313,0.5684247298693502,-0.1883618081952669,-0.14438711944456986,0.10800368466188887,0.47647580784991567,0.46489078344324375,0.2412148641835299,-0.06821220211872871,0.4464084900585115,0.3922268270599478,-0.02051798465116025,-0.3051389357587118,0.019320721780881563,0.09424488439642986,-0.0705182280441492,-0.2087760985059912,0.33901236308012644,0.5794038225479008,0.2550416560331153,0.5281923115464578,0.10011420904703558,-0.030797427887377833,-0.17294481360698008,-0.2571831274190077,-0.022843486965699208],\"z\":[-0.10793643173673022,0.022010798742018656,-0.11239622815322539,-0.17564427837730187,-0.10731216726705592,0.6449876696334407,-0.10080965462975741,-0.17447400367528904,-0.2002543173321419,-0.26143789513551774,-0.17156397911324595,-0.09843895988833974,-0.1343209084162801,-0.217416609021066,0.06388215671641977,-0.33776497276829226,-0.03765417220056578,-0.05160538161347999,-0.02185220328075911,0.5439997737499463,-0.11687548878465774,0.0075441795808376825,-0.14360791054617442,-0.07532389051831313,-0.12683373214322496,-0.12459240726808053,-0.13744044418931603,-0.16256109244106523,-0.15950178717126404,-0.07751933838691753,-0.08038426770973689,-0.16614521369585716,-0.16157738923172152,-0.02855072015426335,-0.18397795422413862,-0.17384734408172595,-0.06161223148234087,-0.09392359528013669,-0.08249915736142928,-0.11143611566484829,-0.1381091522234635,-0.08439634608947753,-0.08044776090917377,-0.10247388627576559,-0.16961095211141666,-0.023438757364421733,-0.09740089618268628,-0.1313274745221872,-0.06468371891957511,-0.11638404204254521,-0.09656212815390708,-0.1433095722494108,-0.09507747861454828,-0.17113899128912693,0.04315814575161045,-0.05030251684496523,-0.0722306386209197,0.8773033466790073,0.06876355924153542,-0.13604242554345453,-0.01947354980498946,-0.16745599284239013,-0.18190753964555886,-0.04485770896203255,-0.08284288339984651,-0.05241300420513427,0.005458757446598982,-0.12473476994609291,-0.1795768871811848,-0.09481878476682304,-0.10702624656943109,-0.29484751326713743,-0.06776571739740092,-0.022145386976466154,-0.1009450638955155,-0.12219930815546022,-0.16488298791922187,-0.06441360187501925,-0.17983712506697916,-0.15738509134709713,-0.04820121247163691,-0.08541222293511064,-0.1189572634894496,-0.18397795422413862,-0.23109174811140323,-0.05713667130367678,-0.12089024234169701,0.0019183921549849393,-0.017189085486543413,-0.16621323651077358,-0.0095425476161476,-0.12137198828418631,-0.00768999569097886,-0.0962677692329936,-0.0017168189298828272,-0.10845750556773485,-0.07710481798819342,0.5459022535044735,-0.13014706940097343,-0.06300604471957533,-0.10840412989960814,-0.14881409722036854,-0.15002764316034817,-0.1761743020274835,0.6306230159846049,-0.03737348708310717,-0.1442634487019849,-0.021236796441033406,-0.12828128148355214,-0.06700749850468926,0.4857322666360311,-0.1444913906862262,-0.12824060206936075,-0.09186029521133852,-0.049575498764867165,-0.06706380425928347,-0.014278379105247548,-0.11292781580811434,-0.143994170413673,0.005370183552990537,-0.13888014810717803,-0.1054955668125047,-0.18374851416953286,-0.1796076850123734,-0.07446317141302243,-0.005604798531422351,-0.0598838816171605,0.4499769181070574,-0.08916486877080816,-0.09070787779352077,-0.18047417570654214,-0.004176529177496285,-0.13088434516826625,-0.1737788643843891,-0.1514962878694586,-0.0314708692882797,-0.15135927979534028,-0.12639261855538253,-0.13332255107089683,-0.07575058490722622,-0.013692218055756357,-0.26655467052075404,-0.03348875796624722,-0.18015979556666134,-0.1801992320348247,-0.0686741034666011,-0.05945423130208773,-0.07684557951349442,-0.09163056713532022,-0.01768107309129646,-0.14704043684723156,-0.06316833569505809,-0.0005431731924013541,-0.10324129926791517,0.17399134962020915,-0.15463994348071206,-0.09907096028230163,-0.10492266690129877,-0.12961300759737943,-0.06934210099673316,0.00941655812147883,-0.1143181364139898,-0.017350630277435865,-0.13069146849525634,-0.02689186134170741,-0.17549393625028387,-0.020211636942986708,-0.1544383922562792,-0.18009081882714578,-0.08851162550502567,-0.06055530278615419,-0.07465162176058275,-0.3011930293066295,-0.0026999248947593216,-0.08769132616063005,-0.11248308495106688,-0.0016516833604837329,-0.021259471390335655,0.3690123262488475,-0.13567832785041686,-0.11223232460097841,-0.06279159066229864,-0.04511713475476106,-0.18064289230166325,-0.19137960647478694,-0.055391528911842625,0.002172085915151567,-0.1990300056396322,-0.19549543011150924,-0.042544871226756424,0.04042564377572992,-0.12365046457147756,-0.13275256080822861,-0.08981577248361133,-0.11681727857241585,-0.06787414473124942,-0.18397795422413862,-0.021644236662395743,-0.009852400519411976,-0.16606571188986638]}],                        {\"legend\":{\"title\":{\"text\":\"label\"},\"tracegroupgap\":0},\"margin\":{\"t\":60},\"scene\":{\"domain\":{\"x\":[0.0,1.0],\"y\":[0.0,1.0]},\"xaxis\":{\"title\":{\"text\":\"PCA_1\"}},\"yaxis\":{\"title\":{\"text\":\"PCA_2\"}},\"zaxis\":{\"title\":{\"text\":\"PCA_3\"}}},\"template\":{\"data\":{\"bar\":[{\"error_x\":{\"color\":\"#2a3f5f\"},\"error_y\":{\"color\":\"#2a3f5f\"},\"marker\":{\"line\":{\"color\":\"#E5ECF6\",\"width\":0.5},\"pattern\":{\"fillmode\":\"overlay\",\"size\":10,\"solidity\":0.2}},\"type\":\"bar\"}],\"barpolar\":[{\"marker\":{\"line\":{\"color\":\"#E5ECF6\",\"width\":0.5},\"pattern\":{\"fillmode\":\"overlay\",\"size\":10,\"solidity\":0.2}},\"type\":\"barpolar\"}],\"carpet\":[{\"aaxis\":{\"endlinecolor\":\"#2a3f5f\",\"gridcolor\":\"white\",\"linecolor\":\"white\",\"minorgridcolor\":\"white\",\"startlinecolor\":\"#2a3f5f\"},\"baxis\":{\"endlinecolor\":\"#2a3f5f\",\"gridcolor\":\"white\",\"linecolor\":\"white\",\"minorgridcolor\":\"white\",\"startlinecolor\":\"#2a3f5f\"},\"type\":\"carpet\"}],\"choropleth\":[{\"colorbar\":{\"outlinewidth\":0,\"ticks\":\"\"},\"type\":\"choropleth\"}],\"contour\":[{\"colorbar\":{\"outlinewidth\":0,\"ticks\":\"\"},\"colorscale\":[[0.0,\"#0d0887\"],[0.1111111111111111,\"#46039f\"],[0.2222222222222222,\"#7201a8\"],[0.3333333333333333,\"#9c179e\"],[0.4444444444444444,\"#bd3786\"],[0.5555555555555556,\"#d8576b\"],[0.6666666666666666,\"#ed7953\"],[0.7777777777777778,\"#fb9f3a\"],[0.8888888888888888,\"#fdca26\"],[1.0,\"#f0f921\"]],\"type\":\"contour\"}],\"contourcarpet\":[{\"colorbar\":{\"outlinewidth\":0,\"ticks\":\"\"},\"type\":\"contourcarpet\"}],\"heatmap\":[{\"colorbar\":{\"outlinewidth\":0,\"ticks\":\"\"},\"colorscale\":[[0.0,\"#0d0887\"],[0.1111111111111111,\"#46039f\"],[0.2222222222222222,\"#7201a8\"],[0.3333333333333333,\"#9c179e\"],[0.4444444444444444,\"#bd3786\"],[0.5555555555555556,\"#d8576b\"],[0.6666666666666666,\"#ed7953\"],[0.7777777777777778,\"#fb9f3a\"],[0.8888888888888888,\"#fdca26\"],[1.0,\"#f0f921\"]],\"type\":\"heatmap\"}],\"heatmapgl\":[{\"colorbar\":{\"outlinewidth\":0,\"ticks\":\"\"},\"colorscale\":[[0.0,\"#0d0887\"],[0.1111111111111111,\"#46039f\"],[0.2222222222222222,\"#7201a8\"],[0.3333333333333333,\"#9c179e\"],[0.4444444444444444,\"#bd3786\"],[0.5555555555555556,\"#d8576b\"],[0.6666666666666666,\"#ed7953\"],[0.7777777777777778,\"#fb9f3a\"],[0.8888888888888888,\"#fdca26\"],[1.0,\"#f0f921\"]],\"type\":\"heatmapgl\"}],\"histogram\":[{\"marker\":{\"pattern\":{\"fillmode\":\"overlay\",\"size\":10,\"solidity\":0.2}},\"type\":\"histogram\"}],\"histogram2d\":[{\"colorbar\":{\"outlinewidth\":0,\"ticks\":\"\"},\"colorscale\":[[0.0,\"#0d0887\"],[0.1111111111111111,\"#46039f\"],[0.2222222222222222,\"#7201a8\"],[0.3333333333333333,\"#9c179e\"],[0.4444444444444444,\"#bd3786\"],[0.5555555555555556,\"#d8576b\"],[0.6666666666666666,\"#ed7953\"],[0.7777777777777778,\"#fb9f3a\"],[0.8888888888888888,\"#fdca26\"],[1.0,\"#f0f921\"]],\"type\":\"histogram2d\"}],\"histogram2dcontour\":[{\"colorbar\":{\"outlinewidth\":0,\"ticks\":\"\"},\"colorscale\":[[0.0,\"#0d0887\"],[0.1111111111111111,\"#46039f\"],[0.2222222222222222,\"#7201a8\"],[0.3333333333333333,\"#9c179e\"],[0.4444444444444444,\"#bd3786\"],[0.5555555555555556,\"#d8576b\"],[0.6666666666666666,\"#ed7953\"],[0.7777777777777778,\"#fb9f3a\"],[0.8888888888888888,\"#fdca26\"],[1.0,\"#f0f921\"]],\"type\":\"histogram2dcontour\"}],\"mesh3d\":[{\"colorbar\":{\"outlinewidth\":0,\"ticks\":\"\"},\"type\":\"mesh3d\"}],\"parcoords\":[{\"line\":{\"colorbar\":{\"outlinewidth\":0,\"ticks\":\"\"}},\"type\":\"parcoords\"}],\"pie\":[{\"automargin\":true,\"type\":\"pie\"}],\"scatter\":[{\"marker\":{\"colorbar\":{\"outlinewidth\":0,\"ticks\":\"\"}},\"type\":\"scatter\"}],\"scatter3d\":[{\"line\":{\"colorbar\":{\"outlinewidth\":0,\"ticks\":\"\"}},\"marker\":{\"colorbar\":{\"outlinewidth\":0,\"ticks\":\"\"}},\"type\":\"scatter3d\"}],\"scattercarpet\":[{\"marker\":{\"colorbar\":{\"outlinewidth\":0,\"ticks\":\"\"}},\"type\":\"scattercarpet\"}],\"scattergeo\":[{\"marker\":{\"colorbar\":{\"outlinewidth\":0,\"ticks\":\"\"}},\"type\":\"scattergeo\"}],\"scattergl\":[{\"marker\":{\"colorbar\":{\"outlinewidth\":0,\"ticks\":\"\"}},\"type\":\"scattergl\"}],\"scattermapbox\":[{\"marker\":{\"colorbar\":{\"outlinewidth\":0,\"ticks\":\"\"}},\"type\":\"scattermapbox\"}],\"scatterpolar\":[{\"marker\":{\"colorbar\":{\"outlinewidth\":0,\"ticks\":\"\"}},\"type\":\"scatterpolar\"}],\"scatterpolargl\":[{\"marker\":{\"colorbar\":{\"outlinewidth\":0,\"ticks\":\"\"}},\"type\":\"scatterpolargl\"}],\"scatterternary\":[{\"marker\":{\"colorbar\":{\"outlinewidth\":0,\"ticks\":\"\"}},\"type\":\"scatterternary\"}],\"surface\":[{\"colorbar\":{\"outlinewidth\":0,\"ticks\":\"\"},\"colorscale\":[[0.0,\"#0d0887\"],[0.1111111111111111,\"#46039f\"],[0.2222222222222222,\"#7201a8\"],[0.3333333333333333,\"#9c179e\"],[0.4444444444444444,\"#bd3786\"],[0.5555555555555556,\"#d8576b\"],[0.6666666666666666,\"#ed7953\"],[0.7777777777777778,\"#fb9f3a\"],[0.8888888888888888,\"#fdca26\"],[1.0,\"#f0f921\"]],\"type\":\"surface\"}],\"table\":[{\"cells\":{\"fill\":{\"color\":\"#EBF0F8\"},\"line\":{\"color\":\"white\"}},\"header\":{\"fill\":{\"color\":\"#C8D4E3\"},\"line\":{\"color\":\"white\"}},\"type\":\"table\"}]},\"layout\":{\"annotationdefaults\":{\"arrowcolor\":\"#2a3f5f\",\"arrowhead\":0,\"arrowwidth\":1},\"autotypenumbers\":\"strict\",\"coloraxis\":{\"colorbar\":{\"outlinewidth\":0,\"ticks\":\"\"}},\"colorscale\":{\"diverging\":[[0,\"#8e0152\"],[0.1,\"#c51b7d\"],[0.2,\"#de77ae\"],[0.3,\"#f1b6da\"],[0.4,\"#fde0ef\"],[0.5,\"#f7f7f7\"],[0.6,\"#e6f5d0\"],[0.7,\"#b8e186\"],[0.8,\"#7fbc41\"],[0.9,\"#4d9221\"],[1,\"#276419\"]],\"sequential\":[[0.0,\"#0d0887\"],[0.1111111111111111,\"#46039f\"],[0.2222222222222222,\"#7201a8\"],[0.3333333333333333,\"#9c179e\"],[0.4444444444444444,\"#bd3786\"],[0.5555555555555556,\"#d8576b\"],[0.6666666666666666,\"#ed7953\"],[0.7777777777777778,\"#fb9f3a\"],[0.8888888888888888,\"#fdca26\"],[1.0,\"#f0f921\"]],\"sequentialminus\":[[0.0,\"#0d0887\"],[0.1111111111111111,\"#46039f\"],[0.2222222222222222,\"#7201a8\"],[0.3333333333333333,\"#9c179e\"],[0.4444444444444444,\"#bd3786\"],[0.5555555555555556,\"#d8576b\"],[0.6666666666666666,\"#ed7953\"],[0.7777777777777778,\"#fb9f3a\"],[0.8888888888888888,\"#fdca26\"],[1.0,\"#f0f921\"]]},\"colorway\":[\"#636efa\",\"#EF553B\",\"#00cc96\",\"#ab63fa\",\"#FFA15A\",\"#19d3f3\",\"#FF6692\",\"#B6E880\",\"#FF97FF\",\"#FECB52\"],\"font\":{\"color\":\"#2a3f5f\"},\"geo\":{\"bgcolor\":\"white\",\"lakecolor\":\"white\",\"landcolor\":\"#E5ECF6\",\"showlakes\":true,\"showland\":true,\"subunitcolor\":\"white\"},\"hoverlabel\":{\"align\":\"left\"},\"hovermode\":\"closest\",\"mapbox\":{\"style\":\"light\"},\"paper_bgcolor\":\"white\",\"plot_bgcolor\":\"#E5ECF6\",\"polar\":{\"angularaxis\":{\"gridcolor\":\"white\",\"linecolor\":\"white\",\"ticks\":\"\"},\"bgcolor\":\"#E5ECF6\",\"radialaxis\":{\"gridcolor\":\"white\",\"linecolor\":\"white\",\"ticks\":\"\"}},\"scene\":{\"xaxis\":{\"backgroundcolor\":\"#E5ECF6\",\"gridcolor\":\"white\",\"gridwidth\":2,\"linecolor\":\"white\",\"showbackground\":true,\"ticks\":\"\",\"zerolinecolor\":\"white\"},\"yaxis\":{\"backgroundcolor\":\"#E5ECF6\",\"gridcolor\":\"white\",\"gridwidth\":2,\"linecolor\":\"white\",\"showbackground\":true,\"ticks\":\"\",\"zerolinecolor\":\"white\"},\"zaxis\":{\"backgroundcolor\":\"#E5ECF6\",\"gridcolor\":\"white\",\"gridwidth\":2,\"linecolor\":\"white\",\"showbackground\":true,\"ticks\":\"\",\"zerolinecolor\":\"white\"}},\"shapedefaults\":{\"line\":{\"color\":\"#2a3f5f\"}},\"ternary\":{\"aaxis\":{\"gridcolor\":\"white\",\"linecolor\":\"white\",\"ticks\":\"\"},\"baxis\":{\"gridcolor\":\"white\",\"linecolor\":\"white\",\"ticks\":\"\"},\"bgcolor\":\"#E5ECF6\",\"caxis\":{\"gridcolor\":\"white\",\"linecolor\":\"white\",\"ticks\":\"\"}},\"title\":{\"x\":0.05},\"xaxis\":{\"automargin\":true,\"gridcolor\":\"white\",\"linecolor\":\"white\",\"ticks\":\"\",\"title\":{\"standoff\":15},\"zerolinecolor\":\"white\",\"zerolinewidth\":2},\"yaxis\":{\"automargin\":true,\"gridcolor\":\"white\",\"linecolor\":\"white\",\"ticks\":\"\",\"title\":{\"standoff\":15},\"zerolinecolor\":\"white\",\"zerolinewidth\":2}}}},                        {\"responsive\": true}                    ).then(function(){\n",
       "                            \n",
       "var gd = document.getElementById('3644f487-9eb3-4acd-be0e-b4f29d28af4c');\n",
       "var x = new MutationObserver(function (mutations, observer) {{\n",
       "        var display = window.getComputedStyle(gd).display;\n",
       "        if (!display || display === 'none') {{\n",
       "            console.log([gd, 'removed!']);\n",
       "            Plotly.purge(gd);\n",
       "            observer.disconnect();\n",
       "        }}\n",
       "}});\n",
       "\n",
       "// Listen for the removal of the full notebook cells\n",
       "var notebookContainer = gd.closest('#notebook-container');\n",
       "if (notebookContainer) {{\n",
       "    x.observe(notebookContainer, {childList: true});\n",
       "}}\n",
       "\n",
       "// Listen for the clearing of the current output cell\n",
       "var outputEl = gd.closest('.output');\n",
       "if (outputEl) {{\n",
       "    x.observe(outputEl, {childList: true});\n",
       "}}\n",
       "\n",
       "                        })                };                });            </script>        </div>"
      ]
     },
     "metadata": {},
     "output_type": "display_data"
    }
   ],
   "source": [
    "pca_new = pd.concat([pca_df, labels], axis=1)\n",
    "\n",
    "import plotly.express as px\n",
    "\n",
    "fig = px.scatter_3d(\n",
    "    pca_new, x=\"PCA_1\", y=\"PCA_2\", z=\"PCA_3\", symbol=\"label\", color=\"label\"\n",
    ")\n",
    "fig.show()"
   ]
  },
  {
   "cell_type": "code",
   "execution_count": 40,
   "id": "c390dbdb",
   "metadata": {
    "scrolled": true
   },
   "outputs": [
    {
     "data": {
      "image/png": "[encoded data removed]",
      "text/plain": [
       "<Figure size 432x288 with 1 Axes>"
      ]
     },
     "metadata": {
      "needs_background": "light"
     },
     "output_type": "display_data"
    },
    {
     "data": {
      "text/plain": [
       "<Figure size 432x288 with 0 Axes>"
      ]
     },
     "metadata": {},
     "output_type": "display_data"
    }
   ],
   "source": [
    "import seaborn as sns\n",
    "import matplotlib.pyplot as plt\n",
    "\n",
    "sns.scatterplot(data=pca_new, x=\"PCA_1\", y=\"PCA_2\", hue=\"label\", style=\"label\")\n",
    "plt.grid()  # just add this\n",
    "plt.show()\n",
    "plt.savefig(\"pca.png\")"
   ]
  },
  {
   "cell_type": "code",
   "execution_count": 41,
   "id": "6427f12e",
   "metadata": {},
   "outputs": [],
   "source": [
    "# research the pca plot variation of variance explained in each dimension"
   ]
  },
  {
   "cell_type": "markdown",
   "id": "5a77ac17",
   "metadata": {},
   "source": [
    "# TSNE visualizations"
   ]
  },
  {
   "cell_type": "code",
   "execution_count": 42,
   "id": "5d9b730c",
   "metadata": {},
   "outputs": [],
   "source": [
    "# tsne sklearn"
   ]
  },
  {
   "cell_type": "code",
   "execution_count": 43,
   "id": "7a0e098c",
   "metadata": {},
   "outputs": [
    {
     "name": "stderr",
     "output_type": "stream",
     "text": [
      "/Users/mv96/miniforge3/envs/tensorflow/lib/python3.9/site-packages/sklearn/manifold/_t_sne.py:780: FutureWarning:\n",
      "\n",
      "The default initialization in TSNE will change from 'random' to 'pca' in 1.2.\n",
      "\n",
      "/Users/mv96/miniforge3/envs/tensorflow/lib/python3.9/site-packages/sklearn/manifold/_t_sne.py:790: FutureWarning:\n",
      "\n",
      "The default learning rate in TSNE will change from 200.0 to 'auto' in 1.2.\n",
      "\n"
     ]
    },
    {
     "name": "stdout",
     "output_type": "stream",
     "text": [
      "[t-SNE] Computing 97 nearest neighbors...\n",
      "[t-SNE] Indexed 600 samples in 0.001s...\n",
      "[t-SNE] Computed neighbors for 600 samples in 0.053s...\n",
      "[t-SNE] Computed conditional probabilities for sample 600 / 600\n",
      "[t-SNE] Mean sigma: 0.056076\n",
      "[t-SNE] Computed conditional probabilities in 0.013s\n",
      "[t-SNE] Iteration 50: error = 60.7456932, gradient norm = 0.3351333 (50 iterations in 0.173s)\n",
      "[t-SNE] Iteration 100: error = 62.9432220, gradient norm = 0.2982456 (50 iterations in 0.134s)\n",
      "[t-SNE] Iteration 150: error = 65.0897217, gradient norm = 0.2929205 (50 iterations in 0.150s)\n",
      "[t-SNE] Iteration 200: error = 67.7014771, gradient norm = 0.2940546 (50 iterations in 0.139s)\n",
      "[t-SNE] Iteration 250: error = 70.1132965, gradient norm = 0.2823880 (50 iterations in 0.151s)\n",
      "[t-SNE] KL divergence after 250 iterations with early exaggeration: 70.113297\n",
      "[t-SNE] Iteration 300: error = 1.4028237, gradient norm = 0.0009727 (50 iterations in 0.164s)\n",
      "[t-SNE] Iteration 350: error = 1.2224511, gradient norm = 0.0012243 (50 iterations in 0.170s)\n",
      "[t-SNE] Iteration 400: error = 1.0966651, gradient norm = 0.0008166 (50 iterations in 0.163s)\n",
      "[t-SNE] Iteration 450: error = 1.0406489, gradient norm = 0.0001374 (50 iterations in 0.182s)\n",
      "[t-SNE] Iteration 500: error = 1.0249009, gradient norm = 0.0004119 (50 iterations in 0.170s)\n",
      "[t-SNE] Iteration 550: error = 0.9369519, gradient norm = 0.0001647 (50 iterations in 0.187s)\n",
      "[t-SNE] Iteration 600: error = 0.8536876, gradient norm = 0.0001134 (50 iterations in 0.181s)\n",
      "[t-SNE] Iteration 650: error = 0.7678612, gradient norm = 0.0000862 (50 iterations in 0.192s)\n",
      "[t-SNE] Iteration 700: error = 0.7171742, gradient norm = 0.0002033 (50 iterations in 0.184s)\n",
      "[t-SNE] Iteration 750: error = 0.6705429, gradient norm = 0.0000696 (50 iterations in 0.185s)\n",
      "[t-SNE] Iteration 800: error = 0.6527915, gradient norm = 0.0000491 (50 iterations in 0.181s)\n",
      "[t-SNE] Iteration 850: error = 0.6394867, gradient norm = 0.0000405 (50 iterations in 0.187s)\n",
      "[t-SNE] Iteration 900: error = 0.6288905, gradient norm = 0.0000334 (50 iterations in 0.193s)\n",
      "[t-SNE] Iteration 950: error = 0.6204106, gradient norm = 0.0000214 (50 iterations in 0.193s)\n",
      "[t-SNE] Iteration 1000: error = 0.6110267, gradient norm = 0.0000175 (50 iterations in 0.187s)\n",
      "[t-SNE] Iteration 1050: error = 0.5948265, gradient norm = 0.0000196 (50 iterations in 0.185s)\n",
      "[t-SNE] Iteration 1100: error = 0.5802601, gradient norm = 0.0000152 (50 iterations in 0.185s)\n",
      "[t-SNE] Iteration 1150: error = 0.5673164, gradient norm = 0.0000247 (50 iterations in 0.184s)\n",
      "[t-SNE] Iteration 1200: error = 0.5601872, gradient norm = 0.0000152 (50 iterations in 0.179s)\n",
      "[t-SNE] Iteration 1250: error = 0.5546942, gradient norm = 0.0000164 (50 iterations in 0.180s)\n",
      "[t-SNE] Iteration 1300: error = 0.5438509, gradient norm = 0.0000243 (50 iterations in 0.183s)\n",
      "[t-SNE] Iteration 1350: error = 0.5372057, gradient norm = 0.0000122 (50 iterations in 0.175s)\n",
      "[t-SNE] Iteration 1400: error = 0.5345586, gradient norm = 0.0000092 (50 iterations in 0.169s)\n",
      "[t-SNE] Iteration 1450: error = 0.5328711, gradient norm = 0.0000081 (50 iterations in 0.170s)\n",
      "[t-SNE] Iteration 1500: error = 0.5312648, gradient norm = 0.0000074 (50 iterations in 0.157s)\n",
      "[t-SNE] Iteration 1550: error = 0.5294828, gradient norm = 0.0000068 (50 iterations in 0.232s)\n",
      "[t-SNE] Iteration 1600: error = 0.5277228, gradient norm = 0.0000064 (50 iterations in 0.237s)\n",
      "[t-SNE] Iteration 1650: error = 0.5254180, gradient norm = 0.0000067 (50 iterations in 0.238s)\n",
      "[t-SNE] Iteration 1700: error = 0.5221455, gradient norm = 0.0000068 (50 iterations in 0.176s)\n",
      "[t-SNE] Iteration 1750: error = 0.5183918, gradient norm = 0.0000070 (50 iterations in 0.196s)\n",
      "[t-SNE] Iteration 1800: error = 0.5125417, gradient norm = 0.0000101 (50 iterations in 0.212s)\n",
      "[t-SNE] Iteration 1850: error = 0.5077496, gradient norm = 0.0000070 (50 iterations in 0.212s)\n",
      "[t-SNE] Iteration 1900: error = 0.5022615, gradient norm = 0.0000063 (50 iterations in 0.206s)\n",
      "[t-SNE] Iteration 1950: error = 0.4950216, gradient norm = 0.0000063 (50 iterations in 0.210s)\n",
      "[t-SNE] Iteration 2000: error = 0.4831810, gradient norm = 0.0000070 (50 iterations in 0.203s)\n",
      "[t-SNE] Iteration 2050: error = 0.4688560, gradient norm = 0.0000084 (50 iterations in 0.186s)\n",
      "[t-SNE] Iteration 2100: error = 0.4603190, gradient norm = 0.0000118 (50 iterations in 0.221s)\n",
      "[t-SNE] Iteration 2150: error = 0.4551798, gradient norm = 0.0000084 (50 iterations in 0.183s)\n",
      "[t-SNE] Iteration 2200: error = 0.4528936, gradient norm = 0.0000076 (50 iterations in 0.183s)\n",
      "[t-SNE] Iteration 2250: error = 0.4500862, gradient norm = 0.0000070 (50 iterations in 0.185s)\n",
      "[t-SNE] Iteration 2300: error = 0.4477198, gradient norm = 0.0000057 (50 iterations in 0.185s)\n",
      "[t-SNE] Iteration 2350: error = 0.4459986, gradient norm = 0.0000050 (50 iterations in 0.180s)\n",
      "[t-SNE] Iteration 2400: error = 0.4439327, gradient norm = 0.0000047 (50 iterations in 0.187s)\n",
      "[t-SNE] Iteration 2450: error = 0.4399987, gradient norm = 0.0000074 (50 iterations in 0.185s)\n",
      "[t-SNE] Iteration 2500: error = 0.4341260, gradient norm = 0.0000085 (50 iterations in 0.179s)\n",
      "[t-SNE] Iteration 2550: error = 0.4234670, gradient norm = 0.0000118 (50 iterations in 0.187s)\n",
      "[t-SNE] Iteration 2600: error = 0.4182454, gradient norm = 0.0000092 (50 iterations in 0.179s)\n",
      "[t-SNE] Iteration 2650: error = 0.4156243, gradient norm = 0.0000064 (50 iterations in 0.183s)\n",
      "[t-SNE] Iteration 2700: error = 0.4142881, gradient norm = 0.0000045 (50 iterations in 0.196s)\n",
      "[t-SNE] Iteration 2750: error = 0.4133575, gradient norm = 0.0000042 (50 iterations in 0.179s)\n",
      "[t-SNE] Iteration 2800: error = 0.4125812, gradient norm = 0.0000039 (50 iterations in 0.174s)\n",
      "[t-SNE] Iteration 2850: error = 0.4123150, gradient norm = 0.0000037 (50 iterations in 0.191s)\n",
      "[t-SNE] Iteration 2900: error = 0.4120458, gradient norm = 0.0000030 (50 iterations in 0.187s)\n",
      "[t-SNE] Iteration 2950: error = 0.4119501, gradient norm = 0.0000028 (50 iterations in 0.185s)\n",
      "[t-SNE] Iteration 3000: error = 0.4117527, gradient norm = 0.0000026 (50 iterations in 0.193s)\n",
      "[t-SNE] Iteration 3050: error = 0.4118209, gradient norm = 0.0000025 (50 iterations in 0.191s)\n",
      "[t-SNE] Iteration 3100: error = 0.4118302, gradient norm = 0.0000024 (50 iterations in 0.183s)\n",
      "[t-SNE] Iteration 3150: error = 0.4118194, gradient norm = 0.0000023 (50 iterations in 0.189s)\n",
      "[t-SNE] Iteration 3200: error = 0.4117700, gradient norm = 0.0000022 (50 iterations in 0.186s)\n",
      "[t-SNE] Iteration 3250: error = 0.4117931, gradient norm = 0.0000022 (50 iterations in 0.184s)\n",
      "[t-SNE] Iteration 3300: error = 0.4117745, gradient norm = 0.0000021 (50 iterations in 0.191s)\n",
      "[t-SNE] Iteration 3350: error = 0.4117725, gradient norm = 0.0000020 (50 iterations in 0.189s)\n",
      "[t-SNE] Iteration 3350: did not make any progress during the last 300 episodes. Finished.\n",
      "[t-SNE] KL divergence after 3350 iterations: 0.411772\n",
      "execution time in sec:12.467010974884033\n",
      "(600, 3)\n"
     ]
    },
    {
     "data": {
      "text/plain": [
       "(600, 3)"
      ]
     },
     "execution_count": 43,
     "metadata": {},
     "output_type": "execute_result"
    }
   ],
   "source": [
    "from sklearn.manifold import TSNE\n",
    "import time\n",
    "\n",
    "tick = time.time()\n",
    "X_transformed = TSNE(\n",
    "    n_components=3, n_jobs=4, random_state=1, perplexity=32, n_iter=10000, verbose=4\n",
    ").fit_transform(X)\n",
    "tock = time.time()\n",
    "print(\"execution time in sec:{}\".format(tock - tick))\n",
    "\n",
    "labels = df_sample.iloc[:, -1].to_frame().reset_index(drop=True)\n",
    "print(X_transformed.shape)\n",
    "\n",
    "tsne_df = pd.DataFrame(X_transformed)\n",
    "tsne_df.shape"
   ]
  },
  {
   "cell_type": "code",
   "execution_count": 44,
   "id": "91c0976a",
   "metadata": {},
   "outputs": [
    {
     "data": {
      "text/plain": [
       "Index(['tsne_1', 'tsne_2', 'tsne_3', 'labels'], dtype='object')"
      ]
     },
     "execution_count": 44,
     "metadata": {},
     "output_type": "execute_result"
    }
   ],
   "source": [
    "tsne_new = pd.concat([tsne_df, labels], axis=1)\n",
    "tsne_new.columns = [\"tsne_1\", \"tsne_2\", \"tsne_3\", \"labels\"]\n",
    "tsne_new.columns"
   ]
  },
  {
   "cell_type": "code",
   "execution_count": 45,
   "id": "0f0b16b4",
   "metadata": {},
   "outputs": [
    {
     "data": {
      "text/html": [
       "<div>\n",
       "<style scoped>\n",
       "    .dataframe tbody tr th:only-of-type {\n",
       "        vertical-align: middle;\n",
       "    }\n",
       "\n",
       "    .dataframe tbody tr th {\n",
       "        vertical-align: top;\n",
       "    }\n",
       "\n",
       "    .dataframe thead th {\n",
       "        text-align: right;\n",
       "    }\n",
       "</style>\n",
       "<table border=\"1\" class=\"dataframe\">\n",
       "  <thead>\n",
       "    <tr style=\"text-align: right;\">\n",
       "      <th></th>\n",
       "      <th>tsne_1</th>\n",
       "      <th>tsne_2</th>\n",
       "      <th>tsne_3</th>\n",
       "      <th>labels</th>\n",
       "    </tr>\n",
       "  </thead>\n",
       "  <tbody>\n",
       "    <tr>\n",
       "      <th>0</th>\n",
       "      <td>29.679525</td>\n",
       "      <td>-74.493835</td>\n",
       "      <td>84.571518</td>\n",
       "      <td>basic</td>\n",
       "    </tr>\n",
       "    <tr>\n",
       "      <th>1</th>\n",
       "      <td>40.444981</td>\n",
       "      <td>42.695648</td>\n",
       "      <td>88.334610</td>\n",
       "      <td>basic</td>\n",
       "    </tr>\n",
       "    <tr>\n",
       "      <th>2</th>\n",
       "      <td>136.564026</td>\n",
       "      <td>35.907635</td>\n",
       "      <td>-35.894474</td>\n",
       "      <td>basic</td>\n",
       "    </tr>\n",
       "    <tr>\n",
       "      <th>3</th>\n",
       "      <td>-7.940131</td>\n",
       "      <td>-106.014542</td>\n",
       "      <td>19.414812</td>\n",
       "      <td>basic</td>\n",
       "    </tr>\n",
       "    <tr>\n",
       "      <th>4</th>\n",
       "      <td>-13.511067</td>\n",
       "      <td>-22.484493</td>\n",
       "      <td>-75.700455</td>\n",
       "      <td>basic</td>\n",
       "    </tr>\n",
       "    <tr>\n",
       "      <th>...</th>\n",
       "      <td>...</td>\n",
       "      <td>...</td>\n",
       "      <td>...</td>\n",
       "      <td>...</td>\n",
       "    </tr>\n",
       "    <tr>\n",
       "      <th>595</th>\n",
       "      <td>52.795376</td>\n",
       "      <td>6.959901</td>\n",
       "      <td>102.575523</td>\n",
       "      <td>theorem</td>\n",
       "    </tr>\n",
       "    <tr>\n",
       "      <th>596</th>\n",
       "      <td>-18.291021</td>\n",
       "      <td>50.223103</td>\n",
       "      <td>164.330750</td>\n",
       "      <td>theorem</td>\n",
       "    </tr>\n",
       "    <tr>\n",
       "      <th>597</th>\n",
       "      <td>-33.533897</td>\n",
       "      <td>-105.830383</td>\n",
       "      <td>-17.858829</td>\n",
       "      <td>theorem</td>\n",
       "    </tr>\n",
       "    <tr>\n",
       "      <th>598</th>\n",
       "      <td>39.894325</td>\n",
       "      <td>-112.751755</td>\n",
       "      <td>20.915508</td>\n",
       "      <td>theorem</td>\n",
       "    </tr>\n",
       "    <tr>\n",
       "      <th>599</th>\n",
       "      <td>8.444154</td>\n",
       "      <td>40.240162</td>\n",
       "      <td>127.493942</td>\n",
       "      <td>theorem</td>\n",
       "    </tr>\n",
       "  </tbody>\n",
       "</table>\n",
       "<p>600 rows × 4 columns</p>\n",
       "</div>"
      ],
      "text/plain": [
       "         tsne_1      tsne_2      tsne_3   labels\n",
       "0     29.679525  -74.493835   84.571518    basic\n",
       "1     40.444981   42.695648   88.334610    basic\n",
       "2    136.564026   35.907635  -35.894474    basic\n",
       "3     -7.940131 -106.014542   19.414812    basic\n",
       "4    -13.511067  -22.484493  -75.700455    basic\n",
       "..          ...         ...         ...      ...\n",
       "595   52.795376    6.959901  102.575523  theorem\n",
       "596  -18.291021   50.223103  164.330750  theorem\n",
       "597  -33.533897 -105.830383  -17.858829  theorem\n",
       "598   39.894325 -112.751755   20.915508  theorem\n",
       "599    8.444154   40.240162  127.493942  theorem\n",
       "\n",
       "[600 rows x 4 columns]"
      ]
     },
     "execution_count": 45,
     "metadata": {},
     "output_type": "execute_result"
    }
   ],
   "source": [
    "tsne_new"
   ]
  },
  {
   "cell_type": "code",
   "execution_count": 46,
   "id": "6f5dfe79",
   "metadata": {},
   "outputs": [
    {
     "data": {
      "image/png": "[encoded data removed]",
      "text/plain": [
       "<Figure size 432x288 with 1 Axes>"
      ]
     },
     "metadata": {
      "needs_background": "light"
     },
     "output_type": "display_data"
    }
   ],
   "source": [
    "sns.scatterplot(data=tsne_new, x=\"tsne_1\", y=\"tsne_2\", hue=\"labels\", style=\"labels\")\n",
    "plt.grid()  # just add this\n",
    "plt.show()"
   ]
  },
  {
   "cell_type": "code",
   "execution_count": 47,
   "id": "dc7f8d45",
   "metadata": {},
   "outputs": [
    {
     "data": {
      "application/vnd.plotly.v1+json": {
       "config": {
        "plotlyServerURL": "https://plot.ly"
       },
       "data": [
        {
         "hovertemplate": "label=basic<br>tsne_1=%{x}<br>tsne_2=%{y}<br>tsne_3=%{z}<extra></extra>",
         "legendgroup": "basic",
         "marker": {
          "color": "#636efa",
          "symbol": "circle"
         },
         "mode": "markers",
         "name": "basic",
         "scene": "scene",
         "showlegend": true,
         "type": "scatter3d",
         "x": [
          29.67952537536621,
          40.44498062133789,
          136.56402587890625,
          -7.940130710601807,
          -13.511067390441895,
          -55.833526611328125,
          -44.71146774291992,
          45.3758544921875,
          -55.96071243286133,
          -24.596981048583984,
          52.42421340942383,
          -64.70272064208984,
          51.323692321777344,
          -48.05900573730469,
          -86.83197784423828,
          50.322322845458984,
          -12.463507652282715,
          13.948773384094238,
          25.060462951660156,
          -59.156925201416016,
          43.99867630004883,
          59.46274948120117,
          -3.777705192565918,
          -95.32872009277344,
          6.4863457679748535,
          -120.46502685546875,
          16.296850204467773,
          95.70611572265625,
          70.17544555664062,
          38.68868637084961,
          -10.679110527038574,
          119.7801513671875,
          53.377532958984375,
          -51.26341247558594,
          58.800418853759766,
          4.48654842376709,
          -38.94261169433594,
          17.950550079345703,
          -17.963382720947266,
          3.404340982437134,
          -12.867179870605469,
          47.671234130859375,
          1.469902515411377,
          -21.42194938659668,
          -30.284711837768555,
          -23.66687774658203,
          24.022106170654297,
          -8.676167488098145,
          12.634746551513672,
          -14.363297462463379,
          43.42394256591797,
          49.35634231567383,
          97.73503875732422,
          19.786514282226562,
          25.780447006225586,
          42.28581619262695,
          -62.02085876464844,
          17.373008728027344,
          52.92203903198242,
          86.40298461914062,
          27.713186264038086,
          96.1598129272461,
          -30.689294815063477,
          -1.7088487148284912,
          7.897684097290039,
          -39.663089752197266,
          42.44499588012695,
          148.6583709716797,
          6.44732666015625,
          61.57966995239258,
          38.32151412963867,
          3.8417763710021973,
          -53.66560745239258,
          -19.713451385498047,
          -76.3428726196289,
          3.924583673477173,
          147.48516845703125,
          42.157371520996094,
          -24.749469757080078,
          116.47296905517578,
          36.99955749511719,
          -30.691682815551758,
          -52.38751220703125,
          -0.13384442031383514,
          45.08842468261719,
          22.49776840209961,
          -41.17499923706055,
          -15.22182846069336,
          -126.84272766113281,
          27.8319091796875,
          -30.451622009277344,
          -12.919909477233887,
          -7.598232746124268,
          13.758849143981934,
          48.73942565917969,
          133.4964599609375,
          -48.242462158203125,
          -66.09768676757812,
          -28.15145492553711,
          -18.464540481567383,
          54.16487503051758,
          -45.41044235229492,
          43.76206588745117,
          -91.14287567138672,
          -15.379068374633789,
          -61.556541442871094,
          -22.798938751220703,
          8.082377433776855,
          -39.922279357910156,
          -45.910369873046875,
          -29.407752990722656,
          -28.214988708496094,
          41.087669372558594,
          -9.564769744873047,
          124.11247253417969,
          -2.043126344680786,
          23.631664276123047,
          0.8439018726348877,
          42.37187194824219,
          60.936973571777344,
          -1.9400520324707031,
          -63.10340881347656,
          -49.27710723876953,
          -24.437744140625,
          94.24952697753906,
          -15.693479537963867,
          125.97259521484375,
          -33.91699981689453,
          40.287960052490234,
          83.322021484375,
          24.312421798706055,
          -56.58150100708008,
          -6.655426979064941,
          22.07769203186035,
          -12.17903995513916,
          106.8089828491211,
          -52.6151008605957,
          133.5782470703125,
          -113.449951171875,
          56.5720329284668,
          24.58462142944336,
          76.2530288696289,
          34.56045150756836,
          -11.615472793579102,
          -117.4586410522461,
          18.78289794921875,
          -3.3445723056793213,
          -36.55515670776367,
          -30.554931640625,
          9.61607837677002,
          -17.778120040893555,
          -89.08257293701172,
          141.41384887695312,
          -63.5225830078125,
          -52.18341827392578,
          -41.551910400390625,
          -48.087440490722656,
          -12.812687873840332,
          -79.07292175292969,
          -31.360692977905273,
          -31.65873146057129,
          -7.7823872566223145,
          8.19596004486084,
          13.700006484985352,
          -31.875099182128906,
          41.76912307739258,
          -14.495793342590332,
          74.91902160644531,
          7.722717761993408,
          73.30030059814453,
          -2.2208666801452637,
          37.01469039916992,
          -20.867101669311523,
          12.866744995117188,
          -27.166913986206055,
          23.768735885620117,
          37.989627838134766,
          24.917490005493164,
          103.60661315917969,
          -51.52357482910156,
          -39.75082015991211,
          -14.191447257995605,
          -32.44648742675781,
          27.59903335571289,
          136.0460968017578,
          150.94442749023438,
          -13.254606246948242,
          22.270944595336914,
          -8.496785163879395,
          34.72282028198242,
          14.420293807983398,
          -64.57579803466797,
          31.064725875854492,
          -48.754920959472656,
          -91.46185302734375,
          26.156763076782227,
          135.51100158691406,
          -60.722103118896484,
          14.222379684448242,
          -2.880768299102783
         ],
         "y": [
          -74.49383544921875,
          42.695648193359375,
          35.90763473510742,
          -106.01454162597656,
          -22.484493255615234,
          -5.681863307952881,
          -14.498886108398438,
          -89.49551391601562,
          55.170204162597656,
          90.76739501953125,
          -48.53960418701172,
          -22.219621658325195,
          -86.73976135253906,
          33.460575103759766,
          28.78923797607422,
          -72.51207733154297,
          19.172740936279297,
          -34.48223876953125,
          -91.6985855102539,
          35.74689483642578,
          -76.03099060058594,
          -22.598947525024414,
          -82.8391342163086,
          19.713665008544922,
          36.329811096191406,
          -8.844511985778809,
          5.81002140045166,
          -2.3474178314208984,
          31.72212028503418,
          -77.11802673339844,
          -31.321311950683594,
          26.684589385986328,
          -100.16796875,
          17.056140899658203,
          -67.81240844726562,
          -101.30111694335938,
          -82.39969635009766,
          -18.644664764404297,
          -85.38367462158203,
          -138.538818359375,
          -93.4013671875,
          24.835926055908203,
          -104.59219360351562,
          -68.61190795898438,
          -98.79650115966797,
          -26.0374755859375,
          -78.89446258544922,
          -95.54505157470703,
          52.82577133178711,
          -113.09141540527344,
          -102.50605773925781,
          -20.3276309967041,
          19.467933654785156,
          -110.60450744628906,
          -94.68195343017578,
          -55.19892120361328,
          -18.710060119628906,
          51.216224670410156,
          -101.25957489013672,
          20.860288619995117,
          81.08663940429688,
          33.03208923339844,
          -6.430910110473633,
          -122.12567901611328,
          -55.59965133666992,
          -93.29586029052734,
          -98.85415649414062,
          32.128456115722656,
          -96.4925308227539,
          15.919867515563965,
          20.17552375793457,
          59.98250961303711,
          -86.16780853271484,
          -0.6660003066062927,
          2.681553840637207,
          -120.53862762451172,
          5.621005058288574,
          -104.20846557617188,
          -61.873783111572266,
          23.29838752746582,
          -106.99327850341797,
          -19.40637969970703,
          -57.79722595214844,
          21.780118942260742,
          61.0332145690918,
          63.419132232666016,
          -68.46807098388672,
          -117.32745361328125,
          -12.587993621826172,
          -80.1608657836914,
          45.34731674194336,
          64.38721466064453,
          -108.41425323486328,
          -124.06609344482422,
          -61.473758697509766,
          40.8406867980957,
          -41.06002426147461,
          -11.420392990112305,
          80.68141174316406,
          -137.01133728027344,
          -68.60032653808594,
          -110.35289764404297,
          84.5146713256836,
          34.147274017333984,
          64.20235443115234,
          -72.32349395751953,
          -91.84567260742188,
          -69.9981689453125,
          20.235733032226562,
          114.6587142944336,
          -121.889404296875,
          -60.927127838134766,
          -37.358943939208984,
          -36.94123077392578,
          10.299005508422852,
          -135.9750518798828,
          -130.78201293945312,
          34.71428680419922,
          -49.62733840942383,
          -95.94252014160156,
          -105.57990264892578,
          25.595197677612305,
          49.122215270996094,
          28.830244064331055,
          -0.40097808837890625,
          93.03755950927734,
          -2.3635287284851074,
          30.505056381225586,
          -73.73182678222656,
          8.250593185424805,
          -60.39769744873047,
          -3.027399778366089,
          -73.86136627197266,
          12.23716926574707,
          85.56230926513672,
          -1.5482596158981323,
          -43.77435302734375,
          18.092817306518555,
          -1.9666411876678467,
          -81.32322692871094,
          -51.63523864746094,
          -76.65912628173828,
          -62.89813995361328,
          -135.96798706054688,
          -20.027875900268555,
          -64.64675903320312,
          29.865163803100586,
          4.834367275238037,
          -59.23569107055664,
          20.192167282104492,
          -107.41627502441406,
          28.914012908935547,
          15.799991607666016,
          -12.732294082641602,
          -3.5071427822113037,
          -116.57804870605469,
          -21.05014991760254,
          -58.466590881347656,
          -9.602127075195312,
          105.28670501708984,
          6.871074199676514,
          46.504581451416016,
          68.4926986694336,
          -71.65143585205078,
          59.0756721496582,
          -88.17366027832031,
          -104.1538314819336,
          -93.33253479003906,
          7.891567707061768,
          16.76821517944336,
          -0.5102456212043762,
          45.3912467956543,
          -83.24788665771484,
          -50.19391632080078,
          52.116546630859375,
          -83.9244155883789,
          21.65289878845215,
          -106.86907196044922,
          8.222349166870117,
          -21.57540512084961,
          -96.87307739257812,
          -9.236128807067871,
          -80.06040954589844,
          -86.04791259765625,
          8.753196716308594,
          19.190465927124023,
          -124.80413055419922,
          44.34148025512695,
          -112.07839965820312,
          -102.23920440673828,
          -61.34724807739258,
          90.61747741699219,
          -58.915863037109375,
          -63.082176208496094,
          35.2884407043457,
          17.404787063598633,
          26.48002052307129,
          63.649715423583984,
          39.830604553222656,
          -5.9366374015808105
         ],
         "z": [
          84.57151794433594,
          88.33460998535156,
          -35.894474029541016,
          19.414812088012695,
          -75.70045471191406,
          -79.95425415039062,
          -88.28083038330078,
          105.24066925048828,
          23.209362030029297,
          -66.90087127685547,
          70.11062622070312,
          -76.69686126708984,
          6.17458438873291,
          -31.69240951538086,
          -10.32609748840332,
          -12.846485137939453,
          131.58224487304688,
          8.930658340454102,
          82.01020812988281,
          -14.318394660949707,
          76.2505111694336,
          12.85554313659668,
          52.74614334106445,
          -25.26146125793457,
          148.7206573486328,
          -36.229007720947266,
          116.91648864746094,
          -41.961639404296875,
          49.046287536621094,
          58.53306579589844,
          12.918844223022461,
          -38.03994369506836,
          90.93424987792969,
          101.00252532958984,
          81.3831787109375,
          69.94863891601562,
          -37.97908020019531,
          -41.53449630737305,
          45.25333023071289,
          -1.5841861963272095,
          33.85877227783203,
          -42.0959587097168,
          34.633628845214844,
          56.44685745239258,
          -34.06658172607422,
          21.736474990844727,
          69.19973754882812,
          78.654541015625,
          143.49752807617188,
          30.927627563476562,
          54.75863265991211,
          5.537051677703857,
          -12.499374389648438,
          48.58404541015625,
          55.08740997314453,
          14.202588081359863,
          -49.946075439453125,
          96.2042236328125,
          72.8243408203125,
          -23.949079513549805,
          -28.22852325439453,
          -27.082508087158203,
          -93.67993927001953,
          4.258286476135254,
          94.34168243408203,
          33.991294860839844,
          3.284574508666992,
          -22.840791702270508,
          90.63243865966797,
          27.605073928833008,
          112.48860168457031,
          124.03912353515625,
          -51.22855758666992,
          -44.40251159667969,
          47.701759338378906,
          47.7409782409668,
          -39.58015823364258,
          31.008773803710938,
          -16.893795013427734,
          -75.30339813232422,
          77.9300765991211,
          -81.45014190673828,
          -73.87551879882812,
          88.57666015625,
          37.92250061035156,
          79.53663635253906,
          -18.010665893554688,
          -43.55088424682617,
          -55.01203155517578,
          -7.98307466506958,
          151.02955627441406,
          -83.38697052001953,
          70.72900390625,
          -0.8305034041404724,
          30.500768661499023,
          -18.407163619995117,
          18.768760681152344,
          77.77304077148438,
          -4.921594619750977,
          4.844513893127441,
          64.15754699707031,
          -42.36638641357422,
          -47.77327346801758,
          -22.183319091796875,
          131.2248992919922,
          -64.01470947265625,
          6.442051410675049,
          20.57370376586914,
          -73.57562255859375,
          6.829298496246338,
          -9.167951583862305,
          -71.97782135009766,
          -8.323877334594727,
          -20.227153778076172,
          -31.127656936645508,
          16.677335739135742,
          31.010831832885742,
          76.52739715576172,
          31.752641677856445,
          0.8714929223060608,
          2.9544622898101807,
          -28.262313842773438,
          -9.032149314880371,
          141.89028930664062,
          -89.44002532958984,
          -80.42659759521484,
          -69.44710540771484,
          0.25386252999305725,
          97.77411651611328,
          -13.535106658935547,
          103.79765319824219,
          90.32376861572266,
          -26.92435646057129,
          8.356746673583984,
          -53.558815002441406,
          -4.926898956298828,
          -85.78181457519531,
          -43.4608154296875,
          -22.607341766357422,
          94.22936248779297,
          88.61680603027344,
          68.90839385986328,
          69.17200469970703,
          50.86914825439453,
          -27.64420509338379,
          36.273597717285156,
          118.58233642578125,
          12.788545608520508,
          41.766910552978516,
          134.1609344482422,
          -15.873432159423828,
          -78.68151092529297,
          -27.049650192260742,
          -63.9962272644043,
          72.24445343017578,
          -24.584903717041016,
          -27.307601928710938,
          -26.55571174621582,
          53.422027587890625,
          3.1514534950256348,
          -40.57735061645508,
          119.21800994873047,
          109.24569702148438,
          96.48382568359375,
          138.96482849121094,
          86.56571197509766,
          -32.886295318603516,
          63.99735641479492,
          -36.33787155151367,
          14.717425346374512,
          -27.69883918762207,
          71.71804809570312,
          -42.78279113769531,
          -4.967930316925049,
          120.87054443359375,
          7.858841419219971,
          7.035395622253418,
          65.39005279541016,
          -98.30714416503906,
          -11.104209899902344,
          -53.32869338989258,
          10.144865036010742,
          -53.647300720214844,
          99.37674713134766,
          -11.091259956359863,
          -11.187257766723633,
          17.80910301208496,
          81.94058227539062,
          47.02162170410156,
          95.1579818725586,
          78.60209655761719,
          -22.973377227783203,
          29.986906051635742,
          11.399881362915039,
          -59.786739349365234,
          -12.034090042114258,
          -6.680197715759277,
          0.8728998899459839,
          67.59076690673828,
          -49.57414245605469
         ]
        },
        {
         "hovertemplate": "label=proof<br>tsne_1=%{x}<br>tsne_2=%{y}<br>tsne_3=%{z}<extra></extra>",
         "legendgroup": "proof",
         "marker": {
          "color": "#EF553B",
          "symbol": "diamond"
         },
         "mode": "markers",
         "name": "proof",
         "scene": "scene",
         "showlegend": true,
         "type": "scatter3d",
         "x": [
          129.74884033203125,
          -39.38361358642578,
          60.1551628112793,
          66.68849182128906,
          -40.19223403930664,
          -29.10725975036621,
          -33.881126403808594,
          -44.83749008178711,
          -24.552576065063477,
          53.920562744140625,
          18.540632247924805,
          -50.351261138916016,
          21.953289031982422,
          14.035503387451172,
          32.49042510986328,
          -21.45115852355957,
          -7.686018466949463,
          128.3184051513672,
          -36.81876754760742,
          -37.2633171081543,
          -19.243793487548828,
          -16.931123733520508,
          113.19937133789062,
          33.28260040283203,
          -51.463226318359375,
          62.07363510131836,
          -0.5852572917938232,
          -75.53855895996094,
          -38.919307708740234,
          -37.22138977050781,
          -31.240436553955078,
          3.273235559463501,
          -41.76374053955078,
          -46.881954193115234,
          97.11293029785156,
          -20.852561950683594,
          -70.22127532958984,
          -24.008113861083984,
          2.240290403366089,
          -42.13875961303711,
          -75.50849151611328,
          -22.751113891601562,
          60.86113357543945,
          -45.83855056762695,
          9.87749195098877,
          -9.64666748046875,
          -63.564395904541016,
          5.814199924468994,
          -2.3072822093963623,
          60.320579528808594,
          -17.07650375366211,
          -22.127901077270508,
          114.85843658447266,
          129.76858520507812,
          55.475154876708984,
          -30.794586181640625,
          -35.423397064208984,
          -96.7669906616211,
          -22.744619369506836,
          -22.022933959960938,
          -21.85721206665039,
          -21.286649703979492,
          -62.62462615966797,
          -3.4233410358428955,
          -61.662105560302734,
          129.47866821289062,
          18.213306427001953,
          -64.31404113769531,
          -35.97132873535156,
          -14.793123245239258,
          13.760010719299316,
          -70.50767517089844,
          -49.8895378112793,
          -43.94355010986328,
          -105.7603759765625,
          73.09406280517578,
          -6.957129001617432,
          11.33949089050293,
          -20.42823028564453,
          -25.98060417175293,
          74.17623138427734,
          -29.511062622070312,
          -16.80929946899414,
          -36.114097595214844,
          -37.58212661743164,
          55.95889663696289,
          135.5281219482422,
          -92.15875244140625,
          114.4631576538086,
          -36.29737091064453,
          43.63350296020508,
          -49.25166702270508,
          2.343189001083374,
          -30.088623046875,
          53.84227752685547,
          -59.767921447753906,
          -0.11922122538089752,
          54.71696472167969,
          75.53665161132812,
          -2.987546920776367,
          -44.17903137207031,
          -87.5843276977539,
          -18.602624893188477,
          -112.22169494628906,
          1.797183871269226,
          26.47197723388672,
          18.306760787963867,
          35.889991760253906,
          -48.651737213134766,
          -62.07805633544922,
          -23.750646591186523,
          -12.736868858337402,
          -21.94395637512207,
          -102.28363037109375,
          35.88978958129883,
          84.93991088867188,
          -52.3256721496582,
          7.294183731079102,
          -49.2679443359375,
          62.07706069946289,
          -71.16473388671875,
          -45.800018310546875,
          110.48748779296875,
          74.06922149658203,
          114.41685485839844,
          -23.031673431396484,
          -20.636606216430664,
          42.57857131958008,
          -83.99072265625,
          -26.22185707092285,
          -21.719505310058594,
          23.934823989868164,
          2.2889208793640137,
          -56.187015533447266,
          -35.235477447509766,
          78.71204376220703,
          -70.88275909423828,
          82.96370697021484,
          -51.43642044067383,
          106.0490493774414,
          -70.73876953125,
          -66.4324951171875,
          52.695926666259766,
          -22.655364990234375,
          -57.81023025512695,
          38.095054626464844,
          48.191123962402344,
          49.94160079956055,
          -27.462770462036133,
          -46.60572052001953,
          -0.14310571551322937,
          -78.85082244873047,
          -9.35505199432373,
          -19.98841094970703,
          -48.360694885253906,
          43.25552749633789,
          -54.78963088989258,
          0.8829642534255981,
          -32.79079818725586,
          45.255348205566406,
          -6.441568851470947,
          -46.973724365234375,
          82.80825805664062,
          -123.91780853271484,
          -69.37040710449219,
          -3.656076431274414,
          13.033989906311035,
          -8.853768348693848,
          18.74561882019043,
          -19.18187141418457,
          -35.36559295654297,
          -33.346763610839844,
          -57.26317596435547,
          105.6857681274414,
          -3.6157097816467285,
          37.42697525024414,
          151.77561950683594,
          -116.32721710205078,
          -64.16240692138672,
          -5.886556625366211,
          -34.17806625366211,
          -31.375093460083008,
          -50.367469787597656,
          12.878944396972656,
          63.2862548828125,
          -6.462666034698486,
          0.36514532566070557,
          -14.439376831054688,
          3.6394762992858887,
          -38.11442565917969,
          15.124631881713867,
          -33.79413986206055,
          118.40892791748047,
          -46.670406341552734,
          6.923201560974121,
          115.25709533691406,
          -78.77153778076172,
          11.081107139587402,
          159.29843139648438,
          -106.29443359375
         ],
         "y": [
          10.088793754577637,
          -110.11295318603516,
          2.1858787536621094,
          -3.369220733642578,
          -33.10986328125,
          5.172632694244385,
          -19.528911590576172,
          -67.220703125,
          -15.779500007629395,
          39.557926177978516,
          17.05596923828125,
          46.865989685058594,
          61.86827850341797,
          9.52805233001709,
          -27.57854652404785,
          -109.56025695800781,
          23.026466369628906,
          -2.420626401901245,
          40.08637237548828,
          -45.96697235107422,
          46.07596969604492,
          -0.03834070637822151,
          30.436962127685547,
          55.01831817626953,
          102.93059539794922,
          -53.60671615600586,
          54.26125717163086,
          60.736141204833984,
          -48.948875427246094,
          42.5052604675293,
          4.669747829437256,
          -136.61587524414062,
          -27.51764678955078,
          43.60357666015625,
          3.903954267501831,
          11.947953224182129,
          64.46729278564453,
          -105.00596618652344,
          -42.97883224487305,
          23.737661361694336,
          -62.031455993652344,
          28.532928466796875,
          -88.07552337646484,
          39.58264923095703,
          37.10335159301758,
          -124.10493469238281,
          -31.97022819519043,
          63.43111038208008,
          -20.01201057434082,
          23.055973052978516,
          -47.48356246948242,
          -124.15074920654297,
          9.663883209228516,
          24.85680389404297,
          8.867559432983398,
          26.126827239990234,
          -2.859952449798584,
          -37.019657135009766,
          11.880023002624512,
          -51.98365783691406,
          -21.207653045654297,
          -59.07064437866211,
          -41.03713607788086,
          -44.914390563964844,
          21.757783889770508,
          25.41010856628418,
          24.345470428466797,
          -13.424495697021484,
          -75.76738739013672,
          29.795658111572266,
          -117.24665069580078,
          43.63478469848633,
          2.87094783782959,
          -10.13667106628418,
          5.95397424697876,
          12.099411964416504,
          60.634803771972656,
          75.79009246826172,
          121.16558074951172,
          -115.54911041259766,
          18.969736099243164,
          -6.3149919509887695,
          60.735294342041016,
          11.250570297241211,
          -14.081543922424316,
          -98.25080871582031,
          -1.9899635314941406,
          -29.544666290283203,
          23.116289138793945,
          -34.3755989074707,
          26.279624938964844,
          78.94674682617188,
          -119.35509490966797,
          29.55432891845703,
          -86.39273834228516,
          89.8594970703125,
          -61.101539611816406,
          -64.13321685791016,
          -91.20365905761719,
          -127.97608184814453,
          87.43048095703125,
          -26.941822052001953,
          -99.84627532958984,
          -0.3110729455947876,
          -73.68209075927734,
          -73.27238464355469,
          -69.6626205444336,
          31.198827743530273,
          -36.65228271484375,
          77.0047836303711,
          -32.00456237792969,
          -92.25077056884766,
          -18.79532241821289,
          29.07562828063965,
          21.668460845947266,
          20.67730140686035,
          -37.92812728881836,
          -97.08193969726562,
          -20.268177032470703,
          -81.62672424316406,
          2.8353219032287598,
          21.61067008972168,
          -4.188578128814697,
          -102.33269500732422,
          9.793914794921875,
          -75.16400146484375,
          128.15147399902344,
          -60.94914627075195,
          24.542970657348633,
          4.503270626068115,
          -5.957351207733154,
          19.07088279724121,
          65.65705108642578,
          -4.717165470123291,
          -132.0301971435547,
          -75.0890121459961,
          -51.08645248413086,
          3.176392078399658,
          -81.68376922607422,
          17.00844383239746,
          10.593295097351074,
          73.34285736083984,
          57.04633331298828,
          30.570354461669922,
          -3.036503314971924,
          -90.94851684570312,
          43.82028579711914,
          20.59305191040039,
          -78.34441375732422,
          -56.633033752441406,
          88.13853454589844,
          -11.963610649108887,
          80.77587127685547,
          -71.93351745605469,
          -95.81121063232422,
          -1.278448462486267,
          -52.95302200317383,
          -30.515491485595703,
          -66.30640411376953,
          50.166351318359375,
          -121.52339172363281,
          10.406893730163574,
          16.35566520690918,
          4.9142866134643555,
          45.5963134765625,
          70.15543365478516,
          -130.47659301757812,
          22.289644241333008,
          -63.68257522583008,
          -83.63053894042969,
          -89.19649505615234,
          -60.81820297241211,
          0.4239799380302429,
          -3.2894446849823,
          36.342830657958984,
          3.7867136001586914,
          2.8652830123901367,
          16.03433609008789,
          49.665035247802734,
          34.68796920776367,
          -68.89643096923828,
          -4.4979352951049805,
          -70.57051849365234,
          -112.73727416992188,
          45.05988693237305,
          -42.253387451171875,
          75.79199981689453,
          -7.326728820800781,
          -114.91588592529297,
          4.669039726257324,
          -53.56898498535156,
          -53.36111831665039,
          14.258974075317383,
          -87.1705551147461,
          -41.890811920166016,
          7.255642890930176,
          53.76774215698242,
          -86.54513549804688,
          17.553178787231445,
          -17.071630477905273
         ],
         "z": [
          -58.188873291015625,
          -1.2286384105682373,
          77.74942779541016,
          45.74480438232422,
          -14.521004676818848,
          -11.579486846923828,
          -16.555477142333984,
          -58.92976760864258,
          30.566099166870117,
          71.16002655029297,
          92.20358276367188,
          -26.209789276123047,
          -39.6963996887207,
          -48.10101318359375,
          -23.848037719726562,
          6.830851078033447,
          150.11886596679688,
          -47.874629974365234,
          134.2971954345703,
          -67.07463836669922,
          135.2985382080078,
          -64.37647247314453,
          -19.13345718383789,
          94.66112518310547,
          -11.650062561035156,
          6.877256393432617,
          157.0238800048828,
          10.831500053405762,
          -52.75335693359375,
          -17.73068618774414,
          -68.62591552734375,
          -24.128129959106445,
          -62.38542175292969,
          -47.96221923828125,
          -20.743877410888672,
          -78.38787841796875,
          -41.561519622802734,
          -49.58014678955078,
          11.830074310302734,
          -10.793957710266113,
          -49.2827033996582,
          -64.83029174804688,
          28.186227798461914,
          20.898944854736328,
          91.3335952758789,
          -9.356925964355469,
          -89.44194030761719,
          93.4361572265625,
          -63.0170783996582,
          -39.2728385925293,
          -13.495601654052734,
          52.15092086791992,
          -45.924537658691406,
          -22.822233200073242,
          -33.594783782958984,
          -86.88290405273438,
          94.57089233398438,
          -49.221317291259766,
          -95.4852066040039,
          -52.8999137878418,
          3.22235369682312,
          5.121449947357178,
          -63.10826873779297,
          -3.6713335514068604,
          5.247389793395996,
          -63.30902099609375,
          74.41462707519531,
          -20.782915115356445,
          31.717430114746094,
          -76.03640747070312,
          29.94252586364746,
          -61.534210205078125,
          -63.74160385131836,
          -71.64881134033203,
          -38.928504943847656,
          47.8161506652832,
          109.20030212402344,
          -34.67974853515625,
          16.125137329101562,
          -30.73168182373047,
          -33.14303970336914,
          -31.126285552978516,
          149.45858764648438,
          98.36612701416016,
          -56.622623443603516,
          17.653886795043945,
          -25.544445037841797,
          -38.376678466796875,
          -54.76128005981445,
          0.9915070533752441,
          99.6418228149414,
          6.40346622467041,
          20.328500747680664,
          -17.26603889465332,
          61.10111618041992,
          5.514588356018066,
          -16.253286361694336,
          98.87785339355469,
          92.10924530029297,
          36.89931869506836,
          -15.65227222442627,
          -55.62724304199219,
          64.2364730834961,
          -58.613441467285156,
          83.34303283691406,
          31.658367156982422,
          -24.906583786010742,
          17.731801986694336,
          -46.48417282104492,
          -58.107784271240234,
          -72.50128936767578,
          -6.2592926025390625,
          -60.067481994628906,
          -72.96780395507812,
          -19.053192138671875,
          -90.94634246826172,
          -0.6623053550720215,
          53.50796890258789,
          -41.7307243347168,
          -9.143340110778809,
          84.73634338378906,
          -42.66319274902344,
          -58.045345306396484,
          78.91991424560547,
          -66.94737243652344,
          27.546924591064453,
          -16.505577087402344,
          85.23027801513672,
          -48.09474182128906,
          86.651611328125,
          -79.92816162109375,
          123.08771514892578,
          -11.137831687927246,
          15.069643020629883,
          5.906845569610596,
          86.25626373291016,
          -40.64433288574219,
          -31.18993377685547,
          -20.929441452026367,
          -26.245174407958984,
          -58.87209701538086,
          13.19547176361084,
          18.176345825195312,
          159.838134765625,
          -34.45787811279297,
          69.97566223144531,
          29.704669952392578,
          68.38227844238281,
          11.50485897064209,
          -40.31187057495117,
          -82.46686553955078,
          -53.51774978637695,
          -72.45002746582031,
          -6.194454669952393,
          -35.747840881347656,
          42.889747619628906,
          -53.05561828613281,
          -3.3170204162597656,
          -47.74039077758789,
          -5.839729309082031,
          -27.53382682800293,
          3.0681257247924805,
          33.24197006225586,
          -49.92861557006836,
          19.70392608642578,
          -91.66136169433594,
          16.297143936157227,
          -62.46276092529297,
          -10.233292579650879,
          -23.033695220947266,
          -21.693918228149414,
          -29.69551658630371,
          -18.70253562927246,
          -77.75679016113281,
          164.10098266601562,
          -17.09488296508789,
          -19.995079040527344,
          -61.51134490966797,
          -21.89854621887207,
          135.8437042236328,
          -2.460878372192383,
          -2.482475757598877,
          -4.591495037078857,
          10.511820793151855,
          22.672842025756836,
          -69.81461334228516,
          144.77813720703125,
          -5.622368335723877,
          -11.032119750976562,
          -82.54920959472656,
          -23.05378532409668,
          -9.335603713989258,
          -13.65235424041748,
          -65.12108612060547,
          -17.304773330688477,
          -85.43473052978516,
          -29.447525024414062,
          26.822086334228516,
          -27.813310623168945,
          -16.000009536743164
         ]
        },
        {
         "hovertemplate": "label=theorem<br>tsne_1=%{x}<br>tsne_2=%{y}<br>tsne_3=%{z}<extra></extra>",
         "legendgroup": "theorem",
         "marker": {
          "color": "#00cc96",
          "symbol": "square"
         },
         "mode": "markers",
         "name": "theorem",
         "scene": "scene",
         "showlegend": true,
         "type": "scatter3d",
         "x": [
          -57.500553131103516,
          -36.11156463623047,
          -10.168196678161621,
          13.752481460571289,
          -18.803932189941406,
          97.04164123535156,
          -46.88993453979492,
          28.617965698242188,
          30.737651824951172,
          -64.5868911743164,
          11.999293327331543,
          -2.2439191341400146,
          31.48430633544922,
          33.63798904418945,
          50.041507720947266,
          -49.46541213989258,
          -62.87315368652344,
          -69.78094482421875,
          -57.07905578613281,
          108.88507843017578,
          9.994507789611816,
          3.873244047164917,
          0.2821660041809082,
          47.23930740356445,
          8.18541145324707,
          52.15044021606445,
          41.348602294921875,
          17.2447509765625,
          30.244220733642578,
          -25.052034378051758,
          -11.503570556640625,
          15.528546333312988,
          -2.899078607559204,
          29.360904693603516,
          -4.1098761558532715,
          26.49294090270996,
          -54.82919692993164,
          -19.313371658325195,
          -2.3236536979675293,
          9.886545181274414,
          17.331501007080078,
          -34.23957824707031,
          20.806339263916016,
          -22.998512268066406,
          30.668703079223633,
          -103.875244140625,
          23.819820404052734,
          24.12049102783203,
          -43.00127410888672,
          0.7967554926872253,
          -19.184389114379883,
          -4.782167434692383,
          -8.917584419250488,
          28.453022003173828,
          -57.12767028808594,
          -71.39751434326172,
          -92.36018371582031,
          98.9500732421875,
          28.07758331298828,
          39.910362243652344,
          -76.07925415039062,
          34.62925720214844,
          64.57332611083984,
          -55.6824951171875,
          36.274234771728516,
          -31.95339012145996,
          -27.71805191040039,
          -18.771753311157227,
          40.67295837402344,
          -34.901004791259766,
          14.742355346679688,
          -61.256553649902344,
          45.39313888549805,
          -77.80085754394531,
          80.3219223022461,
          7.862810134887695,
          -4.879431247711182,
          73.2967758178711,
          6.050869464874268,
          21.286500930786133,
          29.119661331176758,
          28.094947814941406,
          73.00139617919922,
          -22.773258209228516,
          -78.55087280273438,
          50.659366607666016,
          14.835466384887695,
          86.6300048828125,
          -0.0026369087863713503,
          15.574409484863281,
          22.07733726501465,
          -4.301756858825684,
          6.275664329528809,
          10.888486862182617,
          53.89373779296875,
          2.7396631240844727,
          54.64002227783203,
          150.1775665283203,
          24.708040237426758,
          -76.57708740234375,
          -38.19318771362305,
          4.054474830627441,
          -4.198222637176514,
          5.920743465423584,
          130.55819702148438,
          59.417633056640625,
          38.010250091552734,
          -67.84585571289062,
          59.68825912475586,
          -62.63889694213867,
          112.88765716552734,
          -8.30264949798584,
          -1.067140817642212,
          47.339900970458984,
          -17.275653839111328,
          -104.59957122802734,
          4.758293151855469,
          -1.8114359378814697,
          -12.68455696105957,
          -55.93938446044922,
          68.48929595947266,
          50.374977111816406,
          -12.46192455291748,
          15.313275337219238,
          -53.15548324584961,
          -78.75904083251953,
          -16.661602020263672,
          99.54618835449219,
          65.07650756835938,
          65.97383880615234,
          39.449058532714844,
          -0.21644367277622223,
          -17.33466911315918,
          11.257923126220703,
          9.0095853805542,
          61.066810607910156,
          20.054983139038086,
          32.12582015991211,
          -7.180912971496582,
          -30.036521911621094,
          -43.56218719482422,
          -47.5294189453125,
          -91.58826446533203,
          43.58650207519531,
          45.6766357421875,
          -125.98226165771484,
          -49.732322692871094,
          -0.05871696397662163,
          3.1626548767089844,
          -90.52271270751953,
          7.7451887130737305,
          -73.47003173828125,
          -12.260701179504395,
          -32.67770004272461,
          63.43207931518555,
          44.56796646118164,
          25.39620018005371,
          54.13785171508789,
          -0.30870553851127625,
          -1.2489923238754272,
          58.849483489990234,
          35.88429260253906,
          -31.939697265625,
          -17.194730758666992,
          13.087638854980469,
          26.92136001586914,
          -31.29058837890625,
          11.130276679992676,
          25.08348274230957,
          -34.26711654663086,
          -62.524444580078125,
          -41.66256332397461,
          -65.16565704345703,
          48.3884391784668,
          -4.832460403442383,
          22.433414459228516,
          2.781768798828125,
          55.37091064453125,
          94.91329193115234,
          30.331859588623047,
          -10.76158618927002,
          -62.68599319458008,
          -77.28691864013672,
          47.36960983276367,
          -2.8628458976745605,
          56.32717514038086,
          57.70442581176758,
          -67.72114562988281,
          31.943424224853516,
          26.42578125,
          -11.649032592773438,
          -5.33204460144043,
          -18.876747131347656,
          36.741233825683594,
          27.940082550048828,
          52.79537582397461,
          -18.2910213470459,
          -33.533897399902344,
          39.894325256347656,
          8.444153785705566
         ],
         "y": [
          26.981294631958008,
          -17.64631462097168,
          101.96330261230469,
          173.64488220214844,
          115.1192626953125,
          12.979723930358887,
          99.31996154785156,
          63.38957977294922,
          -2.4081027507781982,
          6.859588146209717,
          158.05337524414062,
          74.52979278564453,
          97.9580307006836,
          -3.4917612075805664,
          29.645450592041016,
          2.987281084060669,
          80.80057525634766,
          1.0646121501922607,
          -31.72642707824707,
          -7.602433204650879,
          108.3164291381836,
          58.573665618896484,
          146.88723754882812,
          27.904621124267578,
          99.2287826538086,
          53.79531478881836,
          59.77374267578125,
          123.72575378417969,
          126.84625244140625,
          76.93690490722656,
          76.9735336303711,
          145.5798797607422,
          161.9775390625,
          60.98733901977539,
          52.477500915527344,
          151.03541564941406,
          43.301231384277344,
          70.61974334716797,
          -56.99232864379883,
          105.56600952148438,
          112.16748809814453,
          117.12936401367188,
          27.650178909301758,
          96.7585678100586,
          141.0800323486328,
          -10.444684982299805,
          59.98795700073242,
          82.06181335449219,
          92.49152374267578,
          92.53109741210938,
          97.05635833740234,
          142.342041015625,
          74.66649627685547,
          134.4866180419922,
          27.979814529418945,
          95.47972106933594,
          20.299007415771484,
          23.62961769104004,
          -48.30342102050781,
          50.8775520324707,
          18.734817504882812,
          8.71036148071289,
          65.68347930908203,
          9.829005241394043,
          9.456271171569824,
          46.12797164916992,
          -55.3966064453125,
          116.69931030273438,
          69.00117492675781,
          120.00225067138672,
          69.09468841552734,
          14.824613571166992,
          -4.714426040649414,
          78.36949157714844,
          -0.7389542460441589,
          89.65786743164062,
          45.308921813964844,
          -8.507589340209961,
          171.93576049804688,
          67.84899139404297,
          39.70262908935547,
          74.37714385986328,
          46.739681243896484,
          33.18700408935547,
          6.07159423828125,
          -22.955135345458984,
          6.727938175201416,
          -89.05199432373047,
          -75.19952392578125,
          143.63088989257812,
          -101.59783172607422,
          120.23757934570312,
          -91.04229736328125,
          64.63371276855469,
          -41.865753173828125,
          85.08257293701172,
          30.531824111938477,
          25.489974975585938,
          33.998836517333984,
          27.670743942260742,
          114.4485855102539,
          50.34507751464844,
          153.9964141845703,
          51.20013427734375,
          12.617477416992188,
          18.9158992767334,
          91.91792297363281,
          38.99937057495117,
          54.246925354003906,
          81.44620513916016,
          -1.7166221141815186,
          134.913330078125,
          124.41431427001953,
          10.413154602050781,
          39.92902374267578,
          23.774036407470703,
          -21.23476791381836,
          89.24864959716797,
          147.68450927734375,
          -52.91200637817383,
          47.3231315612793,
          43.37387466430664,
          41.542213439941406,
          160.12359619140625,
          99.71774291992188,
          68.75430297851562,
          62.87367248535156,
          8.051165580749512,
          30.883344650268555,
          10.81470012664795,
          123.07503509521484,
          -4.645446300506592,
          128.65415954589844,
          160.70973205566406,
          142.67337036132812,
          -14.899041175842285,
          125.61652374267578,
          16.646053314208984,
          135.46224975585938,
          81.73504638671875,
          6.131840229034424,
          8.647321701049805,
          6.908339500427246,
          139.3279571533203,
          130.89019775390625,
          2.018343210220337,
          102.54254150390625,
          53.292667388916016,
          59.841552734375,
          3.832602024078369,
          127.370361328125,
          67.47664642333984,
          -33.721214294433594,
          103.06842041015625,
          -3.423396110534668,
          104.54407501220703,
          41.7236213684082,
          40.016876220703125,
          112.01732635498047,
          36.37051010131836,
          53.79936599731445,
          28.41550636291504,
          -30.022048950195312,
          117.72950744628906,
          -24.059186935424805,
          157.04278564453125,
          -42.59261703491211,
          32.88207244873047,
          169.18653869628906,
          107.20379638671875,
          34.95437240600586,
          87.9302749633789,
          5.330918788909912,
          -91.17028045654297,
          105.36933135986328,
          109.0444107055664,
          -82.57952880859375,
          -1.543184757232666,
          19.899972915649414,
          103.58890533447266,
          106.75788879394531,
          56.78877258300781,
          -46.016998291015625,
          105.8504867553711,
          123.6546859741211,
          11.33708381652832,
          -85.52691650390625,
          -5.580221176147461,
          0.5061973929405212,
          -18.477279663085938,
          -27.427419662475586,
          98.87313079833984,
          142.94180297851562,
          49.401668548583984,
          159.06724548339844,
          6.959901332855225,
          50.22310256958008,
          -105.83038330078125,
          -112.75175476074219,
          40.24016189575195
         ],
         "z": [
          -55.65589141845703,
          10.02292537689209,
          -47.77058792114258,
          -22.926542282104492,
          -26.195585250854492,
          -78.78430938720703,
          -50.25476837158203,
          62.709510803222656,
          79.26045227050781,
          71.1673355102539,
          -15.470582008361816,
          -56.58083724975586,
          -39.41618347167969,
          -2.2256815433502197,
          -26.93080711364746,
          104.6134262084961,
          -6.026888370513916,
          -70.80440521240234,
          -28.31983757019043,
          -95.37727355957031,
          -68.53414916992188,
          -39.75543975830078,
          -29.991928100585938,
          35.04076385498047,
          -52.86141586303711,
          63.17628860473633,
          79.62657165527344,
          -66.09402465820312,
          -24.675830841064453,
          -40.427371978759766,
          -20.927471160888672,
          -39.51926040649414,
          -21.572011947631836,
          -63.302268981933594,
          139.2353515625,
          -9.032148361206055,
          -61.65205764770508,
          -57.46186065673828,
          -73.43844604492188,
          -37.640647888183594,
          -50.383148193359375,
          19.101417541503906,
          -27.04344367980957,
          -37.542449951171875,
          -33.49869918823242,
          -35.431331634521484,
          112.01065063476562,
          -70.83686065673828,
          -1.6889830827713013,
          -7.912114143371582,
          -19.116514205932617,
          -14.54150104522705,
          -38.41901397705078,
          -48.67304611206055,
          15.740734100341797,
          -3.79349684715271,
          -63.61818313598633,
          -90.83145141601562,
          -56.875572204589844,
          51.854339599609375,
          -34.922908782958984,
          65.96973419189453,
          22.274065017700195,
          -80.87405395507812,
          95.93118286132812,
          -36.70256805419922,
          18.85396957397461,
          -45.71722412109375,
          56.498348236083984,
          -3.004638910293579,
          -79.59747314453125,
          87.23147583007812,
          -10.94355583190918,
          2.288543462753296,
          38.943702697753906,
          -65.12418365478516,
          92.165771484375,
          29.030025482177734,
          -7.206700801849365,
          96.8593521118164,
          5.352753639221191,
          -58.15935134887695,
          37.490596771240234,
          123.37324523925781,
          61.17371368408203,
          -12.950113296508789,
          79.8876953125,
          77.52955627441406,
          8.025029182434082,
          -22.525190353393555,
          33.80720901489258,
          -17.243080139160156,
          12.657466888427734,
          -65.22032928466797,
          25.347232818603516,
          -24.862895965576172,
          21.20323371887207,
          -40.64234161376953,
          95.06382751464844,
          -63.37638473510742,
          -38.49432373046875,
          78.78423309326172,
          -2.2855722904205322,
          109.754150390625,
          -76.11328125,
          90.90662384033203,
          -57.89537811279297,
          -33.636844635009766,
          40.33314514160156,
          -35.75765609741211,
          -33.829769134521484,
          -45.89072036743164,
          -34.54396438598633,
          83.18209838867188,
          -33.75648498535156,
          -52.8905029296875,
          -44.69326400756836,
          -38.97199630737305,
          10.932811737060547,
          4.524430274963379,
          53.89536666870117,
          6.017666816711426,
          149.78619384765625,
          1.860670804977417,
          -26.936073303222656,
          -10.639721870422363,
          -23.195833206176758,
          -57.35163116455078,
          33.60672378540039,
          60.000118255615234,
          -43.61494445800781,
          -65.35450744628906,
          -34.624637603759766,
          -33.7717170715332,
          -5.75727653503418,
          -0.4074605405330658,
          -36.82533645629883,
          80.74694061279297,
          2.6677401065826416,
          -25.782846450805664,
          -18.711288452148438,
          85.76873016357422,
          -44.50836944580078,
          -44.79295349121094,
          -31.554105758666992,
          -64.80203247070312,
          17.562728881835938,
          -65.09955596923828,
          -80.01566314697266,
          -29.032405853271484,
          -50.918922424316406,
          -56.97966766357422,
          -58.67356872558594,
          -47.954620361328125,
          -33.6870002746582,
          -30.365314483642578,
          111.36148071289062,
          47.276283264160156,
          -56.393829345703125,
          -28.46135711669922,
          78.85768127441406,
          67.20892333984375,
          -43.934791564941406,
          -61.93950271606445,
          -13.957788467407227,
          -26.534788131713867,
          -31.245929718017578,
          107.8604965209961,
          -10.461812973022461,
          -11.775960922241211,
          -73.41780853271484,
          -37.68284225463867,
          99.93038177490234,
          -8.179235458374023,
          -25.932727813720703,
          -12.592249870300293,
          -15.518205642700195,
          11.550521850585938,
          -37.80118179321289,
          -25.58589744567871,
          -11.124288558959961,
          -53.122371673583984,
          -56.1365966796875,
          -48.349830627441406,
          -68.60210418701172,
          45.807403564453125,
          77.97502899169922,
          60.9516487121582,
          34.25458526611328,
          -19.129568099975586,
          35.7188835144043,
          -66.8446273803711,
          -6.028882026672363,
          13.356075286865234,
          -45.249576568603516,
          102.57552337646484,
          164.33074951171875,
          -17.858829498291016,
          20.915508270263672,
          127.49394226074219
         ]
        }
       ],
       "layout": {
        "legend": {
         "title": {
          "text": "label"
         },
         "tracegroupgap": 0
        },
        "margin": {
         "t": 60
        },
        "scene": {
         "domain": {
          "x": [
           0,
           1
          ],
          "y": [
           0,
           1
          ]
         },
         "xaxis": {
          "title": {
           "text": "tsne_1"
          }
         },
         "yaxis": {
          "title": {
           "text": "tsne_2"
          }
         },
         "zaxis": {
          "title": {
           "text": "tsne_3"
          }
         }
        },
        "template": {
         "data": {
          "bar": [
           {
            "error_x": {
             "color": "#2a3f5f"
            },
            "error_y": {
             "color": "#2a3f5f"
            },
            "marker": {
             "line": {
              "color": "#E5ECF6",
              "width": 0.5
             },
             "pattern": {
              "fillmode": "overlay",
              "size": 10,
              "solidity": 0.2
             }
            },
            "type": "bar"
           }
          ],
          "barpolar": [
           {
            "marker": {
             "line": {
              "color": "#E5ECF6",
              "width": 0.5
             },
             "pattern": {
              "fillmode": "overlay",
              "size": 10,
              "solidity": 0.2
             }
            },
            "type": "barpolar"
           }
          ],
          "carpet": [
           {
            "aaxis": {
             "endlinecolor": "#2a3f5f",
             "gridcolor": "white",
             "linecolor": "white",
             "minorgridcolor": "white",
             "startlinecolor": "#2a3f5f"
            },
            "baxis": {
             "endlinecolor": "#2a3f5f",
             "gridcolor": "white",
             "linecolor": "white",
             "minorgridcolor": "white",
             "startlinecolor": "#2a3f5f"
            },
            "type": "carpet"
           }
          ],
          "choropleth": [
           {
            "colorbar": {
             "outlinewidth": 0,
             "ticks": ""
            },
            "type": "choropleth"
           }
          ],
          "contour": [
           {
            "colorbar": {
             "outlinewidth": 0,
             "ticks": ""
            },
            "colorscale": [
             [
              0,
              "#0d0887"
             ],
             [
              0.1111111111111111,
              "#46039f"
             ],
             [
              0.2222222222222222,
              "#7201a8"
             ],
             [
              0.3333333333333333,
              "#9c179e"
             ],
             [
              0.4444444444444444,
              "#bd3786"
             ],
             [
              0.5555555555555556,
              "#d8576b"
             ],
             [
              0.6666666666666666,
              "#ed7953"
             ],
             [
              0.7777777777777778,
              "#fb9f3a"
             ],
             [
              0.8888888888888888,
              "#fdca26"
             ],
             [
              1,
              "#f0f921"
             ]
            ],
            "type": "contour"
           }
          ],
          "contourcarpet": [
           {
            "colorbar": {
             "outlinewidth": 0,
             "ticks": ""
            },
            "type": "contourcarpet"
           }
          ],
          "heatmap": [
           {
            "colorbar": {
             "outlinewidth": 0,
             "ticks": ""
            },
            "colorscale": [
             [
              0,
              "#0d0887"
             ],
             [
              0.1111111111111111,
              "#46039f"
             ],
             [
              0.2222222222222222,
              "#7201a8"
             ],
             [
              0.3333333333333333,
              "#9c179e"
             ],
             [
              0.4444444444444444,
              "#bd3786"
             ],
             [
              0.5555555555555556,
              "#d8576b"
             ],
             [
              0.6666666666666666,
              "#ed7953"
             ],
             [
              0.7777777777777778,
              "#fb9f3a"
             ],
             [
              0.8888888888888888,
              "#fdca26"
             ],
             [
              1,
              "#f0f921"
             ]
            ],
            "type": "heatmap"
           }
          ],
          "heatmapgl": [
           {
            "colorbar": {
             "outlinewidth": 0,
             "ticks": ""
            },
            "colorscale": [
             [
              0,
              "#0d0887"
             ],
             [
              0.1111111111111111,
              "#46039f"
             ],
             [
              0.2222222222222222,
              "#7201a8"
             ],
             [
              0.3333333333333333,
              "#9c179e"
             ],
             [
              0.4444444444444444,
              "#bd3786"
             ],
             [
              0.5555555555555556,
              "#d8576b"
             ],
             [
              0.6666666666666666,
              "#ed7953"
             ],
             [
              0.7777777777777778,
              "#fb9f3a"
             ],
             [
              0.8888888888888888,
              "#fdca26"
             ],
             [
              1,
              "#f0f921"
             ]
            ],
            "type": "heatmapgl"
           }
          ],
          "histogram": [
           {
            "marker": {
             "pattern": {
              "fillmode": "overlay",
              "size": 10,
              "solidity": 0.2
             }
            },
            "type": "histogram"
           }
          ],
          "histogram2d": [
           {
            "colorbar": {
             "outlinewidth": 0,
             "ticks": ""
            },
            "colorscale": [
             [
              0,
              "#0d0887"
             ],
             [
              0.1111111111111111,
              "#46039f"
             ],
             [
              0.2222222222222222,
              "#7201a8"
             ],
             [
              0.3333333333333333,
              "#9c179e"
             ],
             [
              0.4444444444444444,
              "#bd3786"
             ],
             [
              0.5555555555555556,
              "#d8576b"
             ],
             [
              0.6666666666666666,
              "#ed7953"
             ],
             [
              0.7777777777777778,
              "#fb9f3a"
             ],
             [
              0.8888888888888888,
              "#fdca26"
             ],
             [
              1,
              "#f0f921"
             ]
            ],
            "type": "histogram2d"
           }
          ],
          "histogram2dcontour": [
           {
            "colorbar": {
             "outlinewidth": 0,
             "ticks": ""
            },
            "colorscale": [
             [
              0,
              "#0d0887"
             ],
             [
              0.1111111111111111,
              "#46039f"
             ],
             [
              0.2222222222222222,
              "#7201a8"
             ],
             [
              0.3333333333333333,
              "#9c179e"
             ],
             [
              0.4444444444444444,
              "#bd3786"
             ],
             [
              0.5555555555555556,
              "#d8576b"
             ],
             [
              0.6666666666666666,
              "#ed7953"
             ],
             [
              0.7777777777777778,
              "#fb9f3a"
             ],
             [
              0.8888888888888888,
              "#fdca26"
             ],
             [
              1,
              "#f0f921"
             ]
            ],
            "type": "histogram2dcontour"
           }
          ],
          "mesh3d": [
           {
            "colorbar": {
             "outlinewidth": 0,
             "ticks": ""
            },
            "type": "mesh3d"
           }
          ],
          "parcoords": [
           {
            "line": {
             "colorbar": {
              "outlinewidth": 0,
              "ticks": ""
             }
            },
            "type": "parcoords"
           }
          ],
          "pie": [
           {
            "automargin": true,
            "type": "pie"
           }
          ],
          "scatter": [
           {
            "marker": {
             "colorbar": {
              "outlinewidth": 0,
              "ticks": ""
             }
            },
            "type": "scatter"
           }
          ],
          "scatter3d": [
           {
            "line": {
             "colorbar": {
              "outlinewidth": 0,
              "ticks": ""
             }
            },
            "marker": {
             "colorbar": {
              "outlinewidth": 0,
              "ticks": ""
             }
            },
            "type": "scatter3d"
           }
          ],
          "scattercarpet": [
           {
            "marker": {
             "colorbar": {
              "outlinewidth": 0,
              "ticks": ""
             }
            },
            "type": "scattercarpet"
           }
          ],
          "scattergeo": [
           {
            "marker": {
             "colorbar": {
              "outlinewidth": 0,
              "ticks": ""
             }
            },
            "type": "scattergeo"
           }
          ],
          "scattergl": [
           {
            "marker": {
             "colorbar": {
              "outlinewidth": 0,
              "ticks": ""
             }
            },
            "type": "scattergl"
           }
          ],
          "scattermapbox": [
           {
            "marker": {
             "colorbar": {
              "outlinewidth": 0,
              "ticks": ""
             }
            },
            "type": "scattermapbox"
           }
          ],
          "scatterpolar": [
           {
            "marker": {
             "colorbar": {
              "outlinewidth": 0,
              "ticks": ""
             }
            },
            "type": "scatterpolar"
           }
          ],
          "scatterpolargl": [
           {
            "marker": {
             "colorbar": {
              "outlinewidth": 0,
              "ticks": ""
             }
            },
            "type": "scatterpolargl"
           }
          ],
          "scatterternary": [
           {
            "marker": {
             "colorbar": {
              "outlinewidth": 0,
              "ticks": ""
             }
            },
            "type": "scatterternary"
           }
          ],
          "surface": [
           {
            "colorbar": {
             "outlinewidth": 0,
             "ticks": ""
            },
            "colorscale": [
             [
              0,
              "#0d0887"
             ],
             [
              0.1111111111111111,
              "#46039f"
             ],
             [
              0.2222222222222222,
              "#7201a8"
             ],
             [
              0.3333333333333333,
              "#9c179e"
             ],
             [
              0.4444444444444444,
              "#bd3786"
             ],
             [
              0.5555555555555556,
              "#d8576b"
             ],
             [
              0.6666666666666666,
              "#ed7953"
             ],
             [
              0.7777777777777778,
              "#fb9f3a"
             ],
             [
              0.8888888888888888,
              "#fdca26"
             ],
             [
              1,
              "#f0f921"
             ]
            ],
            "type": "surface"
           }
          ],
          "table": [
           {
            "cells": {
             "fill": {
              "color": "#EBF0F8"
             },
             "line": {
              "color": "white"
             }
            },
            "header": {
             "fill": {
              "color": "#C8D4E3"
             },
             "line": {
              "color": "white"
             }
            },
            "type": "table"
           }
          ]
         },
         "layout": {
          "annotationdefaults": {
           "arrowcolor": "#2a3f5f",
           "arrowhead": 0,
           "arrowwidth": 1
          },
          "autotypenumbers": "strict",
          "coloraxis": {
           "colorbar": {
            "outlinewidth": 0,
            "ticks": ""
           }
          },
          "colorscale": {
           "diverging": [
            [
             0,
             "#8e0152"
            ],
            [
             0.1,
             "#c51b7d"
            ],
            [
             0.2,
             "#de77ae"
            ],
            [
             0.3,
             "#f1b6da"
            ],
            [
             0.4,
             "#fde0ef"
            ],
            [
             0.5,
             "#f7f7f7"
            ],
            [
             0.6,
             "#e6f5d0"
            ],
            [
             0.7,
             "#b8e186"
            ],
            [
             0.8,
             "#7fbc41"
            ],
            [
             0.9,
             "#4d9221"
            ],
            [
             1,
             "#276419"
            ]
           ],
           "sequential": [
            [
             0,
             "#0d0887"
            ],
            [
             0.1111111111111111,
             "#46039f"
            ],
            [
             0.2222222222222222,
             "#7201a8"
            ],
            [
             0.3333333333333333,
             "#9c179e"
            ],
            [
             0.4444444444444444,
             "#bd3786"
            ],
            [
             0.5555555555555556,
             "#d8576b"
            ],
            [
             0.6666666666666666,
             "#ed7953"
            ],
            [
             0.7777777777777778,
             "#fb9f3a"
            ],
            [
             0.8888888888888888,
             "#fdca26"
            ],
            [
             1,
             "#f0f921"
            ]
           ],
           "sequentialminus": [
            [
             0,
             "#0d0887"
            ],
            [
             0.1111111111111111,
             "#46039f"
            ],
            [
             0.2222222222222222,
             "#7201a8"
            ],
            [
             0.3333333333333333,
             "#9c179e"
            ],
            [
             0.4444444444444444,
             "#bd3786"
            ],
            [
             0.5555555555555556,
             "#d8576b"
            ],
            [
             0.6666666666666666,
             "#ed7953"
            ],
            [
             0.7777777777777778,
             "#fb9f3a"
            ],
            [
             0.8888888888888888,
             "#fdca26"
            ],
            [
             1,
             "#f0f921"
            ]
           ]
          },
          "colorway": [
           "#636efa",
           "#EF553B",
           "#00cc96",
           "#ab63fa",
           "#FFA15A",
           "#19d3f3",
           "#FF6692",
           "#B6E880",
           "#FF97FF",
           "#FECB52"
          ],
          "font": {
           "color": "#2a3f5f"
          },
          "geo": {
           "bgcolor": "white",
           "lakecolor": "white",
           "landcolor": "#E5ECF6",
           "showlakes": true,
           "showland": true,
           "subunitcolor": "white"
          },
          "hoverlabel": {
           "align": "left"
          },
          "hovermode": "closest",
          "mapbox": {
           "style": "light"
          },
          "paper_bgcolor": "white",
          "plot_bgcolor": "#E5ECF6",
          "polar": {
           "angularaxis": {
            "gridcolor": "white",
            "linecolor": "white",
            "ticks": ""
           },
           "bgcolor": "#E5ECF6",
           "radialaxis": {
            "gridcolor": "white",
            "linecolor": "white",
            "ticks": ""
           }
          },
          "scene": {
           "xaxis": {
            "backgroundcolor": "#E5ECF6",
            "gridcolor": "white",
            "gridwidth": 2,
            "linecolor": "white",
            "showbackground": true,
            "ticks": "",
            "zerolinecolor": "white"
           },
           "yaxis": {
            "backgroundcolor": "#E5ECF6",
            "gridcolor": "white",
            "gridwidth": 2,
            "linecolor": "white",
            "showbackground": true,
            "ticks": "",
            "zerolinecolor": "white"
           },
           "zaxis": {
            "backgroundcolor": "#E5ECF6",
            "gridcolor": "white",
            "gridwidth": 2,
            "linecolor": "white",
            "showbackground": true,
            "ticks": "",
            "zerolinecolor": "white"
           }
          },
          "shapedefaults": {
           "line": {
            "color": "#2a3f5f"
           }
          },
          "ternary": {
           "aaxis": {
            "gridcolor": "white",
            "linecolor": "white",
            "ticks": ""
           },
           "baxis": {
            "gridcolor": "white",
            "linecolor": "white",
            "ticks": ""
           },
           "bgcolor": "#E5ECF6",
           "caxis": {
            "gridcolor": "white",
            "linecolor": "white",
            "ticks": ""
           }
          },
          "title": {
           "x": 0.05
          },
          "xaxis": {
           "automargin": true,
           "gridcolor": "white",
           "linecolor": "white",
           "ticks": "",
           "title": {
            "standoff": 15
           },
           "zerolinecolor": "white",
           "zerolinewidth": 2
          },
          "yaxis": {
           "automargin": true,
           "gridcolor": "white",
           "linecolor": "white",
           "ticks": "",
           "title": {
            "standoff": 15
           },
           "zerolinecolor": "white",
           "zerolinewidth": 2
          }
         }
        }
       }
      },
      "text/html": [
       "<div>                            <div id=\"a25a9311-66db-449d-98d8-67b2639a2657\" class=\"plotly-graph-div\" style=\"height:525px; width:100%;\"></div>            <script type=\"text/javascript\">                require([\"plotly\"], function(Plotly) {                    window.PLOTLYENV=window.PLOTLYENV || {};                                    if (document.getElementById(\"a25a9311-66db-449d-98d8-67b2639a2657\")) {                    Plotly.newPlot(                        \"a25a9311-66db-449d-98d8-67b2639a2657\",                        [{\"hovertemplate\":\"label=basic<br>tsne_1=%{x}<br>tsne_2=%{y}<br>tsne_3=%{z}<extra></extra>\",\"legendgroup\":\"basic\",\"marker\":{\"color\":\"#636efa\",\"symbol\":\"circle\"},\"mode\":\"markers\",\"name\":\"basic\",\"scene\":\"scene\",\"showlegend\":true,\"type\":\"scatter3d\",\"x\":[29.67952537536621,40.44498062133789,136.56402587890625,-7.940130710601807,-13.511067390441895,-55.833526611328125,-44.71146774291992,45.3758544921875,-55.96071243286133,-24.596981048583984,52.42421340942383,-64.70272064208984,51.323692321777344,-48.05900573730469,-86.83197784423828,50.322322845458984,-12.463507652282715,13.948773384094238,25.060462951660156,-59.156925201416016,43.99867630004883,59.46274948120117,-3.777705192565918,-95.32872009277344,6.4863457679748535,-120.46502685546875,16.296850204467773,95.70611572265625,70.17544555664062,38.68868637084961,-10.679110527038574,119.7801513671875,53.377532958984375,-51.26341247558594,58.800418853759766,4.48654842376709,-38.94261169433594,17.950550079345703,-17.963382720947266,3.404340982437134,-12.867179870605469,47.671234130859375,1.469902515411377,-21.42194938659668,-30.284711837768555,-23.66687774658203,24.022106170654297,-8.676167488098145,12.634746551513672,-14.363297462463379,43.42394256591797,49.35634231567383,97.73503875732422,19.786514282226562,25.780447006225586,42.28581619262695,-62.02085876464844,17.373008728027344,52.92203903198242,86.40298461914062,27.713186264038086,96.1598129272461,-30.689294815063477,-1.7088487148284912,7.897684097290039,-39.663089752197266,42.44499588012695,148.6583709716797,6.44732666015625,61.57966995239258,38.32151412963867,3.8417763710021973,-53.66560745239258,-19.713451385498047,-76.3428726196289,3.924583673477173,147.48516845703125,42.157371520996094,-24.749469757080078,116.47296905517578,36.99955749511719,-30.691682815551758,-52.38751220703125,-0.13384442031383514,45.08842468261719,22.49776840209961,-41.17499923706055,-15.22182846069336,-126.84272766113281,27.8319091796875,-30.451622009277344,-12.919909477233887,-7.598232746124268,13.758849143981934,48.73942565917969,133.4964599609375,-48.242462158203125,-66.09768676757812,-28.15145492553711,-18.464540481567383,54.16487503051758,-45.41044235229492,43.76206588745117,-91.14287567138672,-15.379068374633789,-61.556541442871094,-22.798938751220703,8.082377433776855,-39.922279357910156,-45.910369873046875,-29.407752990722656,-28.214988708496094,41.087669372558594,-9.564769744873047,124.11247253417969,-2.043126344680786,23.631664276123047,0.8439018726348877,42.37187194824219,60.936973571777344,-1.9400520324707031,-63.10340881347656,-49.27710723876953,-24.437744140625,94.24952697753906,-15.693479537963867,125.97259521484375,-33.91699981689453,40.287960052490234,83.322021484375,24.312421798706055,-56.58150100708008,-6.655426979064941,22.07769203186035,-12.17903995513916,106.8089828491211,-52.6151008605957,133.5782470703125,-113.449951171875,56.5720329284668,24.58462142944336,76.2530288696289,34.56045150756836,-11.615472793579102,-117.4586410522461,18.78289794921875,-3.3445723056793213,-36.55515670776367,-30.554931640625,9.61607837677002,-17.778120040893555,-89.08257293701172,141.41384887695312,-63.5225830078125,-52.18341827392578,-41.551910400390625,-48.087440490722656,-12.812687873840332,-79.07292175292969,-31.360692977905273,-31.65873146057129,-7.7823872566223145,8.19596004486084,13.700006484985352,-31.875099182128906,41.76912307739258,-14.495793342590332,74.91902160644531,7.722717761993408,73.30030059814453,-2.2208666801452637,37.01469039916992,-20.867101669311523,12.866744995117188,-27.166913986206055,23.768735885620117,37.989627838134766,24.917490005493164,103.60661315917969,-51.52357482910156,-39.75082015991211,-14.191447257995605,-32.44648742675781,27.59903335571289,136.0460968017578,150.94442749023438,-13.254606246948242,22.270944595336914,-8.496785163879395,34.72282028198242,14.420293807983398,-64.57579803466797,31.064725875854492,-48.754920959472656,-91.46185302734375,26.156763076782227,135.51100158691406,-60.722103118896484,14.222379684448242,-2.880768299102783],\"y\":[-74.49383544921875,42.695648193359375,35.90763473510742,-106.01454162597656,-22.484493255615234,-5.681863307952881,-14.498886108398438,-89.49551391601562,55.170204162597656,90.76739501953125,-48.53960418701172,-22.219621658325195,-86.73976135253906,33.460575103759766,28.78923797607422,-72.51207733154297,19.172740936279297,-34.48223876953125,-91.6985855102539,35.74689483642578,-76.03099060058594,-22.598947525024414,-82.8391342163086,19.713665008544922,36.329811096191406,-8.844511985778809,5.81002140045166,-2.3474178314208984,31.72212028503418,-77.11802673339844,-31.321311950683594,26.684589385986328,-100.16796875,17.056140899658203,-67.81240844726562,-101.30111694335938,-82.39969635009766,-18.644664764404297,-85.38367462158203,-138.538818359375,-93.4013671875,24.835926055908203,-104.59219360351562,-68.61190795898438,-98.79650115966797,-26.0374755859375,-78.89446258544922,-95.54505157470703,52.82577133178711,-113.09141540527344,-102.50605773925781,-20.3276309967041,19.467933654785156,-110.60450744628906,-94.68195343017578,-55.19892120361328,-18.710060119628906,51.216224670410156,-101.25957489013672,20.860288619995117,81.08663940429688,33.03208923339844,-6.430910110473633,-122.12567901611328,-55.59965133666992,-93.29586029052734,-98.85415649414062,32.128456115722656,-96.4925308227539,15.919867515563965,20.17552375793457,59.98250961303711,-86.16780853271484,-0.6660003066062927,2.681553840637207,-120.53862762451172,5.621005058288574,-104.20846557617188,-61.873783111572266,23.29838752746582,-106.99327850341797,-19.40637969970703,-57.79722595214844,21.780118942260742,61.0332145690918,63.419132232666016,-68.46807098388672,-117.32745361328125,-12.587993621826172,-80.1608657836914,45.34731674194336,64.38721466064453,-108.41425323486328,-124.06609344482422,-61.473758697509766,40.8406867980957,-41.06002426147461,-11.420392990112305,80.68141174316406,-137.01133728027344,-68.60032653808594,-110.35289764404297,84.5146713256836,34.147274017333984,64.20235443115234,-72.32349395751953,-91.84567260742188,-69.9981689453125,20.235733032226562,114.6587142944336,-121.889404296875,-60.927127838134766,-37.358943939208984,-36.94123077392578,10.299005508422852,-135.9750518798828,-130.78201293945312,34.71428680419922,-49.62733840942383,-95.94252014160156,-105.57990264892578,25.595197677612305,49.122215270996094,28.830244064331055,-0.40097808837890625,93.03755950927734,-2.3635287284851074,30.505056381225586,-73.73182678222656,8.250593185424805,-60.39769744873047,-3.027399778366089,-73.86136627197266,12.23716926574707,85.56230926513672,-1.5482596158981323,-43.77435302734375,18.092817306518555,-1.9666411876678467,-81.32322692871094,-51.63523864746094,-76.65912628173828,-62.89813995361328,-135.96798706054688,-20.027875900268555,-64.64675903320312,29.865163803100586,4.834367275238037,-59.23569107055664,20.192167282104492,-107.41627502441406,28.914012908935547,15.799991607666016,-12.732294082641602,-3.5071427822113037,-116.57804870605469,-21.05014991760254,-58.466590881347656,-9.602127075195312,105.28670501708984,6.871074199676514,46.504581451416016,68.4926986694336,-71.65143585205078,59.0756721496582,-88.17366027832031,-104.1538314819336,-93.33253479003906,7.891567707061768,16.76821517944336,-0.5102456212043762,45.3912467956543,-83.24788665771484,-50.19391632080078,52.116546630859375,-83.9244155883789,21.65289878845215,-106.86907196044922,8.222349166870117,-21.57540512084961,-96.87307739257812,-9.236128807067871,-80.06040954589844,-86.04791259765625,8.753196716308594,19.190465927124023,-124.80413055419922,44.34148025512695,-112.07839965820312,-102.23920440673828,-61.34724807739258,90.61747741699219,-58.915863037109375,-63.082176208496094,35.2884407043457,17.404787063598633,26.48002052307129,63.649715423583984,39.830604553222656,-5.9366374015808105],\"z\":[84.57151794433594,88.33460998535156,-35.894474029541016,19.414812088012695,-75.70045471191406,-79.95425415039062,-88.28083038330078,105.24066925048828,23.209362030029297,-66.90087127685547,70.11062622070312,-76.69686126708984,6.17458438873291,-31.69240951538086,-10.32609748840332,-12.846485137939453,131.58224487304688,8.930658340454102,82.01020812988281,-14.318394660949707,76.2505111694336,12.85554313659668,52.74614334106445,-25.26146125793457,148.7206573486328,-36.229007720947266,116.91648864746094,-41.961639404296875,49.046287536621094,58.53306579589844,12.918844223022461,-38.03994369506836,90.93424987792969,101.00252532958984,81.3831787109375,69.94863891601562,-37.97908020019531,-41.53449630737305,45.25333023071289,-1.5841861963272095,33.85877227783203,-42.0959587097168,34.633628845214844,56.44685745239258,-34.06658172607422,21.736474990844727,69.19973754882812,78.654541015625,143.49752807617188,30.927627563476562,54.75863265991211,5.537051677703857,-12.499374389648438,48.58404541015625,55.08740997314453,14.202588081359863,-49.946075439453125,96.2042236328125,72.8243408203125,-23.949079513549805,-28.22852325439453,-27.082508087158203,-93.67993927001953,4.258286476135254,94.34168243408203,33.991294860839844,3.284574508666992,-22.840791702270508,90.63243865966797,27.605073928833008,112.48860168457031,124.03912353515625,-51.22855758666992,-44.40251159667969,47.701759338378906,47.7409782409668,-39.58015823364258,31.008773803710938,-16.893795013427734,-75.30339813232422,77.9300765991211,-81.45014190673828,-73.87551879882812,88.57666015625,37.92250061035156,79.53663635253906,-18.010665893554688,-43.55088424682617,-55.01203155517578,-7.98307466506958,151.02955627441406,-83.38697052001953,70.72900390625,-0.8305034041404724,30.500768661499023,-18.407163619995117,18.768760681152344,77.77304077148438,-4.921594619750977,4.844513893127441,64.15754699707031,-42.36638641357422,-47.77327346801758,-22.183319091796875,131.2248992919922,-64.01470947265625,6.442051410675049,20.57370376586914,-73.57562255859375,6.829298496246338,-9.167951583862305,-71.97782135009766,-8.323877334594727,-20.227153778076172,-31.127656936645508,16.677335739135742,31.010831832885742,76.52739715576172,31.752641677856445,0.8714929223060608,2.9544622898101807,-28.262313842773438,-9.032149314880371,141.89028930664062,-89.44002532958984,-80.42659759521484,-69.44710540771484,0.25386252999305725,97.77411651611328,-13.535106658935547,103.79765319824219,90.32376861572266,-26.92435646057129,8.356746673583984,-53.558815002441406,-4.926898956298828,-85.78181457519531,-43.4608154296875,-22.607341766357422,94.22936248779297,88.61680603027344,68.90839385986328,69.17200469970703,50.86914825439453,-27.64420509338379,36.273597717285156,118.58233642578125,12.788545608520508,41.766910552978516,134.1609344482422,-15.873432159423828,-78.68151092529297,-27.049650192260742,-63.9962272644043,72.24445343017578,-24.584903717041016,-27.307601928710938,-26.55571174621582,53.422027587890625,3.1514534950256348,-40.57735061645508,119.21800994873047,109.24569702148438,96.48382568359375,138.96482849121094,86.56571197509766,-32.886295318603516,63.99735641479492,-36.33787155151367,14.717425346374512,-27.69883918762207,71.71804809570312,-42.78279113769531,-4.967930316925049,120.87054443359375,7.858841419219971,7.035395622253418,65.39005279541016,-98.30714416503906,-11.104209899902344,-53.32869338989258,10.144865036010742,-53.647300720214844,99.37674713134766,-11.091259956359863,-11.187257766723633,17.80910301208496,81.94058227539062,47.02162170410156,95.1579818725586,78.60209655761719,-22.973377227783203,29.986906051635742,11.399881362915039,-59.786739349365234,-12.034090042114258,-6.680197715759277,0.8728998899459839,67.59076690673828,-49.57414245605469]},{\"hovertemplate\":\"label=proof<br>tsne_1=%{x}<br>tsne_2=%{y}<br>tsne_3=%{z}<extra></extra>\",\"legendgroup\":\"proof\",\"marker\":{\"color\":\"#EF553B\",\"symbol\":\"diamond\"},\"mode\":\"markers\",\"name\":\"proof\",\"scene\":\"scene\",\"showlegend\":true,\"type\":\"scatter3d\",\"x\":[129.74884033203125,-39.38361358642578,60.1551628112793,66.68849182128906,-40.19223403930664,-29.10725975036621,-33.881126403808594,-44.83749008178711,-24.552576065063477,53.920562744140625,18.540632247924805,-50.351261138916016,21.953289031982422,14.035503387451172,32.49042510986328,-21.45115852355957,-7.686018466949463,128.3184051513672,-36.81876754760742,-37.2633171081543,-19.243793487548828,-16.931123733520508,113.19937133789062,33.28260040283203,-51.463226318359375,62.07363510131836,-0.5852572917938232,-75.53855895996094,-38.919307708740234,-37.22138977050781,-31.240436553955078,3.273235559463501,-41.76374053955078,-46.881954193115234,97.11293029785156,-20.852561950683594,-70.22127532958984,-24.008113861083984,2.240290403366089,-42.13875961303711,-75.50849151611328,-22.751113891601562,60.86113357543945,-45.83855056762695,9.87749195098877,-9.64666748046875,-63.564395904541016,5.814199924468994,-2.3072822093963623,60.320579528808594,-17.07650375366211,-22.127901077270508,114.85843658447266,129.76858520507812,55.475154876708984,-30.794586181640625,-35.423397064208984,-96.7669906616211,-22.744619369506836,-22.022933959960938,-21.85721206665039,-21.286649703979492,-62.62462615966797,-3.4233410358428955,-61.662105560302734,129.47866821289062,18.213306427001953,-64.31404113769531,-35.97132873535156,-14.793123245239258,13.760010719299316,-70.50767517089844,-49.8895378112793,-43.94355010986328,-105.7603759765625,73.09406280517578,-6.957129001617432,11.33949089050293,-20.42823028564453,-25.98060417175293,74.17623138427734,-29.511062622070312,-16.80929946899414,-36.114097595214844,-37.58212661743164,55.95889663696289,135.5281219482422,-92.15875244140625,114.4631576538086,-36.29737091064453,43.63350296020508,-49.25166702270508,2.343189001083374,-30.088623046875,53.84227752685547,-59.767921447753906,-0.11922122538089752,54.71696472167969,75.53665161132812,-2.987546920776367,-44.17903137207031,-87.5843276977539,-18.602624893188477,-112.22169494628906,1.797183871269226,26.47197723388672,18.306760787963867,35.889991760253906,-48.651737213134766,-62.07805633544922,-23.750646591186523,-12.736868858337402,-21.94395637512207,-102.28363037109375,35.88978958129883,84.93991088867188,-52.3256721496582,7.294183731079102,-49.2679443359375,62.07706069946289,-71.16473388671875,-45.800018310546875,110.48748779296875,74.06922149658203,114.41685485839844,-23.031673431396484,-20.636606216430664,42.57857131958008,-83.99072265625,-26.22185707092285,-21.719505310058594,23.934823989868164,2.2889208793640137,-56.187015533447266,-35.235477447509766,78.71204376220703,-70.88275909423828,82.96370697021484,-51.43642044067383,106.0490493774414,-70.73876953125,-66.4324951171875,52.695926666259766,-22.655364990234375,-57.81023025512695,38.095054626464844,48.191123962402344,49.94160079956055,-27.462770462036133,-46.60572052001953,-0.14310571551322937,-78.85082244873047,-9.35505199432373,-19.98841094970703,-48.360694885253906,43.25552749633789,-54.78963088989258,0.8829642534255981,-32.79079818725586,45.255348205566406,-6.441568851470947,-46.973724365234375,82.80825805664062,-123.91780853271484,-69.37040710449219,-3.656076431274414,13.033989906311035,-8.853768348693848,18.74561882019043,-19.18187141418457,-35.36559295654297,-33.346763610839844,-57.26317596435547,105.6857681274414,-3.6157097816467285,37.42697525024414,151.77561950683594,-116.32721710205078,-64.16240692138672,-5.886556625366211,-34.17806625366211,-31.375093460083008,-50.367469787597656,12.878944396972656,63.2862548828125,-6.462666034698486,0.36514532566070557,-14.439376831054688,3.6394762992858887,-38.11442565917969,15.124631881713867,-33.79413986206055,118.40892791748047,-46.670406341552734,6.923201560974121,115.25709533691406,-78.77153778076172,11.081107139587402,159.29843139648438,-106.29443359375],\"y\":[10.088793754577637,-110.11295318603516,2.1858787536621094,-3.369220733642578,-33.10986328125,5.172632694244385,-19.528911590576172,-67.220703125,-15.779500007629395,39.557926177978516,17.05596923828125,46.865989685058594,61.86827850341797,9.52805233001709,-27.57854652404785,-109.56025695800781,23.026466369628906,-2.420626401901245,40.08637237548828,-45.96697235107422,46.07596969604492,-0.03834070637822151,30.436962127685547,55.01831817626953,102.93059539794922,-53.60671615600586,54.26125717163086,60.736141204833984,-48.948875427246094,42.5052604675293,4.669747829437256,-136.61587524414062,-27.51764678955078,43.60357666015625,3.903954267501831,11.947953224182129,64.46729278564453,-105.00596618652344,-42.97883224487305,23.737661361694336,-62.031455993652344,28.532928466796875,-88.07552337646484,39.58264923095703,37.10335159301758,-124.10493469238281,-31.97022819519043,63.43111038208008,-20.01201057434082,23.055973052978516,-47.48356246948242,-124.15074920654297,9.663883209228516,24.85680389404297,8.867559432983398,26.126827239990234,-2.859952449798584,-37.019657135009766,11.880023002624512,-51.98365783691406,-21.207653045654297,-59.07064437866211,-41.03713607788086,-44.914390563964844,21.757783889770508,25.41010856628418,24.345470428466797,-13.424495697021484,-75.76738739013672,29.795658111572266,-117.24665069580078,43.63478469848633,2.87094783782959,-10.13667106628418,5.95397424697876,12.099411964416504,60.634803771972656,75.79009246826172,121.16558074951172,-115.54911041259766,18.969736099243164,-6.3149919509887695,60.735294342041016,11.250570297241211,-14.081543922424316,-98.25080871582031,-1.9899635314941406,-29.544666290283203,23.116289138793945,-34.3755989074707,26.279624938964844,78.94674682617188,-119.35509490966797,29.55432891845703,-86.39273834228516,89.8594970703125,-61.101539611816406,-64.13321685791016,-91.20365905761719,-127.97608184814453,87.43048095703125,-26.941822052001953,-99.84627532958984,-0.3110729455947876,-73.68209075927734,-73.27238464355469,-69.6626205444336,31.198827743530273,-36.65228271484375,77.0047836303711,-32.00456237792969,-92.25077056884766,-18.79532241821289,29.07562828063965,21.668460845947266,20.67730140686035,-37.92812728881836,-97.08193969726562,-20.268177032470703,-81.62672424316406,2.8353219032287598,21.61067008972168,-4.188578128814697,-102.33269500732422,9.793914794921875,-75.16400146484375,128.15147399902344,-60.94914627075195,24.542970657348633,4.503270626068115,-5.957351207733154,19.07088279724121,65.65705108642578,-4.717165470123291,-132.0301971435547,-75.0890121459961,-51.08645248413086,3.176392078399658,-81.68376922607422,17.00844383239746,10.593295097351074,73.34285736083984,57.04633331298828,30.570354461669922,-3.036503314971924,-90.94851684570312,43.82028579711914,20.59305191040039,-78.34441375732422,-56.633033752441406,88.13853454589844,-11.963610649108887,80.77587127685547,-71.93351745605469,-95.81121063232422,-1.278448462486267,-52.95302200317383,-30.515491485595703,-66.30640411376953,50.166351318359375,-121.52339172363281,10.406893730163574,16.35566520690918,4.9142866134643555,45.5963134765625,70.15543365478516,-130.47659301757812,22.289644241333008,-63.68257522583008,-83.63053894042969,-89.19649505615234,-60.81820297241211,0.4239799380302429,-3.2894446849823,36.342830657958984,3.7867136001586914,2.8652830123901367,16.03433609008789,49.665035247802734,34.68796920776367,-68.89643096923828,-4.4979352951049805,-70.57051849365234,-112.73727416992188,45.05988693237305,-42.253387451171875,75.79199981689453,-7.326728820800781,-114.91588592529297,4.669039726257324,-53.56898498535156,-53.36111831665039,14.258974075317383,-87.1705551147461,-41.890811920166016,7.255642890930176,53.76774215698242,-86.54513549804688,17.553178787231445,-17.071630477905273],\"z\":[-58.188873291015625,-1.2286384105682373,77.74942779541016,45.74480438232422,-14.521004676818848,-11.579486846923828,-16.555477142333984,-58.92976760864258,30.566099166870117,71.16002655029297,92.20358276367188,-26.209789276123047,-39.6963996887207,-48.10101318359375,-23.848037719726562,6.830851078033447,150.11886596679688,-47.874629974365234,134.2971954345703,-67.07463836669922,135.2985382080078,-64.37647247314453,-19.13345718383789,94.66112518310547,-11.650062561035156,6.877256393432617,157.0238800048828,10.831500053405762,-52.75335693359375,-17.73068618774414,-68.62591552734375,-24.128129959106445,-62.38542175292969,-47.96221923828125,-20.743877410888672,-78.38787841796875,-41.561519622802734,-49.58014678955078,11.830074310302734,-10.793957710266113,-49.2827033996582,-64.83029174804688,28.186227798461914,20.898944854736328,91.3335952758789,-9.356925964355469,-89.44194030761719,93.4361572265625,-63.0170783996582,-39.2728385925293,-13.495601654052734,52.15092086791992,-45.924537658691406,-22.822233200073242,-33.594783782958984,-86.88290405273438,94.57089233398438,-49.221317291259766,-95.4852066040039,-52.8999137878418,3.22235369682312,5.121449947357178,-63.10826873779297,-3.6713335514068604,5.247389793395996,-63.30902099609375,74.41462707519531,-20.782915115356445,31.717430114746094,-76.03640747070312,29.94252586364746,-61.534210205078125,-63.74160385131836,-71.64881134033203,-38.928504943847656,47.8161506652832,109.20030212402344,-34.67974853515625,16.125137329101562,-30.73168182373047,-33.14303970336914,-31.126285552978516,149.45858764648438,98.36612701416016,-56.622623443603516,17.653886795043945,-25.544445037841797,-38.376678466796875,-54.76128005981445,0.9915070533752441,99.6418228149414,6.40346622467041,20.328500747680664,-17.26603889465332,61.10111618041992,5.514588356018066,-16.253286361694336,98.87785339355469,92.10924530029297,36.89931869506836,-15.65227222442627,-55.62724304199219,64.2364730834961,-58.613441467285156,83.34303283691406,31.658367156982422,-24.906583786010742,17.731801986694336,-46.48417282104492,-58.107784271240234,-72.50128936767578,-6.2592926025390625,-60.067481994628906,-72.96780395507812,-19.053192138671875,-90.94634246826172,-0.6623053550720215,53.50796890258789,-41.7307243347168,-9.143340110778809,84.73634338378906,-42.66319274902344,-58.045345306396484,78.91991424560547,-66.94737243652344,27.546924591064453,-16.505577087402344,85.23027801513672,-48.09474182128906,86.651611328125,-79.92816162109375,123.08771514892578,-11.137831687927246,15.069643020629883,5.906845569610596,86.25626373291016,-40.64433288574219,-31.18993377685547,-20.929441452026367,-26.245174407958984,-58.87209701538086,13.19547176361084,18.176345825195312,159.838134765625,-34.45787811279297,69.97566223144531,29.704669952392578,68.38227844238281,11.50485897064209,-40.31187057495117,-82.46686553955078,-53.51774978637695,-72.45002746582031,-6.194454669952393,-35.747840881347656,42.889747619628906,-53.05561828613281,-3.3170204162597656,-47.74039077758789,-5.839729309082031,-27.53382682800293,3.0681257247924805,33.24197006225586,-49.92861557006836,19.70392608642578,-91.66136169433594,16.297143936157227,-62.46276092529297,-10.233292579650879,-23.033695220947266,-21.693918228149414,-29.69551658630371,-18.70253562927246,-77.75679016113281,164.10098266601562,-17.09488296508789,-19.995079040527344,-61.51134490966797,-21.89854621887207,135.8437042236328,-2.460878372192383,-2.482475757598877,-4.591495037078857,10.511820793151855,22.672842025756836,-69.81461334228516,144.77813720703125,-5.622368335723877,-11.032119750976562,-82.54920959472656,-23.05378532409668,-9.335603713989258,-13.65235424041748,-65.12108612060547,-17.304773330688477,-85.43473052978516,-29.447525024414062,26.822086334228516,-27.813310623168945,-16.000009536743164]},{\"hovertemplate\":\"label=theorem<br>tsne_1=%{x}<br>tsne_2=%{y}<br>tsne_3=%{z}<extra></extra>\",\"legendgroup\":\"theorem\",\"marker\":{\"color\":\"#00cc96\",\"symbol\":\"square\"},\"mode\":\"markers\",\"name\":\"theorem\",\"scene\":\"scene\",\"showlegend\":true,\"type\":\"scatter3d\",\"x\":[-57.500553131103516,-36.11156463623047,-10.168196678161621,13.752481460571289,-18.803932189941406,97.04164123535156,-46.88993453979492,28.617965698242188,30.737651824951172,-64.5868911743164,11.999293327331543,-2.2439191341400146,31.48430633544922,33.63798904418945,50.041507720947266,-49.46541213989258,-62.87315368652344,-69.78094482421875,-57.07905578613281,108.88507843017578,9.994507789611816,3.873244047164917,0.2821660041809082,47.23930740356445,8.18541145324707,52.15044021606445,41.348602294921875,17.2447509765625,30.244220733642578,-25.052034378051758,-11.503570556640625,15.528546333312988,-2.899078607559204,29.360904693603516,-4.1098761558532715,26.49294090270996,-54.82919692993164,-19.313371658325195,-2.3236536979675293,9.886545181274414,17.331501007080078,-34.23957824707031,20.806339263916016,-22.998512268066406,30.668703079223633,-103.875244140625,23.819820404052734,24.12049102783203,-43.00127410888672,0.7967554926872253,-19.184389114379883,-4.782167434692383,-8.917584419250488,28.453022003173828,-57.12767028808594,-71.39751434326172,-92.36018371582031,98.9500732421875,28.07758331298828,39.910362243652344,-76.07925415039062,34.62925720214844,64.57332611083984,-55.6824951171875,36.274234771728516,-31.95339012145996,-27.71805191040039,-18.771753311157227,40.67295837402344,-34.901004791259766,14.742355346679688,-61.256553649902344,45.39313888549805,-77.80085754394531,80.3219223022461,7.862810134887695,-4.879431247711182,73.2967758178711,6.050869464874268,21.286500930786133,29.119661331176758,28.094947814941406,73.00139617919922,-22.773258209228516,-78.55087280273438,50.659366607666016,14.835466384887695,86.6300048828125,-0.0026369087863713503,15.574409484863281,22.07733726501465,-4.301756858825684,6.275664329528809,10.888486862182617,53.89373779296875,2.7396631240844727,54.64002227783203,150.1775665283203,24.708040237426758,-76.57708740234375,-38.19318771362305,4.054474830627441,-4.198222637176514,5.920743465423584,130.55819702148438,59.417633056640625,38.010250091552734,-67.84585571289062,59.68825912475586,-62.63889694213867,112.88765716552734,-8.30264949798584,-1.067140817642212,47.339900970458984,-17.275653839111328,-104.59957122802734,4.758293151855469,-1.8114359378814697,-12.68455696105957,-55.93938446044922,68.48929595947266,50.374977111816406,-12.46192455291748,15.313275337219238,-53.15548324584961,-78.75904083251953,-16.661602020263672,99.54618835449219,65.07650756835938,65.97383880615234,39.449058532714844,-0.21644367277622223,-17.33466911315918,11.257923126220703,9.0095853805542,61.066810607910156,20.054983139038086,32.12582015991211,-7.180912971496582,-30.036521911621094,-43.56218719482422,-47.5294189453125,-91.58826446533203,43.58650207519531,45.6766357421875,-125.98226165771484,-49.732322692871094,-0.05871696397662163,3.1626548767089844,-90.52271270751953,7.7451887130737305,-73.47003173828125,-12.260701179504395,-32.67770004272461,63.43207931518555,44.56796646118164,25.39620018005371,54.13785171508789,-0.30870553851127625,-1.2489923238754272,58.849483489990234,35.88429260253906,-31.939697265625,-17.194730758666992,13.087638854980469,26.92136001586914,-31.29058837890625,11.130276679992676,25.08348274230957,-34.26711654663086,-62.524444580078125,-41.66256332397461,-65.16565704345703,48.3884391784668,-4.832460403442383,22.433414459228516,2.781768798828125,55.37091064453125,94.91329193115234,30.331859588623047,-10.76158618927002,-62.68599319458008,-77.28691864013672,47.36960983276367,-2.8628458976745605,56.32717514038086,57.70442581176758,-67.72114562988281,31.943424224853516,26.42578125,-11.649032592773438,-5.33204460144043,-18.876747131347656,36.741233825683594,27.940082550048828,52.79537582397461,-18.2910213470459,-33.533897399902344,39.894325256347656,8.444153785705566],\"y\":[26.981294631958008,-17.64631462097168,101.96330261230469,173.64488220214844,115.1192626953125,12.979723930358887,99.31996154785156,63.38957977294922,-2.4081027507781982,6.859588146209717,158.05337524414062,74.52979278564453,97.9580307006836,-3.4917612075805664,29.645450592041016,2.987281084060669,80.80057525634766,1.0646121501922607,-31.72642707824707,-7.602433204650879,108.3164291381836,58.573665618896484,146.88723754882812,27.904621124267578,99.2287826538086,53.79531478881836,59.77374267578125,123.72575378417969,126.84625244140625,76.93690490722656,76.9735336303711,145.5798797607422,161.9775390625,60.98733901977539,52.477500915527344,151.03541564941406,43.301231384277344,70.61974334716797,-56.99232864379883,105.56600952148438,112.16748809814453,117.12936401367188,27.650178909301758,96.7585678100586,141.0800323486328,-10.444684982299805,59.98795700073242,82.06181335449219,92.49152374267578,92.53109741210938,97.05635833740234,142.342041015625,74.66649627685547,134.4866180419922,27.979814529418945,95.47972106933594,20.299007415771484,23.62961769104004,-48.30342102050781,50.8775520324707,18.734817504882812,8.71036148071289,65.68347930908203,9.829005241394043,9.456271171569824,46.12797164916992,-55.3966064453125,116.69931030273438,69.00117492675781,120.00225067138672,69.09468841552734,14.824613571166992,-4.714426040649414,78.36949157714844,-0.7389542460441589,89.65786743164062,45.308921813964844,-8.507589340209961,171.93576049804688,67.84899139404297,39.70262908935547,74.37714385986328,46.739681243896484,33.18700408935547,6.07159423828125,-22.955135345458984,6.727938175201416,-89.05199432373047,-75.19952392578125,143.63088989257812,-101.59783172607422,120.23757934570312,-91.04229736328125,64.63371276855469,-41.865753173828125,85.08257293701172,30.531824111938477,25.489974975585938,33.998836517333984,27.670743942260742,114.4485855102539,50.34507751464844,153.9964141845703,51.20013427734375,12.617477416992188,18.9158992767334,91.91792297363281,38.99937057495117,54.246925354003906,81.44620513916016,-1.7166221141815186,134.913330078125,124.41431427001953,10.413154602050781,39.92902374267578,23.774036407470703,-21.23476791381836,89.24864959716797,147.68450927734375,-52.91200637817383,47.3231315612793,43.37387466430664,41.542213439941406,160.12359619140625,99.71774291992188,68.75430297851562,62.87367248535156,8.051165580749512,30.883344650268555,10.81470012664795,123.07503509521484,-4.645446300506592,128.65415954589844,160.70973205566406,142.67337036132812,-14.899041175842285,125.61652374267578,16.646053314208984,135.46224975585938,81.73504638671875,6.131840229034424,8.647321701049805,6.908339500427246,139.3279571533203,130.89019775390625,2.018343210220337,102.54254150390625,53.292667388916016,59.841552734375,3.832602024078369,127.370361328125,67.47664642333984,-33.721214294433594,103.06842041015625,-3.423396110534668,104.54407501220703,41.7236213684082,40.016876220703125,112.01732635498047,36.37051010131836,53.79936599731445,28.41550636291504,-30.022048950195312,117.72950744628906,-24.059186935424805,157.04278564453125,-42.59261703491211,32.88207244873047,169.18653869628906,107.20379638671875,34.95437240600586,87.9302749633789,5.330918788909912,-91.17028045654297,105.36933135986328,109.0444107055664,-82.57952880859375,-1.543184757232666,19.899972915649414,103.58890533447266,106.75788879394531,56.78877258300781,-46.016998291015625,105.8504867553711,123.6546859741211,11.33708381652832,-85.52691650390625,-5.580221176147461,0.5061973929405212,-18.477279663085938,-27.427419662475586,98.87313079833984,142.94180297851562,49.401668548583984,159.06724548339844,6.959901332855225,50.22310256958008,-105.83038330078125,-112.75175476074219,40.24016189575195],\"z\":[-55.65589141845703,10.02292537689209,-47.77058792114258,-22.926542282104492,-26.195585250854492,-78.78430938720703,-50.25476837158203,62.709510803222656,79.26045227050781,71.1673355102539,-15.470582008361816,-56.58083724975586,-39.41618347167969,-2.2256815433502197,-26.93080711364746,104.6134262084961,-6.026888370513916,-70.80440521240234,-28.31983757019043,-95.37727355957031,-68.53414916992188,-39.75543975830078,-29.991928100585938,35.04076385498047,-52.86141586303711,63.17628860473633,79.62657165527344,-66.09402465820312,-24.675830841064453,-40.427371978759766,-20.927471160888672,-39.51926040649414,-21.572011947631836,-63.302268981933594,139.2353515625,-9.032148361206055,-61.65205764770508,-57.46186065673828,-73.43844604492188,-37.640647888183594,-50.383148193359375,19.101417541503906,-27.04344367980957,-37.542449951171875,-33.49869918823242,-35.431331634521484,112.01065063476562,-70.83686065673828,-1.6889830827713013,-7.912114143371582,-19.116514205932617,-14.54150104522705,-38.41901397705078,-48.67304611206055,15.740734100341797,-3.79349684715271,-63.61818313598633,-90.83145141601562,-56.875572204589844,51.854339599609375,-34.922908782958984,65.96973419189453,22.274065017700195,-80.87405395507812,95.93118286132812,-36.70256805419922,18.85396957397461,-45.71722412109375,56.498348236083984,-3.004638910293579,-79.59747314453125,87.23147583007812,-10.94355583190918,2.288543462753296,38.943702697753906,-65.12418365478516,92.165771484375,29.030025482177734,-7.206700801849365,96.8593521118164,5.352753639221191,-58.15935134887695,37.490596771240234,123.37324523925781,61.17371368408203,-12.950113296508789,79.8876953125,77.52955627441406,8.025029182434082,-22.525190353393555,33.80720901489258,-17.243080139160156,12.657466888427734,-65.22032928466797,25.347232818603516,-24.862895965576172,21.20323371887207,-40.64234161376953,95.06382751464844,-63.37638473510742,-38.49432373046875,78.78423309326172,-2.2855722904205322,109.754150390625,-76.11328125,90.90662384033203,-57.89537811279297,-33.636844635009766,40.33314514160156,-35.75765609741211,-33.829769134521484,-45.89072036743164,-34.54396438598633,83.18209838867188,-33.75648498535156,-52.8905029296875,-44.69326400756836,-38.97199630737305,10.932811737060547,4.524430274963379,53.89536666870117,6.017666816711426,149.78619384765625,1.860670804977417,-26.936073303222656,-10.639721870422363,-23.195833206176758,-57.35163116455078,33.60672378540039,60.000118255615234,-43.61494445800781,-65.35450744628906,-34.624637603759766,-33.7717170715332,-5.75727653503418,-0.4074605405330658,-36.82533645629883,80.74694061279297,2.6677401065826416,-25.782846450805664,-18.711288452148438,85.76873016357422,-44.50836944580078,-44.79295349121094,-31.554105758666992,-64.80203247070312,17.562728881835938,-65.09955596923828,-80.01566314697266,-29.032405853271484,-50.918922424316406,-56.97966766357422,-58.67356872558594,-47.954620361328125,-33.6870002746582,-30.365314483642578,111.36148071289062,47.276283264160156,-56.393829345703125,-28.46135711669922,78.85768127441406,67.20892333984375,-43.934791564941406,-61.93950271606445,-13.957788467407227,-26.534788131713867,-31.245929718017578,107.8604965209961,-10.461812973022461,-11.775960922241211,-73.41780853271484,-37.68284225463867,99.93038177490234,-8.179235458374023,-25.932727813720703,-12.592249870300293,-15.518205642700195,11.550521850585938,-37.80118179321289,-25.58589744567871,-11.124288558959961,-53.122371673583984,-56.1365966796875,-48.349830627441406,-68.60210418701172,45.807403564453125,77.97502899169922,60.9516487121582,34.25458526611328,-19.129568099975586,35.7188835144043,-66.8446273803711,-6.028882026672363,13.356075286865234,-45.249576568603516,102.57552337646484,164.33074951171875,-17.858829498291016,20.915508270263672,127.49394226074219]}],                        {\"legend\":{\"title\":{\"text\":\"label\"},\"tracegroupgap\":0},\"margin\":{\"t\":60},\"scene\":{\"domain\":{\"x\":[0.0,1.0],\"y\":[0.0,1.0]},\"xaxis\":{\"title\":{\"text\":\"tsne_1\"}},\"yaxis\":{\"title\":{\"text\":\"tsne_2\"}},\"zaxis\":{\"title\":{\"text\":\"tsne_3\"}}},\"template\":{\"data\":{\"bar\":[{\"error_x\":{\"color\":\"#2a3f5f\"},\"error_y\":{\"color\":\"#2a3f5f\"},\"marker\":{\"line\":{\"color\":\"#E5ECF6\",\"width\":0.5},\"pattern\":{\"fillmode\":\"overlay\",\"size\":10,\"solidity\":0.2}},\"type\":\"bar\"}],\"barpolar\":[{\"marker\":{\"line\":{\"color\":\"#E5ECF6\",\"width\":0.5},\"pattern\":{\"fillmode\":\"overlay\",\"size\":10,\"solidity\":0.2}},\"type\":\"barpolar\"}],\"carpet\":[{\"aaxis\":{\"endlinecolor\":\"#2a3f5f\",\"gridcolor\":\"white\",\"linecolor\":\"white\",\"minorgridcolor\":\"white\",\"startlinecolor\":\"#2a3f5f\"},\"baxis\":{\"endlinecolor\":\"#2a3f5f\",\"gridcolor\":\"white\",\"linecolor\":\"white\",\"minorgridcolor\":\"white\",\"startlinecolor\":\"#2a3f5f\"},\"type\":\"carpet\"}],\"choropleth\":[{\"colorbar\":{\"outlinewidth\":0,\"ticks\":\"\"},\"type\":\"choropleth\"}],\"contour\":[{\"colorbar\":{\"outlinewidth\":0,\"ticks\":\"\"},\"colorscale\":[[0.0,\"#0d0887\"],[0.1111111111111111,\"#46039f\"],[0.2222222222222222,\"#7201a8\"],[0.3333333333333333,\"#9c179e\"],[0.4444444444444444,\"#bd3786\"],[0.5555555555555556,\"#d8576b\"],[0.6666666666666666,\"#ed7953\"],[0.7777777777777778,\"#fb9f3a\"],[0.8888888888888888,\"#fdca26\"],[1.0,\"#f0f921\"]],\"type\":\"contour\"}],\"contourcarpet\":[{\"colorbar\":{\"outlinewidth\":0,\"ticks\":\"\"},\"type\":\"contourcarpet\"}],\"heatmap\":[{\"colorbar\":{\"outlinewidth\":0,\"ticks\":\"\"},\"colorscale\":[[0.0,\"#0d0887\"],[0.1111111111111111,\"#46039f\"],[0.2222222222222222,\"#7201a8\"],[0.3333333333333333,\"#9c179e\"],[0.4444444444444444,\"#bd3786\"],[0.5555555555555556,\"#d8576b\"],[0.6666666666666666,\"#ed7953\"],[0.7777777777777778,\"#fb9f3a\"],[0.8888888888888888,\"#fdca26\"],[1.0,\"#f0f921\"]],\"type\":\"heatmap\"}],\"heatmapgl\":[{\"colorbar\":{\"outlinewidth\":0,\"ticks\":\"\"},\"colorscale\":[[0.0,\"#0d0887\"],[0.1111111111111111,\"#46039f\"],[0.2222222222222222,\"#7201a8\"],[0.3333333333333333,\"#9c179e\"],[0.4444444444444444,\"#bd3786\"],[0.5555555555555556,\"#d8576b\"],[0.6666666666666666,\"#ed7953\"],[0.7777777777777778,\"#fb9f3a\"],[0.8888888888888888,\"#fdca26\"],[1.0,\"#f0f921\"]],\"type\":\"heatmapgl\"}],\"histogram\":[{\"marker\":{\"pattern\":{\"fillmode\":\"overlay\",\"size\":10,\"solidity\":0.2}},\"type\":\"histogram\"}],\"histogram2d\":[{\"colorbar\":{\"outlinewidth\":0,\"ticks\":\"\"},\"colorscale\":[[0.0,\"#0d0887\"],[0.1111111111111111,\"#46039f\"],[0.2222222222222222,\"#7201a8\"],[0.3333333333333333,\"#9c179e\"],[0.4444444444444444,\"#bd3786\"],[0.5555555555555556,\"#d8576b\"],[0.6666666666666666,\"#ed7953\"],[0.7777777777777778,\"#fb9f3a\"],[0.8888888888888888,\"#fdca26\"],[1.0,\"#f0f921\"]],\"type\":\"histogram2d\"}],\"histogram2dcontour\":[{\"colorbar\":{\"outlinewidth\":0,\"ticks\":\"\"},\"colorscale\":[[0.0,\"#0d0887\"],[0.1111111111111111,\"#46039f\"],[0.2222222222222222,\"#7201a8\"],[0.3333333333333333,\"#9c179e\"],[0.4444444444444444,\"#bd3786\"],[0.5555555555555556,\"#d8576b\"],[0.6666666666666666,\"#ed7953\"],[0.7777777777777778,\"#fb9f3a\"],[0.8888888888888888,\"#fdca26\"],[1.0,\"#f0f921\"]],\"type\":\"histogram2dcontour\"}],\"mesh3d\":[{\"colorbar\":{\"outlinewidth\":0,\"ticks\":\"\"},\"type\":\"mesh3d\"}],\"parcoords\":[{\"line\":{\"colorbar\":{\"outlinewidth\":0,\"ticks\":\"\"}},\"type\":\"parcoords\"}],\"pie\":[{\"automargin\":true,\"type\":\"pie\"}],\"scatter\":[{\"marker\":{\"colorbar\":{\"outlinewidth\":0,\"ticks\":\"\"}},\"type\":\"scatter\"}],\"scatter3d\":[{\"line\":{\"colorbar\":{\"outlinewidth\":0,\"ticks\":\"\"}},\"marker\":{\"colorbar\":{\"outlinewidth\":0,\"ticks\":\"\"}},\"type\":\"scatter3d\"}],\"scattercarpet\":[{\"marker\":{\"colorbar\":{\"outlinewidth\":0,\"ticks\":\"\"}},\"type\":\"scattercarpet\"}],\"scattergeo\":[{\"marker\":{\"colorbar\":{\"outlinewidth\":0,\"ticks\":\"\"}},\"type\":\"scattergeo\"}],\"scattergl\":[{\"marker\":{\"colorbar\":{\"outlinewidth\":0,\"ticks\":\"\"}},\"type\":\"scattergl\"}],\"scattermapbox\":[{\"marker\":{\"colorbar\":{\"outlinewidth\":0,\"ticks\":\"\"}},\"type\":\"scattermapbox\"}],\"scatterpolar\":[{\"marker\":{\"colorbar\":{\"outlinewidth\":0,\"ticks\":\"\"}},\"type\":\"scatterpolar\"}],\"scatterpolargl\":[{\"marker\":{\"colorbar\":{\"outlinewidth\":0,\"ticks\":\"\"}},\"type\":\"scatterpolargl\"}],\"scatterternary\":[{\"marker\":{\"colorbar\":{\"outlinewidth\":0,\"ticks\":\"\"}},\"type\":\"scatterternary\"}],\"surface\":[{\"colorbar\":{\"outlinewidth\":0,\"ticks\":\"\"},\"colorscale\":[[0.0,\"#0d0887\"],[0.1111111111111111,\"#46039f\"],[0.2222222222222222,\"#7201a8\"],[0.3333333333333333,\"#9c179e\"],[0.4444444444444444,\"#bd3786\"],[0.5555555555555556,\"#d8576b\"],[0.6666666666666666,\"#ed7953\"],[0.7777777777777778,\"#fb9f3a\"],[0.8888888888888888,\"#fdca26\"],[1.0,\"#f0f921\"]],\"type\":\"surface\"}],\"table\":[{\"cells\":{\"fill\":{\"color\":\"#EBF0F8\"},\"line\":{\"color\":\"white\"}},\"header\":{\"fill\":{\"color\":\"#C8D4E3\"},\"line\":{\"color\":\"white\"}},\"type\":\"table\"}]},\"layout\":{\"annotationdefaults\":{\"arrowcolor\":\"#2a3f5f\",\"arrowhead\":0,\"arrowwidth\":1},\"autotypenumbers\":\"strict\",\"coloraxis\":{\"colorbar\":{\"outlinewidth\":0,\"ticks\":\"\"}},\"colorscale\":{\"diverging\":[[0,\"#8e0152\"],[0.1,\"#c51b7d\"],[0.2,\"#de77ae\"],[0.3,\"#f1b6da\"],[0.4,\"#fde0ef\"],[0.5,\"#f7f7f7\"],[0.6,\"#e6f5d0\"],[0.7,\"#b8e186\"],[0.8,\"#7fbc41\"],[0.9,\"#4d9221\"],[1,\"#276419\"]],\"sequential\":[[0.0,\"#0d0887\"],[0.1111111111111111,\"#46039f\"],[0.2222222222222222,\"#7201a8\"],[0.3333333333333333,\"#9c179e\"],[0.4444444444444444,\"#bd3786\"],[0.5555555555555556,\"#d8576b\"],[0.6666666666666666,\"#ed7953\"],[0.7777777777777778,\"#fb9f3a\"],[0.8888888888888888,\"#fdca26\"],[1.0,\"#f0f921\"]],\"sequentialminus\":[[0.0,\"#0d0887\"],[0.1111111111111111,\"#46039f\"],[0.2222222222222222,\"#7201a8\"],[0.3333333333333333,\"#9c179e\"],[0.4444444444444444,\"#bd3786\"],[0.5555555555555556,\"#d8576b\"],[0.6666666666666666,\"#ed7953\"],[0.7777777777777778,\"#fb9f3a\"],[0.8888888888888888,\"#fdca26\"],[1.0,\"#f0f921\"]]},\"colorway\":[\"#636efa\",\"#EF553B\",\"#00cc96\",\"#ab63fa\",\"#FFA15A\",\"#19d3f3\",\"#FF6692\",\"#B6E880\",\"#FF97FF\",\"#FECB52\"],\"font\":{\"color\":\"#2a3f5f\"},\"geo\":{\"bgcolor\":\"white\",\"lakecolor\":\"white\",\"landcolor\":\"#E5ECF6\",\"showlakes\":true,\"showland\":true,\"subunitcolor\":\"white\"},\"hoverlabel\":{\"align\":\"left\"},\"hovermode\":\"closest\",\"mapbox\":{\"style\":\"light\"},\"paper_bgcolor\":\"white\",\"plot_bgcolor\":\"#E5ECF6\",\"polar\":{\"angularaxis\":{\"gridcolor\":\"white\",\"linecolor\":\"white\",\"ticks\":\"\"},\"bgcolor\":\"#E5ECF6\",\"radialaxis\":{\"gridcolor\":\"white\",\"linecolor\":\"white\",\"ticks\":\"\"}},\"scene\":{\"xaxis\":{\"backgroundcolor\":\"#E5ECF6\",\"gridcolor\":\"white\",\"gridwidth\":2,\"linecolor\":\"white\",\"showbackground\":true,\"ticks\":\"\",\"zerolinecolor\":\"white\"},\"yaxis\":{\"backgroundcolor\":\"#E5ECF6\",\"gridcolor\":\"white\",\"gridwidth\":2,\"linecolor\":\"white\",\"showbackground\":true,\"ticks\":\"\",\"zerolinecolor\":\"white\"},\"zaxis\":{\"backgroundcolor\":\"#E5ECF6\",\"gridcolor\":\"white\",\"gridwidth\":2,\"linecolor\":\"white\",\"showbackground\":true,\"ticks\":\"\",\"zerolinecolor\":\"white\"}},\"shapedefaults\":{\"line\":{\"color\":\"#2a3f5f\"}},\"ternary\":{\"aaxis\":{\"gridcolor\":\"white\",\"linecolor\":\"white\",\"ticks\":\"\"},\"baxis\":{\"gridcolor\":\"white\",\"linecolor\":\"white\",\"ticks\":\"\"},\"bgcolor\":\"#E5ECF6\",\"caxis\":{\"gridcolor\":\"white\",\"linecolor\":\"white\",\"ticks\":\"\"}},\"title\":{\"x\":0.05},\"xaxis\":{\"automargin\":true,\"gridcolor\":\"white\",\"linecolor\":\"white\",\"ticks\":\"\",\"title\":{\"standoff\":15},\"zerolinecolor\":\"white\",\"zerolinewidth\":2},\"yaxis\":{\"automargin\":true,\"gridcolor\":\"white\",\"linecolor\":\"white\",\"ticks\":\"\",\"title\":{\"standoff\":15},\"zerolinecolor\":\"white\",\"zerolinewidth\":2}}}},                        {\"responsive\": true}                    ).then(function(){\n",
       "                            \n",
       "var gd = document.getElementById('a25a9311-66db-449d-98d8-67b2639a2657');\n",
       "var x = new MutationObserver(function (mutations, observer) {{\n",
       "        var display = window.getComputedStyle(gd).display;\n",
       "        if (!display || display === 'none') {{\n",
       "            console.log([gd, 'removed!']);\n",
       "            Plotly.purge(gd);\n",
       "            observer.disconnect();\n",
       "        }}\n",
       "}});\n",
       "\n",
       "// Listen for the removal of the full notebook cells\n",
       "var notebookContainer = gd.closest('#notebook-container');\n",
       "if (notebookContainer) {{\n",
       "    x.observe(notebookContainer, {childList: true});\n",
       "}}\n",
       "\n",
       "// Listen for the clearing of the current output cell\n",
       "var outputEl = gd.closest('.output');\n",
       "if (outputEl) {{\n",
       "    x.observe(outputEl, {childList: true});\n",
       "}}\n",
       "\n",
       "                        })                };                });            </script>        </div>"
      ]
     },
     "metadata": {},
     "output_type": "display_data"
    }
   ],
   "source": [
    "tsne_new = pd.concat([tsne_new, labels], axis=1)\n",
    "\n",
    "import plotly.express as px\n",
    "\n",
    "fig = px.scatter_3d(\n",
    "    tsne_new, x=\"tsne_1\", y=\"tsne_2\", z=\"tsne_3\", symbol=\"label\", color=\"label\"\n",
    ")\n",
    "fig.show()"
   ]
  },
  {
   "cell_type": "markdown",
   "id": "baaa703a",
   "metadata": {},
   "source": [
    "# MDS visualization"
   ]
  },
  {
   "cell_type": "code",
   "execution_count": 48,
   "id": "acb4f6b2",
   "metadata": {},
   "outputs": [
    {
     "name": "stdout",
     "output_type": "stream",
     "text": [
      "breaking at iteration 281 with stress 798.7285729250187\n",
      "breaking at iteration 338 with stress 743.6257685247474\n",
      "breaking at iteration 277 with stress 847.6466204089306\n",
      "breaking at iteration 299 with stress 884.7342836713525\n",
      "4.373473167419434\n"
     ]
    },
    {
     "data": {
      "text/plain": [
       "(600, 3)"
      ]
     },
     "execution_count": 48,
     "metadata": {},
     "output_type": "execute_result"
    }
   ],
   "source": [
    "from sklearn.manifold import MDS\n",
    "import time\n",
    "\n",
    "tick = time.time()\n",
    "embedding = MDS(n_components=3, max_iter=4000, verbose=1)\n",
    "X_transformed = embedding.fit_transform(X)\n",
    "tock = time.time()\n",
    "\n",
    "print(tock - tick)\n",
    "X_transformed.shape"
   ]
  },
  {
   "cell_type": "code",
   "execution_count": 49,
   "id": "ce7cbc28",
   "metadata": {},
   "outputs": [
    {
     "data": {
      "text/plain": [
       "Index(['mds_1', 'mds_2', 'mds_3', 'labels'], dtype='object')"
      ]
     },
     "execution_count": 49,
     "metadata": {},
     "output_type": "execute_result"
    }
   ],
   "source": [
    "mds_df = pd.DataFrame(X_transformed)\n",
    "mds_df.shape\n",
    "\n",
    "mds_new = pd.concat([mds_df, labels], axis=1)\n",
    "mds_new.columns = [\"mds_1\", \"mds_2\", \"mds_3\", \"labels\"]\n",
    "mds_new.columns"
   ]
  },
  {
   "cell_type": "code",
   "execution_count": 50,
   "id": "handmade-eating",
   "metadata": {},
   "outputs": [
    {
     "data": {
      "image/png": "[encoded data removed]",
      "text/plain": [
       "<Figure size 432x288 with 1 Axes>"
      ]
     },
     "metadata": {
      "needs_background": "light"
     },
     "output_type": "display_data"
    }
   ],
   "source": [
    "sns.scatterplot(data=mds_new, x=\"mds_1\", y=\"mds_2\", hue=\"labels\", style=\"labels\")\n",
    "plt.grid()  # just add this\n",
    "plt.show()"
   ]
  },
  {
   "cell_type": "code",
   "execution_count": 51,
   "id": "1b42bf13",
   "metadata": {},
   "outputs": [
    {
     "data": {
      "application/vnd.plotly.v1+json": {
       "config": {
        "plotlyServerURL": "https://plot.ly"
       },
       "data": [
        {
         "hovertemplate": "label=basic<br>mds_1=%{x}<br>mds_2=%{y}<br>mds_3=%{z}<extra></extra>",
         "legendgroup": "basic",
         "marker": {
          "color": "#636efa",
          "symbol": "circle"
         },
         "mode": "markers",
         "name": "basic",
         "scene": "scene",
         "showlegend": true,
         "type": "scatter3d",
         "x": [
          -0.40298720771077573,
          0.1779678595557581,
          -0.12967927390158182,
          -0.3405049843469415,
          -0.12763199428599167,
          -0.06690486260743586,
          -0.07404151793486145,
          -0.40298720771077556,
          0.12787473294118715,
          0.19496479127876223,
          -0.38823278856472193,
          -0.09065629677796246,
          -0.3726008278696368,
          0.0398808545164324,
          -0.06193026086828865,
          -0.370410944208104,
          0.2894970565588712,
          -0.28214317112909537,
          -0.4029872077107755,
          0.038406525966953556,
          -0.4029872077107757,
          -0.23109326714480063,
          -0.35969425396494453,
          -0.09490396978520842,
          0.2809803105113915,
          -0.2951708514488151,
          0.6219911942719181,
          0.02677222009254613,
          0.10319279885632346,
          -0.4029872077107755,
          -0.2628401209438554,
          0.0313399933084439,
          -0.4029872077107758,
          0.06312883446961887,
          -0.40298720771077573,
          -0.3770864670457293,
          -0.2358013508237537,
          -0.10398224850292226,
          -0.3539223180535379,
          -0.3341217051053277,
          -0.3381250065701396,
          0.1826898110052143,
          -0.346091211025669,
          -0.3695424640636185,
          -0.2667434061040463,
          -0.24004360163750496,
          -0.40298720771077573,
          -0.38452305808862053,
          0.285855319315903,
          -0.3465540091853974,
          -0.38729226691387486,
          -0.20255221872991963,
          -0.09932649434577438,
          -0.3729463980836338,
          -0.3857470251553007,
          -0.2599239552633051,
          -0.12410688607917911,
          0.20356259204215085,
          -0.4029872077107757,
          0.023449003902420582,
          0.4120295951545559,
          0.08425945337697364,
          -0.05535583362568521,
          -0.3300296718992916,
          -0.4018993585429309,
          -0.3320296322243659,
          -0.3623801335875302,
          -0.13350585670618303,
          -0.39421892479420056,
          -0.003546502639227066,
          0.44825939925194946,
          0.30800397229459614,
          -0.21975181911388855,
          -0.1042075430064768,
          0.052195186577754876,
          -0.3626511098669186,
          -0.08244760368107532,
          -0.3591736103170797,
          -0.25660321881608683,
          0.3526231625918746,
          -0.39572374709911845,
          -0.08894592146534044,
          -0.13194472697435192,
          0.2649222215933145,
          0.32702133828928026,
          0.2521834200693246,
          -0.2415714160354383,
          -0.2770659092933053,
          -0.38110953887604393,
          -0.3354890092498491,
          0.28585532548772974,
          0.03751723271046871,
          -0.3716933644978531,
          -0.3330780617212343,
          -0.33384343047122267,
          -0.12967759214436533,
          -0.20455859671796017,
          -0.29236741049491033,
          0.23325620438412714,
          -0.3235053297815405,
          -0.4029872077107758,
          -0.24703732992217878,
          0.27512703502843583,
          -0.050611607016667746,
          0.2858553113966283,
          -0.17954679028676707,
          -0.30147455688733676,
          -0.2623363530450945,
          0.006560035192380151,
          0.39442652346797014,
          -0.30257509374110014,
          -0.19223091648482077,
          -0.21029525841438204,
          -0.24996012002043147,
          -0.030825950132930942,
          -0.3387546094299358,
          -0.36007824109734865,
          0.1685943973746368,
          -0.34976058058121845,
          -0.3919437490155114,
          -0.3270138718942341,
          -0.0078022643701403166,
          0.11223230041982817,
          0.2858553302958353,
          0.7396529749170884,
          0.16349585618121829,
          0.293641846358705,
          0.025277935418035233,
          -0.4029872077107757,
          -0.1383817430245762,
          -0.4038510245057269,
          -0.008384568082922808,
          -0.2555392309670828,
          -0.09318000656002468,
          0.19384955701834555,
          -0.37189782414978356,
          -0.113737883523565,
          0.030277863706455035,
          -0.2699861380391039,
          -0.4029872077107759,
          -0.4018993826181691,
          -0.4053439212050848,
          -0.4029872077107758,
          -0.3677423478154346,
          -0.31047811191349367,
          -0.30534563517309354,
          0.27946041497575796,
          -0.20082809847849917,
          -0.32041944624956953,
          0.3901037976954701,
          -0.2881191041038661,
          -0.01213960157833854,
          -0.10681220460435432,
          -0.10340731867806852,
          -0.08612045769660219,
          -0.2782619224370946,
          -0.15711343956221796,
          -0.24291678573028222,
          -0.20817497268256283,
          0.3250383987747112,
          -0.08101933158579054,
          0.2850346037974877,
          0.2709794859480217,
          -0.4018993917401286,
          0.28585532297629335,
          -0.40298720771077573,
          -0.28232569289055154,
          -0.4048512627773956,
          0.03952763233989189,
          -0.14897395564464164,
          -0.08445779654804453,
          0.14175211540238253,
          -0.23675650763080017,
          -0.2757251481558598,
          0.28585532295116944,
          -0.28928222350548416,
          0.20141130467789914,
          -0.387372734835386,
          0.8076936947897123,
          -0.16868808055717435,
          -0.23375605047448555,
          -0.267997761161798,
          -0.22170760564557557,
          -0.4029872077107757,
          -0.13354385374201788,
          -0.12968065777977683,
          -0.34124564538483787,
          0.21452851805017403,
          -0.35394881037096876,
          -0.40298720771077584,
          -0.40385102450572685,
          0.2498298932840921,
          -0.2919392540066693,
          -0.2587613920822126,
          0.016040934163729346,
          0.10631546410270903,
          -0.13354459277824035,
          0.18313372931844432,
          0.15235113012664556,
          -0.08000615927942306
         ],
         "y": [
          -0.07350579610798041,
          0.6957095945887214,
          0.11134842244760333,
          -0.09728553990165037,
          -0.17305305616414948,
          -0.2130547802101379,
          -0.192066622945134,
          -0.07350579610798026,
          -0.5336762826667826,
          -0.27939258276822665,
          -0.051120210079890246,
          -0.18382391839503717,
          -0.05663817131874158,
          -0.35483963780051636,
          -0.325334009841211,
          -0.19063431907910297,
          0.9113374043938142,
          -0.22145479417894412,
          -0.07350579610798043,
          -0.4267551994800908,
          -0.07350579610798046,
          0.17603615245986798,
          -0.08676845707383089,
          -0.35198306046219396,
          0.9273877649401994,
          -0.39784306489501886,
          0.7880571932261566,
          -0.09817573707774926,
          0.4503793871771824,
          -0.0735057961079805,
          -0.2131051301531878,
          0.06471754176453057,
          -0.07350579610798043,
          1.522676212745565,
          -0.07350579610798047,
          -0.08542392357827504,
          -0.11863472027086934,
          -0.05714884031257068,
          -0.1075943676870822,
          -0.0876153883697812,
          -0.10008535254950267,
          -0.15834479375153965,
          -0.08526991256744641,
          -0.1403834452393849,
          -0.10688960542005779,
          -0.260780860934521,
          -0.0735057961079806,
          -0.09345127411321391,
          0.930643938650258,
          -0.09469995350192201,
          -0.07074103630392198,
          0.12896031122438034,
          0.00842260662982987,
          -0.0794123452385749,
          -0.07672651628866073,
          -0.06101413263500463,
          -0.21514489618855806,
          0.7726864945904492,
          -0.07350579610798044,
          -0.04800895118166107,
          -0.21828547906763957,
          -0.06222501181466986,
          -0.19270357483358594,
          -0.08821405636945029,
          -0.06996313051860789,
          -0.1538519922658566,
          -0.12355777073330956,
          0.11313785310875261,
          -0.0864250198670697,
          0.412137384445767,
          0.7371982188759685,
          0.847578666583315,
          -0.11810954370680635,
          -0.25525548037550644,
          0.4154561536437759,
          -0.08535506527497166,
          0.09245702760189464,
          -0.06312669258106288,
          -0.14051695263156702,
          -0.10309815202407298,
          -0.07469131017159072,
          -0.18536248735996336,
          -0.126857594120294,
          0.8688774223494244,
          0.44607982224701387,
          0.7253061288604689,
          -0.13503146746400294,
          -0.09685527506872134,
          0.17243908220888512,
          -0.13492183441578398,
          0.93064394169992,
          -0.187034664188619,
          -0.09121850635690246,
          -0.08752324670030708,
          -0.0017837127878081976,
          0.1113473155797973,
          -0.056280242550632825,
          1.026602008859286,
          -0.2789454134206116,
          -0.10562876482083264,
          -0.07350579610798047,
          -0.11628799237056549,
          -0.026939618467686274,
          -0.36045590713196085,
          0.9306439355281699,
          -0.13321763640101933,
          -0.11575734648162474,
          -0.03363294921137908,
          -0.2558671622643845,
          -0.480913719570576,
          -0.10355592461390835,
          -0.14049092708629457,
          -0.000579074187956003,
          -0.16786463990762965,
          0.04254214239295556,
          -0.09039415988341562,
          -0.07898646713004603,
          0.7975669632089767,
          -0.03163654047588649,
          -0.04093319494470912,
          -0.09512063125452083,
          -0.3524133320365672,
          -0.4404643919188022,
          0.9306439439341018,
          -0.3393551595607773,
          -0.23770888118602104,
          -0.07842256831220298,
          -0.03450682013935528,
          -0.07350579610798044,
          -0.0027540236274409915,
          -0.07854934418517458,
          1.2464740018551206,
          -0.13796634702360003,
          -0.3384128499331018,
          -0.2685440590863004,
          0.43127985239846606,
          -0.1485284694736719,
          0.04529377618197124,
          -0.3721886647924193,
          -0.07350579610798044,
          -0.06996326727716742,
          -0.06690290527071802,
          -0.07350579610798039,
          -0.11774834499423996,
          0.044759442765431444,
          -0.046423010717283546,
          0.8696004386698358,
          -0.344486204744346,
          -0.11503354144518994,
          0.8810529946288993,
          -0.11071751554809034,
          -0.22661519224039198,
          0.0881536580487591,
          -0.20744839770560256,
          1.0989216565977857,
          -0.10677304465368752,
          -0.19025363379780094,
          -0.1496451933132173,
          0.46377112003668725,
          -0.42610019449887393,
          -0.28044070612697164,
          0.8602283341903847,
          0.8044832965411582,
          -0.06996331909329813,
          0.9306439401497703,
          -0.07350579610798035,
          -0.09835820543033787,
          -0.06560514257980314,
          -0.12193396391103435,
          0.2703480855926527,
          -0.14282323454938997,
          0.6684672302689734,
          -0.12154486307997826,
          -0.1726716494205897,
          0.9306439401135017,
          -0.07104141698692883,
          0.13980216072194818,
          -0.07639616609613774,
          -0.33432887442607123,
          -0.20384882771564364,
          -0.10995471332313167,
          -0.24870036828122424,
          -0.13166554527913454,
          -0.07350579610798039,
          0.11316877780414464,
          0.11134933805975418,
          -0.09033330499762525,
          0.731633096770872,
          -0.09261811945741838,
          -0.07350579610798048,
          -0.07854934418517483,
          -0.4659538613329544,
          -0.03994433484762688,
          -0.1609921745409375,
          -0.3691068763009283,
          -0.016414346622896498,
          0.11316934628354967,
          -0.46924761964940975,
          0.7485107844869507,
          -0.18508485920015738
         ],
         "z": [
          0.10307195559614185,
          -0.49816010291393537,
          -0.8196019974940034,
          0.12463776411992594,
          0.1980396577405403,
          0.21149395528023304,
          0.22727079400535521,
          0.10307195559614182,
          -0.009646116911062753,
          0.3833973470716777,
          0.08755552234151329,
          0.24142115485637336,
          0.14486763020513102,
          0.12317491549970264,
          0.08449248251605199,
          0.021319206686473028,
          -0.6323526958584451,
          0.04636562374062426,
          0.10307195559614168,
          0.0602272527898762,
          0.10307195559614181,
          -0.07947177830186114,
          0.08593173732282698,
          0.0844953149997379,
          -0.6585503091868012,
          -0.06964831946827714,
          -0.7136672669478843,
          -0.5520184387947564,
          -0.25104957644719217,
          0.10307195559614167,
          0.04961231714124692,
          -0.717597946878973,
          0.10307195559614185,
          -0.1025630512349428,
          0.1030719555961418,
          0.10782530153261324,
          0.1847417063477704,
          0.07255641332322287,
          0.09321983922387653,
          0.14796676428190492,
          0.11969574927878318,
          -0.07046643817250348,
          0.11952087434118701,
          0.03713903997540077,
          0.17735486040137283,
          0.011264043259243503,
          0.10307195559614164,
          0.09054604764013079,
          -0.6516516689089215,
          0.12196265426121441,
          0.10062125453788072,
          -0.05916780908388944,
          -0.4310469828017666,
          0.12209978755689714,
          0.11402674380307921,
          -0.07017543740812861,
          0.16730936255159187,
          -0.5331040867169917,
          0.10307195559614178,
          -0.38796825512770516,
          0.21959100816791677,
          -0.41279384135872743,
          0.24247733014323483,
          0.1491586765458786,
          0.10070356841900943,
          0.050113526858898465,
          0.09167754020127443,
          -0.8187972637314431,
          0.0903916110302533,
          -0.2785699225310928,
          -0.6040225715035239,
          -0.5741236597333254,
          0.21139892073874028,
          0.1095919234917845,
          1.0077082017673065,
          0.12271384714046978,
          -0.8206647789592939,
          0.0965214611045308,
          0.1370669558927516,
          -0.760622180424192,
          0.10776891664221173,
          0.21905753457425983,
          0.17302111187220542,
          -0.45142300740150376,
          -0.26006462113342094,
          -0.4652983639921679,
          0.14965992891248456,
          0.18753996357727828,
          0.6032509247705425,
          0.08748978914229794,
          -0.651651661665373,
          0.35403536319124723,
          0.10474228405118649,
          0.14709157742521511,
          -0.055804105292302855,
          -0.8196024093307865,
          0.2150236561213453,
          0.3729382415485575,
          0.2409332389847102,
          0.13853428338734836,
          0.10307195559614175,
          0.1901700222688688,
          0.15407704913099632,
          0.06981522265062991,
          -0.6516516770432412,
          0.2286284444528444,
          0.12782378986519244,
          0.10078875245065709,
          0.21971506481729924,
          0.27936590458769345,
          0.15563082307504147,
          0.19694419468126745,
          0.025525815624067312,
          0.1467757959482893,
          -0.7117156746869345,
          0.13797368581766295,
          0.13610934110099931,
          -0.48668467078343963,
          0.0022816850176582237,
          0.1399307641671778,
          0.13908604429808769,
          0.1135972827726703,
          0.10746814947616531,
          -0.6516516562300637,
          -0.702323544623768,
          0.4060359786012322,
          -0.7738807096635496,
          0.34806548731347275,
          0.10307195559614173,
          -0.4577508682178168,
          0.09632055717577483,
          0.15911361047844896,
          0.1476973271114066,
          -0.38627169808635414,
          0.39678930816657043,
          -0.5037671522126066,
          0.2599115731888804,
          -0.7784279833329102,
          -0.05542298440938694,
          0.1030719555961418,
          0.10070334750159651,
          0.11043033185353136,
          0.10307195559614186,
          0.10431424840449227,
          0.35268102873014306,
          0.08573967583529406,
          -0.6139004741050589,
          -0.045006476645583514,
          -0.0619546751292835,
          -0.6557293067395843,
          0.1543606119975526,
          0.3609614438809676,
          -0.7696500572011078,
          0.20108785828975453,
          0.41012923691472486,
          0.1728508045188729,
          0.1604694236418024,
          0.13756367629295832,
          0.8853122364011042,
          0.29838228613065293,
          0.10421391936409065,
          -0.5911089755491057,
          -0.5302968672460797,
          0.10070326380297034,
          -0.6516516650663565,
          0.10307195559614171,
          0.17932162385700498,
          0.11105388994492245,
          0.014147780044428392,
          -0.4383644821211284,
          0.006702041698382652,
          -0.45877856021241925,
          0.18292910333659745,
          0.07613245487206446,
          -0.6516516651308285,
          0.06618819860055664,
          -0.15642593783312145,
          0.11299793629170095,
          -0.7073894104654548,
          0.11031344174247404,
          0.2093320157878504,
          0.023137419676605663,
          0.1803316120445494,
          0.10307195559614153,
          -0.8187862450172416,
          -0.819601657437769,
          0.1358363485304786,
          -0.4951162034738124,
          0.11859631425648694,
          0.10307195559614155,
          0.09632055717577477,
          0.21690081201088618,
          0.039308825462615424,
          0.10248617065981093,
          0.2506746702600144,
          -0.026469244202871573,
          -0.8187860387567916,
          0.1095253786244428,
          -0.4902575961299557,
          0.07116303387779566
         ]
        },
        {
         "hovertemplate": "label=proof<br>mds_1=%{x}<br>mds_2=%{y}<br>mds_3=%{z}<extra></extra>",
         "legendgroup": "proof",
         "marker": {
          "color": "#EF553B",
          "symbol": "diamond"
         },
         "mode": "markers",
         "name": "proof",
         "scene": "scene",
         "showlegend": true,
         "type": "scatter3d",
         "x": [
          0.18757826872672165,
          -0.3086887743250841,
          0.4831141816286002,
          -0.16202504364293666,
          -0.19349115522759872,
          -0.13553901755419143,
          -0.17935845962165584,
          -0.19233713992477544,
          -0.2084208305269125,
          0.09808267211092644,
          0.3226673731209156,
          0.06251813320299712,
          0.2612020244337382,
          0.054096110227505205,
          -0.15908503633059629,
          -0.31846184003863603,
          0.28585532072778697,
          0.09638070661894027,
          0.29437876475217123,
          -0.1610839743381942,
          0.28034296273926623,
          -0.07047255333301601,
          -0.0064881975714748035,
          0.18116948878945083,
          0.2741718245988518,
          -0.3867969253968602,
          0.28585533036766037,
          0.2509186015699422,
          -0.16943182906770607,
          0.08365582030714656,
          -0.04698741853722283,
          -0.31049731276245407,
          -0.13028168523498343,
          0.06949766306055988,
          0.010307956314285866,
          -0.019644980324324664,
          0.12553787934535104,
          -0.2618486845972191,
          -0.2796768861417499,
          -0.018924165054917022,
          -0.2272600680620951,
          0.06298187723165456,
          -0.3858458218731127,
          -0.020587690962590523,
          0.22721698876282126,
          -0.31875900756598113,
          -0.06323883581863408,
          0.19535670482698456,
          -0.15759777929471316,
          0.15322104237751832,
          -0.2628038896437455,
          -0.36212757622660063,
          0.09264357492768258,
          -0.12127391161428587,
          -0.001138758610784952,
          0.043150873065910006,
          0.4327485519523145,
          -0.2062692501948774,
          0.030570238340601814,
          -0.18842788545705522,
          -0.23960410684678812,
          -0.26383194988420827,
          -0.15349334722303998,
          -0.25084004869838555,
          -0.08662223949896773,
          0.23002533608076903,
          0.1938264733362902,
          -0.14089895117274187,
          -0.3035857924416938,
          0.07397174194755905,
          -0.35326853139405023,
          0.05783049361584972,
          -0.06378099154689225,
          -0.07307573720351275,
          -0.15013558458412837,
          -0.038718846034944285,
          0.3106963177767462,
          0.3037228425619544,
          0.4582560222761071,
          -0.2812166008599432,
          0.0724473802831407,
          -0.13922750430681446,
          0.2858553280683197,
          0.4877727358371086,
          -0.11610964206532161,
          -0.3918131465013903,
          -0.12080827723746576,
          -0.253360787532573,
          0.13363266781452676,
          -0.23699301804366069,
          0.3292586016015771,
          0.2390987352051532,
          -0.3446151757878886,
          0.03235040110266937,
          -0.4029872077107758,
          0.2504659853644959,
          -0.27199547256584927,
          -0.40298720771077573,
          -0.405340723608866,
          -0.3570119140409366,
          0.213117897817733,
          -0.1517278205590375,
          -0.35688372774759225,
          -0.17420981540150457,
          -0.3996267899818896,
          -0.31309580579127244,
          -0.2960948113412705,
          0.23895107762569018,
          -0.16058249346597117,
          0.26479402666547625,
          -0.13012736194909402,
          -0.29583528722430535,
          -0.10673441893949506,
          -0.03040993797725049,
          0.1484490751912298,
          0.4230970846784526,
          -0.23280128410340256,
          -0.37272810853231836,
          -0.14246241836373066,
          -0.3947346925522867,
          0.14460924057771177,
          -0.008284408600369785,
          0.24320884206102492,
          -0.40485126277739636,
          0.2908359620332319,
          -0.30052786599935993,
          0.37254044690535426,
          -0.4029872077107756,
          -0.024361019980527424,
          -0.5032999181301726,
          -0.072575119229643,
          0.443723563501913,
          0.1821350195220092,
          -0.15949914428350775,
          -0.30885271028353817,
          -0.4048512627773952,
          -0.19861651723170073,
          -0.07154803133298343,
          -0.22608349075246018,
          -0.056711022304871815,
          -0.040639887589878576,
          0.2662239265150989,
          0.2713829890821293,
          0.285855314134803,
          -0.07978978562821581,
          -0.3990123021419199,
          0.1849462935819806,
          0.1443513840181986,
          -0.3005820643794085,
          -0.1994347752144768,
          0.14571908872586317,
          -0.13790899630747783,
          0.14897120499667263,
          -0.25521635790665,
          -0.24149976590557212,
          0.2929748823304362,
          -0.18675359092224086,
          -0.23435427753198534,
          -0.20796768755993855,
          0.4023835307202799,
          -0.3031958806842457,
          -0.1109587814755992,
          -0.07550073534096313,
          -0.2102780132638823,
          0.1091161434088973,
          0.037219338858176174,
          -0.3446229058369007,
          0.022127722827301376,
          -0.2991010910423865,
          -0.259840545583238,
          -0.2687512852452102,
          -0.2302682627288914,
          -0.056264878094988854,
          0.5488581609307099,
          0.2858553229715958,
          0.008996465322258836,
          -0.12967429583804396,
          -0.06567928781033976,
          0.08577847041600595,
          0.31388908761683476,
          -0.2625703513833986,
          -0.17699989166805344,
          -0.2477587879108992,
          -0.337775255854553,
          0.2155942158867896,
          -0.14258525820336868,
          0.5054218815092255,
          -0.20477393022526577,
          -0.3214374711986227,
          -0.04485250507459041,
          -0.27812296751549204,
          -0.24562821462240608,
          -0.09575443482956328,
          -0.21494764771334218,
          -0.2489019336232234,
          0.5136524661735947,
          0.07764713481673007,
          -0.3124865781608665,
          -0.13354401025154303,
          -0.24143604871417798
         ],
         "y": [
          -0.02844746296292888,
          -0.09079622338734383,
          0.5261013410470987,
          0.5622098026831679,
          -0.19177694872626427,
          -0.3001532335648796,
          -0.2179449182402858,
          -0.1523851687494279,
          -0.2988763453857999,
          0.578265215122217,
          0.7356880199057837,
          -0.39188382663483334,
          -0.22511769137594917,
          -0.1720991443311399,
          -0.05789749626245948,
          -0.10208347389283136,
          0.930643939474357,
          -0.008372537272413848,
          0.9272925839911862,
          -0.15913162603370495,
          0.9233968890172077,
          -0.23579127764670518,
          0.07701115677249964,
          0.7280531750382855,
          -0.4168851471389217,
          0.01767038731220993,
          0.9306439439453918,
          -0.5866842158056609,
          -0.1439837703426943,
          -0.3719502881389939,
          -0.22681310149620834,
          -0.07275103136382674,
          -0.18705194008792866,
          -0.3144725481943847,
          0.09330806509705282,
          -0.24137279474037704,
          -0.3282401911966839,
          -0.10086908466456447,
          -0.20766667224733504,
          -0.3413236390244936,
          -0.13783462131589386,
          -0.3492567021821585,
          -0.1079320210283296,
          -0.07753478625073108,
          0.7661261697425595,
          -0.09106190428407436,
          -0.14007471738454594,
          0.8082654932485134,
          -0.20724717465097267,
          -0.15032364292266892,
          -0.15734233071091902,
          -0.11608139179093921,
          -0.0207686553672888,
          0.09087878098938655,
          -0.13729735015492078,
          -0.24106977213986125,
          1.5311418125944518,
          -0.14241701286420708,
          -0.18026676424911525,
          -0.14198935482615407,
          -0.22586184183893102,
          -0.1485170358195054,
          -0.16346962973232243,
          -0.1901781154969815,
          -0.018574892705411464,
          -0.0543198236688258,
          0.7261680801971688,
          -0.241394562770041,
          -0.10948591662210319,
          -0.34672793487130277,
          -0.08348813717093971,
          -0.31114289800584066,
          -0.2347536077579225,
          -0.21238927371379782,
          -0.40695748151782807,
          0.559147607614917,
          0.819555146534898,
          -0.2418869158686474,
          -0.48179233062569193,
          -0.10116968706020803,
          -0.08663359580740111,
          -0.2568460426424164,
          0.930643942647784,
          1.4742929534376377,
          -0.2037218573451374,
          -0.059412390785845724,
          0.10073351793712912,
          -0.2756736813103096,
          -0.02504225952945478,
          -0.1906651060197235,
          0.643384362991386,
          -0.45319220903943935,
          -0.0851124663746377,
          -0.33538728824266684,
          -0.07350579610798057,
          -0.47462879756149895,
          -0.14942249721540488,
          -0.07350579610798047,
          -0.06689458458851666,
          -0.08712770064984117,
          -0.3901842293189872,
          -0.1676047387338684,
          -0.10268570624002567,
          -0.5456940490234813,
          -0.08326395014301345,
          -0.04813585551525498,
          -0.17864812946995542,
          0.177147329468692,
          -0.17377759567776802,
          -0.1767457678893756,
          -0.16930488786065157,
          -0.11256211723623241,
          -0.18065485222416716,
          -0.2208023792708634,
          0.0015276809826346056,
          -0.47971631021045164,
          -0.19249981006881256,
          -0.08489275286966494,
          -0.20363821844589267,
          -0.017605510218171517,
          1.0825657452403605,
          -0.29530464230346315,
          -0.10493669783360965,
          -0.06560514257980511,
          -0.10122743295938466,
          -0.09581736662297749,
          -0.3567509139223371,
          -0.07350579610798046,
          -0.35566108564817944,
          1.272228511146982,
          -0.1943540079860166,
          0.7969829577563191,
          -0.24181584813509024,
          0.04920539612827319,
          -0.0807428287646069,
          -0.06560514257980171,
          -0.1431541848818826,
          -0.045454758289168284,
          -0.09000976063550205,
          0.009714719094777838,
          -0.2598950152719487,
          -0.5241785516470259,
          0.2607618676135178,
          0.9306439361445117,
          -0.20710700956651532,
          -0.07413238182948298,
          0.32958893564023295,
          0.6249674550050912,
          -0.12433694217827611,
          -0.15353629965437318,
          -0.21917711293789202,
          -0.24542337885009788,
          -0.23168782557942272,
          -0.13913855917460868,
          -0.11970729584407973,
          0.7973797524046926,
          -0.15683562809019852,
          -0.20932818039098458,
          -0.14363943876701057,
          0.07088042691329503,
          -0.09123209023608543,
          -0.33452939507780105,
          0.3134108009928036,
          -0.5301645379314001,
          -0.6662033596928599,
          -0.18627356727529734,
          -0.08837675426513728,
          -0.38131127315157176,
          -0.17040586783573175,
          -0.1239995413338526,
          -0.11132043421740243,
          -0.14283236201449462,
          -0.21923247612360056,
          -0.22131879758612774,
          0.9306439403114635,
          0.01815495947659978,
          0.11134515449595836,
          -0.5301507881679367,
          -0.4057602199865314,
          0.9166817180114342,
          -0.13764654198506587,
          -0.2821824344009085,
          -0.12181699583896088,
          -0.0865590656181561,
          0.3046455282755905,
          -0.13937916877118942,
          0.9759351124218656,
          -0.27122907288335274,
          -0.09035486419128806,
          -0.22883292748906883,
          -0.18370593111674358,
          -0.15325221991175147,
          0.046084582974806804,
          -0.11833745223546617,
          -0.18752124853614477,
          -0.18818097020632782,
          -0.4547560781892558,
          -0.05836087959226908,
          0.1131688983745993,
          0.0749585799532128
         ],
         "z": [
          -0.7632078278897445,
          0.16763062149342747,
          -0.3541292159996986,
          -0.10043605908316725,
          0.11800481597717671,
          0.07876932714683405,
          0.10309076246901389,
          0.18784685231870366,
          -0.0036911355976046853,
          -0.39598391961996027,
          -0.5070455971085003,
          0.10366829383036853,
          0.13762888420060612,
          -0.09447964137232256,
          0.0792289924677045,
          0.13573821375487302,
          -0.6516516670664182,
          -0.7841062084659565,
          -0.6526778358526544,
          0.1956353165522796,
          -0.6453990058369086,
          0.17144202718123547,
          -0.5854629176668799,
          -0.5197877446498013,
          0.27064939702506235,
          -0.1901491451406774,
          -0.6516516561812595,
          0.015101694085584962,
          0.17621627298378703,
          0.14700071855043848,
          0.20630004593989817,
          0.18613592224003941,
          0.18434088657509115,
          0.21141724719009986,
          -0.416909158736231,
          0.21320563607287507,
          0.09275358490638057,
          0.1966515947240352,
          0.0693169297669388,
          0.09457920288631994,
          0.20378885215357856,
          0.16327671705951735,
          0.06990163966240377,
          0.4065239579547579,
          -0.5750592029708606,
          0.15599252683891932,
          0.2655664067755693,
          -0.5570931824161242,
          0.1383520567436526,
          -0.1544398523940552,
          0.13002809035078003,
          0.1011971638081431,
          -0.6827838231514172,
          -0.7583874285111214,
          -0.1469785563840269,
          0.2752377678768142,
          -0.0011033403183678707,
          0.27181994906568363,
          0.18974814169447754,
          0.1864201276454656,
          0.05368477026267156,
          0.09137275629285485,
          0.21404315542497515,
          0.1275118785929957,
          0.4332588607463165,
          -0.7662340966444436,
          -0.443332847288701,
          0.1738059863439104,
          0.06549215640399927,
          0.17885432243748925,
          0.13462658881328413,
          0.24001257705463436,
          0.18528208767754098,
          0.20193700026433778,
          0.027431834366715247,
          -0.2609524040379757,
          -0.5544982314180139,
          0.23326549839283503,
          0.3292480410070994,
          0.17649309709006633,
          -0.28939933705089965,
          0.08893428890838015,
          -0.6516516591166432,
          -0.02098501336135066,
          0.17375095419930986,
          0.11823065291498344,
          -0.7985667940373865,
          0.1183361992723883,
          -0.7302272368862238,
          0.08017247057098138,
          -0.5336571687359881,
          0.1475154430121536,
          0.1401696288923581,
          0.14964507989206538,
          0.10307195559614152,
          0.1672079992206738,
          0.12172231271395756,
          0.10307195559614152,
          0.11043470883205452,
          0.1266936800909682,
          0.2530581534545555,
          0.2831978507294031,
          0.10292755774862926,
          -0.030526380281058075,
          0.09197194873100059,
          0.08812882817573846,
          0.06827642943831908,
          -0.20138272607537058,
          0.17400919762853867,
          0.08055708119223501,
          0.20139725853792173,
          0.14252932086653308,
          0.15512766345256807,
          0.39140243630407956,
          0.012467233134270462,
          -1.443015088717969,
          0.08047693396395672,
          0.11089139916321167,
          0.1556258162124949,
          0.16732708049219042,
          0.33754289360640105,
          0.15610996575489963,
          -0.6484900308056211,
          0.11105388994492188,
          -0.7279099676100497,
          0.07982109524347197,
          0.37196195266586946,
          0.10307195559614156,
          0.16614761711306572,
          -1.0832296475674978,
          0.22168856721178787,
          -0.6474768289513668,
          0.49026089141337614,
          0.3798266279598039,
          0.1633225104073293,
          0.11105388994492317,
          0.16733060393060242,
          -0.3919914827679121,
          0.1370214166899306,
          -0.5185849183994055,
          0.21431869861568437,
          0.10583262759933192,
          -0.10622038494803557,
          -0.6516516749099653,
          0.20575956691629976,
          0.10566868617224015,
          -0.20518438440644127,
          -0.33993221424934567,
          0.11645898101602169,
          0.17260943986207694,
          0.41323370372042917,
          0.18897769672521672,
          0.3970402612845426,
          0.13244086805355043,
          0.18252927986300502,
          0.26306485013039005,
          0.1836878993049888,
          0.10161008287659345,
          0.17486544393397424,
          -0.05028126653339982,
          0.17139216058220613,
          0.017499246873623486,
          -0.465623393743277,
          -0.05115985706489497,
          -0.15383647102822132,
          0.35474445412372857,
          0.13527857879526436,
          0.06937463830291636,
          0.08499852227926272,
          0.15387483801774623,
          0.16465799343896453,
          0.1548234256696298,
          0.1601443961177037,
          -0.6803179340843958,
          -0.6516516648313285,
          0.023773908142554326,
          -0.8196032144937032,
          0.026027865205284426,
          0.12281774563833388,
          -0.6516801204454408,
          0.12768807137607532,
          0.059225199082238944,
          0.12580728986617531,
          0.14434998465257917,
          -0.1688109177256089,
          0.20301433234701613,
          -0.5481054299423765,
          0.0620391852478642,
          0.1543785067660577,
          0.20493065481910547,
          0.0879281701047031,
          0.1251725933626234,
          -0.6310965907581702,
          0.21541812776458485,
          0.11555490034564725,
          -0.7423233542546667,
          0.06753610452567521,
          0.1064250982150835,
          -0.8187862012922358,
          0.19199197603665002
         ]
        },
        {
         "hovertemplate": "label=theorem<br>mds_1=%{x}<br>mds_2=%{y}<br>mds_3=%{z}<extra></extra>",
         "legendgroup": "theorem",
         "marker": {
          "color": "#00cc96",
          "symbol": "square"
         },
         "mode": "markers",
         "name": "theorem",
         "scene": "scene",
         "showlegend": true,
         "type": "scatter3d",
         "x": [
          0.04828752359987335,
          -0.23499833023305994,
          0.25025231947068777,
          0.45725338227701906,
          0.29958662893303145,
          0.40905577674212096,
          0.21566290979651823,
          0.3122306750093302,
          0.481722554966813,
          0.009067877990323114,
          0.44033148960203167,
          0.1704010980234409,
          0.3390095759203503,
          -0.02779293269470184,
          0.19348403960636743,
          -0.0022356812326713893,
          0.2664795753060586,
          -0.03543613496352562,
          -0.1658017662987475,
          0.5803930982384629,
          0.2637224054803116,
          0.21723968746943567,
          0.3879374190875686,
          0.22543902183254466,
          0.2717698573285982,
          0.12925106882986273,
          0.10816372577314952,
          0.333497745959115,
          0.4349409817663069,
          0.16325965639527568,
          0.22793087563499154,
          0.41079844506083707,
          0.42592719144437563,
          0.18994172820852973,
          0.28585532280205667,
          0.44688712981601225,
          0.07042277660102537,
          0.14110574357405334,
          -0.18243267732286642,
          0.2966042870629492,
          0.3152287074657917,
          0.4506905494606422,
          0.21875521961704034,
          0.24456635916114794,
          0.42229120431135037,
          -0.22000180054374627,
          0.1892526905627854,
          0.2215045291924841,
          0.22259333862923875,
          0.3942736480440373,
          0.28977883803732124,
          0.4065091236817771,
          0.20254736500662437,
          0.4237715102723049,
          -0.012322253033840448,
          0.293571218046699,
          0.02688934733233041,
          0.577593037865314,
          -0.3742234997692002,
          0.2736538501432044,
          -0.05507824306668755,
          0.1859245047847237,
          0.40450321365915437,
          -0.05536559758798061,
          0.42979763854367387,
          0.15355831969781567,
          -0.2946922593159297,
          0.26932136092381864,
          0.3485114817292012,
          0.3576948631411372,
          0.11452907452340783,
          0.08475133677325104,
          -0.04563199753817197,
          0.293123865421091,
          -0.00013420779593762572,
          0.22538400064192035,
          0.1924140526369246,
          -0.2051220979002578,
          0.48185411414614326,
          0.18428759190371163,
          0.3479920770095418,
          0.21704077602596264,
          0.13805298158221846,
          0.28585531870632036,
          1.010690207509653,
          -0.11591149769465328,
          0.412022324930832,
          -0.40534388378633196,
          -0.2503816757226738,
          0.42739166408613827,
          -0.3510111327784202,
          0.3390423311862289,
          -0.31031553325831107,
          0.14846139442019468,
          -0.3063386845959062,
          0.3213294926133055,
          0.14979299325222678,
          -0.1296824864587112,
          0.2512292106997193,
          0.03108933097401844,
          0.2476429721943396,
          0.15341841978698298,
          0.46100699388035615,
          0.29503098728860877,
          0.3342944744803411,
          0.4214961045326949,
          0.27608940320044945,
          0.027976088668879427,
          0.2186097856280784,
          0.21074103877481548,
          0.01469601368294787,
          0.3365593378072062,
          0.29988356661532584,
          0.19502843757491398,
          0.1604276830621117,
          -0.002583424732697311,
          -0.14105001910850543,
          0.2702421382687963,
          0.5175714594115057,
          -0.2364225396189139,
          0.21268980563242743,
          0.42553023233425386,
          0.29466636698191734,
          0.48293453059761904,
          0.24364222712058833,
          0.23628727394254348,
          0.15583772772618654,
          0.23763043726948288,
          0.14038977193947308,
          -0.04208468049567214,
          0.46359547456173256,
          -0.12161836263912364,
          0.31555697334834915,
          0.4428758187982726,
          0.41762509118910723,
          -0.143475393377024,
          0.38645313168980205,
          0.30986499123009825,
          0.4536016230649591,
          0.21216376888758082,
          -0.08289853800789088,
          0.06269546081386791,
          -0.12911591181618184,
          0.4673707226954604,
          0.46579324108398795,
          -0.16050778960141657,
          0.41622662150029144,
          0.09647880462586851,
          0.06735627275462484,
          -0.1457335609701167,
          0.3087943712326082,
          0.12958917129609854,
          -0.11641298536407373,
          0.21470991659047312,
          -0.10013015503308935,
          0.46776843061842444,
          0.254620447194556,
          0.11692241341670409,
          0.25553579540922317,
          0.24629185414493324,
          0.06946846840294721,
          0.1679778680966691,
          -0.16809756835707995,
          0.2972065107238453,
          -0.16339090025000333,
          0.45536738365425905,
          -0.1877289871531265,
          0.3005850858437207,
          0.4815559997126461,
          0.3019738126806543,
          0.024501701394104475,
          0.17364784970453556,
          -0.12657961753681657,
          -0.3567861845434241,
          0.324056388260926,
          0.4710465945630204,
          -0.2978688248649229,
          -0.12460877189921657,
          0.09283624248282657,
          0.4076508156608346,
          0.33831417579270673,
          0.12333116135830663,
          -0.18117178411243381,
          0.44738580704212516,
          0.2939546440048188,
          -0.08915905309637885,
          -0.40298720771077573,
          -0.10769031594844104,
          0.3797667286711462,
          -0.13524399067137613,
          -0.36591071400291797,
          0.22861168178694707,
          0.422646397483871,
          0.33242647339960957,
          0.4442262422395149,
          0.6188913105114601,
          0.2858553263745584,
          -0.27968271751410106,
          -0.34550100287582336,
          0.2817437316496535
         ],
         "y": [
          -0.22332629380166563,
          -0.24396520722355175,
          -0.23342937379914921,
          -0.3344457230706151,
          -0.3308353835773542,
          -0.28230295882977735,
          -0.2832400819632708,
          0.6426457775746041,
          0.8159246594747844,
          0.9569343907412511,
          -0.32380076249133904,
          -0.20996576385487084,
          -0.1361049510619742,
          0.20637048485478926,
          -0.025503378210024068,
          1.4939373295955642,
          -0.5017587763846764,
          -0.19830156687803502,
          -0.18310025007873793,
          -0.43687492937473227,
          -0.18895066067968452,
          -0.25211347816247526,
          -0.31560718824118866,
          0.3727836263442234,
          -0.21489432399970834,
          0.5657065554016527,
          0.684225052915906,
          -0.15082554871398896,
          -0.22067833531958672,
          -0.3064004979591756,
          -0.3797814694080486,
          -0.2512250151906665,
          -0.3344447291990679,
          -0.12103248925269572,
          0.9306439400446174,
          -0.3316924780784463,
          -0.290469107627006,
          -0.25548547641106817,
          -0.012548388059101794,
          -0.2219104834901543,
          -0.2054262116933691,
          -0.47322144011330997,
          0.13473725532855657,
          -0.2768125989005424,
          -0.20674431549601766,
          -0.35672698083191434,
          0.7785563790671,
          -0.11718485376433661,
          -0.404628715235491,
          -0.33777476283796076,
          -0.3694499156918561,
          -0.36055980731592413,
          -0.2717168264727829,
          -0.1779839635381225,
          -0.42717781380755737,
          -0.45775942349468224,
          -0.37457192638769066,
          -0.3549480185053932,
          -0.31610337420979207,
          0.5354412725988367,
          -0.3734117766963004,
          0.7625030277022901,
          0.28293464942163865,
          -0.21391908403098533,
          0.6425936780006504,
          -0.2568332480729288,
          -0.16262468679153907,
          -0.2748072328179792,
          0.5977385212594691,
          -0.4338772599735803,
          -0.16019690135747952,
          1.2178536894673095,
          0.08302987717269429,
          -0.552066664328229,
          0.41514403713932896,
          -0.18227842525225427,
          0.8309103407535662,
          0.32017395859553216,
          -0.341663634732337,
          0.7890366867822695,
          0.12242217430696035,
          -0.1047996378697272,
          0.4123280163484145,
          0.9306439383352564,
          -0.24155977267581963,
          0.07484693535832522,
          0.6609991293106413,
          -0.06690280790955326,
          -0.06201040096923591,
          -0.28714570883837826,
          -0.05735819839065429,
          -0.29847038262260495,
          -0.076562366502535,
          -0.18912108108536058,
          0.032996262771877206,
          -0.24153921969526737,
          0.3317465240541206,
          0.11135055178689957,
          0.7504872109376299,
          -0.3046438196288728,
          -0.3659650298646247,
          0.7920367685503064,
          -0.38597872328111676,
          0.815271623624721,
          -0.09263459875702727,
          0.4852901202069162,
          -0.023370988368739087,
          -0.38577372238323926,
          0.4109431034958223,
          -0.4047488027716794,
          -0.0029503329917566906,
          -0.28551399818753087,
          -0.3058340654868569,
          0.6105970367933998,
          -0.2380790878169638,
          -0.46730427579205425,
          -0.11549877791859987,
          -0.23688230836952748,
          -0.4390819506558961,
          -0.18300588227449993,
          0.4679317805062266,
          0.20366633231935974,
          0.92787853811362,
          -0.3439179544890601,
          -0.4293304355240154,
          -0.5932045237515213,
          -0.3709221263147423,
          -0.05853174841990714,
          0.35167007285956214,
          0.6179853728713437,
          -0.1399753673451112,
          -0.2570980454951426,
          -0.30358569216011466,
          -0.2795559613066616,
          -0.34827684197179937,
          0.13582963823897076,
          -0.21019782523575822,
          0.7192482892072488,
          -0.41501411271145894,
          -0.3618943499718415,
          -0.2739226986084914,
          1.3203129639823235,
          -0.371970394701223,
          -0.16597766722381704,
          -0.15430738932440324,
          -0.561159833177616,
          -0.5535246765970644,
          -0.166490616722448,
          -0.17068169156379556,
          -0.31044631216160967,
          -0.2186369995506938,
          -0.1906326701790885,
          -0.12949818670560898,
          -0.30032803474666925,
          -0.11004037715509517,
          -0.1186207235820764,
          0.7674670810129978,
          0.43516267563752453,
          -0.21102678901923014,
          -0.10800503137753865,
          0.5369847913997692,
          0.6470143314256628,
          -0.18726506223954037,
          -0.2374399945887425,
          -0.1274420486292794,
          -0.263102505616412,
          -0.14350769050450893,
          0.7965682167089215,
          -0.33918232128080555,
          -0.3978304024249321,
          -0.2708650672390188,
          -0.3507223478303594,
          1.2914483547156614,
          -0.058053653175688155,
          -0.3036539640066102,
          -0.27916398895803307,
          -0.13887997572497787,
          0.24362098938139667,
          -0.04886619739949211,
          -0.1838320804485671,
          -0.30461650077945557,
          -0.2781065662840749,
          -0.1508641677063028,
          -0.027336090589902304,
          -0.18638795157652716,
          0.5876292053685598,
          -0.07350579610798061,
          0.7229315232415139,
          0.7383899705410247,
          -0.05420438265443134,
          -0.29269614564571456,
          -0.22055953512636195,
          -0.3988119578404114,
          0.19398436892297022,
          -0.21694060836953602,
          0.6342725032622564,
          0.930643941399772,
          -0.10619283252417185,
          -0.06569138544136713,
          0.8715556771778662
         ],
         "z": [
          0.19966819550830026,
          0.026239673998352836,
          0.33635243276101556,
          0.5481396487019808,
          0.37417918223367924,
          -0.8349977739223869,
          0.2648443054951107,
          -0.3773139321231701,
          -0.32147844830471184,
          0.4627611710513536,
          0.5446686257947186,
          0.3326119181921335,
          0.25236743955107194,
          0.08171938357462157,
          -0.07874718142717593,
          -0.1014177317875717,
          0.1499008044590803,
          0.19569928747238663,
          0.16135562702944511,
          -0.6029730706049425,
          0.38196969480544557,
          0.1601856590847599,
          0.4827261609124188,
          -0.26685975073808993,
          0.35613820492735737,
          -0.36377057295989823,
          -0.4557420911332821,
          0.37699747926794414,
          0.37987597282703267,
          0.3062458595406008,
          0.3329910077171198,
          0.47749374239258013,
          0.517801070281791,
          0.178272678000259,
          -0.6516516652987976,
          0.5435655455261315,
          0.24983600360538183,
          0.34969081284909304,
          0.3483883437234968,
          0.36017137704537616,
          0.361924212500573,
          0.2574122672131164,
          0.10579348310643565,
          0.2988776114348932,
          0.43529764110793906,
          0.020270787668816383,
          -0.6065561542351158,
          0.2932680223553419,
          0.2374922689576251,
          0.36239408517190963,
          0.34325690699302347,
          0.46063196137638407,
          0.3222040157117426,
          0.4028486578972174,
          -0.10462656286799726,
          0.2000108128752474,
          0.2293513385532984,
          -1.10567263629578,
          -0.13604009507948944,
          -0.33089232851022227,
          0.08711214580730833,
          -0.29575283292165505,
          -0.046545993092386606,
          0.22264615375705973,
          -0.5401366953390901,
          0.11835503124951272,
          0.07356534436247959,
          0.37958344962605345,
          -0.3277697356659753,
          0.3157611775520551,
          0.31286142467417677,
          0.2069697714616457,
          -0.020307351145624812,
          0.10944392077448624,
          -0.09070845801280118,
          0.34390052852624353,
          -0.5512017609642735,
          -0.12980551645397834,
          0.5588908579501696,
          -0.5433408139877897,
          -0.14839466318396896,
          0.21037969403076592,
          -0.22839842036681698,
          -0.6516516696445821,
          -0.17622386144181434,
          0.028309598058647613,
          -0.42053605665383387,
          0.11043038309667119,
          0.10380901169025099,
          0.4946157050788201,
          0.10798070711896413,
          0.35474383163159123,
          0.09970314599266675,
          0.2551572105263989,
          0.0032250180656279237,
          0.268837890217196,
          -0.22156279211688004,
          -0.8196012071512214,
          -0.5364675208025547,
          0.2660936255789665,
          0.36428557305089193,
          -0.5268518395073707,
          0.47266053130506164,
          -0.545153696788709,
          -0.7865815776471222,
          -0.4737517197077795,
          0.22464608004152647,
          0.11041085422815104,
          -0.2273698370285852,
          0.1533431304730875,
          -0.6476152736977211,
          0.44206944701087547,
          0.43632637514270456,
          -0.5528385619861577,
          0.03439637444679725,
          0.04741083368198851,
          0.07410100374600591,
          0.32649572519351633,
          0.44833815423716594,
          0.09005548255330387,
          -0.25832329542719146,
          -0.13698384638385275,
          -0.6516896082034663,
          0.5566082083285401,
          0.24324907607532983,
          0.03726393614374404,
          0.31309068038451054,
          -0.5590987895540382,
          -0.21113351965330537,
          -0.3359208080385954,
          0.3667228119041643,
          0.11003763843457212,
          0.40383132173627817,
          0.4981709239480068,
          0.4869628325029358,
          -0.07221148838481159,
          0.39365342274841714,
          -0.4204345312395917,
          0.42421698951692466,
          0.2776254343914706,
          0.13083196973867892,
          0.10907089299886624,
          0.08648251311799378,
          0.391831565958777,
          0.3797785440467965,
          -0.09946275059375967,
          0.2018940718504054,
          0.21920518288104562,
          0.29507078082705185,
          0.07907065506619332,
          0.4351861022586917,
          0.09376787373868575,
          0.15091859615809783,
          0.3234189990482396,
          -0.2564741418867846,
          0.21411255828416065,
          -0.6046789293405752,
          -0.27311441340417164,
          0.36786103976740986,
          0.0575706826804482,
          -0.4888858253433271,
          -0.3950291989591001,
          0.14834575151947446,
          0.36626450519875514,
          0.07061292569089467,
          0.4897462941789383,
          0.12402105065286909,
          -0.5544414474895151,
          0.5621985355055398,
          0.3112589245578588,
          0.2457918403435035,
          0.270238567223337,
          0.0915724332879012,
          0.15215958769120452,
          0.34803856032724917,
          0.2559880309468208,
          0.11335763515706831,
          -0.1699265366189425,
          -0.4791019151504069,
          0.251954970804545,
          0.30907846900213215,
          0.17090643141360864,
          0.23026129338292778,
          0.24364103469057855,
          0.38175244631335176,
          -0.22510984192247904,
          0.10307195559614162,
          0.6540751819984978,
          0.6321540886414605,
          0.08117816848756218,
          -0.09469009133741714,
          0.3954801206917694,
          0.42394778000957994,
          -0.12031843533261617,
          0.4741785884685947,
          -0.5485193812917498,
          -0.6516516617074051,
          0.16952785459825856,
          0.10545389655752191,
          -0.6177358022227317
         ]
        }
       ],
       "layout": {
        "legend": {
         "title": {
          "text": "label"
         },
         "tracegroupgap": 0
        },
        "margin": {
         "t": 60
        },
        "scene": {
         "domain": {
          "x": [
           0,
           1
          ],
          "y": [
           0,
           1
          ]
         },
         "xaxis": {
          "title": {
           "text": "mds_1"
          }
         },
         "yaxis": {
          "title": {
           "text": "mds_2"
          }
         },
         "zaxis": {
          "title": {
           "text": "mds_3"
          }
         }
        },
        "template": {
         "data": {
          "bar": [
           {
            "error_x": {
             "color": "#2a3f5f"
            },
            "error_y": {
             "color": "#2a3f5f"
            },
            "marker": {
             "line": {
              "color": "#E5ECF6",
              "width": 0.5
             },
             "pattern": {
              "fillmode": "overlay",
              "size": 10,
              "solidity": 0.2
             }
            },
            "type": "bar"
           }
          ],
          "barpolar": [
           {
            "marker": {
             "line": {
              "color": "#E5ECF6",
              "width": 0.5
             },
             "pattern": {
              "fillmode": "overlay",
              "size": 10,
              "solidity": 0.2
             }
            },
            "type": "barpolar"
           }
          ],
          "carpet": [
           {
            "aaxis": {
             "endlinecolor": "#2a3f5f",
             "gridcolor": "white",
             "linecolor": "white",
             "minorgridcolor": "white",
             "startlinecolor": "#2a3f5f"
            },
            "baxis": {
             "endlinecolor": "#2a3f5f",
             "gridcolor": "white",
             "linecolor": "white",
             "minorgridcolor": "white",
             "startlinecolor": "#2a3f5f"
            },
            "type": "carpet"
           }
          ],
          "choropleth": [
           {
            "colorbar": {
             "outlinewidth": 0,
             "ticks": ""
            },
            "type": "choropleth"
           }
          ],
          "contour": [
           {
            "colorbar": {
             "outlinewidth": 0,
             "ticks": ""
            },
            "colorscale": [
             [
              0,
              "#0d0887"
             ],
             [
              0.1111111111111111,
              "#46039f"
             ],
             [
              0.2222222222222222,
              "#7201a8"
             ],
             [
              0.3333333333333333,
              "#9c179e"
             ],
             [
              0.4444444444444444,
              "#bd3786"
             ],
             [
              0.5555555555555556,
              "#d8576b"
             ],
             [
              0.6666666666666666,
              "#ed7953"
             ],
             [
              0.7777777777777778,
              "#fb9f3a"
             ],
             [
              0.8888888888888888,
              "#fdca26"
             ],
             [
              1,
              "#f0f921"
             ]
            ],
            "type": "contour"
           }
          ],
          "contourcarpet": [
           {
            "colorbar": {
             "outlinewidth": 0,
             "ticks": ""
            },
            "type": "contourcarpet"
           }
          ],
          "heatmap": [
           {
            "colorbar": {
             "outlinewidth": 0,
             "ticks": ""
            },
            "colorscale": [
             [
              0,
              "#0d0887"
             ],
             [
              0.1111111111111111,
              "#46039f"
             ],
             [
              0.2222222222222222,
              "#7201a8"
             ],
             [
              0.3333333333333333,
              "#9c179e"
             ],
             [
              0.4444444444444444,
              "#bd3786"
             ],
             [
              0.5555555555555556,
              "#d8576b"
             ],
             [
              0.6666666666666666,
              "#ed7953"
             ],
             [
              0.7777777777777778,
              "#fb9f3a"
             ],
             [
              0.8888888888888888,
              "#fdca26"
             ],
             [
              1,
              "#f0f921"
             ]
            ],
            "type": "heatmap"
           }
          ],
          "heatmapgl": [
           {
            "colorbar": {
             "outlinewidth": 0,
             "ticks": ""
            },
            "colorscale": [
             [
              0,
              "#0d0887"
             ],
             [
              0.1111111111111111,
              "#46039f"
             ],
             [
              0.2222222222222222,
              "#7201a8"
             ],
             [
              0.3333333333333333,
              "#9c179e"
             ],
             [
              0.4444444444444444,
              "#bd3786"
             ],
             [
              0.5555555555555556,
              "#d8576b"
             ],
             [
              0.6666666666666666,
              "#ed7953"
             ],
             [
              0.7777777777777778,
              "#fb9f3a"
             ],
             [
              0.8888888888888888,
              "#fdca26"
             ],
             [
              1,
              "#f0f921"
             ]
            ],
            "type": "heatmapgl"
           }
          ],
          "histogram": [
           {
            "marker": {
             "pattern": {
              "fillmode": "overlay",
              "size": 10,
              "solidity": 0.2
             }
            },
            "type": "histogram"
           }
          ],
          "histogram2d": [
           {
            "colorbar": {
             "outlinewidth": 0,
             "ticks": ""
            },
            "colorscale": [
             [
              0,
              "#0d0887"
             ],
             [
              0.1111111111111111,
              "#46039f"
             ],
             [
              0.2222222222222222,
              "#7201a8"
             ],
             [
              0.3333333333333333,
              "#9c179e"
             ],
             [
              0.4444444444444444,
              "#bd3786"
             ],
             [
              0.5555555555555556,
              "#d8576b"
             ],
             [
              0.6666666666666666,
              "#ed7953"
             ],
             [
              0.7777777777777778,
              "#fb9f3a"
             ],
             [
              0.8888888888888888,
              "#fdca26"
             ],
             [
              1,
              "#f0f921"
             ]
            ],
            "type": "histogram2d"
           }
          ],
          "histogram2dcontour": [
           {
            "colorbar": {
             "outlinewidth": 0,
             "ticks": ""
            },
            "colorscale": [
             [
              0,
              "#0d0887"
             ],
             [
              0.1111111111111111,
              "#46039f"
             ],
             [
              0.2222222222222222,
              "#7201a8"
             ],
             [
              0.3333333333333333,
              "#9c179e"
             ],
             [
              0.4444444444444444,
              "#bd3786"
             ],
             [
              0.5555555555555556,
              "#d8576b"
             ],
             [
              0.6666666666666666,
              "#ed7953"
             ],
             [
              0.7777777777777778,
              "#fb9f3a"
             ],
             [
              0.8888888888888888,
              "#fdca26"
             ],
             [
              1,
              "#f0f921"
             ]
            ],
            "type": "histogram2dcontour"
           }
          ],
          "mesh3d": [
           {
            "colorbar": {
             "outlinewidth": 0,
             "ticks": ""
            },
            "type": "mesh3d"
           }
          ],
          "parcoords": [
           {
            "line": {
             "colorbar": {
              "outlinewidth": 0,
              "ticks": ""
             }
            },
            "type": "parcoords"
           }
          ],
          "pie": [
           {
            "automargin": true,
            "type": "pie"
           }
          ],
          "scatter": [
           {
            "marker": {
             "colorbar": {
              "outlinewidth": 0,
              "ticks": ""
             }
            },
            "type": "scatter"
           }
          ],
          "scatter3d": [
           {
            "line": {
             "colorbar": {
              "outlinewidth": 0,
              "ticks": ""
             }
            },
            "marker": {
             "colorbar": {
              "outlinewidth": 0,
              "ticks": ""
             }
            },
            "type": "scatter3d"
           }
          ],
          "scattercarpet": [
           {
            "marker": {
             "colorbar": {
              "outlinewidth": 0,
              "ticks": ""
             }
            },
            "type": "scattercarpet"
           }
          ],
          "scattergeo": [
           {
            "marker": {
             "colorbar": {
              "outlinewidth": 0,
              "ticks": ""
             }
            },
            "type": "scattergeo"
           }
          ],
          "scattergl": [
           {
            "marker": {
             "colorbar": {
              "outlinewidth": 0,
              "ticks": ""
             }
            },
            "type": "scattergl"
           }
          ],
          "scattermapbox": [
           {
            "marker": {
             "colorbar": {
              "outlinewidth": 0,
              "ticks": ""
             }
            },
            "type": "scattermapbox"
           }
          ],
          "scatterpolar": [
           {
            "marker": {
             "colorbar": {
              "outlinewidth": 0,
              "ticks": ""
             }
            },
            "type": "scatterpolar"
           }
          ],
          "scatterpolargl": [
           {
            "marker": {
             "colorbar": {
              "outlinewidth": 0,
              "ticks": ""
             }
            },
            "type": "scatterpolargl"
           }
          ],
          "scatterternary": [
           {
            "marker": {
             "colorbar": {
              "outlinewidth": 0,
              "ticks": ""
             }
            },
            "type": "scatterternary"
           }
          ],
          "surface": [
           {
            "colorbar": {
             "outlinewidth": 0,
             "ticks": ""
            },
            "colorscale": [
             [
              0,
              "#0d0887"
             ],
             [
              0.1111111111111111,
              "#46039f"
             ],
             [
              0.2222222222222222,
              "#7201a8"
             ],
             [
              0.3333333333333333,
              "#9c179e"
             ],
             [
              0.4444444444444444,
              "#bd3786"
             ],
             [
              0.5555555555555556,
              "#d8576b"
             ],
             [
              0.6666666666666666,
              "#ed7953"
             ],
             [
              0.7777777777777778,
              "#fb9f3a"
             ],
             [
              0.8888888888888888,
              "#fdca26"
             ],
             [
              1,
              "#f0f921"
             ]
            ],
            "type": "surface"
           }
          ],
          "table": [
           {
            "cells": {
             "fill": {
              "color": "#EBF0F8"
             },
             "line": {
              "color": "white"
             }
            },
            "header": {
             "fill": {
              "color": "#C8D4E3"
             },
             "line": {
              "color": "white"
             }
            },
            "type": "table"
           }
          ]
         },
         "layout": {
          "annotationdefaults": {
           "arrowcolor": "#2a3f5f",
           "arrowhead": 0,
           "arrowwidth": 1
          },
          "autotypenumbers": "strict",
          "coloraxis": {
           "colorbar": {
            "outlinewidth": 0,
            "ticks": ""
           }
          },
          "colorscale": {
           "diverging": [
            [
             0,
             "#8e0152"
            ],
            [
             0.1,
             "#c51b7d"
            ],
            [
             0.2,
             "#de77ae"
            ],
            [
             0.3,
             "#f1b6da"
            ],
            [
             0.4,
             "#fde0ef"
            ],
            [
             0.5,
             "#f7f7f7"
            ],
            [
             0.6,
             "#e6f5d0"
            ],
            [
             0.7,
             "#b8e186"
            ],
            [
             0.8,
             "#7fbc41"
            ],
            [
             0.9,
             "#4d9221"
            ],
            [
             1,
             "#276419"
            ]
           ],
           "sequential": [
            [
             0,
             "#0d0887"
            ],
            [
             0.1111111111111111,
             "#46039f"
            ],
            [
             0.2222222222222222,
             "#7201a8"
            ],
            [
             0.3333333333333333,
             "#9c179e"
            ],
            [
             0.4444444444444444,
             "#bd3786"
            ],
            [
             0.5555555555555556,
             "#d8576b"
            ],
            [
             0.6666666666666666,
             "#ed7953"
            ],
            [
             0.7777777777777778,
             "#fb9f3a"
            ],
            [
             0.8888888888888888,
             "#fdca26"
            ],
            [
             1,
             "#f0f921"
            ]
           ],
           "sequentialminus": [
            [
             0,
             "#0d0887"
            ],
            [
             0.1111111111111111,
             "#46039f"
            ],
            [
             0.2222222222222222,
             "#7201a8"
            ],
            [
             0.3333333333333333,
             "#9c179e"
            ],
            [
             0.4444444444444444,
             "#bd3786"
            ],
            [
             0.5555555555555556,
             "#d8576b"
            ],
            [
             0.6666666666666666,
             "#ed7953"
            ],
            [
             0.7777777777777778,
             "#fb9f3a"
            ],
            [
             0.8888888888888888,
             "#fdca26"
            ],
            [
             1,
             "#f0f921"
            ]
           ]
          },
          "colorway": [
           "#636efa",
           "#EF553B",
           "#00cc96",
           "#ab63fa",
           "#FFA15A",
           "#19d3f3",
           "#FF6692",
           "#B6E880",
           "#FF97FF",
           "#FECB52"
          ],
          "font": {
           "color": "#2a3f5f"
          },
          "geo": {
           "bgcolor": "white",
           "lakecolor": "white",
           "landcolor": "#E5ECF6",
           "showlakes": true,
           "showland": true,
           "subunitcolor": "white"
          },
          "hoverlabel": {
           "align": "left"
          },
          "hovermode": "closest",
          "mapbox": {
           "style": "light"
          },
          "paper_bgcolor": "white",
          "plot_bgcolor": "#E5ECF6",
          "polar": {
           "angularaxis": {
            "gridcolor": "white",
            "linecolor": "white",
            "ticks": ""
           },
           "bgcolor": "#E5ECF6",
           "radialaxis": {
            "gridcolor": "white",
            "linecolor": "white",
            "ticks": ""
           }
          },
          "scene": {
           "xaxis": {
            "backgroundcolor": "#E5ECF6",
            "gridcolor": "white",
            "gridwidth": 2,
            "linecolor": "white",
            "showbackground": true,
            "ticks": "",
            "zerolinecolor": "white"
           },
           "yaxis": {
            "backgroundcolor": "#E5ECF6",
            "gridcolor": "white",
            "gridwidth": 2,
            "linecolor": "white",
            "showbackground": true,
            "ticks": "",
            "zerolinecolor": "white"
           },
           "zaxis": {
            "backgroundcolor": "#E5ECF6",
            "gridcolor": "white",
            "gridwidth": 2,
            "linecolor": "white",
            "showbackground": true,
            "ticks": "",
            "zerolinecolor": "white"
           }
          },
          "shapedefaults": {
           "line": {
            "color": "#2a3f5f"
           }
          },
          "ternary": {
           "aaxis": {
            "gridcolor": "white",
            "linecolor": "white",
            "ticks": ""
           },
           "baxis": {
            "gridcolor": "white",
            "linecolor": "white",
            "ticks": ""
           },
           "bgcolor": "#E5ECF6",
           "caxis": {
            "gridcolor": "white",
            "linecolor": "white",
            "ticks": ""
           }
          },
          "title": {
           "x": 0.05
          },
          "xaxis": {
           "automargin": true,
           "gridcolor": "white",
           "linecolor": "white",
           "ticks": "",
           "title": {
            "standoff": 15
           },
           "zerolinecolor": "white",
           "zerolinewidth": 2
          },
          "yaxis": {
           "automargin": true,
           "gridcolor": "white",
           "linecolor": "white",
           "ticks": "",
           "title": {
            "standoff": 15
           },
           "zerolinecolor": "white",
           "zerolinewidth": 2
          }
         }
        }
       }
      },
      "text/html": [
       "<div>                            <div id=\"65087964-5b35-4241-a6fc-a591899043c9\" class=\"plotly-graph-div\" style=\"height:525px; width:100%;\"></div>            <script type=\"text/javascript\">                require([\"plotly\"], function(Plotly) {                    window.PLOTLYENV=window.PLOTLYENV || {};                                    if (document.getElementById(\"65087964-5b35-4241-a6fc-a591899043c9\")) {                    Plotly.newPlot(                        \"65087964-5b35-4241-a6fc-a591899043c9\",                        [{\"hovertemplate\":\"label=basic<br>mds_1=%{x}<br>mds_2=%{y}<br>mds_3=%{z}<extra></extra>\",\"legendgroup\":\"basic\",\"marker\":{\"color\":\"#636efa\",\"symbol\":\"circle\"},\"mode\":\"markers\",\"name\":\"basic\",\"scene\":\"scene\",\"showlegend\":true,\"type\":\"scatter3d\",\"x\":[-0.40298720771077573,0.1779678595557581,-0.12967927390158182,-0.3405049843469415,-0.12763199428599167,-0.06690486260743586,-0.07404151793486145,-0.40298720771077556,0.12787473294118715,0.19496479127876223,-0.38823278856472193,-0.09065629677796246,-0.3726008278696368,0.0398808545164324,-0.06193026086828865,-0.370410944208104,0.2894970565588712,-0.28214317112909537,-0.4029872077107755,0.038406525966953556,-0.4029872077107757,-0.23109326714480063,-0.35969425396494453,-0.09490396978520842,0.2809803105113915,-0.2951708514488151,0.6219911942719181,0.02677222009254613,0.10319279885632346,-0.4029872077107755,-0.2628401209438554,0.0313399933084439,-0.4029872077107758,0.06312883446961887,-0.40298720771077573,-0.3770864670457293,-0.2358013508237537,-0.10398224850292226,-0.3539223180535379,-0.3341217051053277,-0.3381250065701396,0.1826898110052143,-0.346091211025669,-0.3695424640636185,-0.2667434061040463,-0.24004360163750496,-0.40298720771077573,-0.38452305808862053,0.285855319315903,-0.3465540091853974,-0.38729226691387486,-0.20255221872991963,-0.09932649434577438,-0.3729463980836338,-0.3857470251553007,-0.2599239552633051,-0.12410688607917911,0.20356259204215085,-0.4029872077107757,0.023449003902420582,0.4120295951545559,0.08425945337697364,-0.05535583362568521,-0.3300296718992916,-0.4018993585429309,-0.3320296322243659,-0.3623801335875302,-0.13350585670618303,-0.39421892479420056,-0.003546502639227066,0.44825939925194946,0.30800397229459614,-0.21975181911388855,-0.1042075430064768,0.052195186577754876,-0.3626511098669186,-0.08244760368107532,-0.3591736103170797,-0.25660321881608683,0.3526231625918746,-0.39572374709911845,-0.08894592146534044,-0.13194472697435192,0.2649222215933145,0.32702133828928026,0.2521834200693246,-0.2415714160354383,-0.2770659092933053,-0.38110953887604393,-0.3354890092498491,0.28585532548772974,0.03751723271046871,-0.3716933644978531,-0.3330780617212343,-0.33384343047122267,-0.12967759214436533,-0.20455859671796017,-0.29236741049491033,0.23325620438412714,-0.3235053297815405,-0.4029872077107758,-0.24703732992217878,0.27512703502843583,-0.050611607016667746,0.2858553113966283,-0.17954679028676707,-0.30147455688733676,-0.2623363530450945,0.006560035192380151,0.39442652346797014,-0.30257509374110014,-0.19223091648482077,-0.21029525841438204,-0.24996012002043147,-0.030825950132930942,-0.3387546094299358,-0.36007824109734865,0.1685943973746368,-0.34976058058121845,-0.3919437490155114,-0.3270138718942341,-0.0078022643701403166,0.11223230041982817,0.2858553302958353,0.7396529749170884,0.16349585618121829,0.293641846358705,0.025277935418035233,-0.4029872077107757,-0.1383817430245762,-0.4038510245057269,-0.008384568082922808,-0.2555392309670828,-0.09318000656002468,0.19384955701834555,-0.37189782414978356,-0.113737883523565,0.030277863706455035,-0.2699861380391039,-0.4029872077107759,-0.4018993826181691,-0.4053439212050848,-0.4029872077107758,-0.3677423478154346,-0.31047811191349367,-0.30534563517309354,0.27946041497575796,-0.20082809847849917,-0.32041944624956953,0.3901037976954701,-0.2881191041038661,-0.01213960157833854,-0.10681220460435432,-0.10340731867806852,-0.08612045769660219,-0.2782619224370946,-0.15711343956221796,-0.24291678573028222,-0.20817497268256283,0.3250383987747112,-0.08101933158579054,0.2850346037974877,0.2709794859480217,-0.4018993917401286,0.28585532297629335,-0.40298720771077573,-0.28232569289055154,-0.4048512627773956,0.03952763233989189,-0.14897395564464164,-0.08445779654804453,0.14175211540238253,-0.23675650763080017,-0.2757251481558598,0.28585532295116944,-0.28928222350548416,0.20141130467789914,-0.387372734835386,0.8076936947897123,-0.16868808055717435,-0.23375605047448555,-0.267997761161798,-0.22170760564557557,-0.4029872077107757,-0.13354385374201788,-0.12968065777977683,-0.34124564538483787,0.21452851805017403,-0.35394881037096876,-0.40298720771077584,-0.40385102450572685,0.2498298932840921,-0.2919392540066693,-0.2587613920822126,0.016040934163729346,0.10631546410270903,-0.13354459277824035,0.18313372931844432,0.15235113012664556,-0.08000615927942306],\"y\":[-0.07350579610798041,0.6957095945887214,0.11134842244760333,-0.09728553990165037,-0.17305305616414948,-0.2130547802101379,-0.192066622945134,-0.07350579610798026,-0.5336762826667826,-0.27939258276822665,-0.051120210079890246,-0.18382391839503717,-0.05663817131874158,-0.35483963780051636,-0.325334009841211,-0.19063431907910297,0.9113374043938142,-0.22145479417894412,-0.07350579610798043,-0.4267551994800908,-0.07350579610798046,0.17603615245986798,-0.08676845707383089,-0.35198306046219396,0.9273877649401994,-0.39784306489501886,0.7880571932261566,-0.09817573707774926,0.4503793871771824,-0.0735057961079805,-0.2131051301531878,0.06471754176453057,-0.07350579610798043,1.522676212745565,-0.07350579610798047,-0.08542392357827504,-0.11863472027086934,-0.05714884031257068,-0.1075943676870822,-0.0876153883697812,-0.10008535254950267,-0.15834479375153965,-0.08526991256744641,-0.1403834452393849,-0.10688960542005779,-0.260780860934521,-0.0735057961079806,-0.09345127411321391,0.930643938650258,-0.09469995350192201,-0.07074103630392198,0.12896031122438034,0.00842260662982987,-0.0794123452385749,-0.07672651628866073,-0.06101413263500463,-0.21514489618855806,0.7726864945904492,-0.07350579610798044,-0.04800895118166107,-0.21828547906763957,-0.06222501181466986,-0.19270357483358594,-0.08821405636945029,-0.06996313051860789,-0.1538519922658566,-0.12355777073330956,0.11313785310875261,-0.0864250198670697,0.412137384445767,0.7371982188759685,0.847578666583315,-0.11810954370680635,-0.25525548037550644,0.4154561536437759,-0.08535506527497166,0.09245702760189464,-0.06312669258106288,-0.14051695263156702,-0.10309815202407298,-0.07469131017159072,-0.18536248735996336,-0.126857594120294,0.8688774223494244,0.44607982224701387,0.7253061288604689,-0.13503146746400294,-0.09685527506872134,0.17243908220888512,-0.13492183441578398,0.93064394169992,-0.187034664188619,-0.09121850635690246,-0.08752324670030708,-0.0017837127878081976,0.1113473155797973,-0.056280242550632825,1.026602008859286,-0.2789454134206116,-0.10562876482083264,-0.07350579610798047,-0.11628799237056549,-0.026939618467686274,-0.36045590713196085,0.9306439355281699,-0.13321763640101933,-0.11575734648162474,-0.03363294921137908,-0.2558671622643845,-0.480913719570576,-0.10355592461390835,-0.14049092708629457,-0.000579074187956003,-0.16786463990762965,0.04254214239295556,-0.09039415988341562,-0.07898646713004603,0.7975669632089767,-0.03163654047588649,-0.04093319494470912,-0.09512063125452083,-0.3524133320365672,-0.4404643919188022,0.9306439439341018,-0.3393551595607773,-0.23770888118602104,-0.07842256831220298,-0.03450682013935528,-0.07350579610798044,-0.0027540236274409915,-0.07854934418517458,1.2464740018551206,-0.13796634702360003,-0.3384128499331018,-0.2685440590863004,0.43127985239846606,-0.1485284694736719,0.04529377618197124,-0.3721886647924193,-0.07350579610798044,-0.06996326727716742,-0.06690290527071802,-0.07350579610798039,-0.11774834499423996,0.044759442765431444,-0.046423010717283546,0.8696004386698358,-0.344486204744346,-0.11503354144518994,0.8810529946288993,-0.11071751554809034,-0.22661519224039198,0.0881536580487591,-0.20744839770560256,1.0989216565977857,-0.10677304465368752,-0.19025363379780094,-0.1496451933132173,0.46377112003668725,-0.42610019449887393,-0.28044070612697164,0.8602283341903847,0.8044832965411582,-0.06996331909329813,0.9306439401497703,-0.07350579610798035,-0.09835820543033787,-0.06560514257980314,-0.12193396391103435,0.2703480855926527,-0.14282323454938997,0.6684672302689734,-0.12154486307997826,-0.1726716494205897,0.9306439401135017,-0.07104141698692883,0.13980216072194818,-0.07639616609613774,-0.33432887442607123,-0.20384882771564364,-0.10995471332313167,-0.24870036828122424,-0.13166554527913454,-0.07350579610798039,0.11316877780414464,0.11134933805975418,-0.09033330499762525,0.731633096770872,-0.09261811945741838,-0.07350579610798048,-0.07854934418517483,-0.4659538613329544,-0.03994433484762688,-0.1609921745409375,-0.3691068763009283,-0.016414346622896498,0.11316934628354967,-0.46924761964940975,0.7485107844869507,-0.18508485920015738],\"z\":[0.10307195559614185,-0.49816010291393537,-0.8196019974940034,0.12463776411992594,0.1980396577405403,0.21149395528023304,0.22727079400535521,0.10307195559614182,-0.009646116911062753,0.3833973470716777,0.08755552234151329,0.24142115485637336,0.14486763020513102,0.12317491549970264,0.08449248251605199,0.021319206686473028,-0.6323526958584451,0.04636562374062426,0.10307195559614168,0.0602272527898762,0.10307195559614181,-0.07947177830186114,0.08593173732282698,0.0844953149997379,-0.6585503091868012,-0.06964831946827714,-0.7136672669478843,-0.5520184387947564,-0.25104957644719217,0.10307195559614167,0.04961231714124692,-0.717597946878973,0.10307195559614185,-0.1025630512349428,0.1030719555961418,0.10782530153261324,0.1847417063477704,0.07255641332322287,0.09321983922387653,0.14796676428190492,0.11969574927878318,-0.07046643817250348,0.11952087434118701,0.03713903997540077,0.17735486040137283,0.011264043259243503,0.10307195559614164,0.09054604764013079,-0.6516516689089215,0.12196265426121441,0.10062125453788072,-0.05916780908388944,-0.4310469828017666,0.12209978755689714,0.11402674380307921,-0.07017543740812861,0.16730936255159187,-0.5331040867169917,0.10307195559614178,-0.38796825512770516,0.21959100816791677,-0.41279384135872743,0.24247733014323483,0.1491586765458786,0.10070356841900943,0.050113526858898465,0.09167754020127443,-0.8187972637314431,0.0903916110302533,-0.2785699225310928,-0.6040225715035239,-0.5741236597333254,0.21139892073874028,0.1095919234917845,1.0077082017673065,0.12271384714046978,-0.8206647789592939,0.0965214611045308,0.1370669558927516,-0.760622180424192,0.10776891664221173,0.21905753457425983,0.17302111187220542,-0.45142300740150376,-0.26006462113342094,-0.4652983639921679,0.14965992891248456,0.18753996357727828,0.6032509247705425,0.08748978914229794,-0.651651661665373,0.35403536319124723,0.10474228405118649,0.14709157742521511,-0.055804105292302855,-0.8196024093307865,0.2150236561213453,0.3729382415485575,0.2409332389847102,0.13853428338734836,0.10307195559614175,0.1901700222688688,0.15407704913099632,0.06981522265062991,-0.6516516770432412,0.2286284444528444,0.12782378986519244,0.10078875245065709,0.21971506481729924,0.27936590458769345,0.15563082307504147,0.19694419468126745,0.025525815624067312,0.1467757959482893,-0.7117156746869345,0.13797368581766295,0.13610934110099931,-0.48668467078343963,0.0022816850176582237,0.1399307641671778,0.13908604429808769,0.1135972827726703,0.10746814947616531,-0.6516516562300637,-0.702323544623768,0.4060359786012322,-0.7738807096635496,0.34806548731347275,0.10307195559614173,-0.4577508682178168,0.09632055717577483,0.15911361047844896,0.1476973271114066,-0.38627169808635414,0.39678930816657043,-0.5037671522126066,0.2599115731888804,-0.7784279833329102,-0.05542298440938694,0.1030719555961418,0.10070334750159651,0.11043033185353136,0.10307195559614186,0.10431424840449227,0.35268102873014306,0.08573967583529406,-0.6139004741050589,-0.045006476645583514,-0.0619546751292835,-0.6557293067395843,0.1543606119975526,0.3609614438809676,-0.7696500572011078,0.20108785828975453,0.41012923691472486,0.1728508045188729,0.1604694236418024,0.13756367629295832,0.8853122364011042,0.29838228613065293,0.10421391936409065,-0.5911089755491057,-0.5302968672460797,0.10070326380297034,-0.6516516650663565,0.10307195559614171,0.17932162385700498,0.11105388994492245,0.014147780044428392,-0.4383644821211284,0.006702041698382652,-0.45877856021241925,0.18292910333659745,0.07613245487206446,-0.6516516651308285,0.06618819860055664,-0.15642593783312145,0.11299793629170095,-0.7073894104654548,0.11031344174247404,0.2093320157878504,0.023137419676605663,0.1803316120445494,0.10307195559614153,-0.8187862450172416,-0.819601657437769,0.1358363485304786,-0.4951162034738124,0.11859631425648694,0.10307195559614155,0.09632055717577477,0.21690081201088618,0.039308825462615424,0.10248617065981093,0.2506746702600144,-0.026469244202871573,-0.8187860387567916,0.1095253786244428,-0.4902575961299557,0.07116303387779566]},{\"hovertemplate\":\"label=proof<br>mds_1=%{x}<br>mds_2=%{y}<br>mds_3=%{z}<extra></extra>\",\"legendgroup\":\"proof\",\"marker\":{\"color\":\"#EF553B\",\"symbol\":\"diamond\"},\"mode\":\"markers\",\"name\":\"proof\",\"scene\":\"scene\",\"showlegend\":true,\"type\":\"scatter3d\",\"x\":[0.18757826872672165,-0.3086887743250841,0.4831141816286002,-0.16202504364293666,-0.19349115522759872,-0.13553901755419143,-0.17935845962165584,-0.19233713992477544,-0.2084208305269125,0.09808267211092644,0.3226673731209156,0.06251813320299712,0.2612020244337382,0.054096110227505205,-0.15908503633059629,-0.31846184003863603,0.28585532072778697,0.09638070661894027,0.29437876475217123,-0.1610839743381942,0.28034296273926623,-0.07047255333301601,-0.0064881975714748035,0.18116948878945083,0.2741718245988518,-0.3867969253968602,0.28585533036766037,0.2509186015699422,-0.16943182906770607,0.08365582030714656,-0.04698741853722283,-0.31049731276245407,-0.13028168523498343,0.06949766306055988,0.010307956314285866,-0.019644980324324664,0.12553787934535104,-0.2618486845972191,-0.2796768861417499,-0.018924165054917022,-0.2272600680620951,0.06298187723165456,-0.3858458218731127,-0.020587690962590523,0.22721698876282126,-0.31875900756598113,-0.06323883581863408,0.19535670482698456,-0.15759777929471316,0.15322104237751832,-0.2628038896437455,-0.36212757622660063,0.09264357492768258,-0.12127391161428587,-0.001138758610784952,0.043150873065910006,0.4327485519523145,-0.2062692501948774,0.030570238340601814,-0.18842788545705522,-0.23960410684678812,-0.26383194988420827,-0.15349334722303998,-0.25084004869838555,-0.08662223949896773,0.23002533608076903,0.1938264733362902,-0.14089895117274187,-0.3035857924416938,0.07397174194755905,-0.35326853139405023,0.05783049361584972,-0.06378099154689225,-0.07307573720351275,-0.15013558458412837,-0.038718846034944285,0.3106963177767462,0.3037228425619544,0.4582560222761071,-0.2812166008599432,0.0724473802831407,-0.13922750430681446,0.2858553280683197,0.4877727358371086,-0.11610964206532161,-0.3918131465013903,-0.12080827723746576,-0.253360787532573,0.13363266781452676,-0.23699301804366069,0.3292586016015771,0.2390987352051532,-0.3446151757878886,0.03235040110266937,-0.4029872077107758,0.2504659853644959,-0.27199547256584927,-0.40298720771077573,-0.405340723608866,-0.3570119140409366,0.213117897817733,-0.1517278205590375,-0.35688372774759225,-0.17420981540150457,-0.3996267899818896,-0.31309580579127244,-0.2960948113412705,0.23895107762569018,-0.16058249346597117,0.26479402666547625,-0.13012736194909402,-0.29583528722430535,-0.10673441893949506,-0.03040993797725049,0.1484490751912298,0.4230970846784526,-0.23280128410340256,-0.37272810853231836,-0.14246241836373066,-0.3947346925522867,0.14460924057771177,-0.008284408600369785,0.24320884206102492,-0.40485126277739636,0.2908359620332319,-0.30052786599935993,0.37254044690535426,-0.4029872077107756,-0.024361019980527424,-0.5032999181301726,-0.072575119229643,0.443723563501913,0.1821350195220092,-0.15949914428350775,-0.30885271028353817,-0.4048512627773952,-0.19861651723170073,-0.07154803133298343,-0.22608349075246018,-0.056711022304871815,-0.040639887589878576,0.2662239265150989,0.2713829890821293,0.285855314134803,-0.07978978562821581,-0.3990123021419199,0.1849462935819806,0.1443513840181986,-0.3005820643794085,-0.1994347752144768,0.14571908872586317,-0.13790899630747783,0.14897120499667263,-0.25521635790665,-0.24149976590557212,0.2929748823304362,-0.18675359092224086,-0.23435427753198534,-0.20796768755993855,0.4023835307202799,-0.3031958806842457,-0.1109587814755992,-0.07550073534096313,-0.2102780132638823,0.1091161434088973,0.037219338858176174,-0.3446229058369007,0.022127722827301376,-0.2991010910423865,-0.259840545583238,-0.2687512852452102,-0.2302682627288914,-0.056264878094988854,0.5488581609307099,0.2858553229715958,0.008996465322258836,-0.12967429583804396,-0.06567928781033976,0.08577847041600595,0.31388908761683476,-0.2625703513833986,-0.17699989166805344,-0.2477587879108992,-0.337775255854553,0.2155942158867896,-0.14258525820336868,0.5054218815092255,-0.20477393022526577,-0.3214374711986227,-0.04485250507459041,-0.27812296751549204,-0.24562821462240608,-0.09575443482956328,-0.21494764771334218,-0.2489019336232234,0.5136524661735947,0.07764713481673007,-0.3124865781608665,-0.13354401025154303,-0.24143604871417798],\"y\":[-0.02844746296292888,-0.09079622338734383,0.5261013410470987,0.5622098026831679,-0.19177694872626427,-0.3001532335648796,-0.2179449182402858,-0.1523851687494279,-0.2988763453857999,0.578265215122217,0.7356880199057837,-0.39188382663483334,-0.22511769137594917,-0.1720991443311399,-0.05789749626245948,-0.10208347389283136,0.930643939474357,-0.008372537272413848,0.9272925839911862,-0.15913162603370495,0.9233968890172077,-0.23579127764670518,0.07701115677249964,0.7280531750382855,-0.4168851471389217,0.01767038731220993,0.9306439439453918,-0.5866842158056609,-0.1439837703426943,-0.3719502881389939,-0.22681310149620834,-0.07275103136382674,-0.18705194008792866,-0.3144725481943847,0.09330806509705282,-0.24137279474037704,-0.3282401911966839,-0.10086908466456447,-0.20766667224733504,-0.3413236390244936,-0.13783462131589386,-0.3492567021821585,-0.1079320210283296,-0.07753478625073108,0.7661261697425595,-0.09106190428407436,-0.14007471738454594,0.8082654932485134,-0.20724717465097267,-0.15032364292266892,-0.15734233071091902,-0.11608139179093921,-0.0207686553672888,0.09087878098938655,-0.13729735015492078,-0.24106977213986125,1.5311418125944518,-0.14241701286420708,-0.18026676424911525,-0.14198935482615407,-0.22586184183893102,-0.1485170358195054,-0.16346962973232243,-0.1901781154969815,-0.018574892705411464,-0.0543198236688258,0.7261680801971688,-0.241394562770041,-0.10948591662210319,-0.34672793487130277,-0.08348813717093971,-0.31114289800584066,-0.2347536077579225,-0.21238927371379782,-0.40695748151782807,0.559147607614917,0.819555146534898,-0.2418869158686474,-0.48179233062569193,-0.10116968706020803,-0.08663359580740111,-0.2568460426424164,0.930643942647784,1.4742929534376377,-0.2037218573451374,-0.059412390785845724,0.10073351793712912,-0.2756736813103096,-0.02504225952945478,-0.1906651060197235,0.643384362991386,-0.45319220903943935,-0.0851124663746377,-0.33538728824266684,-0.07350579610798057,-0.47462879756149895,-0.14942249721540488,-0.07350579610798047,-0.06689458458851666,-0.08712770064984117,-0.3901842293189872,-0.1676047387338684,-0.10268570624002567,-0.5456940490234813,-0.08326395014301345,-0.04813585551525498,-0.17864812946995542,0.177147329468692,-0.17377759567776802,-0.1767457678893756,-0.16930488786065157,-0.11256211723623241,-0.18065485222416716,-0.2208023792708634,0.0015276809826346056,-0.47971631021045164,-0.19249981006881256,-0.08489275286966494,-0.20363821844589267,-0.017605510218171517,1.0825657452403605,-0.29530464230346315,-0.10493669783360965,-0.06560514257980511,-0.10122743295938466,-0.09581736662297749,-0.3567509139223371,-0.07350579610798046,-0.35566108564817944,1.272228511146982,-0.1943540079860166,0.7969829577563191,-0.24181584813509024,0.04920539612827319,-0.0807428287646069,-0.06560514257980171,-0.1431541848818826,-0.045454758289168284,-0.09000976063550205,0.009714719094777838,-0.2598950152719487,-0.5241785516470259,0.2607618676135178,0.9306439361445117,-0.20710700956651532,-0.07413238182948298,0.32958893564023295,0.6249674550050912,-0.12433694217827611,-0.15353629965437318,-0.21917711293789202,-0.24542337885009788,-0.23168782557942272,-0.13913855917460868,-0.11970729584407973,0.7973797524046926,-0.15683562809019852,-0.20932818039098458,-0.14363943876701057,0.07088042691329503,-0.09123209023608543,-0.33452939507780105,0.3134108009928036,-0.5301645379314001,-0.6662033596928599,-0.18627356727529734,-0.08837675426513728,-0.38131127315157176,-0.17040586783573175,-0.1239995413338526,-0.11132043421740243,-0.14283236201449462,-0.21923247612360056,-0.22131879758612774,0.9306439403114635,0.01815495947659978,0.11134515449595836,-0.5301507881679367,-0.4057602199865314,0.9166817180114342,-0.13764654198506587,-0.2821824344009085,-0.12181699583896088,-0.0865590656181561,0.3046455282755905,-0.13937916877118942,0.9759351124218656,-0.27122907288335274,-0.09035486419128806,-0.22883292748906883,-0.18370593111674358,-0.15325221991175147,0.046084582974806804,-0.11833745223546617,-0.18752124853614477,-0.18818097020632782,-0.4547560781892558,-0.05836087959226908,0.1131688983745993,0.0749585799532128],\"z\":[-0.7632078278897445,0.16763062149342747,-0.3541292159996986,-0.10043605908316725,0.11800481597717671,0.07876932714683405,0.10309076246901389,0.18784685231870366,-0.0036911355976046853,-0.39598391961996027,-0.5070455971085003,0.10366829383036853,0.13762888420060612,-0.09447964137232256,0.0792289924677045,0.13573821375487302,-0.6516516670664182,-0.7841062084659565,-0.6526778358526544,0.1956353165522796,-0.6453990058369086,0.17144202718123547,-0.5854629176668799,-0.5197877446498013,0.27064939702506235,-0.1901491451406774,-0.6516516561812595,0.015101694085584962,0.17621627298378703,0.14700071855043848,0.20630004593989817,0.18613592224003941,0.18434088657509115,0.21141724719009986,-0.416909158736231,0.21320563607287507,0.09275358490638057,0.1966515947240352,0.0693169297669388,0.09457920288631994,0.20378885215357856,0.16327671705951735,0.06990163966240377,0.4065239579547579,-0.5750592029708606,0.15599252683891932,0.2655664067755693,-0.5570931824161242,0.1383520567436526,-0.1544398523940552,0.13002809035078003,0.1011971638081431,-0.6827838231514172,-0.7583874285111214,-0.1469785563840269,0.2752377678768142,-0.0011033403183678707,0.27181994906568363,0.18974814169447754,0.1864201276454656,0.05368477026267156,0.09137275629285485,0.21404315542497515,0.1275118785929957,0.4332588607463165,-0.7662340966444436,-0.443332847288701,0.1738059863439104,0.06549215640399927,0.17885432243748925,0.13462658881328413,0.24001257705463436,0.18528208767754098,0.20193700026433778,0.027431834366715247,-0.2609524040379757,-0.5544982314180139,0.23326549839283503,0.3292480410070994,0.17649309709006633,-0.28939933705089965,0.08893428890838015,-0.6516516591166432,-0.02098501336135066,0.17375095419930986,0.11823065291498344,-0.7985667940373865,0.1183361992723883,-0.7302272368862238,0.08017247057098138,-0.5336571687359881,0.1475154430121536,0.1401696288923581,0.14964507989206538,0.10307195559614152,0.1672079992206738,0.12172231271395756,0.10307195559614152,0.11043470883205452,0.1266936800909682,0.2530581534545555,0.2831978507294031,0.10292755774862926,-0.030526380281058075,0.09197194873100059,0.08812882817573846,0.06827642943831908,-0.20138272607537058,0.17400919762853867,0.08055708119223501,0.20139725853792173,0.14252932086653308,0.15512766345256807,0.39140243630407956,0.012467233134270462,-1.443015088717969,0.08047693396395672,0.11089139916321167,0.1556258162124949,0.16732708049219042,0.33754289360640105,0.15610996575489963,-0.6484900308056211,0.11105388994492188,-0.7279099676100497,0.07982109524347197,0.37196195266586946,0.10307195559614156,0.16614761711306572,-1.0832296475674978,0.22168856721178787,-0.6474768289513668,0.49026089141337614,0.3798266279598039,0.1633225104073293,0.11105388994492317,0.16733060393060242,-0.3919914827679121,0.1370214166899306,-0.5185849183994055,0.21431869861568437,0.10583262759933192,-0.10622038494803557,-0.6516516749099653,0.20575956691629976,0.10566868617224015,-0.20518438440644127,-0.33993221424934567,0.11645898101602169,0.17260943986207694,0.41323370372042917,0.18897769672521672,0.3970402612845426,0.13244086805355043,0.18252927986300502,0.26306485013039005,0.1836878993049888,0.10161008287659345,0.17486544393397424,-0.05028126653339982,0.17139216058220613,0.017499246873623486,-0.465623393743277,-0.05115985706489497,-0.15383647102822132,0.35474445412372857,0.13527857879526436,0.06937463830291636,0.08499852227926272,0.15387483801774623,0.16465799343896453,0.1548234256696298,0.1601443961177037,-0.6803179340843958,-0.6516516648313285,0.023773908142554326,-0.8196032144937032,0.026027865205284426,0.12281774563833388,-0.6516801204454408,0.12768807137607532,0.059225199082238944,0.12580728986617531,0.14434998465257917,-0.1688109177256089,0.20301433234701613,-0.5481054299423765,0.0620391852478642,0.1543785067660577,0.20493065481910547,0.0879281701047031,0.1251725933626234,-0.6310965907581702,0.21541812776458485,0.11555490034564725,-0.7423233542546667,0.06753610452567521,0.1064250982150835,-0.8187862012922358,0.19199197603665002]},{\"hovertemplate\":\"label=theorem<br>mds_1=%{x}<br>mds_2=%{y}<br>mds_3=%{z}<extra></extra>\",\"legendgroup\":\"theorem\",\"marker\":{\"color\":\"#00cc96\",\"symbol\":\"square\"},\"mode\":\"markers\",\"name\":\"theorem\",\"scene\":\"scene\",\"showlegend\":true,\"type\":\"scatter3d\",\"x\":[0.04828752359987335,-0.23499833023305994,0.25025231947068777,0.45725338227701906,0.29958662893303145,0.40905577674212096,0.21566290979651823,0.3122306750093302,0.481722554966813,0.009067877990323114,0.44033148960203167,0.1704010980234409,0.3390095759203503,-0.02779293269470184,0.19348403960636743,-0.0022356812326713893,0.2664795753060586,-0.03543613496352562,-0.1658017662987475,0.5803930982384629,0.2637224054803116,0.21723968746943567,0.3879374190875686,0.22543902183254466,0.2717698573285982,0.12925106882986273,0.10816372577314952,0.333497745959115,0.4349409817663069,0.16325965639527568,0.22793087563499154,0.41079844506083707,0.42592719144437563,0.18994172820852973,0.28585532280205667,0.44688712981601225,0.07042277660102537,0.14110574357405334,-0.18243267732286642,0.2966042870629492,0.3152287074657917,0.4506905494606422,0.21875521961704034,0.24456635916114794,0.42229120431135037,-0.22000180054374627,0.1892526905627854,0.2215045291924841,0.22259333862923875,0.3942736480440373,0.28977883803732124,0.4065091236817771,0.20254736500662437,0.4237715102723049,-0.012322253033840448,0.293571218046699,0.02688934733233041,0.577593037865314,-0.3742234997692002,0.2736538501432044,-0.05507824306668755,0.1859245047847237,0.40450321365915437,-0.05536559758798061,0.42979763854367387,0.15355831969781567,-0.2946922593159297,0.26932136092381864,0.3485114817292012,0.3576948631411372,0.11452907452340783,0.08475133677325104,-0.04563199753817197,0.293123865421091,-0.00013420779593762572,0.22538400064192035,0.1924140526369246,-0.2051220979002578,0.48185411414614326,0.18428759190371163,0.3479920770095418,0.21704077602596264,0.13805298158221846,0.28585531870632036,1.010690207509653,-0.11591149769465328,0.412022324930832,-0.40534388378633196,-0.2503816757226738,0.42739166408613827,-0.3510111327784202,0.3390423311862289,-0.31031553325831107,0.14846139442019468,-0.3063386845959062,0.3213294926133055,0.14979299325222678,-0.1296824864587112,0.2512292106997193,0.03108933097401844,0.2476429721943396,0.15341841978698298,0.46100699388035615,0.29503098728860877,0.3342944744803411,0.4214961045326949,0.27608940320044945,0.027976088668879427,0.2186097856280784,0.21074103877481548,0.01469601368294787,0.3365593378072062,0.29988356661532584,0.19502843757491398,0.1604276830621117,-0.002583424732697311,-0.14105001910850543,0.2702421382687963,0.5175714594115057,-0.2364225396189139,0.21268980563242743,0.42553023233425386,0.29466636698191734,0.48293453059761904,0.24364222712058833,0.23628727394254348,0.15583772772618654,0.23763043726948288,0.14038977193947308,-0.04208468049567214,0.46359547456173256,-0.12161836263912364,0.31555697334834915,0.4428758187982726,0.41762509118910723,-0.143475393377024,0.38645313168980205,0.30986499123009825,0.4536016230649591,0.21216376888758082,-0.08289853800789088,0.06269546081386791,-0.12911591181618184,0.4673707226954604,0.46579324108398795,-0.16050778960141657,0.41622662150029144,0.09647880462586851,0.06735627275462484,-0.1457335609701167,0.3087943712326082,0.12958917129609854,-0.11641298536407373,0.21470991659047312,-0.10013015503308935,0.46776843061842444,0.254620447194556,0.11692241341670409,0.25553579540922317,0.24629185414493324,0.06946846840294721,0.1679778680966691,-0.16809756835707995,0.2972065107238453,-0.16339090025000333,0.45536738365425905,-0.1877289871531265,0.3005850858437207,0.4815559997126461,0.3019738126806543,0.024501701394104475,0.17364784970453556,-0.12657961753681657,-0.3567861845434241,0.324056388260926,0.4710465945630204,-0.2978688248649229,-0.12460877189921657,0.09283624248282657,0.4076508156608346,0.33831417579270673,0.12333116135830663,-0.18117178411243381,0.44738580704212516,0.2939546440048188,-0.08915905309637885,-0.40298720771077573,-0.10769031594844104,0.3797667286711462,-0.13524399067137613,-0.36591071400291797,0.22861168178694707,0.422646397483871,0.33242647339960957,0.4442262422395149,0.6188913105114601,0.2858553263745584,-0.27968271751410106,-0.34550100287582336,0.2817437316496535],\"y\":[-0.22332629380166563,-0.24396520722355175,-0.23342937379914921,-0.3344457230706151,-0.3308353835773542,-0.28230295882977735,-0.2832400819632708,0.6426457775746041,0.8159246594747844,0.9569343907412511,-0.32380076249133904,-0.20996576385487084,-0.1361049510619742,0.20637048485478926,-0.025503378210024068,1.4939373295955642,-0.5017587763846764,-0.19830156687803502,-0.18310025007873793,-0.43687492937473227,-0.18895066067968452,-0.25211347816247526,-0.31560718824118866,0.3727836263442234,-0.21489432399970834,0.5657065554016527,0.684225052915906,-0.15082554871398896,-0.22067833531958672,-0.3064004979591756,-0.3797814694080486,-0.2512250151906665,-0.3344447291990679,-0.12103248925269572,0.9306439400446174,-0.3316924780784463,-0.290469107627006,-0.25548547641106817,-0.012548388059101794,-0.2219104834901543,-0.2054262116933691,-0.47322144011330997,0.13473725532855657,-0.2768125989005424,-0.20674431549601766,-0.35672698083191434,0.7785563790671,-0.11718485376433661,-0.404628715235491,-0.33777476283796076,-0.3694499156918561,-0.36055980731592413,-0.2717168264727829,-0.1779839635381225,-0.42717781380755737,-0.45775942349468224,-0.37457192638769066,-0.3549480185053932,-0.31610337420979207,0.5354412725988367,-0.3734117766963004,0.7625030277022901,0.28293464942163865,-0.21391908403098533,0.6425936780006504,-0.2568332480729288,-0.16262468679153907,-0.2748072328179792,0.5977385212594691,-0.4338772599735803,-0.16019690135747952,1.2178536894673095,0.08302987717269429,-0.552066664328229,0.41514403713932896,-0.18227842525225427,0.8309103407535662,0.32017395859553216,-0.341663634732337,0.7890366867822695,0.12242217430696035,-0.1047996378697272,0.4123280163484145,0.9306439383352564,-0.24155977267581963,0.07484693535832522,0.6609991293106413,-0.06690280790955326,-0.06201040096923591,-0.28714570883837826,-0.05735819839065429,-0.29847038262260495,-0.076562366502535,-0.18912108108536058,0.032996262771877206,-0.24153921969526737,0.3317465240541206,0.11135055178689957,0.7504872109376299,-0.3046438196288728,-0.3659650298646247,0.7920367685503064,-0.38597872328111676,0.815271623624721,-0.09263459875702727,0.4852901202069162,-0.023370988368739087,-0.38577372238323926,0.4109431034958223,-0.4047488027716794,-0.0029503329917566906,-0.28551399818753087,-0.3058340654868569,0.6105970367933998,-0.2380790878169638,-0.46730427579205425,-0.11549877791859987,-0.23688230836952748,-0.4390819506558961,-0.18300588227449993,0.4679317805062266,0.20366633231935974,0.92787853811362,-0.3439179544890601,-0.4293304355240154,-0.5932045237515213,-0.3709221263147423,-0.05853174841990714,0.35167007285956214,0.6179853728713437,-0.1399753673451112,-0.2570980454951426,-0.30358569216011466,-0.2795559613066616,-0.34827684197179937,0.13582963823897076,-0.21019782523575822,0.7192482892072488,-0.41501411271145894,-0.3618943499718415,-0.2739226986084914,1.3203129639823235,-0.371970394701223,-0.16597766722381704,-0.15430738932440324,-0.561159833177616,-0.5535246765970644,-0.166490616722448,-0.17068169156379556,-0.31044631216160967,-0.2186369995506938,-0.1906326701790885,-0.12949818670560898,-0.30032803474666925,-0.11004037715509517,-0.1186207235820764,0.7674670810129978,0.43516267563752453,-0.21102678901923014,-0.10800503137753865,0.5369847913997692,0.6470143314256628,-0.18726506223954037,-0.2374399945887425,-0.1274420486292794,-0.263102505616412,-0.14350769050450893,0.7965682167089215,-0.33918232128080555,-0.3978304024249321,-0.2708650672390188,-0.3507223478303594,1.2914483547156614,-0.058053653175688155,-0.3036539640066102,-0.27916398895803307,-0.13887997572497787,0.24362098938139667,-0.04886619739949211,-0.1838320804485671,-0.30461650077945557,-0.2781065662840749,-0.1508641677063028,-0.027336090589902304,-0.18638795157652716,0.5876292053685598,-0.07350579610798061,0.7229315232415139,0.7383899705410247,-0.05420438265443134,-0.29269614564571456,-0.22055953512636195,-0.3988119578404114,0.19398436892297022,-0.21694060836953602,0.6342725032622564,0.930643941399772,-0.10619283252417185,-0.06569138544136713,0.8715556771778662],\"z\":[0.19966819550830026,0.026239673998352836,0.33635243276101556,0.5481396487019808,0.37417918223367924,-0.8349977739223869,0.2648443054951107,-0.3773139321231701,-0.32147844830471184,0.4627611710513536,0.5446686257947186,0.3326119181921335,0.25236743955107194,0.08171938357462157,-0.07874718142717593,-0.1014177317875717,0.1499008044590803,0.19569928747238663,0.16135562702944511,-0.6029730706049425,0.38196969480544557,0.1601856590847599,0.4827261609124188,-0.26685975073808993,0.35613820492735737,-0.36377057295989823,-0.4557420911332821,0.37699747926794414,0.37987597282703267,0.3062458595406008,0.3329910077171198,0.47749374239258013,0.517801070281791,0.178272678000259,-0.6516516652987976,0.5435655455261315,0.24983600360538183,0.34969081284909304,0.3483883437234968,0.36017137704537616,0.361924212500573,0.2574122672131164,0.10579348310643565,0.2988776114348932,0.43529764110793906,0.020270787668816383,-0.6065561542351158,0.2932680223553419,0.2374922689576251,0.36239408517190963,0.34325690699302347,0.46063196137638407,0.3222040157117426,0.4028486578972174,-0.10462656286799726,0.2000108128752474,0.2293513385532984,-1.10567263629578,-0.13604009507948944,-0.33089232851022227,0.08711214580730833,-0.29575283292165505,-0.046545993092386606,0.22264615375705973,-0.5401366953390901,0.11835503124951272,0.07356534436247959,0.37958344962605345,-0.3277697356659753,0.3157611775520551,0.31286142467417677,0.2069697714616457,-0.020307351145624812,0.10944392077448624,-0.09070845801280118,0.34390052852624353,-0.5512017609642735,-0.12980551645397834,0.5588908579501696,-0.5433408139877897,-0.14839466318396896,0.21037969403076592,-0.22839842036681698,-0.6516516696445821,-0.17622386144181434,0.028309598058647613,-0.42053605665383387,0.11043038309667119,0.10380901169025099,0.4946157050788201,0.10798070711896413,0.35474383163159123,0.09970314599266675,0.2551572105263989,0.0032250180656279237,0.268837890217196,-0.22156279211688004,-0.8196012071512214,-0.5364675208025547,0.2660936255789665,0.36428557305089193,-0.5268518395073707,0.47266053130506164,-0.545153696788709,-0.7865815776471222,-0.4737517197077795,0.22464608004152647,0.11041085422815104,-0.2273698370285852,0.1533431304730875,-0.6476152736977211,0.44206944701087547,0.43632637514270456,-0.5528385619861577,0.03439637444679725,0.04741083368198851,0.07410100374600591,0.32649572519351633,0.44833815423716594,0.09005548255330387,-0.25832329542719146,-0.13698384638385275,-0.6516896082034663,0.5566082083285401,0.24324907607532983,0.03726393614374404,0.31309068038451054,-0.5590987895540382,-0.21113351965330537,-0.3359208080385954,0.3667228119041643,0.11003763843457212,0.40383132173627817,0.4981709239480068,0.4869628325029358,-0.07221148838481159,0.39365342274841714,-0.4204345312395917,0.42421698951692466,0.2776254343914706,0.13083196973867892,0.10907089299886624,0.08648251311799378,0.391831565958777,0.3797785440467965,-0.09946275059375967,0.2018940718504054,0.21920518288104562,0.29507078082705185,0.07907065506619332,0.4351861022586917,0.09376787373868575,0.15091859615809783,0.3234189990482396,-0.2564741418867846,0.21411255828416065,-0.6046789293405752,-0.27311441340417164,0.36786103976740986,0.0575706826804482,-0.4888858253433271,-0.3950291989591001,0.14834575151947446,0.36626450519875514,0.07061292569089467,0.4897462941789383,0.12402105065286909,-0.5544414474895151,0.5621985355055398,0.3112589245578588,0.2457918403435035,0.270238567223337,0.0915724332879012,0.15215958769120452,0.34803856032724917,0.2559880309468208,0.11335763515706831,-0.1699265366189425,-0.4791019151504069,0.251954970804545,0.30907846900213215,0.17090643141360864,0.23026129338292778,0.24364103469057855,0.38175244631335176,-0.22510984192247904,0.10307195559614162,0.6540751819984978,0.6321540886414605,0.08117816848756218,-0.09469009133741714,0.3954801206917694,0.42394778000957994,-0.12031843533261617,0.4741785884685947,-0.5485193812917498,-0.6516516617074051,0.16952785459825856,0.10545389655752191,-0.6177358022227317]}],                        {\"legend\":{\"title\":{\"text\":\"label\"},\"tracegroupgap\":0},\"margin\":{\"t\":60},\"scene\":{\"domain\":{\"x\":[0.0,1.0],\"y\":[0.0,1.0]},\"xaxis\":{\"title\":{\"text\":\"mds_1\"}},\"yaxis\":{\"title\":{\"text\":\"mds_2\"}},\"zaxis\":{\"title\":{\"text\":\"mds_3\"}}},\"template\":{\"data\":{\"bar\":[{\"error_x\":{\"color\":\"#2a3f5f\"},\"error_y\":{\"color\":\"#2a3f5f\"},\"marker\":{\"line\":{\"color\":\"#E5ECF6\",\"width\":0.5},\"pattern\":{\"fillmode\":\"overlay\",\"size\":10,\"solidity\":0.2}},\"type\":\"bar\"}],\"barpolar\":[{\"marker\":{\"line\":{\"color\":\"#E5ECF6\",\"width\":0.5},\"pattern\":{\"fillmode\":\"overlay\",\"size\":10,\"solidity\":0.2}},\"type\":\"barpolar\"}],\"carpet\":[{\"aaxis\":{\"endlinecolor\":\"#2a3f5f\",\"gridcolor\":\"white\",\"linecolor\":\"white\",\"minorgridcolor\":\"white\",\"startlinecolor\":\"#2a3f5f\"},\"baxis\":{\"endlinecolor\":\"#2a3f5f\",\"gridcolor\":\"white\",\"linecolor\":\"white\",\"minorgridcolor\":\"white\",\"startlinecolor\":\"#2a3f5f\"},\"type\":\"carpet\"}],\"choropleth\":[{\"colorbar\":{\"outlinewidth\":0,\"ticks\":\"\"},\"type\":\"choropleth\"}],\"contour\":[{\"colorbar\":{\"outlinewidth\":0,\"ticks\":\"\"},\"colorscale\":[[0.0,\"#0d0887\"],[0.1111111111111111,\"#46039f\"],[0.2222222222222222,\"#7201a8\"],[0.3333333333333333,\"#9c179e\"],[0.4444444444444444,\"#bd3786\"],[0.5555555555555556,\"#d8576b\"],[0.6666666666666666,\"#ed7953\"],[0.7777777777777778,\"#fb9f3a\"],[0.8888888888888888,\"#fdca26\"],[1.0,\"#f0f921\"]],\"type\":\"contour\"}],\"contourcarpet\":[{\"colorbar\":{\"outlinewidth\":0,\"ticks\":\"\"},\"type\":\"contourcarpet\"}],\"heatmap\":[{\"colorbar\":{\"outlinewidth\":0,\"ticks\":\"\"},\"colorscale\":[[0.0,\"#0d0887\"],[0.1111111111111111,\"#46039f\"],[0.2222222222222222,\"#7201a8\"],[0.3333333333333333,\"#9c179e\"],[0.4444444444444444,\"#bd3786\"],[0.5555555555555556,\"#d8576b\"],[0.6666666666666666,\"#ed7953\"],[0.7777777777777778,\"#fb9f3a\"],[0.8888888888888888,\"#fdca26\"],[1.0,\"#f0f921\"]],\"type\":\"heatmap\"}],\"heatmapgl\":[{\"colorbar\":{\"outlinewidth\":0,\"ticks\":\"\"},\"colorscale\":[[0.0,\"#0d0887\"],[0.1111111111111111,\"#46039f\"],[0.2222222222222222,\"#7201a8\"],[0.3333333333333333,\"#9c179e\"],[0.4444444444444444,\"#bd3786\"],[0.5555555555555556,\"#d8576b\"],[0.6666666666666666,\"#ed7953\"],[0.7777777777777778,\"#fb9f3a\"],[0.8888888888888888,\"#fdca26\"],[1.0,\"#f0f921\"]],\"type\":\"heatmapgl\"}],\"histogram\":[{\"marker\":{\"pattern\":{\"fillmode\":\"overlay\",\"size\":10,\"solidity\":0.2}},\"type\":\"histogram\"}],\"histogram2d\":[{\"colorbar\":{\"outlinewidth\":0,\"ticks\":\"\"},\"colorscale\":[[0.0,\"#0d0887\"],[0.1111111111111111,\"#46039f\"],[0.2222222222222222,\"#7201a8\"],[0.3333333333333333,\"#9c179e\"],[0.4444444444444444,\"#bd3786\"],[0.5555555555555556,\"#d8576b\"],[0.6666666666666666,\"#ed7953\"],[0.7777777777777778,\"#fb9f3a\"],[0.8888888888888888,\"#fdca26\"],[1.0,\"#f0f921\"]],\"type\":\"histogram2d\"}],\"histogram2dcontour\":[{\"colorbar\":{\"outlinewidth\":0,\"ticks\":\"\"},\"colorscale\":[[0.0,\"#0d0887\"],[0.1111111111111111,\"#46039f\"],[0.2222222222222222,\"#7201a8\"],[0.3333333333333333,\"#9c179e\"],[0.4444444444444444,\"#bd3786\"],[0.5555555555555556,\"#d8576b\"],[0.6666666666666666,\"#ed7953\"],[0.7777777777777778,\"#fb9f3a\"],[0.8888888888888888,\"#fdca26\"],[1.0,\"#f0f921\"]],\"type\":\"histogram2dcontour\"}],\"mesh3d\":[{\"colorbar\":{\"outlinewidth\":0,\"ticks\":\"\"},\"type\":\"mesh3d\"}],\"parcoords\":[{\"line\":{\"colorbar\":{\"outlinewidth\":0,\"ticks\":\"\"}},\"type\":\"parcoords\"}],\"pie\":[{\"automargin\":true,\"type\":\"pie\"}],\"scatter\":[{\"marker\":{\"colorbar\":{\"outlinewidth\":0,\"ticks\":\"\"}},\"type\":\"scatter\"}],\"scatter3d\":[{\"line\":{\"colorbar\":{\"outlinewidth\":0,\"ticks\":\"\"}},\"marker\":{\"colorbar\":{\"outlinewidth\":0,\"ticks\":\"\"}},\"type\":\"scatter3d\"}],\"scattercarpet\":[{\"marker\":{\"colorbar\":{\"outlinewidth\":0,\"ticks\":\"\"}},\"type\":\"scattercarpet\"}],\"scattergeo\":[{\"marker\":{\"colorbar\":{\"outlinewidth\":0,\"ticks\":\"\"}},\"type\":\"scattergeo\"}],\"scattergl\":[{\"marker\":{\"colorbar\":{\"outlinewidth\":0,\"ticks\":\"\"}},\"type\":\"scattergl\"}],\"scattermapbox\":[{\"marker\":{\"colorbar\":{\"outlinewidth\":0,\"ticks\":\"\"}},\"type\":\"scattermapbox\"}],\"scatterpolar\":[{\"marker\":{\"colorbar\":{\"outlinewidth\":0,\"ticks\":\"\"}},\"type\":\"scatterpolar\"}],\"scatterpolargl\":[{\"marker\":{\"colorbar\":{\"outlinewidth\":0,\"ticks\":\"\"}},\"type\":\"scatterpolargl\"}],\"scatterternary\":[{\"marker\":{\"colorbar\":{\"outlinewidth\":0,\"ticks\":\"\"}},\"type\":\"scatterternary\"}],\"surface\":[{\"colorbar\":{\"outlinewidth\":0,\"ticks\":\"\"},\"colorscale\":[[0.0,\"#0d0887\"],[0.1111111111111111,\"#46039f\"],[0.2222222222222222,\"#7201a8\"],[0.3333333333333333,\"#9c179e\"],[0.4444444444444444,\"#bd3786\"],[0.5555555555555556,\"#d8576b\"],[0.6666666666666666,\"#ed7953\"],[0.7777777777777778,\"#fb9f3a\"],[0.8888888888888888,\"#fdca26\"],[1.0,\"#f0f921\"]],\"type\":\"surface\"}],\"table\":[{\"cells\":{\"fill\":{\"color\":\"#EBF0F8\"},\"line\":{\"color\":\"white\"}},\"header\":{\"fill\":{\"color\":\"#C8D4E3\"},\"line\":{\"color\":\"white\"}},\"type\":\"table\"}]},\"layout\":{\"annotationdefaults\":{\"arrowcolor\":\"#2a3f5f\",\"arrowhead\":0,\"arrowwidth\":1},\"autotypenumbers\":\"strict\",\"coloraxis\":{\"colorbar\":{\"outlinewidth\":0,\"ticks\":\"\"}},\"colorscale\":{\"diverging\":[[0,\"#8e0152\"],[0.1,\"#c51b7d\"],[0.2,\"#de77ae\"],[0.3,\"#f1b6da\"],[0.4,\"#fde0ef\"],[0.5,\"#f7f7f7\"],[0.6,\"#e6f5d0\"],[0.7,\"#b8e186\"],[0.8,\"#7fbc41\"],[0.9,\"#4d9221\"],[1,\"#276419\"]],\"sequential\":[[0.0,\"#0d0887\"],[0.1111111111111111,\"#46039f\"],[0.2222222222222222,\"#7201a8\"],[0.3333333333333333,\"#9c179e\"],[0.4444444444444444,\"#bd3786\"],[0.5555555555555556,\"#d8576b\"],[0.6666666666666666,\"#ed7953\"],[0.7777777777777778,\"#fb9f3a\"],[0.8888888888888888,\"#fdca26\"],[1.0,\"#f0f921\"]],\"sequentialminus\":[[0.0,\"#0d0887\"],[0.1111111111111111,\"#46039f\"],[0.2222222222222222,\"#7201a8\"],[0.3333333333333333,\"#9c179e\"],[0.4444444444444444,\"#bd3786\"],[0.5555555555555556,\"#d8576b\"],[0.6666666666666666,\"#ed7953\"],[0.7777777777777778,\"#fb9f3a\"],[0.8888888888888888,\"#fdca26\"],[1.0,\"#f0f921\"]]},\"colorway\":[\"#636efa\",\"#EF553B\",\"#00cc96\",\"#ab63fa\",\"#FFA15A\",\"#19d3f3\",\"#FF6692\",\"#B6E880\",\"#FF97FF\",\"#FECB52\"],\"font\":{\"color\":\"#2a3f5f\"},\"geo\":{\"bgcolor\":\"white\",\"lakecolor\":\"white\",\"landcolor\":\"#E5ECF6\",\"showlakes\":true,\"showland\":true,\"subunitcolor\":\"white\"},\"hoverlabel\":{\"align\":\"left\"},\"hovermode\":\"closest\",\"mapbox\":{\"style\":\"light\"},\"paper_bgcolor\":\"white\",\"plot_bgcolor\":\"#E5ECF6\",\"polar\":{\"angularaxis\":{\"gridcolor\":\"white\",\"linecolor\":\"white\",\"ticks\":\"\"},\"bgcolor\":\"#E5ECF6\",\"radialaxis\":{\"gridcolor\":\"white\",\"linecolor\":\"white\",\"ticks\":\"\"}},\"scene\":{\"xaxis\":{\"backgroundcolor\":\"#E5ECF6\",\"gridcolor\":\"white\",\"gridwidth\":2,\"linecolor\":\"white\",\"showbackground\":true,\"ticks\":\"\",\"zerolinecolor\":\"white\"},\"yaxis\":{\"backgroundcolor\":\"#E5ECF6\",\"gridcolor\":\"white\",\"gridwidth\":2,\"linecolor\":\"white\",\"showbackground\":true,\"ticks\":\"\",\"zerolinecolor\":\"white\"},\"zaxis\":{\"backgroundcolor\":\"#E5ECF6\",\"gridcolor\":\"white\",\"gridwidth\":2,\"linecolor\":\"white\",\"showbackground\":true,\"ticks\":\"\",\"zerolinecolor\":\"white\"}},\"shapedefaults\":{\"line\":{\"color\":\"#2a3f5f\"}},\"ternary\":{\"aaxis\":{\"gridcolor\":\"white\",\"linecolor\":\"white\",\"ticks\":\"\"},\"baxis\":{\"gridcolor\":\"white\",\"linecolor\":\"white\",\"ticks\":\"\"},\"bgcolor\":\"#E5ECF6\",\"caxis\":{\"gridcolor\":\"white\",\"linecolor\":\"white\",\"ticks\":\"\"}},\"title\":{\"x\":0.05},\"xaxis\":{\"automargin\":true,\"gridcolor\":\"white\",\"linecolor\":\"white\",\"ticks\":\"\",\"title\":{\"standoff\":15},\"zerolinecolor\":\"white\",\"zerolinewidth\":2},\"yaxis\":{\"automargin\":true,\"gridcolor\":\"white\",\"linecolor\":\"white\",\"ticks\":\"\",\"title\":{\"standoff\":15},\"zerolinecolor\":\"white\",\"zerolinewidth\":2}}}},                        {\"responsive\": true}                    ).then(function(){\n",
       "                            \n",
       "var gd = document.getElementById('65087964-5b35-4241-a6fc-a591899043c9');\n",
       "var x = new MutationObserver(function (mutations, observer) {{\n",
       "        var display = window.getComputedStyle(gd).display;\n",
       "        if (!display || display === 'none') {{\n",
       "            console.log([gd, 'removed!']);\n",
       "            Plotly.purge(gd);\n",
       "            observer.disconnect();\n",
       "        }}\n",
       "}});\n",
       "\n",
       "// Listen for the removal of the full notebook cells\n",
       "var notebookContainer = gd.closest('#notebook-container');\n",
       "if (notebookContainer) {{\n",
       "    x.observe(notebookContainer, {childList: true});\n",
       "}}\n",
       "\n",
       "// Listen for the clearing of the current output cell\n",
       "var outputEl = gd.closest('.output');\n",
       "if (outputEl) {{\n",
       "    x.observe(outputEl, {childList: true});\n",
       "}}\n",
       "\n",
       "                        })                };                });            </script>        </div>"
      ]
     },
     "metadata": {},
     "output_type": "display_data"
    }
   ],
   "source": [
    "mds_new = pd.concat([mds_new, labels], axis=1)\n",
    "\n",
    "import plotly.express as px\n",
    "\n",
    "fig = px.scatter_3d(\n",
    "    mds_new, x=\"mds_1\", y=\"mds_2\", z=\"mds_3\", symbol=\"label\", color=\"label\"\n",
    ")\n",
    "fig.show()"
   ]
  },
  {
   "cell_type": "markdown",
   "id": "4d51ca20",
   "metadata": {},
   "source": [
    "# UMAP projection"
   ]
  },
  {
   "cell_type": "code",
   "execution_count": 52,
   "id": "72f5210e",
   "metadata": {
    "scrolled": true
   },
   "outputs": [
    {
     "ename": "ModuleNotFoundError",
     "evalue": "No module named 'umap'",
     "output_type": "error",
     "traceback": [
      "\u001b[0;31m---------------------------------------------------------------------------\u001b[0m",
      "\u001b[0;31mModuleNotFoundError\u001b[0m                       Traceback (most recent call last)",
      "\u001b[0;32m/var/folders/tm/9klk1nzn2lz690wvdfb85s_00000gn/T/ipykernel_52155/469094592.py\u001b[0m in \u001b[0;36m<module>\u001b[0;34m\u001b[0m\n\u001b[0;32m----> 1\u001b[0;31m \u001b[0;32mimport\u001b[0m \u001b[0mumap\u001b[0m\u001b[0;34m\u001b[0m\u001b[0;34m\u001b[0m\u001b[0m\n\u001b[0m\u001b[1;32m      2\u001b[0m \u001b[0mreducer\u001b[0m \u001b[0;34m=\u001b[0m \u001b[0mumap\u001b[0m\u001b[0;34m.\u001b[0m\u001b[0mUMAP\u001b[0m\u001b[0;34m(\u001b[0m\u001b[0mn_neighbors\u001b[0m\u001b[0;34m=\u001b[0m\u001b[0;36m20\u001b[0m\u001b[0;34m,\u001b[0m\u001b[0mn_components\u001b[0m\u001b[0;34m=\u001b[0m\u001b[0;36m3\u001b[0m\u001b[0;34m,\u001b[0m\u001b[0mverbose\u001b[0m\u001b[0;34m=\u001b[0m\u001b[0;32mTrue\u001b[0m\u001b[0;34m)\u001b[0m\u001b[0;34m\u001b[0m\u001b[0;34m\u001b[0m\u001b[0m\n\u001b[1;32m      3\u001b[0m \u001b[0mX_transformed\u001b[0m \u001b[0;34m=\u001b[0m\u001b[0mreducer\u001b[0m\u001b[0;34m.\u001b[0m\u001b[0mfit_transform\u001b[0m\u001b[0;34m(\u001b[0m\u001b[0mX\u001b[0m\u001b[0;34m)\u001b[0m\u001b[0;34m\u001b[0m\u001b[0;34m\u001b[0m\u001b[0m\n\u001b[1;32m      4\u001b[0m \u001b[0mX_transformed\u001b[0m\u001b[0;34m.\u001b[0m\u001b[0mshape\u001b[0m\u001b[0;34m\u001b[0m\u001b[0;34m\u001b[0m\u001b[0m\n",
      "\u001b[0;31mModuleNotFoundError\u001b[0m: No module named 'umap'"
     ]
    }
   ],
   "source": [
    "import umap\n",
    "\n",
    "reducer = umap.UMAP(n_neighbors=20, n_components=3, verbose=True)\n",
    "X_transformed = reducer.fit_transform(X)\n",
    "X_transformed.shape"
   ]
  },
  {
   "cell_type": "code",
   "execution_count": null,
   "id": "c0b0b4c1",
   "metadata": {},
   "outputs": [],
   "source": [
    "umap_df = pd.DataFrame(X_transformed)\n",
    "umap_df.shape\n",
    "\n",
    "umap_new = pd.concat([umap_df, labels], axis=1)\n",
    "umap_new.columns = [\"umap_1\", \"umap_2\", \"umap_3\", \"labels\"]\n",
    "umap_new"
   ]
  },
  {
   "cell_type": "code",
   "execution_count": null,
   "id": "d4af7c5d",
   "metadata": {},
   "outputs": [],
   "source": [
    "umap_new"
   ]
  },
  {
   "cell_type": "code",
   "execution_count": null,
   "id": "blocked-globe",
   "metadata": {},
   "outputs": [],
   "source": [
    "sns.scatterplot(data=umap_new, x=\"umap_1\", y=\"umap_2\", hue=\"labels\", style=\"labels\")\n",
    "plt.grid()  # just add this\n",
    "plt.show()"
   ]
  },
  {
   "cell_type": "code",
   "execution_count": null,
   "id": "7e457720",
   "metadata": {},
   "outputs": [],
   "source": [
    "import plotly.express as px\n",
    "\n",
    "fig = px.scatter_3d(\n",
    "    umap_new, x=\"umap_1\", y=\"umap_2\", z=\"umap_3\", symbol=\"labels\", color=\"labels\"\n",
    ")\n",
    "fig.show()"
   ]
  },
  {
   "cell_type": "code",
   "execution_count": null,
   "id": "c39956d1",
   "metadata": {},
   "outputs": [],
   "source": []
  },
  {
   "cell_type": "code",
   "execution_count": null,
   "id": "romance-behavior",
   "metadata": {},
   "outputs": [],
   "source": []
  }
 ],
 "metadata": {
  "kernelspec": {
   "display_name": "Python 3 (ipykernel)",
   "language": "python",
   "name": "python3"
  },
  "language_info": {
   "codemirror_mode": {
    "name": "ipython",
    "version": 3
   },
   "file_extension": ".py",
   "mimetype": "text/x-python",
   "name": "python",
   "nbconvert_exporter": "python",
   "pygments_lexer": "ipython3",
   "version": "3.9.2"
  }
 },
 "nbformat": 4,
 "nbformat_minor": 5
}
