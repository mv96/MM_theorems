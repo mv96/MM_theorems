{
 "cells": [
  {
   "cell_type": "markdown",
   "id": "0f7d6060",
   "metadata": {},
   "source": [
    "## Build pretraining text data\n",
    "\n",
    "1. We want to build a large pretraining text file.\n",
    "2. we then want to build a tokenizer from this."
   ]
  },
  {
   "cell_type": "markdown",
   "id": "66b0feb6",
   "metadata": {},
   "source": [
    "We have the "
   ]
  },
  {
   "cell_type": "code",
   "execution_count": 5,
   "id": "7a401081",
   "metadata": {},
   "outputs": [
    {
     "data": {
      "text/plain": [
       "381"
      ]
     },
     "execution_count": 5,
     "metadata": {},
     "output_type": "execute_result"
    }
   ],
   "source": [
    "import glob\n",
    "\n",
    "# provide path to the main document folder\n",
    "\n",
    "tei_files = glob.glob(\"/Users/mv96/Downloads/ACM_Multimedia/dest-pdfs/*/*.tei.xml\")\n",
    "len(tei_files)"
   ]
  },
  {
   "cell_type": "markdown",
   "id": "b34801c5",
   "metadata": {},
   "source": [
    "# Training the tokenizer from scratch"
   ]
  },
  {
   "cell_type": "code",
   "execution_count": 7,
   "id": "d1066757",
   "metadata": {},
   "outputs": [
    {
     "name": "stderr",
     "output_type": "stream",
     "text": [
      "\n",
      "  0%|                                                   | 0/381 [00:00<?, ?it/s]\u001b[A\n",
      "  4%|█▌                                        | 14/381 [00:00<00:04, 75.82it/s]\u001b[A\n",
      "  6%|██▍                                       | 22/381 [00:00<00:11, 31.58it/s]\u001b[A\n",
      "  7%|███                                       | 28/381 [00:00<00:12, 27.53it/s]\u001b[A\n",
      "  9%|███▊                                      | 35/381 [00:01<00:14, 24.49it/s]\u001b[A\n",
      " 11%|████▋                                     | 42/381 [00:01<00:14, 22.79it/s]\u001b[A\n",
      " 13%|█████▍                                    | 49/381 [00:02<00:16, 20.50it/s]\u001b[A\n",
      " 15%|██████▏                                   | 56/381 [00:02<00:17, 18.50it/s]\u001b[A\n",
      " 17%|██████▉                                   | 63/381 [00:02<00:15, 21.00it/s]\u001b[A\n",
      " 18%|███████▋                                  | 70/381 [00:03<00:15, 19.74it/s]\u001b[A\n",
      " 20%|████████▍                                 | 77/381 [00:03<00:14, 20.37it/s]\u001b[A\n",
      " 22%|█████████▎                                | 84/381 [00:03<00:13, 21.52it/s]\u001b[A\n",
      " 24%|██████████                                | 91/381 [00:04<00:13, 20.94it/s]\u001b[A\n",
      " 26%|██████████▊                               | 98/381 [00:04<00:13, 20.38it/s]\u001b[A\n",
      " 28%|███████████▎                             | 105/381 [00:04<00:14, 19.46it/s]\u001b[A\n",
      " 29%|████████████                             | 112/381 [00:05<00:14, 19.00it/s]\u001b[A\n",
      " 31%|████████████▊                            | 119/381 [00:05<00:13, 20.02it/s]\u001b[A\n",
      " 33%|█████████████▌                           | 126/381 [00:05<00:13, 19.22it/s]\u001b[A\n",
      " 35%|██████████████▎                          | 133/381 [00:06<00:13, 18.10it/s]\u001b[A\n",
      " 37%|███████████████                          | 140/381 [00:06<00:12, 19.05it/s]\u001b[A\n",
      " 39%|███████████████▊                         | 147/381 [00:07<00:12, 18.80it/s]\u001b[A\n",
      " 40%|████████████████▌                        | 154/381 [00:07<00:10, 22.22it/s]\u001b[A\n",
      " 42%|█████████████████▎                       | 161/381 [00:07<00:10, 20.75it/s]\u001b[A\n",
      " 44%|██████████████████                       | 168/381 [00:07<00:09, 21.35it/s]\u001b[A\n",
      " 46%|██████████████████▊                      | 175/381 [00:08<00:09, 22.06it/s]\u001b[A\n",
      " 48%|███████████████████▌                     | 182/381 [00:08<00:09, 20.19it/s]\u001b[A\n",
      " 50%|████████████████████▎                    | 189/381 [00:08<00:09, 20.71it/s]\u001b[A\n",
      " 50%|████████████████████▋                    | 192/381 [00:09<00:08, 21.38it/s]\u001b[A\n",
      " 51%|█████████████████████                    | 196/381 [00:09<00:09, 18.76it/s]\u001b[A\n",
      " 53%|█████████████████████▊                   | 203/381 [00:09<00:09, 19.69it/s]\u001b[A\n",
      " 55%|██████████████████████▌                  | 210/381 [00:10<00:08, 19.90it/s]\u001b[A\n",
      " 57%|███████████████████████▎                 | 217/381 [00:10<00:08, 19.38it/s]\u001b[A\n",
      " 59%|████████████████████████                 | 224/381 [00:10<00:07, 22.06it/s]\u001b[A\n",
      " 61%|████████████████████████▊                | 231/381 [00:10<00:06, 23.26it/s]\u001b[A\n",
      " 62%|█████████████████████████▌               | 238/381 [00:11<00:06, 22.82it/s]\u001b[A\n",
      " 64%|██████████████████████████▎              | 245/381 [00:11<00:05, 26.25it/s]\u001b[A\n",
      " 66%|███████████████████████████              | 252/381 [00:11<00:06, 20.40it/s]\u001b[A\n",
      " 68%|███████████████████████████▊             | 259/381 [00:12<00:05, 22.16it/s]\u001b[A\n",
      " 70%|████████████████████████████▌            | 266/381 [00:12<00:05, 22.41it/s]\u001b[A\n",
      " 72%|█████████████████████████████▍           | 273/381 [00:12<00:04, 22.19it/s]\u001b[A\n",
      " 73%|██████████████████████████████▏          | 280/381 [00:13<00:04, 22.20it/s]\u001b[A\n",
      " 75%|██████████████████████████████▉          | 287/381 [00:13<00:04, 21.15it/s]\u001b[A\n",
      " 77%|███████████████████████████████▋         | 294/381 [00:13<00:04, 20.56it/s]\u001b[A\n",
      " 79%|████████████████████████████████▍        | 301/381 [00:14<00:03, 21.81it/s]\u001b[A\n",
      " 81%|█████████████████████████████████▏       | 308/381 [00:14<00:03, 21.72it/s]\u001b[A\n",
      " 83%|█████████████████████████████████▉       | 315/381 [00:14<00:03, 19.02it/s]\u001b[A\n",
      " 85%|██████████████████████████████████▋      | 322/381 [00:15<00:02, 20.65it/s]\u001b[A\n",
      " 86%|███████████████████████████████████▍     | 329/381 [00:15<00:02, 21.25it/s]\u001b[A\n",
      " 88%|████████████████████████████████████▏    | 336/381 [00:15<00:02, 19.84it/s]\u001b[A\n",
      " 90%|████████████████████████████████████▉    | 343/381 [00:16<00:01, 19.92it/s]\u001b[A\n",
      " 92%|█████████████████████████████████████▋   | 350/381 [00:16<00:01, 23.06it/s]\u001b[A\n",
      " 94%|██████████████████████████████████████▍  | 357/381 [00:16<00:01, 20.58it/s]\u001b[A\n",
      " 96%|███████████████████████████████████████▏ | 364/381 [00:17<00:00, 20.76it/s]\u001b[A\n",
      " 97%|███████████████████████████████████████▉ | 371/381 [00:17<00:00, 22.29it/s]\u001b[A\n",
      "100%|█████████████████████████████████████████| 381/381 [00:17<00:00, 21.43it/s]\u001b[A\n"
     ]
    }
   ],
   "source": [
    "from bs4 import BeautifulSoup\n",
    "from tqdm import tqdm\n",
    "import os\n",
    "\n",
    "# make the txt files from all the tei xmls\n",
    "# for tei in tqdm(tei_files):\n",
    "\n",
    "\n",
    "def write_text_file(tei):\n",
    "    txt_name = tei.replace(\".tei.xml\", \".txt\")\n",
    "    if os.path.exists(txt_name):\n",
    "        return \"exists\"\n",
    "    else:\n",
    "        with open(tei, \"r\") as f:\n",
    "            contents = f.read()\n",
    "            soup = BeautifulSoup(contents, \"xml\")\n",
    "            # get the title\n",
    "            try:\n",
    "                title = soup.title.get_text()\n",
    "            except:\n",
    "                return \"error reading the content\"\n",
    "\n",
    "            # get the abstract ready\n",
    "            abstract = soup.abstract\n",
    "            p_tags = abstract.find_all(\"p\")\n",
    "            abstract_constructed = \"\"\n",
    "            for tag in p_tags:\n",
    "                abstract_constructed += tag.get_text()\n",
    "            # print(abstract_constructed)\n",
    "            # print(\"=\"*50)\n",
    "\n",
    "            # get the body ready\n",
    "\n",
    "            body = soup.body\n",
    "            all_tags = body.find_all([\"p\", \"note\", \"formula\", \"head\"])\n",
    "            body_constructed = []\n",
    "            for tag in all_tags:\n",
    "                extract_text = \"\"\n",
    "                for sub_tag in tag:\n",
    "                    extract_text = extract_text + \" \" + sub_tag.get_text()\n",
    "                body_constructed.append(extract_text)\n",
    "\n",
    "            # get the back\n",
    "            back = soup.back\n",
    "            all_tags = back.find_all([\"p\", \"note\", \"formula\", \"head\"])\n",
    "            back_constructed = []\n",
    "            for tag in all_tags:\n",
    "                extract_text = \"\"\n",
    "                for sub_tag in tag:\n",
    "                    extract_text = extract_text + \" \" + sub_tag.get_text()\n",
    "                back_constructed.append(extract_text)\n",
    "\n",
    "        f.close()\n",
    "\n",
    "        # write the abstract body and back of the xml to the pdf\n",
    "\n",
    "        with open(txt_name, \"w\") as f:\n",
    "            # write title\n",
    "            f.write(title + \"\\n\")\n",
    "            # write abstract\n",
    "            f.write(abstract_constructed + \"\\n\")\n",
    "            # write body\n",
    "            for bd in body_constructed:\n",
    "                f.write(bd + \"\\n\")\n",
    "            # write title\n",
    "            for bk in back_constructed:\n",
    "                f.write(bk + \"\\n\")\n",
    "            f.close()\n",
    "\n",
    "        return \"success\"\n",
    "\n",
    "\n",
    "from joblib import Parallel, delayed\n",
    "\n",
    "res = Parallel(n_jobs=-2, prefer=\"threads\")(\n",
    "    delayed(write_text_file)(tei) for tei in tqdm(tei_files)\n",
    ")"
   ]
  },
  {
   "cell_type": "markdown",
   "id": "c320db6e",
   "metadata": {},
   "source": [
    "# getting the vocabulary"
   ]
  },
  {
   "cell_type": "code",
   "execution_count": null,
   "id": "e27650a4",
   "metadata": {},
   "outputs": [],
   "source": [
    "# compare the vocabulary with scibert/ bert and distilbert\n",
    "import glob\n",
    "import time\n",
    "import os\n",
    "\n",
    "txt_files = glob.glob(\n",
    "    \"/Volumes/My_Book/Theoremkb/cluster_package/5-grobid_on_pdfs/ftest/*/*.txt\"\n",
    ")"
   ]
  },
  {
   "cell_type": "code",
   "execution_count": null,
   "id": "46e4a1ff",
   "metadata": {},
   "outputs": [],
   "source": [
    "# move the txt_files to a new folder\n",
    "from tqdm import tqdm\n",
    "import shutil\n",
    "\n",
    "text_files_path = \"/Volumes/My_Book/Theoremkb/cluster_package/text_files\"\n",
    "if not os.path.exists(text_files_path):\n",
    "    os.mkdir(text_files_path)\n",
    "\n",
    "for i, file in enumerate(tqdm(txt_files)):\n",
    "    name_of_file = file.rsplit(\"/\", 1)[1]\n",
    "    destination = os.path.join(text_files_path, \"{}.txt\".format(i))\n",
    "    # print(destination)\n",
    "    # if destination does not exist only then copy\n",
    "    shutil.copyfile(file, destination)"
   ]
  },
  {
   "cell_type": "code",
   "execution_count": null,
   "id": "04930d73",
   "metadata": {},
   "outputs": [],
   "source": [
    "print(len(txt_files))"
   ]
  },
  {
   "cell_type": "code",
   "execution_count": null,
   "id": "4ce3ce4d",
   "metadata": {},
   "outputs": [],
   "source": [
    "file"
   ]
  },
  {
   "cell_type": "code",
   "execution_count": 10,
   "id": "be09aaff",
   "metadata": {},
   "outputs": [],
   "source": [
    "# compare vocabs of other models\n",
    "import json\n",
    "import os\n",
    "\n",
    "\n",
    "tokenizer = \"tokenizer-2.json\"\n",
    "path_to_vocab = \"./vocabularies\"\n",
    "skips = [\"./vocabularies/trained_bpe/tokenizer-2.json\"]\n",
    "\n",
    "vocabs = {}\n",
    "for folder in os.listdir(path_to_vocab):\n",
    "    if os.path.isfile(folder):\n",
    "        continue\n",
    "    else:\n",
    "        tokenizer_path = os.path.join(path_to_vocab, folder, tokenizer)\n",
    "        if tokenizer_path in skips:\n",
    "            continue\n",
    "\n",
    "        # Opening JSON file\n",
    "        try:\n",
    "            f = open(tokenizer_path)\n",
    "        except:\n",
    "            continue\n",
    "        # returns JSON object as\n",
    "        # a dictionary\n",
    "        data = json.load(f)\n",
    "        vocab = list(data[\"model\"][\"vocab\"].keys())\n",
    "        f.close()\n",
    "        vocabs[folder] = vocab"
   ]
  },
  {
   "cell_type": "code",
   "execution_count": 11,
   "id": "4367a62c",
   "metadata": {},
   "outputs": [
    {
     "data": {
      "text/plain": [
       "dict_keys(['scibert_scivocab_uncased', 'distilbert-base-cased', 'trained_tokenizer', 'bert-base-uncased', 'distilbert-base-uncased', 'scibert_scivocab_cased', 'bert-base-cased'])"
      ]
     },
     "execution_count": 11,
     "metadata": {},
     "output_type": "execute_result"
    }
   ],
   "source": [
    "vocabs.keys()"
   ]
  },
  {
   "cell_type": "code",
   "execution_count": 12,
   "id": "2bf0d640",
   "metadata": {},
   "outputs": [],
   "source": [
    "def calc_overlap(k1, k2, vocabs):\n",
    "    if k1 == k2:\n",
    "        # print(\"same name given\")\n",
    "        return 1\n",
    "    set_1 = set(vocabs[k1])\n",
    "    set_2 = set(vocabs[k2])\n",
    "    intersects = set_1.intersection(set_2)\n",
    "    unions = set_1.union(set_2)\n",
    "    return len(intersects) / len(unions)"
   ]
  },
  {
   "cell_type": "code",
   "execution_count": 13,
   "id": "2af9c538",
   "metadata": {},
   "outputs": [],
   "source": [
    "import pandas as pd\n",
    "import seaborn as sns\n",
    "import matplotlib.pylab as plt\n",
    "\n",
    "# visualize heat maps\n",
    "\n",
    "vocab_names = list(vocabs.keys())\n",
    "final_matrix = []\n",
    "for vocab in vocab_names:\n",
    "    matrix = []\n",
    "    for remain in vocab_names:\n",
    "        overlap = calc_overlap(vocab, remain, vocabs)\n",
    "        matrix.append(overlap)\n",
    "    final_matrix.append(matrix)\n",
    "\n",
    "final_df = pd.DataFrame(final_matrix, columns=vocab_names, index=vocab_names)"
   ]
  },
  {
   "cell_type": "code",
   "execution_count": 23,
   "id": "2c6d32b6",
   "metadata": {},
   "outputs": [
    {
     "data": {
      "image/png": "[encoded data removed]",
      "text/plain": [
       "<Figure size 432x288 with 2 Axes>"
      ]
     },
     "metadata": {
      "needs_background": "light"
     },
     "output_type": "display_data"
    }
   ],
   "source": [
    "ax = sns.heatmap(final_df, linewidth=0.5, annot=True)\n",
    "plt.savefig(\"heatmap.svg\", format=\"svg\")\n",
    "plt.show()"
   ]
  },
  {
   "cell_type": "code",
   "execution_count": null,
   "id": "28692051",
   "metadata": {},
   "outputs": [],
   "source": [
    "for vocab in vocabs.keys():\n",
    "    print(vocab, len(vocabs[vocab]))"
   ]
  },
  {
   "cell_type": "code",
   "execution_count": 15,
   "id": "078bbdb3",
   "metadata": {},
   "outputs": [
    {
     "name": "stdout",
     "output_type": "stream",
     "text": [
      "\n",
      "\n",
      "\n"
     ]
    }
   ],
   "source": [
    "from tokenizers import BertWordPieceTokenizer\n",
    "from tokenizers import ByteLevelBPETokenizer\n",
    "\n",
    "merged_text_file_path = \"/Users/mv96/Downloads/full_text_data.txt\"\n",
    "# Initialize a tokenizer\n",
    "tokenizer = BertWordPieceTokenizer()\n",
    "\n",
    "tokenizer.train(\n",
    "    files=merged_text_file_path,\n",
    "    vocab_size=30522,\n",
    "    special_tokens=[\"[PAD]\", \"[UNK]\", \"[CLS]\", \"[SEP]\", \"[MASK]\"],\n",
    "    show_progress=True,\n",
    ")"
   ]
  },
  {
   "cell_type": "code",
   "execution_count": 27,
   "id": "3eba757b",
   "metadata": {},
   "outputs": [],
   "source": [
    "from tokenizers.implementations import ByteLevelBPETokenizer\n",
    "from tokenizers.processors import BertProcessing\n",
    "\n",
    "tokenizer = BertWordPieceTokenizer(\n",
    "    \"./Kantai/vocab.txt\",\n",
    ")\n",
    "\n",
    "text = \"\"\"Corollary 1. Let m 􏰮 k, and PS be a distribution over Rm×n satisfying Assumption 1 . Then,\n",
    "E ∥∆T ∥2 =\n",
    "Proof. The proof of Theorem 1 is deferred to Appendix A.1 .\n",
    " t=0\n",
    "foranyT􏰮0,theminimumerrorE∥∆T∥2isobtainedbychoosingμt=θ1 forall0􏰭t<T.\n",
    "Consequently,\"\"\""
   ]
  },
  {
   "cell_type": "code",
   "execution_count": 29,
   "id": "975b2df5",
   "metadata": {},
   "outputs": [
    {
     "data": {
      "text/plain": [
       "['[CLS]',\n",
       " 'corollary',\n",
       " '1',\n",
       " '.',\n",
       " 'let',\n",
       " 'm',\n",
       " 'k',\n",
       " ',',\n",
       " 'and',\n",
       " 'ps',\n",
       " 'be',\n",
       " 'a',\n",
       " 'distribution',\n",
       " 'over',\n",
       " 'rm',\n",
       " '##×n',\n",
       " 'satisfying',\n",
       " 'assumption',\n",
       " '1',\n",
       " '.',\n",
       " 'then',\n",
       " ',',\n",
       " 'e',\n",
       " '∥∆',\n",
       " '##t',\n",
       " '∥2',\n",
       " '=',\n",
       " 'proof',\n",
       " '.',\n",
       " 'the',\n",
       " 'proof',\n",
       " 'of',\n",
       " 'theorem',\n",
       " '1',\n",
       " 'is',\n",
       " 'deferred',\n",
       " 'to',\n",
       " 'appendix',\n",
       " 'a',\n",
       " '.',\n",
       " '1',\n",
       " '.',\n",
       " 't',\n",
       " '=',\n",
       " '0',\n",
       " 'for',\n",
       " '##any',\n",
       " '##t0',\n",
       " ',',\n",
       " 'them',\n",
       " '##ini',\n",
       " '##m',\n",
       " '##umer',\n",
       " '##ro',\n",
       " '##re',\n",
       " '##∥',\n",
       " '##∆t',\n",
       " '##∥',\n",
       " '##2',\n",
       " '##iso',\n",
       " '##bt',\n",
       " '##ained',\n",
       " '##by',\n",
       " '##ch',\n",
       " '##oo',\n",
       " '##sing',\n",
       " '##μ',\n",
       " '##t',\n",
       " '=',\n",
       " 'θ1',\n",
       " 'forall',\n",
       " '##0t',\n",
       " '<',\n",
       " 't',\n",
       " '.',\n",
       " 'consequently',\n",
       " ',',\n",
       " '[SEP]']"
      ]
     },
     "execution_count": 29,
     "metadata": {},
     "output_type": "execute_result"
    }
   ],
   "source": [
    "tokenizer.encode(text).tokens"
   ]
  },
  {
   "cell_type": "code",
   "execution_count": null,
   "id": "a711d65f",
   "metadata": {},
   "outputs": [],
   "source": [
    "import os\n",
    "\n",
    "text_files_path = \"/Volumes/My_Book/Theoremkb/cluster_package/text_files\"\n",
    "text_files_path = [\n",
    "    os.path.join(text_files_path, txt) for txt in os.listdir(text_files_path)\n",
    "]"
   ]
  },
  {
   "cell_type": "code",
   "execution_count": null,
   "id": "5f62a23b",
   "metadata": {},
   "outputs": [],
   "source": [
    "filenames = text_files_path\n",
    "\n",
    "from tqdm import import os\n",
    "token_dir = '/content/KantaiBERT'\n",
    "if not os.path.exists(token_dir):\n",
    "  os.makedirs(token_dir)\n",
    "tokenizer.save_model('KantaiBERT')\n",
    "with open(\"/Volumes/My_Book/Theoremkb/cluster_package/full_text_data.txt\", \"w\") as outfile:\n",
    "    for filename in tqdm(filenames):\n",
    "        with open(filename) as infile:\n",
    "            try:\n",
    "                contents = infile.read()\n",
    "            except UnicodeDecodeError:\n",
    "                continue\n",
    "            outfile.write(contents)"
   ]
  }
 ],
 "metadata": {
  "kernelspec": {
   "display_name": "Python 3 (ipykernel)",
   "language": "python",
   "name": "python3"
  },
  "language_info": {
   "codemirror_mode": {
    "name": "ipython",
    "version": 3
   },
   "file_extension": ".py",
   "mimetype": "text/x-python",
   "name": "python",
   "nbconvert_exporter": "python",
   "pygments_lexer": "ipython3",
   "version": "3.10.8"
  }
 },
 "nbformat": 4,
 "nbformat_minor": 5
}
