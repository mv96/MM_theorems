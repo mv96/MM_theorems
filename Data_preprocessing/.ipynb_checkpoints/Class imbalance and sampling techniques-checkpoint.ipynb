{
 "cells": [
  {
   "cell_type": "code",
   "execution_count": 86,
   "id": "3dde607d",
   "metadata": {},
   "outputs": [
    {
     "name": "stdout",
     "output_type": "stream",
     "text": [
      "Index(['Unnamed: 0', 'Unnamed: 0.1', 'page_no', 'top_left', 'bot_right',\n",
      "       'grobid_text', 'pdf_alto_text', 'fonts', 'label', 'Normal',\n",
      "       'Superscipt', 'Subscript', 'italics', 'bold', 'is_Proportional',\n",
      "       'is_Serif', 'font_color_red', 'font_color_green', 'font_color_blue',\n",
      "       'is_bold_manual', 'is_italic_manual', 'is_serif_manual',\n",
      "       'is_math_manual', 'new_font_size', 'pdf_path'],\n",
      "      dtype='object')\n"
     ]
    }
   ],
   "source": [
    "#loading the preprcessed dataset\n",
    "import pandas as pd\n",
    "\n",
    "df=pd.read_csv(\"/Users/mv96/Desktop/dataset_tkb/test.csv\")\n",
    "\n",
    "print(df.columns)"
   ]
  },
  {
   "cell_type": "code",
   "execution_count": 87,
   "id": "1d2557f8",
   "metadata": {},
   "outputs": [],
   "source": [
    "cols_list=list(filter(lambda x: not x.startswith(\"Unnamed\"),list(df.columns)))\n",
    "font_vectors=df[cols_list].iloc[:,7:-1] \n",
    "labels=df[\"label\"]"
   ]
  },
  {
   "cell_type": "code",
   "execution_count": 88,
   "id": "5cc3f96d",
   "metadata": {},
   "outputs": [
    {
     "data": {
      "text/html": [
       "<div>\n",
       "<style scoped>\n",
       "    .dataframe tbody tr th:only-of-type {\n",
       "        vertical-align: middle;\n",
       "    }\n",
       "\n",
       "    .dataframe tbody tr th {\n",
       "        vertical-align: top;\n",
       "    }\n",
       "\n",
       "    .dataframe thead th {\n",
       "        text-align: right;\n",
       "    }\n",
       "</style>\n",
       "<table border=\"1\" class=\"dataframe\">\n",
       "  <thead>\n",
       "    <tr style=\"text-align: right;\">\n",
       "      <th></th>\n",
       "      <th>Normal</th>\n",
       "      <th>Superscipt</th>\n",
       "      <th>Subscript</th>\n",
       "      <th>italics</th>\n",
       "      <th>bold</th>\n",
       "      <th>is_Proportional</th>\n",
       "      <th>is_Serif</th>\n",
       "      <th>font_color_red</th>\n",
       "      <th>font_color_green</th>\n",
       "      <th>font_color_blue</th>\n",
       "      <th>is_bold_manual</th>\n",
       "      <th>is_italic_manual</th>\n",
       "      <th>is_serif_manual</th>\n",
       "      <th>is_math_manual</th>\n",
       "      <th>new_font_size</th>\n",
       "    </tr>\n",
       "  </thead>\n",
       "  <tbody>\n",
       "    <tr>\n",
       "      <th>count</th>\n",
       "      <td>388519.000000</td>\n",
       "      <td>388519.000000</td>\n",
       "      <td>388519.000000</td>\n",
       "      <td>388519.000000</td>\n",
       "      <td>388519.000000</td>\n",
       "      <td>388519.000000</td>\n",
       "      <td>388519.000000</td>\n",
       "      <td>388519.000000</td>\n",
       "      <td>388519.000000</td>\n",
       "      <td>388519.000000</td>\n",
       "      <td>388519.000000</td>\n",
       "      <td>388519.000000</td>\n",
       "      <td>388519.000000</td>\n",
       "      <td>388519.000000</td>\n",
       "      <td>388519.000000</td>\n",
       "    </tr>\n",
       "    <tr>\n",
       "      <th>mean</th>\n",
       "      <td>0.905200</td>\n",
       "      <td>0.027543</td>\n",
       "      <td>0.049060</td>\n",
       "      <td>0.017119</td>\n",
       "      <td>0.002733</td>\n",
       "      <td>0.970726</td>\n",
       "      <td>0.000311</td>\n",
       "      <td>0.000459</td>\n",
       "      <td>0.000361</td>\n",
       "      <td>0.000445</td>\n",
       "      <td>0.178836</td>\n",
       "      <td>0.212708</td>\n",
       "      <td>0.269140</td>\n",
       "      <td>0.069849</td>\n",
       "      <td>0.259846</td>\n",
       "    </tr>\n",
       "    <tr>\n",
       "      <th>std</th>\n",
       "      <td>0.129627</td>\n",
       "      <td>0.053105</td>\n",
       "      <td>0.069949</td>\n",
       "      <td>0.087168</td>\n",
       "      <td>0.028547</td>\n",
       "      <td>0.155933</td>\n",
       "      <td>0.015420</td>\n",
       "      <td>0.009692</td>\n",
       "      <td>0.007635</td>\n",
       "      <td>0.009782</td>\n",
       "      <td>0.331913</td>\n",
       "      <td>0.235538</td>\n",
       "      <td>0.383401</td>\n",
       "      <td>0.102905</td>\n",
       "      <td>0.021880</td>\n",
       "    </tr>\n",
       "    <tr>\n",
       "      <th>min</th>\n",
       "      <td>0.000000</td>\n",
       "      <td>0.000000</td>\n",
       "      <td>0.000000</td>\n",
       "      <td>0.000000</td>\n",
       "      <td>0.000000</td>\n",
       "      <td>0.000000</td>\n",
       "      <td>0.000000</td>\n",
       "      <td>0.000000</td>\n",
       "      <td>0.000000</td>\n",
       "      <td>0.000000</td>\n",
       "      <td>0.000000</td>\n",
       "      <td>0.000000</td>\n",
       "      <td>0.000000</td>\n",
       "      <td>0.000000</td>\n",
       "      <td>0.000000</td>\n",
       "    </tr>\n",
       "    <tr>\n",
       "      <th>25%</th>\n",
       "      <td>0.862745</td>\n",
       "      <td>0.000000</td>\n",
       "      <td>0.000000</td>\n",
       "      <td>0.000000</td>\n",
       "      <td>0.000000</td>\n",
       "      <td>1.000000</td>\n",
       "      <td>0.000000</td>\n",
       "      <td>0.000000</td>\n",
       "      <td>0.000000</td>\n",
       "      <td>0.000000</td>\n",
       "      <td>0.000000</td>\n",
       "      <td>0.013580</td>\n",
       "      <td>0.000000</td>\n",
       "      <td>0.000000</td>\n",
       "      <td>0.247830</td>\n",
       "    </tr>\n",
       "    <tr>\n",
       "      <th>50%</th>\n",
       "      <td>0.947368</td>\n",
       "      <td>0.000000</td>\n",
       "      <td>0.017857</td>\n",
       "      <td>0.000000</td>\n",
       "      <td>0.000000</td>\n",
       "      <td>1.000000</td>\n",
       "      <td>0.000000</td>\n",
       "      <td>0.000000</td>\n",
       "      <td>0.000000</td>\n",
       "      <td>0.000000</td>\n",
       "      <td>0.000000</td>\n",
       "      <td>0.139425</td>\n",
       "      <td>0.009091</td>\n",
       "      <td>0.030556</td>\n",
       "      <td>0.264786</td>\n",
       "    </tr>\n",
       "    <tr>\n",
       "      <th>75%</th>\n",
       "      <td>1.000000</td>\n",
       "      <td>0.034799</td>\n",
       "      <td>0.077193</td>\n",
       "      <td>0.000000</td>\n",
       "      <td>0.000000</td>\n",
       "      <td>1.000000</td>\n",
       "      <td>0.000000</td>\n",
       "      <td>0.000000</td>\n",
       "      <td>0.000000</td>\n",
       "      <td>0.000000</td>\n",
       "      <td>0.103874</td>\n",
       "      <td>0.315789</td>\n",
       "      <td>0.633333</td>\n",
       "      <td>0.100000</td>\n",
       "      <td>0.272725</td>\n",
       "    </tr>\n",
       "    <tr>\n",
       "      <th>max</th>\n",
       "      <td>1.000000</td>\n",
       "      <td>1.000000</td>\n",
       "      <td>0.854342</td>\n",
       "      <td>1.000000</td>\n",
       "      <td>1.000000</td>\n",
       "      <td>1.000000</td>\n",
       "      <td>1.000000</td>\n",
       "      <td>0.997099</td>\n",
       "      <td>0.780882</td>\n",
       "      <td>1.000000</td>\n",
       "      <td>1.000000</td>\n",
       "      <td>1.000000</td>\n",
       "      <td>1.000000</td>\n",
       "      <td>1.000000</td>\n",
       "      <td>0.619675</td>\n",
       "    </tr>\n",
       "  </tbody>\n",
       "</table>\n",
       "</div>"
      ],
      "text/plain": [
       "              Normal     Superscipt      Subscript        italics  \\\n",
       "count  388519.000000  388519.000000  388519.000000  388519.000000   \n",
       "mean        0.905200       0.027543       0.049060       0.017119   \n",
       "std         0.129627       0.053105       0.069949       0.087168   \n",
       "min         0.000000       0.000000       0.000000       0.000000   \n",
       "25%         0.862745       0.000000       0.000000       0.000000   \n",
       "50%         0.947368       0.000000       0.017857       0.000000   \n",
       "75%         1.000000       0.034799       0.077193       0.000000   \n",
       "max         1.000000       1.000000       0.854342       1.000000   \n",
       "\n",
       "                bold  is_Proportional       is_Serif  font_color_red  \\\n",
       "count  388519.000000    388519.000000  388519.000000   388519.000000   \n",
       "mean        0.002733         0.970726       0.000311        0.000459   \n",
       "std         0.028547         0.155933       0.015420        0.009692   \n",
       "min         0.000000         0.000000       0.000000        0.000000   \n",
       "25%         0.000000         1.000000       0.000000        0.000000   \n",
       "50%         0.000000         1.000000       0.000000        0.000000   \n",
       "75%         0.000000         1.000000       0.000000        0.000000   \n",
       "max         1.000000         1.000000       1.000000        0.997099   \n",
       "\n",
       "       font_color_green  font_color_blue  is_bold_manual  is_italic_manual  \\\n",
       "count     388519.000000    388519.000000   388519.000000     388519.000000   \n",
       "mean           0.000361         0.000445        0.178836          0.212708   \n",
       "std            0.007635         0.009782        0.331913          0.235538   \n",
       "min            0.000000         0.000000        0.000000          0.000000   \n",
       "25%            0.000000         0.000000        0.000000          0.013580   \n",
       "50%            0.000000         0.000000        0.000000          0.139425   \n",
       "75%            0.000000         0.000000        0.103874          0.315789   \n",
       "max            0.780882         1.000000        1.000000          1.000000   \n",
       "\n",
       "       is_serif_manual  is_math_manual  new_font_size  \n",
       "count    388519.000000   388519.000000  388519.000000  \n",
       "mean          0.269140        0.069849       0.259846  \n",
       "std           0.383401        0.102905       0.021880  \n",
       "min           0.000000        0.000000       0.000000  \n",
       "25%           0.000000        0.000000       0.247830  \n",
       "50%           0.009091        0.030556       0.264786  \n",
       "75%           0.633333        0.100000       0.272725  \n",
       "max           1.000000        1.000000       0.619675  "
      ]
     },
     "execution_count": 88,
     "metadata": {},
     "output_type": "execute_result"
    }
   ],
   "source": [
    "font_vectors.describe()"
   ]
  },
  {
   "cell_type": "code",
   "execution_count": 89,
   "id": "8832c33b",
   "metadata": {},
   "outputs": [
    {
     "data": {
      "text/plain": [
       "(388809, 16)"
      ]
     },
     "execution_count": 89,
     "metadata": {},
     "output_type": "execute_result"
    }
   ],
   "source": [
    "combined=pd.concat([font_vectors,labels],axis=1)\n",
    "combined.shape"
   ]
  },
  {
   "cell_type": "code",
   "execution_count": 90,
   "id": "dd0d133a",
   "metadata": {},
   "outputs": [
    {
     "data": {
      "text/plain": [
       "(388519, 16)"
      ]
     },
     "execution_count": 90,
     "metadata": {},
     "output_type": "execute_result"
    }
   ],
   "source": [
    "#removing nan values\n",
    "combined=combined.dropna()\n",
    "combined.shape"
   ]
  },
  {
   "cell_type": "code",
   "execution_count": 91,
   "id": "eeca54a3",
   "metadata": {},
   "outputs": [
    {
     "data": {
      "text/plain": [
       "basic      196935\n",
       "proof      123740\n",
       "theorem     67844\n",
       "Name: label, dtype: int64"
      ]
     },
     "execution_count": 91,
     "metadata": {},
     "output_type": "execute_result"
    }
   ],
   "source": [
    "combined[\"label\"].value_counts()"
   ]
  },
  {
   "cell_type": "code",
   "execution_count": 92,
   "id": "64216031",
   "metadata": {},
   "outputs": [
    {
     "data": {
      "text/plain": [
       "<AxesSubplot:>"
      ]
     },
     "execution_count": 92,
     "metadata": {},
     "output_type": "execute_result"
    },
    {
     "data": {
      "image/png": "[encoded data removed]",
      "text/plain": [
       "<Figure size 432x288 with 1 Axes>"
      ]
     },
     "metadata": {
      "needs_background": "light"
     },
     "output_type": "display_data"
    }
   ],
   "source": [
    "# class imbalance in the data \n",
    "combined[\"label\"].value_counts().sort_values().plot(kind = 'barh')"
   ]
  },
  {
   "cell_type": "code",
   "execution_count": 93,
   "id": "d90de647",
   "metadata": {},
   "outputs": [
    {
     "name": "stdout",
     "output_type": "stream",
     "text": [
      "(388519, 15) (388519,)\n"
     ]
    }
   ],
   "source": [
    "X=combined.iloc[:,:-1]\n",
    "y=combined[\"label\"]\n",
    "print(X.shape,y.shape)"
   ]
  },
  {
   "cell_type": "code",
   "execution_count": null,
   "id": "cc8867f4",
   "metadata": {},
   "outputs": [],
   "source": [
    "# what type of train test split to "
   ]
  },
  {
   "cell_type": "markdown",
   "id": "d0b6bceb",
   "metadata": {},
   "source": [
    "# Investigating sampling techniques\n",
    "\n",
    "## The question of which version to train the models on ? (undersampled, Oversampled, or something hybrid)\n",
    "\n",
    "* undersampling - The models trained are immune to class imbalances however we lose alot of data with this approach also faster to train since we have less data with us\n",
    "\n",
    "* oversampling - The models trained are also immune to class imbalances however are prone to overfitting and generally takes more time to train the classifiers\n",
    "\n",
    "to investigate on which process yeilds better parameter we train 3 classifiers \n",
    "\n",
    "1. KNN - that involves distances measure (not impacted by class imbalances)\n",
    "2. Naive bayes - a probablistic model that gets impacted by class imbalances\n",
    "3. Logistic regression - when there is a huge class imbalance\n",
    "\n",
    "we calculate a weighted f1 score of all class over 10 fold cross validation then mean across the three classifiers built\n",
    "\n",
    "**evaluation is based upont the default parameters to reduce the runtime**"
   ]
  },
  {
   "cell_type": "code",
   "execution_count": 94,
   "id": "f5d7a2fb",
   "metadata": {},
   "outputs": [
    {
     "name": "stdout",
     "output_type": "stream",
     "text": [
      "basic      196935\n",
      "proof      123740\n",
      "theorem     67844\n",
      "Name: label, dtype: int64\n"
     ]
    }
   ],
   "source": [
    "#before under sampling shape\n",
    "y.value_counts()\n",
    "print(y.value_counts())"
   ]
  },
  {
   "cell_type": "code",
   "execution_count": 98,
   "id": "8c719d31",
   "metadata": {},
   "outputs": [],
   "source": [
    "from imblearn.under_sampling import RandomUnderSampler\n",
    "for i in range(len(y.value_counts())-1):\n",
    "    undersample= RandomUnderSampler(sampling_strategy=\"majority\",random_state=1)\n",
    "    try:\n",
    "        X_under, y_under = undersample.fit_resample(X_under, y_under)\n",
    "    except:\n",
    "        X_under, y_under = undersample.fit_resample(X, y) "
   ]
  },
  {
   "cell_type": "code",
   "execution_count": 101,
   "id": "d81f9052",
   "metadata": {},
   "outputs": [
    {
     "data": {
      "text/plain": [
       "basic      67844\n",
       "proof      67844\n",
       "theorem    67844\n",
       "Name: label, dtype: int64"
      ]
     },
     "execution_count": 101,
     "metadata": {},
     "output_type": "execute_result"
    }
   ],
   "source": [
    "y_under.value_counts()"
   ]
  },
  {
   "cell_type": "code",
   "execution_count": 104,
   "id": "d3def5f1",
   "metadata": {},
   "outputs": [
    {
     "name": "stdout",
     "output_type": "stream",
     "text": [
      "(203532, 15) (203532,)\n"
     ]
    }
   ],
   "source": [
    "print(X_under.shape,y_under.shape)"
   ]
  },
  {
   "cell_type": "code",
   "execution_count": 172,
   "id": "9eb5975d",
   "metadata": {},
   "outputs": [
    {
     "name": "stderr",
     "output_type": "stream",
     "text": [
      "[Parallel(n_jobs=4)]: Using backend LokyBackend with 4 concurrent workers.\n",
      "/Users/mv96/miniforge3/envs/tensorflow/lib/python3.9/site-packages/sklearn/base.py:441: UserWarning: X does not have valid feature names, but KNeighborsClassifier was fitted with feature names\n",
      "  warnings.warn(\n",
      "/Users/mv96/miniforge3/envs/tensorflow/lib/python3.9/site-packages/sklearn/base.py:441: UserWarning: X does not have valid feature names, but KNeighborsClassifier was fitted with feature names\n",
      "  warnings.warn(\n",
      "/Users/mv96/miniforge3/envs/tensorflow/lib/python3.9/site-packages/sklearn/base.py:441: UserWarning: X does not have valid feature names, but KNeighborsClassifier was fitted with feature names\n",
      "  warnings.warn(\n",
      "/Users/mv96/miniforge3/envs/tensorflow/lib/python3.9/site-packages/sklearn/base.py:441: UserWarning: X does not have valid feature names, but KNeighborsClassifier was fitted with feature names\n",
      "  warnings.warn(\n",
      "/Users/mv96/miniforge3/envs/tensorflow/lib/python3.9/site-packages/sklearn/base.py:441: UserWarning: X does not have valid feature names, but KNeighborsClassifier was fitted with feature names\n",
      "  warnings.warn(\n",
      "/Users/mv96/miniforge3/envs/tensorflow/lib/python3.9/site-packages/sklearn/base.py:441: UserWarning: X does not have valid feature names, but KNeighborsClassifier was fitted with feature names\n",
      "  warnings.warn(\n",
      "/Users/mv96/miniforge3/envs/tensorflow/lib/python3.9/site-packages/sklearn/base.py:441: UserWarning: X does not have valid feature names, but KNeighborsClassifier was fitted with feature names\n",
      "  warnings.warn(\n",
      "/Users/mv96/miniforge3/envs/tensorflow/lib/python3.9/site-packages/sklearn/base.py:441: UserWarning: X does not have valid feature names, but KNeighborsClassifier was fitted with feature names\n",
      "  warnings.warn(\n",
      "/Users/mv96/miniforge3/envs/tensorflow/lib/python3.9/site-packages/sklearn/base.py:441: UserWarning: X does not have valid feature names, but KNeighborsClassifier was fitted with feature names\n",
      "  warnings.warn(\n",
      "[Parallel(n_jobs=4)]: Done   6 out of  10 | elapsed:   18.1s remaining:   12.1s\n",
      "/Users/mv96/miniforge3/envs/tensorflow/lib/python3.9/site-packages/sklearn/base.py:441: UserWarning: X does not have valid feature names, but KNeighborsClassifier was fitted with feature names\n",
      "  warnings.warn(\n",
      "[Parallel(n_jobs=4)]: Done  10 out of  10 | elapsed:   24.6s finished\n",
      "[Parallel(n_jobs=4)]: Using backend LokyBackend with 4 concurrent workers.\n"
     ]
    },
    {
     "name": "stdout",
     "output_type": "stream",
     "text": [
      "0.5431775212502765 0.5453337328997517\n"
     ]
    },
    {
     "name": "stderr",
     "output_type": "stream",
     "text": [
      "[Parallel(n_jobs=4)]: Done   6 out of  10 | elapsed:    1.2s remaining:    0.8s\n",
      "[Parallel(n_jobs=4)]: Done  10 out of  10 | elapsed:    1.6s finished\n",
      "[Parallel(n_jobs=4)]: Using backend LokyBackend with 4 concurrent workers.\n"
     ]
    },
    {
     "name": "stdout",
     "output_type": "stream",
     "text": [
      "0.5424257931811283 0.5445943678012046\n"
     ]
    },
    {
     "name": "stderr",
     "output_type": "stream",
     "text": [
      "/Users/mv96/miniforge3/envs/tensorflow/lib/python3.9/site-packages/sklearn/linear_model/_logistic.py:814: ConvergenceWarning: lbfgs failed to converge (status=1):\n",
      "STOP: TOTAL NO. of ITERATIONS REACHED LIMIT.\n",
      "\n",
      "Increase the number of iterations (max_iter) or scale the data as shown in:\n",
      "    https://scikit-learn.org/stable/modules/preprocessing.html\n",
      "Please also refer to the documentation for alternative solver options:\n",
      "    https://scikit-learn.org/stable/modules/linear_model.html#logistic-regression\n",
      "  n_iter_i = _check_optimize_result(\n",
      "/Users/mv96/miniforge3/envs/tensorflow/lib/python3.9/site-packages/sklearn/linear_model/_logistic.py:814: ConvergenceWarning: lbfgs failed to converge (status=1):\n",
      "STOP: TOTAL NO. of ITERATIONS REACHED LIMIT.\n",
      "\n",
      "Increase the number of iterations (max_iter) or scale the data as shown in:\n",
      "    https://scikit-learn.org/stable/modules/preprocessing.html\n",
      "Please also refer to the documentation for alternative solver options:\n",
      "    https://scikit-learn.org/stable/modules/linear_model.html#logistic-regression\n",
      "  n_iter_i = _check_optimize_result(\n",
      "/Users/mv96/miniforge3/envs/tensorflow/lib/python3.9/site-packages/sklearn/linear_model/_logistic.py:814: ConvergenceWarning: lbfgs failed to converge (status=1):\n",
      "STOP: TOTAL NO. of ITERATIONS REACHED LIMIT.\n",
      "\n",
      "Increase the number of iterations (max_iter) or scale the data as shown in:\n",
      "    https://scikit-learn.org/stable/modules/preprocessing.html\n",
      "Please also refer to the documentation for alternative solver options:\n",
      "    https://scikit-learn.org/stable/modules/linear_model.html#logistic-regression\n",
      "  n_iter_i = _check_optimize_result(\n",
      "/Users/mv96/miniforge3/envs/tensorflow/lib/python3.9/site-packages/sklearn/linear_model/_logistic.py:814: ConvergenceWarning: lbfgs failed to converge (status=1):\n",
      "STOP: TOTAL NO. of ITERATIONS REACHED LIMIT.\n",
      "\n",
      "Increase the number of iterations (max_iter) or scale the data as shown in:\n",
      "    https://scikit-learn.org/stable/modules/preprocessing.html\n",
      "Please also refer to the documentation for alternative solver options:\n",
      "    https://scikit-learn.org/stable/modules/linear_model.html#logistic-regression\n",
      "  n_iter_i = _check_optimize_result(\n",
      "/Users/mv96/miniforge3/envs/tensorflow/lib/python3.9/site-packages/sklearn/linear_model/_logistic.py:814: ConvergenceWarning: lbfgs failed to converge (status=1):\n",
      "STOP: TOTAL NO. of ITERATIONS REACHED LIMIT.\n",
      "\n",
      "Increase the number of iterations (max_iter) or scale the data as shown in:\n",
      "    https://scikit-learn.org/stable/modules/preprocessing.html\n",
      "Please also refer to the documentation for alternative solver options:\n",
      "    https://scikit-learn.org/stable/modules/linear_model.html#logistic-regression\n",
      "  n_iter_i = _check_optimize_result(\n",
      "/Users/mv96/miniforge3/envs/tensorflow/lib/python3.9/site-packages/sklearn/linear_model/_logistic.py:814: ConvergenceWarning: lbfgs failed to converge (status=1):\n",
      "STOP: TOTAL NO. of ITERATIONS REACHED LIMIT.\n",
      "\n",
      "Increase the number of iterations (max_iter) or scale the data as shown in:\n",
      "    https://scikit-learn.org/stable/modules/preprocessing.html\n",
      "Please also refer to the documentation for alternative solver options:\n",
      "    https://scikit-learn.org/stable/modules/linear_model.html#logistic-regression\n",
      "  n_iter_i = _check_optimize_result(\n",
      "/Users/mv96/miniforge3/envs/tensorflow/lib/python3.9/site-packages/sklearn/linear_model/_logistic.py:814: ConvergenceWarning: lbfgs failed to converge (status=1):\n",
      "STOP: TOTAL NO. of ITERATIONS REACHED LIMIT.\n",
      "\n",
      "Increase the number of iterations (max_iter) or scale the data as shown in:\n",
      "    https://scikit-learn.org/stable/modules/preprocessing.html\n",
      "Please also refer to the documentation for alternative solver options:\n",
      "    https://scikit-learn.org/stable/modules/linear_model.html#logistic-regression\n",
      "  n_iter_i = _check_optimize_result(\n",
      "[Parallel(n_jobs=4)]: Done   6 out of  10 | elapsed:    7.7s remaining:    5.1s\n",
      "/Users/mv96/miniforge3/envs/tensorflow/lib/python3.9/site-packages/sklearn/linear_model/_logistic.py:814: ConvergenceWarning: lbfgs failed to converge (status=1):\n",
      "STOP: TOTAL NO. of ITERATIONS REACHED LIMIT.\n",
      "\n",
      "Increase the number of iterations (max_iter) or scale the data as shown in:\n",
      "    https://scikit-learn.org/stable/modules/preprocessing.html\n",
      "Please also refer to the documentation for alternative solver options:\n",
      "    https://scikit-learn.org/stable/modules/linear_model.html#logistic-regression\n",
      "  n_iter_i = _check_optimize_result(\n",
      "/Users/mv96/miniforge3/envs/tensorflow/lib/python3.9/site-packages/sklearn/linear_model/_logistic.py:814: ConvergenceWarning: lbfgs failed to converge (status=1):\n",
      "STOP: TOTAL NO. of ITERATIONS REACHED LIMIT.\n",
      "\n",
      "Increase the number of iterations (max_iter) or scale the data as shown in:\n",
      "    https://scikit-learn.org/stable/modules/preprocessing.html\n",
      "Please also refer to the documentation for alternative solver options:\n",
      "    https://scikit-learn.org/stable/modules/linear_model.html#logistic-regression\n",
      "  n_iter_i = _check_optimize_result(\n",
      "/Users/mv96/miniforge3/envs/tensorflow/lib/python3.9/site-packages/sklearn/linear_model/_logistic.py:814: ConvergenceWarning: lbfgs failed to converge (status=1):\n",
      "STOP: TOTAL NO. of ITERATIONS REACHED LIMIT.\n",
      "\n",
      "Increase the number of iterations (max_iter) or scale the data as shown in:\n",
      "    https://scikit-learn.org/stable/modules/preprocessing.html\n",
      "Please also refer to the documentation for alternative solver options:\n",
      "    https://scikit-learn.org/stable/modules/linear_model.html#logistic-regression\n",
      "  n_iter_i = _check_optimize_result(\n",
      "[Parallel(n_jobs=4)]: Done  10 out of  10 | elapsed:   10.7s finished\n"
     ]
    },
    {
     "name": "stdout",
     "output_type": "stream",
     "text": [
      "0.5632087171301733 0.558130774194592\n"
     ]
    }
   ],
   "source": [
    "#for class imbalance\n",
    "from sklearn.model_selection import cross_val_score\n",
    "\n",
    "#my classifiers\n",
    "from sklearn.neighbors import KNeighborsClassifier\n",
    "from sklearn.naive_bayes import MultinomialNB\n",
    "from sklearn.linear_model import LogisticRegression\n",
    "from sklearn.model_selection import cross_validate\n",
    "import numpy as np\n",
    "\n",
    "clfs=[KNeighborsClassifier(),MultinomialNB(),LogisticRegression(random_state=0)]\n",
    "\n",
    "from sklearn import metrics\n",
    "from sklearn.metrics import f1_score\n",
    "\n",
    "#f1=f1_score(y_under, y_pred, average='weighted')\n",
    "#acc=accuracy_score(y_under, y_pred)\n",
    "\n",
    "scoring = ['accuracy', 'f1_weighted']\n",
    "for clf in clfs:\n",
    "    scores=cross_validate(clf, X_under, y_under, scoring=scoring,n_jobs=4,cv=10,verbose=4)\n",
    "    mean_acc=np.mean(scores[\"test_accuracy\"])\n",
    "    mean_f1=np.mean(scores[\"test_f1_weighted\"])\n",
    "    print(mean_acc,mean_f1)"
   ]
  },
  {
   "cell_type": "code",
   "execution_count": 133,
   "id": "b7978139",
   "metadata": {},
   "outputs": [
    {
     "name": "stdout",
     "output_type": "stream",
     "text": [
      "(162825, 15) (162825,) (40707, 15) (40707,)\n"
     ]
    }
   ],
   "source": [
    "print(X_train_imb.shape,y_train_imb.shape,X_test_imb.shape,y_test_imb.shape)"
   ]
  },
  {
   "cell_type": "code",
   "execution_count": 134,
   "id": "f93249ab",
   "metadata": {},
   "outputs": [
    {
     "name": "stdout",
     "output_type": "stream",
     "text": [
      "proof      0.333333\n",
      "theorem    0.333333\n",
      "basic      0.333333\n",
      "Name: label, dtype: float64\n",
      "proof      0.333333\n",
      "theorem    0.333333\n",
      "basic      0.333333\n",
      "Name: label, dtype: float64\n"
     ]
    }
   ],
   "source": [
    "#the proportion of training and test data is balanced in both the cases\n",
    "print(y_train_imb.value_counts()/sum(y_train_imb.value_counts()))\n",
    "print(y_test_imb.value_counts()/sum(y_test_imb.value_counts()))"
   ]
  },
  {
   "cell_type": "code",
   "execution_count": 137,
   "id": "c38a1ef8",
   "metadata": {},
   "outputs": [
    {
     "name": "stderr",
     "output_type": "stream",
     "text": [
      "/Users/mv96/miniforge3/envs/tensorflow/lib/python3.9/site-packages/sklearn/base.py:441: UserWarning: X does not have valid feature names, but KNeighborsClassifier was fitted with feature names\n",
      "  warnings.warn(\n"
     ]
    },
    {
     "name": "stdout",
     "output_type": "stream",
     "text": [
      "0.5549414105682069\n"
     ]
    }
   ],
   "source": [
    "#this runs in order of ND since fonts this might be able to capture the sequential as apect as most\n",
    "#likely the font neighbour nearest to it will be above or below the para \n",
    "#side advantage this also takes into account inter paper theorem blocks\n",
    "from sklearn.neighbors import KNeighborsClassifier\n",
    "from sklearn.metrics import accuracy_score\n",
    "\n",
    "neigh = KNeighborsClassifier()\n",
    "neigh.fit(X_train_imb, y_train_imb)\n",
    "\n",
    "y_pred=neigh.predict(X_test_imb)\n",
    "acc=accuracy_score(y_test_imb, y_pred)\n",
    "print(acc)"
   ]
  },
  {
   "cell_type": "code",
   "execution_count": 142,
   "id": "160b1f3c",
   "metadata": {},
   "outputs": [],
   "source": [
    "\n",
    "#will pick the absolute element from each list "
   ]
  },
  {
   "cell_type": "code",
   "execution_count": null,
   "id": "3931db03",
   "metadata": {},
   "outputs": [],
   "source": []
  }
 ],
 "metadata": {
  "kernelspec": {
   "display_name": "Python 3 (ipykernel)",
   "language": "python",
   "name": "python3"
  },
  "language_info": {
   "codemirror_mode": {
    "name": "ipython",
    "version": 3
   },
   "file_extension": ".py",
   "mimetype": "text/x-python",
   "name": "python",
   "nbconvert_exporter": "python",
   "pygments_lexer": "ipython3",
   "version": "3.9.7"
  }
 },
 "nbformat": 4,
 "nbformat_minor": 5
}
