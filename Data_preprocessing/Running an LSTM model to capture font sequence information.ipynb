{
 "cells": [
  {
   "cell_type": "markdown",
   "id": "7a483dcf",
   "metadata": {},
   "source": [
    "##### this approach only looks at sequential information with in the fonts"
   ]
  },
  {
   "cell_type": "code",
   "execution_count": 3,
   "id": "8dd61c12",
   "metadata": {},
   "outputs": [
    {
     "data": {
      "text/plain": [
       "167"
      ]
     },
     "execution_count": 3,
     "metadata": {},
     "output_type": "execute_result"
    }
   ],
   "source": [
    "import glob\n",
    "from shutil import rmtree\n",
    "from tqdm import tqdm\n",
    "\n",
    "grobid_files = glob.glob(\"/Users/mv96/Downloads/ACM_Multimedia/dest-pdfs/**/data.csv\")\n",
    "len(grobid_files)"
   ]
  },
  {
   "cell_type": "code",
   "execution_count": 1,
   "id": "surgical-outreach",
   "metadata": {},
   "outputs": [
    {
     "name": "stdout",
     "output_type": "stream",
     "text": [
      "Index(['Unnamed: 0', 'Unnamed: 0.1', 'page_no', 'top_left', 'bot_right',\n",
      "       'grobid_text', 'pdf_alto_text', 'fonts', 'label', 'Normal',\n",
      "       'Superscipt', 'Subscript', 'italics', 'bold', 'is_Proportional',\n",
      "       'is_Serif', 'font_color_red', 'font_color_green', 'font_color_blue',\n",
      "       'is_bold_manual', 'is_italic_manual', 'is_serif_manual',\n",
      "       'is_math_manual', 'new_font_size', 'pdf_path'],\n",
      "      dtype='object')\n"
     ]
    }
   ],
   "source": [
    "# loading the preprcessed dataset\n",
    "import pandas as pd\n",
    "\n",
    "df = pd.read_csv(\"/Users/mv96/Desktop/dataset_tkb/test.csv\")\n",
    "\n",
    "useful = df[[\"pdf_alto_text\", \"fonts\", \"pdf_path\", \"label\"]]\n",
    "print(df.columns)"
   ]
  },
  {
   "cell_type": "code",
   "execution_count": 2,
   "id": "5101a7ae",
   "metadata": {},
   "outputs": [],
   "source": [
    "# drop nan columns\n",
    "df = df.dropna()"
   ]
  },
  {
   "cell_type": "code",
   "execution_count": 3,
   "id": "36be924a",
   "metadata": {},
   "outputs": [
    {
     "data": {
      "text/html": [
       "<div>\n",
       "<style scoped>\n",
       "    .dataframe tbody tr th:only-of-type {\n",
       "        vertical-align: middle;\n",
       "    }\n",
       "\n",
       "    .dataframe tbody tr th {\n",
       "        vertical-align: top;\n",
       "    }\n",
       "\n",
       "    .dataframe thead th {\n",
       "        text-align: right;\n",
       "    }\n",
       "</style>\n",
       "<table border=\"1\" class=\"dataframe\">\n",
       "  <thead>\n",
       "    <tr style=\"text-align: right;\">\n",
       "      <th></th>\n",
       "      <th>Unnamed: 0</th>\n",
       "      <th>Unnamed: 0.1</th>\n",
       "      <th>page_no</th>\n",
       "      <th>top_left</th>\n",
       "      <th>bot_right</th>\n",
       "      <th>grobid_text</th>\n",
       "      <th>pdf_alto_text</th>\n",
       "      <th>fonts</th>\n",
       "      <th>label</th>\n",
       "      <th>Normal</th>\n",
       "      <th>...</th>\n",
       "      <th>is_Serif</th>\n",
       "      <th>font_color_red</th>\n",
       "      <th>font_color_green</th>\n",
       "      <th>font_color_blue</th>\n",
       "      <th>is_bold_manual</th>\n",
       "      <th>is_italic_manual</th>\n",
       "      <th>is_serif_manual</th>\n",
       "      <th>is_math_manual</th>\n",
       "      <th>new_font_size</th>\n",
       "      <th>pdf_path</th>\n",
       "    </tr>\n",
       "  </thead>\n",
       "  <tbody>\n",
       "    <tr>\n",
       "      <th>0</th>\n",
       "      <td>36</td>\n",
       "      <td>36</td>\n",
       "      <td>6.0</td>\n",
       "      <td>(200.03563410896913, 1224.9484944798717)</td>\n",
       "      <td>(675, 1866)</td>\n",
       "      <td>Fact 6 Let G be a graph and let f (v) ≥ n/g(n)...</td>\n",
       "      <td>['Fact[~end_of_font~] 6[~end_of_font~] Let[~en...</td>\n",
       "      <td>['font0  font0  font0  font6  font0  font0  fo...</td>\n",
       "      <td>theorem</td>\n",
       "      <td>1.000000</td>\n",
       "      <td>...</td>\n",
       "      <td>0.0</td>\n",
       "      <td>0.0</td>\n",
       "      <td>0.0</td>\n",
       "      <td>0.0</td>\n",
       "      <td>0.627877</td>\n",
       "      <td>0.248082</td>\n",
       "      <td>0.627877</td>\n",
       "      <td>0.051151</td>\n",
       "      <td>0.249075</td>\n",
       "      <td>1812.02037/journal-factor.pdf</td>\n",
       "    </tr>\n",
       "    <tr>\n",
       "      <th>1</th>\n",
       "      <td>40</td>\n",
       "      <td>40</td>\n",
       "      <td>7.0</td>\n",
       "      <td>(200.03563410896913, 711.6682345668228)</td>\n",
       "      <td>(675, 1866)</td>\n",
       "      <td>Fact 8 Let S be a subset of E(G).An f -factor ...</td>\n",
       "      <td>['Fact[~end_of_font~] 8[~end_of_font~] Let[~en...</td>\n",
       "      <td>['font0  font0  font0  font6  font0  font0  fo...</td>\n",
       "      <td>theorem</td>\n",
       "      <td>1.000000</td>\n",
       "      <td>...</td>\n",
       "      <td>0.0</td>\n",
       "      <td>0.0</td>\n",
       "      <td>0.0</td>\n",
       "      <td>0.0</td>\n",
       "      <td>0.857143</td>\n",
       "      <td>0.142857</td>\n",
       "      <td>0.857143</td>\n",
       "      <td>0.000000</td>\n",
       "      <td>0.249075</td>\n",
       "      <td>1812.02037/journal-factor.pdf</td>\n",
       "    </tr>\n",
       "    <tr>\n",
       "      <th>2</th>\n",
       "      <td>43</td>\n",
       "      <td>43</td>\n",
       "      <td>7.0</td>\n",
       "      <td>(200.03563410896913, 1565.7368010805071)</td>\n",
       "      <td>(675, 1866)</td>\n",
       "      <td>Let A be an alternating circuit and S be a sub...</td>\n",
       "      <td>['Fact[~end_of_font~] 11[~end_of_font~] Let[~e...</td>\n",
       "      <td>['font0  font0  font0  font6  font0  font0  fo...</td>\n",
       "      <td>theorem</td>\n",
       "      <td>1.000000</td>\n",
       "      <td>...</td>\n",
       "      <td>0.0</td>\n",
       "      <td>0.0</td>\n",
       "      <td>0.0</td>\n",
       "      <td>0.0</td>\n",
       "      <td>0.866953</td>\n",
       "      <td>0.088816</td>\n",
       "      <td>0.866953</td>\n",
       "      <td>0.044231</td>\n",
       "      <td>0.249075</td>\n",
       "      <td>1812.02037/journal-factor.pdf</td>\n",
       "    </tr>\n",
       "    <tr>\n",
       "      <th>3</th>\n",
       "      <td>45</td>\n",
       "      <td>45</td>\n",
       "      <td>8.0</td>\n",
       "      <td>(200.03563410896913, 255.4592491550138)</td>\n",
       "      <td>(675, 1866)</td>\n",
       "      <td>Fact 12 Let H be an f -factor of G and let Q b...</td>\n",
       "      <td>['Fact[~end_of_font~] 12[~end_of_font~] Let[~e...</td>\n",
       "      <td>['font0  font0  font0  font6  font0  font0  fo...</td>\n",
       "      <td>theorem</td>\n",
       "      <td>1.000000</td>\n",
       "      <td>...</td>\n",
       "      <td>0.0</td>\n",
       "      <td>0.0</td>\n",
       "      <td>0.0</td>\n",
       "      <td>0.0</td>\n",
       "      <td>0.772727</td>\n",
       "      <td>0.181818</td>\n",
       "      <td>0.772727</td>\n",
       "      <td>0.045455</td>\n",
       "      <td>0.249075</td>\n",
       "      <td>1812.02037/journal-factor.pdf</td>\n",
       "    </tr>\n",
       "    <tr>\n",
       "      <th>4</th>\n",
       "      <td>52</td>\n",
       "      <td>52</td>\n",
       "      <td>8.0</td>\n",
       "      <td>(200.03563410896913, 1610.1379192173042)</td>\n",
       "      <td>(675, 1866)</td>\n",
       "      <td>Observation 14 Let G be an undirected graph an...</td>\n",
       "      <td>['Observation[~end_of_font~] 14[~end_of_font~]...</td>\n",
       "      <td>['font0  font0  font0  font6  font0  font0  fo...</td>\n",
       "      <td>theorem</td>\n",
       "      <td>1.000000</td>\n",
       "      <td>...</td>\n",
       "      <td>0.0</td>\n",
       "      <td>0.0</td>\n",
       "      <td>0.0</td>\n",
       "      <td>0.0</td>\n",
       "      <td>0.578947</td>\n",
       "      <td>0.210526</td>\n",
       "      <td>0.578947</td>\n",
       "      <td>0.105263</td>\n",
       "      <td>0.249075</td>\n",
       "      <td>1812.02037/journal-factor.pdf</td>\n",
       "    </tr>\n",
       "    <tr>\n",
       "      <th>...</th>\n",
       "      <td>...</td>\n",
       "      <td>...</td>\n",
       "      <td>...</td>\n",
       "      <td>...</td>\n",
       "      <td>...</td>\n",
       "      <td>...</td>\n",
       "      <td>...</td>\n",
       "      <td>...</td>\n",
       "      <td>...</td>\n",
       "      <td>...</td>\n",
       "      <td>...</td>\n",
       "      <td>...</td>\n",
       "      <td>...</td>\n",
       "      <td>...</td>\n",
       "      <td>...</td>\n",
       "      <td>...</td>\n",
       "      <td>...</td>\n",
       "      <td>...</td>\n",
       "      <td>...</td>\n",
       "      <td>...</td>\n",
       "      <td>...</td>\n",
       "    </tr>\n",
       "    <tr>\n",
       "      <th>388804</th>\n",
       "      <td>13</td>\n",
       "      <td>13</td>\n",
       "      <td>3.0</td>\n",
       "      <td>(241.1818527361057, 480.18781204012924)</td>\n",
       "      <td>(840, 2132)</td>\n",
       "      <td>1. If w ∈ L then 2 3 ≤ g(w) f (w) ≤ 1, 2. If w...</td>\n",
       "      <td>['1.[~end_of_font~] If[~end_of_font~] w[~end_o...</td>\n",
       "      <td>['font1  font1  font11  font14  font11  font1 ...</td>\n",
       "      <td>theorem</td>\n",
       "      <td>0.753401</td>\n",
       "      <td>...</td>\n",
       "      <td>0.0</td>\n",
       "      <td>0.0</td>\n",
       "      <td>0.0</td>\n",
       "      <td>0.0</td>\n",
       "      <td>0.000000</td>\n",
       "      <td>0.278912</td>\n",
       "      <td>0.000000</td>\n",
       "      <td>0.187075</td>\n",
       "      <td>0.260075</td>\n",
       "      <td>1602.06073/main.pdf</td>\n",
       "    </tr>\n",
       "    <tr>\n",
       "      <th>388805</th>\n",
       "      <td>14</td>\n",
       "      <td>14</td>\n",
       "      <td>3.0</td>\n",
       "      <td>(200.03563410896913, 657.097648821723)</td>\n",
       "      <td>(840, 2132)</td>\n",
       "      <td>Here, FP is the class of functions from bit st...</td>\n",
       "      <td>['Here,[~end_of_font~] FP[~end_of_font~] is[~e...</td>\n",
       "      <td>['font1  font1  font1  font1  font1  font1  fo...</td>\n",
       "      <td>theorem</td>\n",
       "      <td>0.855903</td>\n",
       "      <td>...</td>\n",
       "      <td>0.0</td>\n",
       "      <td>0.0</td>\n",
       "      <td>0.0</td>\n",
       "      <td>0.0</td>\n",
       "      <td>0.000000</td>\n",
       "      <td>0.080109</td>\n",
       "      <td>0.000000</td>\n",
       "      <td>0.023438</td>\n",
       "      <td>0.284519</td>\n",
       "      <td>1602.06073/main.pdf</td>\n",
       "    </tr>\n",
       "    <tr>\n",
       "      <th>388806</th>\n",
       "      <td>18</td>\n",
       "      <td>18</td>\n",
       "      <td>4.0</td>\n",
       "      <td>(200.03563410896913, 795.191239021899)</td>\n",
       "      <td>(840, 2132)</td>\n",
       "      <td>Theorem 1.For any group oracle B = {B n }, the...</td>\n",
       "      <td>['Theorem[~end_of_font~] 1.[~end_of_font~] For...</td>\n",
       "      <td>['font16  font16  font2  font2  font2  font2  ...</td>\n",
       "      <td>theorem</td>\n",
       "      <td>0.907005</td>\n",
       "      <td>...</td>\n",
       "      <td>0.0</td>\n",
       "      <td>0.0</td>\n",
       "      <td>0.0</td>\n",
       "      <td>0.0</td>\n",
       "      <td>0.055556</td>\n",
       "      <td>0.746377</td>\n",
       "      <td>0.055556</td>\n",
       "      <td>0.105072</td>\n",
       "      <td>0.289610</td>\n",
       "      <td>1602.06073/main.pdf</td>\n",
       "    </tr>\n",
       "    <tr>\n",
       "      <th>388807</th>\n",
       "      <td>19</td>\n",
       "      <td>19</td>\n",
       "      <td>4.0</td>\n",
       "      <td>(200.03563410896913, 906.0551072107728)</td>\n",
       "      <td>(840, 2132)</td>\n",
       "      <td>H ≡ g 1 , ..., g k in time polynomial in n+log...</td>\n",
       "      <td>['H[~end_of_font~] ≡[~end_of_font~]g[~end_of_f...</td>\n",
       "      <td>['font11  font14 font11 font12 font11  font11 ...</td>\n",
       "      <td>theorem</td>\n",
       "      <td>0.710417</td>\n",
       "      <td>...</td>\n",
       "      <td>0.0</td>\n",
       "      <td>0.0</td>\n",
       "      <td>0.0</td>\n",
       "      <td>0.0</td>\n",
       "      <td>0.000000</td>\n",
       "      <td>0.420833</td>\n",
       "      <td>0.000000</td>\n",
       "      <td>0.229167</td>\n",
       "      <td>0.270025</td>\n",
       "      <td>1602.06073/main.pdf</td>\n",
       "    </tr>\n",
       "    <tr>\n",
       "      <th>388808</th>\n",
       "      <td>67</td>\n",
       "      <td>67</td>\n",
       "      <td>8.0</td>\n",
       "      <td>(200.03563410896913, 1690.465599150646)</td>\n",
       "      <td>(840, 2132)</td>\n",
       "      <td>2. For any uniform family of polynomial-size q...</td>\n",
       "      <td>['Theorem[~end_of_font~] 2.[~end_of_font~] For...</td>\n",
       "      <td>['font16  font16  font2  font2  font2  font2  ...</td>\n",
       "      <td>theorem</td>\n",
       "      <td>0.987500</td>\n",
       "      <td>...</td>\n",
       "      <td>0.0</td>\n",
       "      <td>0.0</td>\n",
       "      <td>0.0</td>\n",
       "      <td>0.0</td>\n",
       "      <td>0.035714</td>\n",
       "      <td>0.931723</td>\n",
       "      <td>0.035714</td>\n",
       "      <td>0.017857</td>\n",
       "      <td>0.297630</td>\n",
       "      <td>1602.06073/main.pdf</td>\n",
       "    </tr>\n",
       "  </tbody>\n",
       "</table>\n",
       "<p>385368 rows × 25 columns</p>\n",
       "</div>"
      ],
      "text/plain": [
       "        Unnamed: 0  Unnamed: 0.1  page_no  \\\n",
       "0               36            36      6.0   \n",
       "1               40            40      7.0   \n",
       "2               43            43      7.0   \n",
       "3               45            45      8.0   \n",
       "4               52            52      8.0   \n",
       "...            ...           ...      ...   \n",
       "388804          13            13      3.0   \n",
       "388805          14            14      3.0   \n",
       "388806          18            18      4.0   \n",
       "388807          19            19      4.0   \n",
       "388808          67            67      8.0   \n",
       "\n",
       "                                        top_left    bot_right  \\\n",
       "0       (200.03563410896913, 1224.9484944798717)  (675, 1866)   \n",
       "1        (200.03563410896913, 711.6682345668228)  (675, 1866)   \n",
       "2       (200.03563410896913, 1565.7368010805071)  (675, 1866)   \n",
       "3        (200.03563410896913, 255.4592491550138)  (675, 1866)   \n",
       "4       (200.03563410896913, 1610.1379192173042)  (675, 1866)   \n",
       "...                                          ...          ...   \n",
       "388804   (241.1818527361057, 480.18781204012924)  (840, 2132)   \n",
       "388805    (200.03563410896913, 657.097648821723)  (840, 2132)   \n",
       "388806    (200.03563410896913, 795.191239021899)  (840, 2132)   \n",
       "388807   (200.03563410896913, 906.0551072107728)  (840, 2132)   \n",
       "388808   (200.03563410896913, 1690.465599150646)  (840, 2132)   \n",
       "\n",
       "                                              grobid_text  \\\n",
       "0       Fact 6 Let G be a graph and let f (v) ≥ n/g(n)...   \n",
       "1       Fact 8 Let S be a subset of E(G).An f -factor ...   \n",
       "2       Let A be an alternating circuit and S be a sub...   \n",
       "3       Fact 12 Let H be an f -factor of G and let Q b...   \n",
       "4       Observation 14 Let G be an undirected graph an...   \n",
       "...                                                   ...   \n",
       "388804  1. If w ∈ L then 2 3 ≤ g(w) f (w) ≤ 1, 2. If w...   \n",
       "388805  Here, FP is the class of functions from bit st...   \n",
       "388806  Theorem 1.For any group oracle B = {B n }, the...   \n",
       "388807  H ≡ g 1 , ..., g k in time polynomial in n+log...   \n",
       "388808  2. For any uniform family of polynomial-size q...   \n",
       "\n",
       "                                            pdf_alto_text  \\\n",
       "0       ['Fact[~end_of_font~] 6[~end_of_font~] Let[~en...   \n",
       "1       ['Fact[~end_of_font~] 8[~end_of_font~] Let[~en...   \n",
       "2       ['Fact[~end_of_font~] 11[~end_of_font~] Let[~e...   \n",
       "3       ['Fact[~end_of_font~] 12[~end_of_font~] Let[~e...   \n",
       "4       ['Observation[~end_of_font~] 14[~end_of_font~]...   \n",
       "...                                                   ...   \n",
       "388804  ['1.[~end_of_font~] If[~end_of_font~] w[~end_o...   \n",
       "388805  ['Here,[~end_of_font~] FP[~end_of_font~] is[~e...   \n",
       "388806  ['Theorem[~end_of_font~] 1.[~end_of_font~] For...   \n",
       "388807  ['H[~end_of_font~] ≡[~end_of_font~]g[~end_of_f...   \n",
       "388808  ['Theorem[~end_of_font~] 2.[~end_of_font~] For...   \n",
       "\n",
       "                                                    fonts    label    Normal  \\\n",
       "0       ['font0  font0  font0  font6  font0  font0  fo...  theorem  1.000000   \n",
       "1       ['font0  font0  font0  font6  font0  font0  fo...  theorem  1.000000   \n",
       "2       ['font0  font0  font0  font6  font0  font0  fo...  theorem  1.000000   \n",
       "3       ['font0  font0  font0  font6  font0  font0  fo...  theorem  1.000000   \n",
       "4       ['font0  font0  font0  font6  font0  font0  fo...  theorem  1.000000   \n",
       "...                                                   ...      ...       ...   \n",
       "388804  ['font1  font1  font11  font14  font11  font1 ...  theorem  0.753401   \n",
       "388805  ['font1  font1  font1  font1  font1  font1  fo...  theorem  0.855903   \n",
       "388806  ['font16  font16  font2  font2  font2  font2  ...  theorem  0.907005   \n",
       "388807  ['font11  font14 font11 font12 font11  font11 ...  theorem  0.710417   \n",
       "388808  ['font16  font16  font2  font2  font2  font2  ...  theorem  0.987500   \n",
       "\n",
       "        ...  is_Serif  font_color_red  font_color_green  font_color_blue  \\\n",
       "0       ...       0.0             0.0               0.0              0.0   \n",
       "1       ...       0.0             0.0               0.0              0.0   \n",
       "2       ...       0.0             0.0               0.0              0.0   \n",
       "3       ...       0.0             0.0               0.0              0.0   \n",
       "4       ...       0.0             0.0               0.0              0.0   \n",
       "...     ...       ...             ...               ...              ...   \n",
       "388804  ...       0.0             0.0               0.0              0.0   \n",
       "388805  ...       0.0             0.0               0.0              0.0   \n",
       "388806  ...       0.0             0.0               0.0              0.0   \n",
       "388807  ...       0.0             0.0               0.0              0.0   \n",
       "388808  ...       0.0             0.0               0.0              0.0   \n",
       "\n",
       "        is_bold_manual  is_italic_manual  is_serif_manual  is_math_manual  \\\n",
       "0             0.627877          0.248082         0.627877        0.051151   \n",
       "1             0.857143          0.142857         0.857143        0.000000   \n",
       "2             0.866953          0.088816         0.866953        0.044231   \n",
       "3             0.772727          0.181818         0.772727        0.045455   \n",
       "4             0.578947          0.210526         0.578947        0.105263   \n",
       "...                ...               ...              ...             ...   \n",
       "388804        0.000000          0.278912         0.000000        0.187075   \n",
       "388805        0.000000          0.080109         0.000000        0.023438   \n",
       "388806        0.055556          0.746377         0.055556        0.105072   \n",
       "388807        0.000000          0.420833         0.000000        0.229167   \n",
       "388808        0.035714          0.931723         0.035714        0.017857   \n",
       "\n",
       "        new_font_size                       pdf_path  \n",
       "0            0.249075  1812.02037/journal-factor.pdf  \n",
       "1            0.249075  1812.02037/journal-factor.pdf  \n",
       "2            0.249075  1812.02037/journal-factor.pdf  \n",
       "3            0.249075  1812.02037/journal-factor.pdf  \n",
       "4            0.249075  1812.02037/journal-factor.pdf  \n",
       "...               ...                            ...  \n",
       "388804       0.260075            1602.06073/main.pdf  \n",
       "388805       0.284519            1602.06073/main.pdf  \n",
       "388806       0.289610            1602.06073/main.pdf  \n",
       "388807       0.270025            1602.06073/main.pdf  \n",
       "388808       0.297630            1602.06073/main.pdf  \n",
       "\n",
       "[385368 rows x 25 columns]"
      ]
     },
     "execution_count": 3,
     "metadata": {},
     "output_type": "execute_result"
    }
   ],
   "source": [
    "df"
   ]
  },
  {
   "cell_type": "code",
   "execution_count": 18,
   "id": "153f0776",
   "metadata": {},
   "outputs": [
    {
     "data": {
      "text/plain": [
       "0         [font0, font6, font0, font6, font7, font8, fon...\n",
       "1         [font0, font6, font0, font6, font0, font6, fon...\n",
       "2         [font0, font6, font0, font6, font0, font6, fon...\n",
       "3         [font0, font6, font0, font6, font0, font6, fon...\n",
       "4         [font0, font6, font0, font6, font0, font6, fon...\n",
       "                                ...                        \n",
       "388804    [font1, font11, font14, font11, font1, font17,...\n",
       "388805    [font1, font11, font1, font15, font1, font11, ...\n",
       "388806    [font16, font2, font11, font1, font14, font13,...\n",
       "388807    [font11, font14, font11, font12, font11, font1...\n",
       "388808    [font16, font2, font11, font14, font1, font2, ...\n",
       "Name: fonts, Length: 385368, dtype: object"
      ]
     },
     "execution_count": 18,
     "metadata": {},
     "output_type": "execute_result"
    }
   ],
   "source": [
    "import ast\n",
    "\n",
    "\n",
    "def apply_convert_in_list(val):\n",
    "    list_fonts = ast.literal_eval(val)\n",
    "    filtered = list(\n",
    "        filter(lambda x: x.startswith(\"font\"), \"\".join(list_fonts).strip().split(\" \"))\n",
    "    )\n",
    "    return filtered\n",
    "\n",
    "\n",
    "def continuous_fonts_clubbed(val):\n",
    "    \"\"\"clubs fonts that are together in a group sequence\"\"\"\n",
    "    fonts_unique_order = []\n",
    "    for font in val:\n",
    "        try:\n",
    "            last_font = fonts_unique_order[-1]\n",
    "        except:\n",
    "            fonts_unique_order.append(font)\n",
    "            continue\n",
    "        if font != last_font:\n",
    "            fonts_unique_order.append(font)\n",
    "\n",
    "    return fonts_unique_order\n",
    "\n",
    "\n",
    "df[\"fonts\"] = df[\"fonts\"].apply(apply_convert_in_list)\n",
    "df[\"fonts\"] = df[\"fonts\"].apply(continuous_fonts_clubbed)\n",
    "df[\"fonts\"]"
   ]
  },
  {
   "cell_type": "code",
   "execution_count": 19,
   "id": "6aa5927a",
   "metadata": {},
   "outputs": [
    {
     "data": {
      "text/plain": [
       "['font0',\n",
       " 'font6',\n",
       " 'font0',\n",
       " 'font6',\n",
       " 'font7',\n",
       " 'font8',\n",
       " 'font6',\n",
       " 'font0',\n",
       " 'font6',\n",
       " 'font0',\n",
       " 'font6',\n",
       " 'font7',\n",
       " 'font0',\n",
       " 'font6',\n",
       " 'font0',\n",
       " 'font6',\n",
       " 'font0',\n",
       " 'font6',\n",
       " 'font0',\n",
       " 'font6',\n",
       " 'font0',\n",
       " 'font6',\n",
       " 'font8',\n",
       " 'font7']"
      ]
     },
     "execution_count": 19,
     "metadata": {},
     "output_type": "execute_result"
    }
   ],
   "source": [
    "df[\"fonts\"].iloc[0]"
   ]
  },
  {
   "cell_type": "code",
   "execution_count": 8,
   "id": "bdfe7989",
   "metadata": {},
   "outputs": [
    {
     "data": {
      "text/html": [
       "<div>\n",
       "<style scoped>\n",
       "    .dataframe tbody tr th:only-of-type {\n",
       "        vertical-align: middle;\n",
       "    }\n",
       "\n",
       "    .dataframe tbody tr th {\n",
       "        vertical-align: top;\n",
       "    }\n",
       "\n",
       "    .dataframe thead th {\n",
       "        text-align: right;\n",
       "    }\n",
       "</style>\n",
       "<table border=\"1\" class=\"dataframe\">\n",
       "  <thead>\n",
       "    <tr style=\"text-align: right;\">\n",
       "      <th></th>\n",
       "      <th>fonts</th>\n",
       "    </tr>\n",
       "  </thead>\n",
       "  <tbody>\n",
       "    <tr>\n",
       "      <th>count</th>\n",
       "      <td>385368.000000</td>\n",
       "    </tr>\n",
       "    <tr>\n",
       "      <th>mean</th>\n",
       "      <td>21.605273</td>\n",
       "    </tr>\n",
       "    <tr>\n",
       "      <th>std</th>\n",
       "      <td>25.883494</td>\n",
       "    </tr>\n",
       "    <tr>\n",
       "      <th>min</th>\n",
       "      <td>0.000000</td>\n",
       "    </tr>\n",
       "    <tr>\n",
       "      <th>25%</th>\n",
       "      <td>5.000000</td>\n",
       "    </tr>\n",
       "    <tr>\n",
       "      <th>50%</th>\n",
       "      <td>14.000000</td>\n",
       "    </tr>\n",
       "    <tr>\n",
       "      <th>75%</th>\n",
       "      <td>28.000000</td>\n",
       "    </tr>\n",
       "    <tr>\n",
       "      <th>max</th>\n",
       "      <td>1430.000000</td>\n",
       "    </tr>\n",
       "  </tbody>\n",
       "</table>\n",
       "</div>"
      ],
      "text/plain": [
       "               fonts\n",
       "count  385368.000000\n",
       "mean       21.605273\n",
       "std        25.883494\n",
       "min         0.000000\n",
       "25%         5.000000\n",
       "50%        14.000000\n",
       "75%        28.000000\n",
       "max      1430.000000"
      ]
     },
     "execution_count": 8,
     "metadata": {},
     "output_type": "execute_result"
    }
   ],
   "source": [
    "test = pd.DataFrame(df[\"fonts\"].apply(len))\n",
    "test.describe()"
   ]
  },
  {
   "cell_type": "code",
   "execution_count": 9,
   "id": "4ba48dd0",
   "metadata": {},
   "outputs": [
    {
     "name": "stdout",
     "output_type": "stream",
     "text": [
      "3\n"
     ]
    },
    {
     "data": {
      "text/html": [
       "<div>\n",
       "<style scoped>\n",
       "    .dataframe tbody tr th:only-of-type {\n",
       "        vertical-align: middle;\n",
       "    }\n",
       "\n",
       "    .dataframe tbody tr th {\n",
       "        vertical-align: top;\n",
       "    }\n",
       "\n",
       "    .dataframe thead th {\n",
       "        text-align: right;\n",
       "    }\n",
       "</style>\n",
       "<table border=\"1\" class=\"dataframe\">\n",
       "  <thead>\n",
       "    <tr style=\"text-align: right;\">\n",
       "      <th></th>\n",
       "      <th>fonts</th>\n",
       "      <th>pdf_path</th>\n",
       "      <th>label</th>\n",
       "    </tr>\n",
       "  </thead>\n",
       "  <tbody>\n",
       "    <tr>\n",
       "      <th>67196</th>\n",
       "      <td>[font11, font20, font11, font20, font10, font1...</td>\n",
       "      <td>1712.06239/main.pdf</td>\n",
       "      <td>basic</td>\n",
       "    </tr>\n",
       "    <tr>\n",
       "      <th>67202</th>\n",
       "      <td>[font11, font20, font11, font20, font10, font1...</td>\n",
       "      <td>1712.06239/main.pdf</td>\n",
       "      <td>basic</td>\n",
       "    </tr>\n",
       "    <tr>\n",
       "      <th>79587</th>\n",
       "      <td>[font4, font3, font5, font6, font7, font8, fon...</td>\n",
       "      <td>2002.09534/minesweep-arxiv.pdf</td>\n",
       "      <td>basic</td>\n",
       "    </tr>\n",
       "  </tbody>\n",
       "</table>\n",
       "</div>"
      ],
      "text/plain": [
       "                                                   fonts  \\\n",
       "67196  [font11, font20, font11, font20, font10, font1...   \n",
       "67202  [font11, font20, font11, font20, font10, font1...   \n",
       "79587  [font4, font3, font5, font6, font7, font8, fon...   \n",
       "\n",
       "                             pdf_path  label  \n",
       "67196             1712.06239/main.pdf  basic  \n",
       "67202             1712.06239/main.pdf  basic  \n",
       "79587  2002.09534/minesweep-arxiv.pdf  basic  "
      ]
     },
     "execution_count": 9,
     "metadata": {},
     "output_type": "execute_result"
    }
   ],
   "source": [
    "# paragraphs that use more than thresh set unique/not unique types of different fonts\n",
    "thresh = 1000\n",
    "print(len(df[\"fonts\"][df[\"fonts\"].apply(len) > thresh]))\n",
    "more_number_of_font = df[df[\"fonts\"].apply(len) > thresh][\n",
    "    [\"fonts\", \"pdf_path\", \"label\"]\n",
    "]\n",
    "more_number_of_font"
   ]
  },
  {
   "cell_type": "code",
   "execution_count": null,
   "id": "wired-buying",
   "metadata": {},
   "outputs": [],
   "source": [
    "# apply a function that corrects the font name\n",
    "from bs4 import BeautifulSoup as bs\n",
    "import os\n",
    "import string\n",
    "from functools import lru_cache\n",
    "from tqdm import tqdm\n",
    "import sys\n",
    "\n",
    "\n",
    "@lru_cache(maxsize=20)\n",
    "def get_all_font_names(\n",
    "    font_path, strip_digits=True, dest_path=\"/Users/mv96/new/dest-pdfs\"\n",
    "):\n",
    "    \"\"\"should return a dictionary to all font names\"\"\"\n",
    "    xml_path = font_path.replace(\".pdf\", \".xml\")\n",
    "    location_xml = os.path.join(dest_path, xml_path)\n",
    "\n",
    "    # go and read this location file using bs4 and get all the styles\n",
    "    with open(location_xml, \"r\") as file:\n",
    "        # Read each line in the file, readlines() returns a list of lines\n",
    "        content = file.readlines()\n",
    "        # Combine the lines in the list into a string\n",
    "        content = \"\".join(content)\n",
    "        bs_content = bs(content, \"xml\")\n",
    "        file.close()\n",
    "\n",
    "    all_text_styles = bs_content.Styles.find_all(\"TextStyle\")\n",
    "    if strip_digits:\n",
    "        font_familys = list(\n",
    "            map(lambda x: x.get(\"FONTFAMILY\").rstrip(string.digits), all_text_styles)\n",
    "        )\n",
    "    else:\n",
    "        font_familys = list(map(lambda x: x.get(\"FONTFAMILY\"), all_text_styles))\n",
    "    font_name__font_family = {}\n",
    "    for i, element in enumerate(font_familys):\n",
    "        font_name__font_family[\"font\" + str(i)] = element\n",
    "\n",
    "    # strip the last digits\n",
    "    return font_name__font_family\n",
    "    # print(bs_content.Styles.find_all(\"TextStyle\")[0].get(\"FONTFAMILY\")) #gives the entire list\n",
    "\n",
    "\n",
    "def font_number_to_real_name(\n",
    "    sequence, font_path, strip_digits=True, dest_path=\"/Users/mv96/new/dest-pdfs\"\n",
    "):\n",
    "    try:\n",
    "        font_mappings = get_all_font_names(font_path, strip_digits=strip_digits)\n",
    "        if font_mappings is None:\n",
    "            return None\n",
    "        real_sequence = []\n",
    "        for font in sequence:\n",
    "            real_sequence.append(font_mappings[font])\n",
    "        return (sequence, font_path, real_sequence)\n",
    "    except KeyboardInterrupt:\n",
    "        print(\"Interrupted\")\n",
    "        return \"break\"\n",
    "    except:\n",
    "        return None\n",
    "\n",
    "\n",
    "# parellelizing the operations\n",
    "from joblib import Parallel, delayed\n",
    "\n",
    "n_jobs = 1\n",
    "\n",
    "res = Parallel(n_jobs=n_jobs)(\n",
    "    delayed(font_number_to_real_name)(row[\"fonts\"], row[\"pdf_path\"])\n",
    "    for ind, row in tqdm(df.iterrows())\n",
    ")"
   ]
  },
  {
   "cell_type": "code",
   "execution_count": null,
   "id": "6e96c739",
   "metadata": {},
   "outputs": [],
   "source": [
    "temp = pd.DataFrame(res, columns=[\"local font name\", \"pdf_path\", \"font\"])\n",
    "temp"
   ]
  },
  {
   "cell_type": "code",
   "execution_count": null,
   "id": "8fdc486a",
   "metadata": {},
   "outputs": [],
   "source": [
    "label = df[\"label\"].reset_index()\n",
    "lstm_df = pd.concat([temp, label[\"label\"]], axis=1)\n",
    "lstm_df\n",
    "lstm_df.to_csv(\"/Users/mv96/Desktop/prep_lstm_stripped.csv\")"
   ]
  },
  {
   "cell_type": "code",
   "execution_count": 10,
   "id": "fa4e07fb",
   "metadata": {},
   "outputs": [],
   "source": [
    "lstm_df = pd.read_csv(\"/Users/mv96/Desktop/prep_lstm_stripped.csv\")"
   ]
  },
  {
   "cell_type": "code",
   "execution_count": 11,
   "id": "15ecb8bf",
   "metadata": {},
   "outputs": [
    {
     "data": {
      "text/plain": [
       "basic      194895\n",
       "proof      123010\n",
       "theorem     67463\n",
       "Name: label, dtype: int64"
      ]
     },
     "execution_count": 11,
     "metadata": {},
     "output_type": "execute_result"
    }
   ],
   "source": [
    "lstm_df[\"label\"].value_counts()"
   ]
  },
  {
   "cell_type": "markdown",
   "id": "762dd8e7",
   "metadata": {},
   "source": [
    "# test tensorflow installation for M1 Mac"
   ]
  },
  {
   "cell_type": "code",
   "execution_count": 12,
   "id": "typical-muslim",
   "metadata": {},
   "outputs": [
    {
     "name": "stdout",
     "output_type": "stream",
     "text": [
      "2.6.0\n"
     ]
    },
    {
     "data": {
      "text/plain": [
       "[PhysicalDevice(name='/physical_device:CPU:0', device_type='CPU')]"
      ]
     },
     "execution_count": 12,
     "metadata": {},
     "output_type": "execute_result"
    }
   ],
   "source": [
    "import tensorflow as tf\n",
    "\n",
    "print(tf.__version__)\n",
    "tf.config.list_physical_devices()"
   ]
  },
  {
   "cell_type": "code",
   "execution_count": 13,
   "id": "handled-earth",
   "metadata": {},
   "outputs": [
    {
     "name": "stderr",
     "output_type": "stream",
     "text": [
      "2022-01-27 23:00:59.469835: W tensorflow/core/platform/profile_utils/cpu_utils.cc:128] Failed to get CPU frequency: 0 Hz\n",
      "2022-01-27 23:00:59.687210: I tensorflow/compiler/mlir/mlir_graph_optimization_pass.cc:185] None of the MLIR Optimization Passes are enabled (registered 2)\n"
     ]
    },
    {
     "name": "stdout",
     "output_type": "stream",
     "text": [
      "Train on 469 steps, validate on 79 steps\n",
      "Epoch 1/12\n",
      "468/469 [============================>.] - ETA: 0s - batch: 233.5000 - size: 1.0000 - loss: 0.1583 - accuracy: 0.9520"
     ]
    },
    {
     "name": "stderr",
     "output_type": "stream",
     "text": [
      "/Users/mv96/miniforge3/lib/python3.9/site-packages/keras/engine/training.py:2470: UserWarning: `Model.state_updates` will be removed in a future version. This property should not be used in TensorFlow 2.0, as `updates` are applied automatically.\n",
      "  warnings.warn('`Model.state_updates` will be removed in a future version. '\n"
     ]
    },
    {
     "name": "stdout",
     "output_type": "stream",
     "text": [
      "469/469 [==============================] - 27s 55ms/step - batch: 234.0000 - size: 1.0000 - loss: 0.1580 - accuracy: 0.9520 - val_loss: 0.0616 - val_accuracy: 0.9783\n",
      "Epoch 2/12\n",
      "469/469 [==============================] - 26s 53ms/step - batch: 234.0000 - size: 1.0000 - loss: 0.0428 - accuracy: 0.9869 - val_loss: 0.0385 - val_accuracy: 0.9875\n",
      "Epoch 3/12\n",
      "469/469 [==============================] - 27s 55ms/step - batch: 234.0000 - size: 1.0000 - loss: 0.0281 - accuracy: 0.9912 - val_loss: 0.0357 - val_accuracy: 0.9878\n",
      "Epoch 4/12\n",
      "469/469 [==============================] - 27s 56ms/step - batch: 234.0000 - size: 1.0000 - loss: 0.0192 - accuracy: 0.9939 - val_loss: 0.0324 - val_accuracy: 0.9901\n",
      "Epoch 5/12\n",
      "469/469 [==============================] - 26s 54ms/step - batch: 234.0000 - size: 1.0000 - loss: 0.0118 - accuracy: 0.9963 - val_loss: 0.0318 - val_accuracy: 0.9906\n",
      "Epoch 6/12\n",
      "469/469 [==============================] - 27s 56ms/step - batch: 234.0000 - size: 1.0000 - loss: 0.0086 - accuracy: 0.9972 - val_loss: 0.0399 - val_accuracy: 0.9891\n",
      "Epoch 7/12\n",
      "468/469 [============================>.] - ETA: 0s - batch: 233.5000 - size: 1.0000 - loss: 0.0083 - accuracy: 0.9971"
     ]
    },
    {
     "ename": "KeyboardInterrupt",
     "evalue": "",
     "output_type": "error",
     "traceback": [
      "\u001b[0;31m---------------------------------------------------------------------------\u001b[0m",
      "\u001b[0;31mKeyboardInterrupt\u001b[0m                         Traceback (most recent call last)",
      "\u001b[0;32m/var/folders/tm/9klk1nzn2lz690wvdfb85s_00000gn/T/ipykernel_52051/1789362295.py\u001b[0m in \u001b[0;36m<module>\u001b[0;34m\u001b[0m\n\u001b[1;32m     55\u001b[0m )\n\u001b[1;32m     56\u001b[0m \u001b[0;34m\u001b[0m\u001b[0m\n\u001b[0;32m---> 57\u001b[0;31m model.fit(\n\u001b[0m\u001b[1;32m     58\u001b[0m     \u001b[0mds_train\u001b[0m\u001b[0;34m,\u001b[0m\u001b[0;34m\u001b[0m\u001b[0;34m\u001b[0m\u001b[0m\n\u001b[1;32m     59\u001b[0m     \u001b[0mepochs\u001b[0m\u001b[0;34m=\u001b[0m\u001b[0;36m12\u001b[0m\u001b[0;34m,\u001b[0m\u001b[0;34m\u001b[0m\u001b[0;34m\u001b[0m\u001b[0m\n",
      "\u001b[0;32m~/miniforge3/lib/python3.9/site-packages/keras/engine/training_v1.py\u001b[0m in \u001b[0;36mfit\u001b[0;34m(self, x, y, batch_size, epochs, verbose, callbacks, validation_split, validation_data, shuffle, class_weight, sample_weight, initial_epoch, steps_per_epoch, validation_steps, validation_freq, max_queue_size, workers, use_multiprocessing, **kwargs)\u001b[0m\n\u001b[1;32m    775\u001b[0m \u001b[0;34m\u001b[0m\u001b[0m\n\u001b[1;32m    776\u001b[0m     \u001b[0mfunc\u001b[0m \u001b[0;34m=\u001b[0m \u001b[0mself\u001b[0m\u001b[0;34m.\u001b[0m\u001b[0m_select_training_loop\u001b[0m\u001b[0;34m(\u001b[0m\u001b[0mx\u001b[0m\u001b[0;34m)\u001b[0m\u001b[0;34m\u001b[0m\u001b[0;34m\u001b[0m\u001b[0m\n\u001b[0;32m--> 777\u001b[0;31m     return func.fit(\n\u001b[0m\u001b[1;32m    778\u001b[0m         \u001b[0mself\u001b[0m\u001b[0;34m,\u001b[0m\u001b[0;34m\u001b[0m\u001b[0;34m\u001b[0m\u001b[0m\n\u001b[1;32m    779\u001b[0m         \u001b[0mx\u001b[0m\u001b[0;34m=\u001b[0m\u001b[0mx\u001b[0m\u001b[0;34m,\u001b[0m\u001b[0;34m\u001b[0m\u001b[0;34m\u001b[0m\u001b[0m\n",
      "\u001b[0;32m~/miniforge3/lib/python3.9/site-packages/keras/engine/training_arrays_v1.py\u001b[0m in \u001b[0;36mfit\u001b[0;34m(self, model, x, y, batch_size, epochs, verbose, callbacks, validation_split, validation_data, shuffle, class_weight, sample_weight, initial_epoch, steps_per_epoch, validation_steps, validation_freq, **kwargs)\u001b[0m\n\u001b[1;32m    638\u001b[0m       \u001b[0mval_x\u001b[0m\u001b[0;34m,\u001b[0m \u001b[0mval_y\u001b[0m\u001b[0;34m,\u001b[0m \u001b[0mval_sample_weights\u001b[0m \u001b[0;34m=\u001b[0m \u001b[0;32mNone\u001b[0m\u001b[0;34m,\u001b[0m \u001b[0;32mNone\u001b[0m\u001b[0;34m,\u001b[0m \u001b[0;32mNone\u001b[0m\u001b[0;34m\u001b[0m\u001b[0;34m\u001b[0m\u001b[0m\n\u001b[1;32m    639\u001b[0m \u001b[0;34m\u001b[0m\u001b[0m\n\u001b[0;32m--> 640\u001b[0;31m     return fit_loop(\n\u001b[0m\u001b[1;32m    641\u001b[0m         \u001b[0mmodel\u001b[0m\u001b[0;34m,\u001b[0m\u001b[0;34m\u001b[0m\u001b[0;34m\u001b[0m\u001b[0m\n\u001b[1;32m    642\u001b[0m         \u001b[0minputs\u001b[0m\u001b[0;34m=\u001b[0m\u001b[0mx\u001b[0m\u001b[0;34m,\u001b[0m\u001b[0;34m\u001b[0m\u001b[0;34m\u001b[0m\u001b[0m\n",
      "\u001b[0;32m~/miniforge3/lib/python3.9/site-packages/keras/engine/training_arrays_v1.py\u001b[0m in \u001b[0;36mmodel_iteration\u001b[0;34m(model, inputs, targets, sample_weights, batch_size, epochs, verbose, callbacks, val_inputs, val_targets, val_sample_weights, shuffle, initial_epoch, steps_per_epoch, validation_steps, validation_freq, mode, validation_in_fit, prepared_feed_values_from_dataset, steps_name, **kwargs)\u001b[0m\n\u001b[1;32m    407\u001b[0m             model, ModeKeys.TRAIN)\n\u001b[1;32m    408\u001b[0m \u001b[0;34m\u001b[0m\u001b[0m\n\u001b[0;32m--> 409\u001b[0;31m       val_results = model_iteration(\n\u001b[0m\u001b[1;32m    410\u001b[0m           \u001b[0mmodel\u001b[0m\u001b[0;34m,\u001b[0m\u001b[0;34m\u001b[0m\u001b[0;34m\u001b[0m\u001b[0m\n\u001b[1;32m    411\u001b[0m           \u001b[0mval_inputs\u001b[0m\u001b[0;34m,\u001b[0m\u001b[0;34m\u001b[0m\u001b[0;34m\u001b[0m\u001b[0m\n",
      "\u001b[0;32m~/miniforge3/lib/python3.9/site-packages/keras/engine/training_arrays_v1.py\u001b[0m in \u001b[0;36mmodel_iteration\u001b[0;34m(model, inputs, targets, sample_weights, batch_size, epochs, verbose, callbacks, val_inputs, val_targets, val_sample_weights, shuffle, initial_epoch, steps_per_epoch, validation_steps, validation_freq, mode, validation_in_fit, prepared_feed_values_from_dataset, steps_name, **kwargs)\u001b[0m\n\u001b[1;32m    284\u001b[0m           \u001b[0;32melse\u001b[0m\u001b[0;34m:\u001b[0m\u001b[0;34m\u001b[0m\u001b[0;34m\u001b[0m\u001b[0m\n\u001b[1;32m    285\u001b[0m             \u001b[0mactual_inputs\u001b[0m \u001b[0;34m=\u001b[0m \u001b[0mins\u001b[0m\u001b[0;34m(\u001b[0m\u001b[0;34m)\u001b[0m\u001b[0;34m\u001b[0m\u001b[0;34m\u001b[0m\u001b[0m\n\u001b[0;32m--> 286\u001b[0;31m           \u001b[0mbatch_outs\u001b[0m \u001b[0;34m=\u001b[0m \u001b[0mf\u001b[0m\u001b[0;34m(\u001b[0m\u001b[0mactual_inputs\u001b[0m\u001b[0;34m)\u001b[0m\u001b[0;34m\u001b[0m\u001b[0;34m\u001b[0m\u001b[0m\n\u001b[0m\u001b[1;32m    287\u001b[0m         \u001b[0;32mexcept\u001b[0m \u001b[0mtf\u001b[0m\u001b[0;34m.\u001b[0m\u001b[0merrors\u001b[0m\u001b[0;34m.\u001b[0m\u001b[0mOutOfRangeError\u001b[0m\u001b[0;34m:\u001b[0m\u001b[0;34m\u001b[0m\u001b[0;34m\u001b[0m\u001b[0m\n\u001b[1;32m    288\u001b[0m           \u001b[0;32mif\u001b[0m \u001b[0mis_dataset\u001b[0m\u001b[0;34m:\u001b[0m\u001b[0;34m\u001b[0m\u001b[0;34m\u001b[0m\u001b[0m\n",
      "\u001b[0;32m~/miniforge3/lib/python3.9/site-packages/keras/backend.py\u001b[0m in \u001b[0;36m__call__\u001b[0;34m(self, inputs)\u001b[0m\n\u001b[1;32m   4029\u001b[0m       \u001b[0mself\u001b[0m\u001b[0;34m.\u001b[0m\u001b[0m_make_callable\u001b[0m\u001b[0;34m(\u001b[0m\u001b[0mfeed_arrays\u001b[0m\u001b[0;34m,\u001b[0m \u001b[0mfeed_symbols\u001b[0m\u001b[0;34m,\u001b[0m \u001b[0msymbol_vals\u001b[0m\u001b[0;34m,\u001b[0m \u001b[0msession\u001b[0m\u001b[0;34m)\u001b[0m\u001b[0;34m\u001b[0m\u001b[0;34m\u001b[0m\u001b[0m\n\u001b[1;32m   4030\u001b[0m \u001b[0;34m\u001b[0m\u001b[0m\n\u001b[0;32m-> 4031\u001b[0;31m     fetched = self._callable_fn(*array_vals,\n\u001b[0m\u001b[1;32m   4032\u001b[0m                                 run_metadata=self.run_metadata)\n\u001b[1;32m   4033\u001b[0m     \u001b[0mself\u001b[0m\u001b[0;34m.\u001b[0m\u001b[0m_call_fetch_callbacks\u001b[0m\u001b[0;34m(\u001b[0m\u001b[0mfetched\u001b[0m\u001b[0;34m[\u001b[0m\u001b[0;34m-\u001b[0m\u001b[0mlen\u001b[0m\u001b[0;34m(\u001b[0m\u001b[0mself\u001b[0m\u001b[0;34m.\u001b[0m\u001b[0m_fetches\u001b[0m\u001b[0;34m)\u001b[0m\u001b[0;34m:\u001b[0m\u001b[0;34m]\u001b[0m\u001b[0;34m)\u001b[0m\u001b[0;34m\u001b[0m\u001b[0;34m\u001b[0m\u001b[0m\n",
      "\u001b[0;32m~/miniforge3/lib/python3.9/site-packages/tensorflow/python/client/session.py\u001b[0m in \u001b[0;36m__call__\u001b[0;34m(self, *args, **kwargs)\u001b[0m\n\u001b[1;32m   1476\u001b[0m       \u001b[0;32mtry\u001b[0m\u001b[0;34m:\u001b[0m\u001b[0;34m\u001b[0m\u001b[0;34m\u001b[0m\u001b[0m\n\u001b[1;32m   1477\u001b[0m         \u001b[0mrun_metadata_ptr\u001b[0m \u001b[0;34m=\u001b[0m \u001b[0mtf_session\u001b[0m\u001b[0;34m.\u001b[0m\u001b[0mTF_NewBuffer\u001b[0m\u001b[0;34m(\u001b[0m\u001b[0;34m)\u001b[0m \u001b[0;32mif\u001b[0m \u001b[0mrun_metadata\u001b[0m \u001b[0;32melse\u001b[0m \u001b[0;32mNone\u001b[0m\u001b[0;34m\u001b[0m\u001b[0;34m\u001b[0m\u001b[0m\n\u001b[0;32m-> 1478\u001b[0;31m         ret = tf_session.TF_SessionRunCallable(self._session._session,\n\u001b[0m\u001b[1;32m   1479\u001b[0m                                                \u001b[0mself\u001b[0m\u001b[0;34m.\u001b[0m\u001b[0m_handle\u001b[0m\u001b[0;34m,\u001b[0m \u001b[0margs\u001b[0m\u001b[0;34m,\u001b[0m\u001b[0;34m\u001b[0m\u001b[0;34m\u001b[0m\u001b[0m\n\u001b[1;32m   1480\u001b[0m                                                run_metadata_ptr)\n",
      "\u001b[0;31mKeyboardInterrupt\u001b[0m: "
     ]
    }
   ],
   "source": [
    "import tensorflow.compat.v2 as tf\n",
    "import tensorflow_datasets as tfds\n",
    "\n",
    "tf.enable_v2_behavior()\n",
    "\n",
    "from tensorflow.python.framework.ops import disable_eager_execution\n",
    "\n",
    "disable_eager_execution()\n",
    "\n",
    "\n",
    "(ds_train, ds_test), ds_info = tfds.load(\n",
    "    \"mnist\",\n",
    "    split=[\"train\", \"test\"],\n",
    "    shuffle_files=True,\n",
    "    as_supervised=True,\n",
    "    with_info=True,\n",
    ")\n",
    "\n",
    "\n",
    "def normalize_img(image, label):\n",
    "    \"\"\"Normalizes images: `uint8` -> `float32`.\"\"\"\n",
    "    return tf.cast(image, tf.float32) / 255.0, label\n",
    "\n",
    "\n",
    "batch_size = 128\n",
    "\n",
    "ds_train = ds_train.map(normalize_img, num_parallel_calls=tf.data.experimental.AUTOTUNE)\n",
    "ds_train = ds_train.cache()\n",
    "ds_train = ds_train.shuffle(ds_info.splits[\"train\"].num_examples)\n",
    "ds_train = ds_train.batch(batch_size)\n",
    "ds_train = ds_train.prefetch(tf.data.experimental.AUTOTUNE)\n",
    "\n",
    "\n",
    "ds_test = ds_test.map(normalize_img, num_parallel_calls=tf.data.experimental.AUTOTUNE)\n",
    "ds_test = ds_test.batch(batch_size)\n",
    "ds_test = ds_test.cache()\n",
    "ds_test = ds_test.prefetch(tf.data.experimental.AUTOTUNE)\n",
    "\n",
    "\n",
    "model = tf.keras.models.Sequential(\n",
    "    [\n",
    "        tf.keras.layers.Conv2D(32, kernel_size=(3, 3), activation=\"relu\"),\n",
    "        tf.keras.layers.Conv2D(64, kernel_size=(3, 3), activation=\"relu\"),\n",
    "        tf.keras.layers.MaxPooling2D(pool_size=(2, 2)),\n",
    "        #   tf.keras.layers.Dropout(0.25),\n",
    "        tf.keras.layers.Flatten(),\n",
    "        tf.keras.layers.Dense(128, activation=\"relu\"),\n",
    "        #   tf.keras.layers.Dropout(0.5),\n",
    "        tf.keras.layers.Dense(10, activation=\"softmax\"),\n",
    "    ]\n",
    ")\n",
    "model.compile(\n",
    "    loss=\"sparse_categorical_crossentropy\",\n",
    "    optimizer=tf.keras.optimizers.Adam(0.001),\n",
    "    metrics=[\"accuracy\"],\n",
    ")\n",
    "\n",
    "model.fit(\n",
    "    ds_train,\n",
    "    epochs=12,\n",
    "    validation_data=ds_test,\n",
    ")"
   ]
  },
  {
   "cell_type": "markdown",
   "id": "3a48e11a",
   "metadata": {},
   "source": [
    "# LSTM implementation"
   ]
  },
  {
   "cell_type": "code",
   "execution_count": 14,
   "id": "exceptional-customs",
   "metadata": {},
   "outputs": [
    {
     "data": {
      "text/html": [
       "<div>\n",
       "<style scoped>\n",
       "    .dataframe tbody tr th:only-of-type {\n",
       "        vertical-align: middle;\n",
       "    }\n",
       "\n",
       "    .dataframe tbody tr th {\n",
       "        vertical-align: top;\n",
       "    }\n",
       "\n",
       "    .dataframe thead th {\n",
       "        text-align: right;\n",
       "    }\n",
       "</style>\n",
       "<table border=\"1\" class=\"dataframe\">\n",
       "  <thead>\n",
       "    <tr style=\"text-align: right;\">\n",
       "      <th></th>\n",
       "      <th>Unnamed: 0</th>\n",
       "      <th>local font name</th>\n",
       "      <th>pdf_path</th>\n",
       "      <th>font</th>\n",
       "      <th>label</th>\n",
       "    </tr>\n",
       "  </thead>\n",
       "  <tbody>\n",
       "    <tr>\n",
       "      <th>0</th>\n",
       "      <td>0</td>\n",
       "      <td>['font0', 'font6', 'font0', 'font6', 'font7', ...</td>\n",
       "      <td>1812.02037/journal-factor.pdf</td>\n",
       "      <td>['nimbusromno9l', 'cmmi10', 'nimbusromno9l', '...</td>\n",
       "      <td>theorem</td>\n",
       "    </tr>\n",
       "    <tr>\n",
       "      <th>1</th>\n",
       "      <td>1</td>\n",
       "      <td>['font0', 'font6', 'font0', 'font6', 'font0', ...</td>\n",
       "      <td>1812.02037/journal-factor.pdf</td>\n",
       "      <td>['nimbusromno9l', 'cmmi10', 'nimbusromno9l', '...</td>\n",
       "      <td>theorem</td>\n",
       "    </tr>\n",
       "    <tr>\n",
       "      <th>2</th>\n",
       "      <td>2</td>\n",
       "      <td>['font0', 'font6', 'font0', 'font6', 'font0', ...</td>\n",
       "      <td>1812.02037/journal-factor.pdf</td>\n",
       "      <td>['nimbusromno9l', 'cmmi10', 'nimbusromno9l', '...</td>\n",
       "      <td>theorem</td>\n",
       "    </tr>\n",
       "    <tr>\n",
       "      <th>3</th>\n",
       "      <td>3</td>\n",
       "      <td>['font0', 'font6', 'font0', 'font6', 'font0', ...</td>\n",
       "      <td>1812.02037/journal-factor.pdf</td>\n",
       "      <td>['nimbusromno9l', 'cmmi10', 'nimbusromno9l', '...</td>\n",
       "      <td>theorem</td>\n",
       "    </tr>\n",
       "    <tr>\n",
       "      <th>4</th>\n",
       "      <td>4</td>\n",
       "      <td>['font0', 'font6', 'font0', 'font6', 'font0', ...</td>\n",
       "      <td>1812.02037/journal-factor.pdf</td>\n",
       "      <td>['nimbusromno9l', 'cmmi10', 'nimbusromno9l', '...</td>\n",
       "      <td>theorem</td>\n",
       "    </tr>\n",
       "    <tr>\n",
       "      <th>...</th>\n",
       "      <td>...</td>\n",
       "      <td>...</td>\n",
       "      <td>...</td>\n",
       "      <td>...</td>\n",
       "      <td>...</td>\n",
       "    </tr>\n",
       "    <tr>\n",
       "      <th>385363</th>\n",
       "      <td>385363</td>\n",
       "      <td>['font1', 'font11', 'font14', 'font11', 'font1...</td>\n",
       "      <td>1602.06073/main.pdf</td>\n",
       "      <td>['cmr12', 'cmmi12', 'cmsy10', 'cmmi12', 'cmr12...</td>\n",
       "      <td>theorem</td>\n",
       "    </tr>\n",
       "    <tr>\n",
       "      <th>385364</th>\n",
       "      <td>385364</td>\n",
       "      <td>['font1', 'font11', 'font1', 'font15', 'font1'...</td>\n",
       "      <td>1602.06073/main.pdf</td>\n",
       "      <td>['cmr12', 'cmmi12', 'cmr12', 'cmmi8', 'cmr12',...</td>\n",
       "      <td>theorem</td>\n",
       "    </tr>\n",
       "    <tr>\n",
       "      <th>385365</th>\n",
       "      <td>385365</td>\n",
       "      <td>['font16', 'font2', 'font11', 'font1', 'font14...</td>\n",
       "      <td>1602.06073/main.pdf</td>\n",
       "      <td>['cmbx12', 'cmti12', 'cmmi12', 'cmr12', 'cmsy1...</td>\n",
       "      <td>theorem</td>\n",
       "    </tr>\n",
       "    <tr>\n",
       "      <th>385366</th>\n",
       "      <td>385366</td>\n",
       "      <td>['font11', 'font14', 'font11', 'font12', 'font...</td>\n",
       "      <td>1602.06073/main.pdf</td>\n",
       "      <td>['cmmi12', 'cmsy10', 'cmmi12', 'cmr8', 'cmmi12...</td>\n",
       "      <td>theorem</td>\n",
       "    </tr>\n",
       "    <tr>\n",
       "      <th>385367</th>\n",
       "      <td>385367</td>\n",
       "      <td>['font16', 'font2', 'font11', 'font14', 'font1...</td>\n",
       "      <td>1602.06073/main.pdf</td>\n",
       "      <td>['cmbx12', 'cmti12', 'cmmi12', 'cmsy10', 'cmr1...</td>\n",
       "      <td>theorem</td>\n",
       "    </tr>\n",
       "  </tbody>\n",
       "</table>\n",
       "<p>385368 rows × 5 columns</p>\n",
       "</div>"
      ],
      "text/plain": [
       "        Unnamed: 0                                    local font name  \\\n",
       "0                0  ['font0', 'font6', 'font0', 'font6', 'font7', ...   \n",
       "1                1  ['font0', 'font6', 'font0', 'font6', 'font0', ...   \n",
       "2                2  ['font0', 'font6', 'font0', 'font6', 'font0', ...   \n",
       "3                3  ['font0', 'font6', 'font0', 'font6', 'font0', ...   \n",
       "4                4  ['font0', 'font6', 'font0', 'font6', 'font0', ...   \n",
       "...            ...                                                ...   \n",
       "385363      385363  ['font1', 'font11', 'font14', 'font11', 'font1...   \n",
       "385364      385364  ['font1', 'font11', 'font1', 'font15', 'font1'...   \n",
       "385365      385365  ['font16', 'font2', 'font11', 'font1', 'font14...   \n",
       "385366      385366  ['font11', 'font14', 'font11', 'font12', 'font...   \n",
       "385367      385367  ['font16', 'font2', 'font11', 'font14', 'font1...   \n",
       "\n",
       "                             pdf_path  \\\n",
       "0       1812.02037/journal-factor.pdf   \n",
       "1       1812.02037/journal-factor.pdf   \n",
       "2       1812.02037/journal-factor.pdf   \n",
       "3       1812.02037/journal-factor.pdf   \n",
       "4       1812.02037/journal-factor.pdf   \n",
       "...                               ...   \n",
       "385363            1602.06073/main.pdf   \n",
       "385364            1602.06073/main.pdf   \n",
       "385365            1602.06073/main.pdf   \n",
       "385366            1602.06073/main.pdf   \n",
       "385367            1602.06073/main.pdf   \n",
       "\n",
       "                                                     font    label  \n",
       "0       ['nimbusromno9l', 'cmmi10', 'nimbusromno9l', '...  theorem  \n",
       "1       ['nimbusromno9l', 'cmmi10', 'nimbusromno9l', '...  theorem  \n",
       "2       ['nimbusromno9l', 'cmmi10', 'nimbusromno9l', '...  theorem  \n",
       "3       ['nimbusromno9l', 'cmmi10', 'nimbusromno9l', '...  theorem  \n",
       "4       ['nimbusromno9l', 'cmmi10', 'nimbusromno9l', '...  theorem  \n",
       "...                                                   ...      ...  \n",
       "385363  ['cmr12', 'cmmi12', 'cmsy10', 'cmmi12', 'cmr12...  theorem  \n",
       "385364  ['cmr12', 'cmmi12', 'cmr12', 'cmmi8', 'cmr12',...  theorem  \n",
       "385365  ['cmbx12', 'cmti12', 'cmmi12', 'cmr12', 'cmsy1...  theorem  \n",
       "385366  ['cmmi12', 'cmsy10', 'cmmi12', 'cmr8', 'cmmi12...  theorem  \n",
       "385367  ['cmbx12', 'cmti12', 'cmmi12', 'cmsy10', 'cmr1...  theorem  \n",
       "\n",
       "[385368 rows x 5 columns]"
      ]
     },
     "execution_count": 14,
     "metadata": {},
     "output_type": "execute_result"
    }
   ],
   "source": [
    "import pandas as pd\n",
    "\n",
    "# for unstripped use /Users/mv96/Desktop/prep_lstm_unstripped.csv\n",
    "# for stripped /Users/mv96/Desktop/prep_lstm.csv\n",
    "lstm_df = pd.read_csv(\"/Users/mv96/Desktop/prep_lstm_unstripped.csv\")\n",
    "lstm_df"
   ]
  },
  {
   "cell_type": "code",
   "execution_count": 15,
   "id": "wrong-tragedy",
   "metadata": {},
   "outputs": [
    {
     "name": "stderr",
     "output_type": "stream",
     "text": [
      "/var/folders/tm/9klk1nzn2lz690wvdfb85s_00000gn/T/ipykernel_52051/417036697.py:4: FutureWarning: In a future version of pandas all arguments of DataFrame.drop except for the argument 'labels' will be keyword-only\n",
      "  lstm_df = lstm_df.drop(column_name, 1)\n"
     ]
    }
   ],
   "source": [
    "# filter out the unnamed section of columns\n",
    "for column_name in lstm_df.columns:\n",
    "    if column_name.startswith(\"Unnamed:\"):\n",
    "        lstm_df = lstm_df.drop(column_name, 1)\n",
    "\n",
    "# now we will filter the nan rows in the dataset\n",
    "lstm_df = lstm_df.dropna()"
   ]
  },
  {
   "cell_type": "code",
   "execution_count": 16,
   "id": "2fbf3ef6",
   "metadata": {},
   "outputs": [
    {
     "data": {
      "text/plain": [
       "<AxesSubplot:>"
      ]
     },
     "execution_count": 16,
     "metadata": {},
     "output_type": "execute_result"
    },
    {
     "data": {
      "image/png": "[encoded data removed]",
      "text/plain": [
       "<Figure size 432x288 with 1 Axes>"
      ]
     },
     "metadata": {
      "needs_background": "light"
     },
     "output_type": "display_data"
    }
   ],
   "source": [
    "# lets now visualize the dataframe that we got\n",
    "# class imbalance in the data\n",
    "lstm_df[\"label\"].value_counts().sort_values().plot(kind=\"barh\")"
   ]
  },
  {
   "cell_type": "code",
   "execution_count": 17,
   "id": "acting-increase",
   "metadata": {},
   "outputs": [
    {
     "data": {
      "text/plain": [
       "basic      194895\n",
       "proof      123010\n",
       "theorem     67463\n",
       "Name: label, dtype: int64"
      ]
     },
     "execution_count": 17,
     "metadata": {},
     "output_type": "execute_result"
    }
   ],
   "source": [
    "lstm_df[\"label\"].value_counts()"
   ]
  },
  {
   "cell_type": "code",
   "execution_count": 22,
   "id": "a6b9a67b",
   "metadata": {},
   "outputs": [],
   "source": [
    "import ast\n",
    "\n",
    "\n",
    "def string_mapping(val):\n",
    "    \"\"\"converts the list format into string format that can be used for LSTM input as positional encoding\"\"\"\n",
    "    temp = ast.literal_eval(val)\n",
    "    return \" \".join(temp)\n",
    "\n",
    "\n",
    "lstm_df[\"font\"] = lstm_df[\"font\"].apply(string_mapping)"
   ]
  },
  {
   "cell_type": "markdown",
   "id": "398773cc",
   "metadata": {},
   "source": [
    "# train test(0.10) split"
   ]
  },
  {
   "cell_type": "code",
   "execution_count": 23,
   "id": "royal-assist",
   "metadata": {},
   "outputs": [
    {
     "name": "stdout",
     "output_type": "stream",
     "text": [
      "(385368,) (385368,)\n",
      "(346831,) (38537,) (346831,) (38537,)\n"
     ]
    }
   ],
   "source": [
    "X = lstm_df[\"font\"]\n",
    "y = lstm_df[\"label\"]\n",
    "\n",
    "# divide the dataset into test and train portions\n",
    "from sklearn.model_selection import train_test_split\n",
    "\n",
    "X_train, X_test, y_train, y_test = train_test_split(\n",
    "    X, y, test_size=0.10, random_state=42, stratify=y\n",
    ")\n",
    "\n",
    "print(X.shape, y.shape)\n",
    "\n",
    "print(X_train.shape, X_test.shape, y_train.shape, y_test.shape)"
   ]
  },
  {
   "cell_type": "code",
   "execution_count": 24,
   "id": "macro-pacific",
   "metadata": {},
   "outputs": [
    {
     "data": {
      "text/plain": [
       "basic      175405\n",
       "proof      110709\n",
       "theorem     60717\n",
       "Name: label, dtype: int64"
      ]
     },
     "execution_count": 24,
     "metadata": {},
     "output_type": "execute_result"
    }
   ],
   "source": [
    "y_train.value_counts()"
   ]
  },
  {
   "cell_type": "code",
   "execution_count": 29,
   "id": "material-assistant",
   "metadata": {},
   "outputs": [
    {
     "name": "stdout",
     "output_type": "stream",
     "text": [
      "cmr10 cmmi10 tex cmr10 proof\n"
     ]
    }
   ],
   "source": [
    "print(X_train.iloc[0], y_train.iloc[0])"
   ]
  },
  {
   "cell_type": "code",
   "execution_count": 30,
   "id": "arabic-superior",
   "metadata": {},
   "outputs": [
    {
     "name": "stdout",
     "output_type": "stream",
     "text": [
      "The classes obtained\n",
      "['basic' 'proof' 'theorem']\n",
      "<class 'pandas.core.series.Series'>\n",
      "nimbusromno9l cmmi10 cmmi8 cmr10 cmsy8 cmr6 cmr10 cmmi10 nimbusromno9l cmmi10 cmmi8 cmr10 cmsy8 cmr6 cmr10 cmmi10 nimbusromno9l cmmi10 cmmi8 cmr10 cmmi8 cmmi10 cmmi8 cmmi10 cmmi8 nimbusromno9l cmr10 cmsy8 cmr6 nimbusromno9l cmr10 cmsy8 cmr6 nimbusromno9l cmr8 cmsy8 nimbusromno9l cmmi10 cmsy10 msbm10 cmsy8 nimbusromno9l cmmi10 cmr8 cmr10 cmsy10 cmmi10 cmsy8 cmmi8 cmsy10 nimbusromno9l\n"
     ]
    }
   ],
   "source": [
    "# label encoding the data\n",
    "from sklearn import preprocessing\n",
    "\n",
    "le = preprocessing.LabelEncoder()\n",
    "le.fit(y_train)\n",
    "\n",
    "print(\"The classes obtained\")\n",
    "print(le.classes_)\n",
    "\n",
    "y_train = le.transform(y_train)\n",
    "y_test = le.transform(y_test)\n",
    "\n",
    "print(type(X_train))\n",
    "print(X_train.iloc[1])"
   ]
  },
  {
   "cell_type": "code",
   "execution_count": 31,
   "id": "dafbcc78",
   "metadata": {},
   "outputs": [
    {
     "name": "stdout",
     "output_type": "stream",
     "text": [
      "[0 1 2]\n",
      "['basic' 'proof' 'theorem']\n"
     ]
    }
   ],
   "source": [
    "print(le.transform([\"basic\", \"proof\", \"theorem\"]))\n",
    "print(le.inverse_transform([0, 1, 2]))"
   ]
  },
  {
   "cell_type": "code",
   "execution_count": 48,
   "id": "430ab827",
   "metadata": {},
   "outputs": [
    {
     "name": "stderr",
     "output_type": "stream",
     "text": [
      "385368it [00:06, 56045.14it/s]"
     ]
    },
    {
     "name": "stdout",
     "output_type": "stream",
     "text": [
      "3110\n"
     ]
    },
    {
     "name": "stderr",
     "output_type": "stream",
     "text": [
      "\n"
     ]
    }
   ],
   "source": [
    "# set a threshold that almost always covers most of the paragraphs\n",
    "from tqdm import tqdm\n",
    "\n",
    "thresh = 1000\n",
    "cnt = 0\n",
    "for ind, row in tqdm(lstm_df.iterrows()):\n",
    "    fonts_used = row[\"font\"]\n",
    "    unique_fonts_used = set(fonts_used.split(\" \"))\n",
    "\n",
    "    label_of_para = row[\"label\"]\n",
    "    if len(fonts_used) > thresh:\n",
    "        cnt += 1\n",
    "        # print(label_of_para)\n",
    "        # print(fonts_used)\n",
    "\n",
    "print(cnt)\n",
    "# around 1800 blocks that use more than a thousand font sequence"
   ]
  },
  {
   "cell_type": "code",
   "execution_count": 49,
   "id": "3dbdf750",
   "metadata": {},
   "outputs": [],
   "source": [
    "# some blocks can have large number of occurances"
   ]
  },
  {
   "cell_type": "code",
   "execution_count": 50,
   "id": "8b0cdb94",
   "metadata": {},
   "outputs": [
    {
     "name": "stdout",
     "output_type": "stream",
     "text": [
      "379\n"
     ]
    }
   ],
   "source": [
    "# total number of fonts that exist in both training and testing data\n",
    "\n",
    "temp = list(set(\" \".join(X_train).split(\" \")))\n",
    "print(len(temp))  # 221 fonts roughly"
   ]
  },
  {
   "cell_type": "code",
   "execution_count": 51,
   "id": "f28f663d",
   "metadata": {
    "scrolled": true
   },
   "outputs": [
    {
     "name": "stdout",
     "output_type": "stream",
     "text": [
      "288\n",
      "['sfsx1440', 'sfrm1728', 'apple', 'mnsymbol', 'sfbx2074', 'grmn0700']\n",
      "6\n"
     ]
    }
   ],
   "source": [
    "# fonts that occur in train but not in test\n",
    "temp1 = list(set(\" \".join(X_test).split(\" \")))\n",
    "print(len(temp1))  # 159 fonts roughly\n",
    "\n",
    "fonts_not_in_train = []\n",
    "for font in temp1:\n",
    "    if font not in temp:\n",
    "        fonts_not_in_train.append(font)\n",
    "\n",
    "print(fonts_not_in_train)\n",
    "print(len(fonts_not_in_train))  # not a heavy loss"
   ]
  },
  {
   "cell_type": "code",
   "execution_count": 52,
   "id": "762f4513",
   "metadata": {},
   "outputs": [
    {
     "name": "stdout",
     "output_type": "stream",
     "text": [
      "(346831,) (38537,)\n",
      "(346831,) (38537,)\n",
      "<class 'list'> <class 'list'>\n"
     ]
    }
   ],
   "source": [
    "print(X_train.shape, X_test.shape)\n",
    "print(y_train.shape, y_test.shape)\n",
    "\n",
    "X_train = X_train.to_list()\n",
    "X_test = X_test.to_list()\n",
    "\n",
    "print(type(X_train), type(X_test))"
   ]
  },
  {
   "cell_type": "code",
   "execution_count": 53,
   "id": "63d12f50",
   "metadata": {},
   "outputs": [],
   "source": [
    "from keras.preprocessing.text import Tokenizer\n",
    "from keras.preprocessing.sequence import pad_sequences\n",
    "\n",
    "top_words = 500\n",
    "max_length = 1000\n",
    "tokenizer = Tokenizer(num_words=top_words)\n",
    "tokenizer.fit_on_texts(X_train)\n",
    "list_tokenized_train = tokenizer.texts_to_sequences(X_train)\n",
    "\n",
    "# for bert max length is 512\n",
    "X_train = pad_sequences(list_tokenized_train, maxlen=max_length)"
   ]
  },
  {
   "cell_type": "code",
   "execution_count": 54,
   "id": "6cc1548a",
   "metadata": {},
   "outputs": [
    {
     "data": {
      "text/plain": [
       "(346831, 1000)"
      ]
     },
     "execution_count": 54,
     "metadata": {},
     "output_type": "execute_result"
    }
   ],
   "source": [
    "X_train.shape"
   ]
  },
  {
   "cell_type": "code",
   "execution_count": 55,
   "id": "d13284a8",
   "metadata": {},
   "outputs": [],
   "source": [
    "tokenizer.fit_on_texts(X_test)\n",
    "list_tokenized_train = tokenizer.texts_to_sequences(X_test)\n",
    "\n",
    "# for bert max length is 512\n",
    "X_test = pad_sequences(list_tokenized_train, maxlen=max_length)"
   ]
  },
  {
   "cell_type": "code",
   "execution_count": 56,
   "id": "337894f2",
   "metadata": {},
   "outputs": [
    {
     "data": {
      "text/plain": [
       "(38537, 1000)"
      ]
     },
     "execution_count": 56,
     "metadata": {},
     "output_type": "execute_result"
    }
   ],
   "source": [
    "X_test.shape"
   ]
  },
  {
   "cell_type": "code",
   "execution_count": 57,
   "id": "ff406301",
   "metadata": {},
   "outputs": [],
   "source": [
    "import pandas as pd\n",
    "\n",
    "Y_train = pd.get_dummies(y_train)\n",
    "Y_test = pd.get_dummies(y_test)"
   ]
  },
  {
   "cell_type": "code",
   "execution_count": 58,
   "id": "d05413e2",
   "metadata": {},
   "outputs": [
    {
     "name": "stdout",
     "output_type": "stream",
     "text": [
      "Model: \"sequential_1\"\n",
      "_________________________________________________________________\n",
      "Layer (type)                 Output Shape              Param #   \n",
      "=================================================================\n",
      "embedding (Embedding)        (None, 1000, 32)          16000     \n",
      "_________________________________________________________________\n",
      "spatial_dropout1d (SpatialDr (None, 1000, 32)          0         \n",
      "_________________________________________________________________\n",
      "lstm (LSTM)                  (None, 100)               53200     \n",
      "_________________________________________________________________\n",
      "dense_2 (Dense)              (None, 3)                 303       \n",
      "=================================================================\n",
      "Total params: 69,503\n",
      "Trainable params: 69,503\n",
      "Non-trainable params: 0\n",
      "_________________________________________________________________\n"
     ]
    }
   ],
   "source": [
    "import tensorflow as tf\n",
    "from tensorflow.keras.models import Sequential\n",
    "from tensorflow.keras.layers import Embedding\n",
    "from tensorflow.keras.layers import SpatialDropout1D\n",
    "from tensorflow.keras.layers import Dense, LSTM\n",
    "from tensorflow.keras.callbacks import ModelCheckpoint, EarlyStopping\n",
    "\n",
    "# This is fixed.\n",
    "\n",
    "\n",
    "EMBEDDING_DIM = 32  ####hyper parameter\n",
    "\n",
    "model = Sequential()\n",
    "\n",
    "model.add(Embedding(top_words, EMBEDDING_DIM, input_length=X_train.shape[1]))\n",
    "\n",
    "model.add(SpatialDropout1D(0.2))\n",
    "model.add(LSTM(100, dropout=0.2))  # for cudadnn set rec dropout as 0\n",
    "model.add(Dense(3, activation=\"softmax\"))\n",
    "model.compile(loss=\"categorical_crossentropy\", optimizer=\"adam\", metrics=[\"accuracy\"])\n",
    "model.summary()"
   ]
  },
  {
   "cell_type": "code",
   "execution_count": 59,
   "id": "0847e148",
   "metadata": {},
   "outputs": [
    {
     "name": "stdout",
     "output_type": "stream",
     "text": [
      "(346831, 1000)\n",
      "(346831, 3)\n",
      "(38537, 1000)\n",
      "(38537, 3)\n"
     ]
    }
   ],
   "source": [
    "print(X_train.shape)\n",
    "print(Y_train.shape)\n",
    "print(X_test.shape)\n",
    "print(Y_test.shape)"
   ]
  },
  {
   "cell_type": "code",
   "execution_count": null,
   "id": "4424f549",
   "metadata": {},
   "outputs": [],
   "source": [
    "# without classs weights\n",
    "epochs = 30  # hyper parameter\n",
    "batch_size = 64  # number of training samples to push through\n",
    "history = model.fit(\n",
    "    X_train,\n",
    "    Y_train,\n",
    "    epochs=epochs,\n",
    "    batch_size=batch_size,\n",
    "    validation_data=(X_test, Y_test),\n",
    "    callbacks=[\n",
    "        EarlyStopping(monitor=\"val_loss\", mode=\"min\", patience=3, min_delta=0.0001)\n",
    "    ],\n",
    ")"
   ]
  },
  {
   "cell_type": "code",
   "execution_count": null,
   "id": "8e1b6626",
   "metadata": {},
   "outputs": [],
   "source": [
    "accr = model.evaluate(X_test, Y_test)\n",
    "print(\"Test set\\n  Loss: {:0.3f}\\n  Accuracy: {:0.3f}\".format(accr[0], accr[1]))"
   ]
  },
  {
   "cell_type": "code",
   "execution_count": null,
   "id": "10095df4",
   "metadata": {},
   "outputs": [],
   "source": []
  }
 ],
 "metadata": {
  "kernelspec": {
   "display_name": "tf_gpu",
   "language": "python",
   "name": "tf_gpu"
  },
  "language_info": {
   "codemirror_mode": {
    "name": "ipython",
    "version": 3
   },
   "file_extension": ".py",
   "mimetype": "text/x-python",
   "name": "python",
   "nbconvert_exporter": "python",
   "pygments_lexer": "ipython3",
   "version": "3.10.8"
  }
 },
 "nbformat": 4,
 "nbformat_minor": 5
}
