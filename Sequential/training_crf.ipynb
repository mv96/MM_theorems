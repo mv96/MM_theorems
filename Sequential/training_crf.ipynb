{
 "cells": [
  {
   "cell_type": "code",
   "execution_count": 1,
   "id": "2e59d7c7",
   "metadata": {},
   "outputs": [],
   "source": [
    "import os\n",
    "import pickle\n",
    "import pycrfsuite\n",
    "from tqdm import tqdm"
   ]
  },
  {
   "cell_type": "code",
   "execution_count": 2,
   "id": "0bd74532",
   "metadata": {},
   "outputs": [],
   "source": [
    "class MyClass():\n",
    "\n",
    "    def __init__(self, param):\n",
    "        self.param = param\n",
    "\n",
    "\n",
    "def load_object(filename):\n",
    "    try:\n",
    "        with open(filename, \"rb\") as f:\n",
    "            return pickle.load(f)\n",
    "    except Exception as ex:\n",
    "        print(\"Error during unpickling object (Possibly unsupported):\", ex)"
   ]
  },
  {
   "cell_type": "code",
   "execution_count": 3,
   "id": "9eb7ecf3",
   "metadata": {},
   "outputs": [],
   "source": [
    "def train_crf_model(path_to_batches, output_file_name, batch_names):\n",
    "    trainer = pycrfsuite.Trainer(verbose=False)\n",
    "\n",
    "    nb_blocks = 0\n",
    "    nb_blocks_per_class = [0, 0, 0, 0]\n",
    "\n",
    "    for batch_name in batch_names:\n",
    "        path_batch = path_to_batches + \"/\" + batch_name + \"/\"\n",
    "        idx2 = 0\n",
    "\n",
    "        print(\"Loading batch : \" + batch_name + \" ...\")\n",
    "        for file_name in tqdm(sorted(os.listdir(path_batch + \"sequence_multimodal\"))):\n",
    "\n",
    "            multimodal_obj = load_object(path_batch + \"sequence_multimodal/\" +  str(file_name))\n",
    "            multimodal_seq = multimodal_obj.param\n",
    "\n",
    "            sequential_information_obj = load_object(path_batch + \"sequence_sequential_information/sequence_sequential_information_\" + file_name.split('multimodal_')[1])\n",
    "            sequential_information_seq = sequential_information_obj.param\n",
    "\n",
    "            feature_seq = []\n",
    "\n",
    "            for idx in range(len(multimodal_seq)):\n",
    "                feature_seq.append({**multimodal_seq[idx], **sequential_information_seq[idx]})\n",
    "\n",
    "            file_name_label = path_batch + \"sequence_labels/sequence_labels_\" + file_name.split('multimodal_')[1]\n",
    "            label_obj = load_object(file_name_label)\n",
    "            label_seq = label_obj.param\n",
    "\n",
    "            nb_blocks += len(label_seq)\n",
    "\n",
    "            for label in label_seq:\n",
    "                nb_blocks_per_class[int(label)] += 1\n",
    "\n",
    "            for idx in range(len(label_seq)):\n",
    "                label_seq[idx] = str(label_seq[idx])\n",
    "\n",
    "            trainer.append(feature_seq, label_seq)\n",
    "\n",
    "    print(\"Nb blocks : \" + str(nb_blocks))\n",
    "\n",
    "    for idx in range(len(nb_blocks_per_class)):\n",
    "        print(\"\\tNumber of blocks for class \" + str(idx) + \" : \" + str(nb_blocks_per_class[idx]))\n",
    "\n",
    "    print(\"Setting CRF parameters ...\")\n",
    "\n",
    "    trainer.set_params({\n",
    "        'c1': 1.0,\n",
    "        'c2': 1e-3,\n",
    "        'max_iterations': 100,\n",
    "        'feature.possible_transitions': True\n",
    "    })\n",
    "\n",
    "    print(\"Training and saving model ...\")\n",
    "\n",
    "    trainer.train(output_file_name)\n",
    "\n",
    "    print(\"Done.\")\n"
   ]
  },
  {
   "cell_type": "code",
   "execution_count": null,
   "id": "d28c19db",
   "metadata": {},
   "outputs": [],
   "source": [
    "train_crf_model('/path_to_batches_folder', '/path_to_models/model.crfsuite', ['batch_1', ...])"
   ]
  }
 ],
 "metadata": {
  "kernelspec": {
   "display_name": "Python 3",
   "language": "python",
   "name": "python3"
  },
  "language_info": {
   "codemirror_mode": {
    "name": "ipython",
    "version": 3
   },
   "file_extension": ".py",
   "mimetype": "text/x-python",
   "name": "python",
   "nbconvert_exporter": "python",
   "pygments_lexer": "ipython3",
   "version": "3.8.8"
  }
 },
 "nbformat": 4,
 "nbformat_minor": 5
}
