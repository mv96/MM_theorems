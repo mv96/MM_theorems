{
 "cells": [
  {
   "cell_type": "code",
   "execution_count": 1,
   "id": "c26c444b",
   "metadata": {},
   "outputs": [],
   "source": [
    "import os\n",
    "import pycrfsuite\n",
    "import pickle\n",
    "from sklearn_crfsuite import metrics\n",
    "from sklearn.metrics import classification_report\n",
    "from tqdm import tqdm"
   ]
  },
  {
   "cell_type": "code",
   "execution_count": 2,
   "id": "93be3aae",
   "metadata": {},
   "outputs": [],
   "source": [
    "class MyClass():\n",
    "    def __init__(self, param):\n",
    "        self.param = param\n",
    "\n",
    "def load_object(filename):\n",
    "    try:\n",
    "        with open(filename, \"rb\") as f:\n",
    "            return pickle.load(f)\n",
    "\n",
    "    except Exception as ex:\n",
    "        print(\"Error during unpickling object (Possibly unsupported):\", ex)"
   ]
  },
  {
   "cell_type": "code",
   "execution_count": 3,
   "id": "80fc4c1e",
   "metadata": {},
   "outputs": [],
   "source": [
    "def test_crf_model(path_to_model, path_to_validation_batch):\n",
    "    y_true = []\n",
    "    y_pred = []\n",
    "\n",
    "    tagger = pycrfsuite.Tagger()\n",
    "    tagger.open(path_to_model)\n",
    "\n",
    "    for file_name in tqdm(sorted(os.listdir(path_to_validation_batch + \"/sequence_multimodal\"))):\n",
    "\n",
    "        multimodal_obj = load_object(path_to_validation_batch + \"/sequence_multimodal/\" + str(file_name))\n",
    "        multimodal_seq = multimodal_obj.param\n",
    "\n",
    "        sequential_information_obj = load_object(path_to_validation_batch + \"/sequence_sequential_information/sequence_sequential_information_\" + file_name.split('multimodal_')[1])\n",
    "        sequential_information_seq = sequential_information_obj.param\n",
    "\n",
    "        feature_seq = []\n",
    "\n",
    "        for idx in range(len(multimodal_seq)):\n",
    "            feature_seq.append({**multimodal_seq[idx], **sequential_information_seq[idx]})\n",
    "\n",
    "        tagger.set(feature_seq)\n",
    "        labels = tagger.tag()\n",
    "        y_pred.append(labels)\n",
    "\n",
    "        file_name_label = path_to_validation_batch + \"/sequence_labels/sequence_labels_\" + file_name.split('multimodal_')[1]\n",
    "        label_obj = load_object(file_name_label)\n",
    "        label_seq = label_obj.param\n",
    "\n",
    "        for idx in range(len(label_seq)):\n",
    "            label_seq[idx] = str(label_seq[idx])\n",
    "\n",
    "        y_true.append(label_seq)\n",
    "\n",
    "    flattened_y_true = []\n",
    "    flattened_y_pred = []\n",
    "\n",
    "    for idx in range(len(y_true)):\n",
    "        for idx2 in range(len(y_true[idx])):\n",
    "            flattened_y_true.append(y_true[idx][idx2])\n",
    "            flattened_y_pred.append(y_pred[idx][idx2])\n",
    "\n",
    "    print(\"Classification report on validation batch (\" + path_to_validation_batch + \") for model \\\"\" + path_to_model + \"\\\": \")\n",
    "    print(classification_report(flattened_y_true, flattened_y_pred, digits = 6))"
   ]
  },
  {
   "cell_type": "code",
   "execution_count": null,
   "id": "ed73302c",
   "metadata": {},
   "outputs": [],
   "source": [
    "test_crf_model('/path_to_model_to_be_evaluated/model.crfsuite', '/path_to_validation_data_folder')"
   ]
  }
 ],
 "metadata": {
  "kernelspec": {
   "display_name": "Python 3",
   "language": "python",
   "name": "python3"
  },
  "language_info": {
   "codemirror_mode": {
    "name": "ipython",
    "version": 3
   },
   "file_extension": ".py",
   "mimetype": "text/x-python",
   "name": "python",
   "nbconvert_exporter": "python",
   "pygments_lexer": "ipython3",
   "version": "3.8.8"
  }
 },
 "nbformat": 4,
 "nbformat_minor": 5
}
